{
 "cells": [
  {
   "cell_type": "code",
   "execution_count": null,
   "metadata": {
    "collapsed": true,
    "jupyter": {
     "outputs_hidden": true
    }
   },
   "outputs": [],
   "source": [
    "'''\n",
    "【课程5.8】 ToolBar工具栏设置\n",
    "\n",
    "① 位置设置\n",
    "② 移动、放大缩小、存储、刷新\n",
    "③ 选择\n",
    "④ 提示框、十字线\n",
    "\n",
    "'''"
   ]
  },
  {
   "cell_type": "code",
   "execution_count": 1,
   "metadata": {
    "collapsed": false,
    "jupyter": {
     "outputs_hidden": false
    }
   },
   "outputs": [
    {
     "data": {
      "text/html": [
       "\n",
       "    <div class=\"bk-root\">\n",
       "        <a href=\"https://bokeh.org\" target=\"_blank\" class=\"bk-logo bk-logo-small bk-logo-notebook\"></a>\n",
       "        <span id=\"1001\">Loading BokehJS ...</span>\n",
       "    </div>"
      ]
     },
     "metadata": {},
     "output_type": "display_data"
    },
    {
     "data": {
      "application/javascript": [
       "\n",
       "(function(root) {\n",
       "  function now() {\n",
       "    return new Date();\n",
       "  }\n",
       "\n",
       "  var force = true;\n",
       "\n",
       "  if (typeof root._bokeh_onload_callbacks === \"undefined\" || force === true) {\n",
       "    root._bokeh_onload_callbacks = [];\n",
       "    root._bokeh_is_loading = undefined;\n",
       "  }\n",
       "\n",
       "  var JS_MIME_TYPE = 'application/javascript';\n",
       "  var HTML_MIME_TYPE = 'text/html';\n",
       "  var EXEC_MIME_TYPE = 'application/vnd.bokehjs_exec.v0+json';\n",
       "  var CLASS_NAME = 'output_bokeh rendered_html';\n",
       "\n",
       "  /**\n",
       "   * Render data to the DOM node\n",
       "   */\n",
       "  function render(props, node) {\n",
       "    var script = document.createElement(\"script\");\n",
       "    node.appendChild(script);\n",
       "  }\n",
       "\n",
       "  /**\n",
       "   * Handle when an output is cleared or removed\n",
       "   */\n",
       "  function handleClearOutput(event, handle) {\n",
       "    var cell = handle.cell;\n",
       "\n",
       "    var id = cell.output_area._bokeh_element_id;\n",
       "    var server_id = cell.output_area._bokeh_server_id;\n",
       "    // Clean up Bokeh references\n",
       "    if (id != null && id in Bokeh.index) {\n",
       "      Bokeh.index[id].model.document.clear();\n",
       "      delete Bokeh.index[id];\n",
       "    }\n",
       "\n",
       "    if (server_id !== undefined) {\n",
       "      // Clean up Bokeh references\n",
       "      var cmd = \"from bokeh.io.state import curstate; print(curstate().uuid_to_server['\" + server_id + \"'].get_sessions()[0].document.roots[0]._id)\";\n",
       "      cell.notebook.kernel.execute(cmd, {\n",
       "        iopub: {\n",
       "          output: function(msg) {\n",
       "            var id = msg.content.text.trim();\n",
       "            if (id in Bokeh.index) {\n",
       "              Bokeh.index[id].model.document.clear();\n",
       "              delete Bokeh.index[id];\n",
       "            }\n",
       "          }\n",
       "        }\n",
       "      });\n",
       "      // Destroy server and session\n",
       "      var cmd = \"import bokeh.io.notebook as ion; ion.destroy_server('\" + server_id + \"')\";\n",
       "      cell.notebook.kernel.execute(cmd);\n",
       "    }\n",
       "  }\n",
       "\n",
       "  /**\n",
       "   * Handle when a new output is added\n",
       "   */\n",
       "  function handleAddOutput(event, handle) {\n",
       "    var output_area = handle.output_area;\n",
       "    var output = handle.output;\n",
       "\n",
       "    // limit handleAddOutput to display_data with EXEC_MIME_TYPE content only\n",
       "    if ((output.output_type != \"display_data\") || (!output.data.hasOwnProperty(EXEC_MIME_TYPE))) {\n",
       "      return\n",
       "    }\n",
       "\n",
       "    var toinsert = output_area.element.find(\".\" + CLASS_NAME.split(' ')[0]);\n",
       "\n",
       "    if (output.metadata[EXEC_MIME_TYPE][\"id\"] !== undefined) {\n",
       "      toinsert[toinsert.length - 1].firstChild.textContent = output.data[JS_MIME_TYPE];\n",
       "      // store reference to embed id on output_area\n",
       "      output_area._bokeh_element_id = output.metadata[EXEC_MIME_TYPE][\"id\"];\n",
       "    }\n",
       "    if (output.metadata[EXEC_MIME_TYPE][\"server_id\"] !== undefined) {\n",
       "      var bk_div = document.createElement(\"div\");\n",
       "      bk_div.innerHTML = output.data[HTML_MIME_TYPE];\n",
       "      var script_attrs = bk_div.children[0].attributes;\n",
       "      for (var i = 0; i < script_attrs.length; i++) {\n",
       "        toinsert[toinsert.length - 1].firstChild.setAttribute(script_attrs[i].name, script_attrs[i].value);\n",
       "        toinsert[toinsert.length - 1].firstChild.textContent = bk_div.children[0].textContent\n",
       "      }\n",
       "      // store reference to server id on output_area\n",
       "      output_area._bokeh_server_id = output.metadata[EXEC_MIME_TYPE][\"server_id\"];\n",
       "    }\n",
       "  }\n",
       "\n",
       "  function register_renderer(events, OutputArea) {\n",
       "\n",
       "    function append_mime(data, metadata, element) {\n",
       "      // create a DOM node to render to\n",
       "      var toinsert = this.create_output_subarea(\n",
       "        metadata,\n",
       "        CLASS_NAME,\n",
       "        EXEC_MIME_TYPE\n",
       "      );\n",
       "      this.keyboard_manager.register_events(toinsert);\n",
       "      // Render to node\n",
       "      var props = {data: data, metadata: metadata[EXEC_MIME_TYPE]};\n",
       "      render(props, toinsert[toinsert.length - 1]);\n",
       "      element.append(toinsert);\n",
       "      return toinsert\n",
       "    }\n",
       "\n",
       "    /* Handle when an output is cleared or removed */\n",
       "    events.on('clear_output.CodeCell', handleClearOutput);\n",
       "    events.on('delete.Cell', handleClearOutput);\n",
       "\n",
       "    /* Handle when a new output is added */\n",
       "    events.on('output_added.OutputArea', handleAddOutput);\n",
       "\n",
       "    /**\n",
       "     * Register the mime type and append_mime function with output_area\n",
       "     */\n",
       "    OutputArea.prototype.register_mime_type(EXEC_MIME_TYPE, append_mime, {\n",
       "      /* Is output safe? */\n",
       "      safe: true,\n",
       "      /* Index of renderer in `output_area.display_order` */\n",
       "      index: 0\n",
       "    });\n",
       "  }\n",
       "\n",
       "  // register the mime type if in Jupyter Notebook environment and previously unregistered\n",
       "  if (root.Jupyter !== undefined) {\n",
       "    var events = require('base/js/events');\n",
       "    var OutputArea = require('notebook/js/outputarea').OutputArea;\n",
       "\n",
       "    if (OutputArea.prototype.mime_types().indexOf(EXEC_MIME_TYPE) == -1) {\n",
       "      register_renderer(events, OutputArea);\n",
       "    }\n",
       "  }\n",
       "\n",
       "  \n",
       "  if (typeof (root._bokeh_timeout) === \"undefined\" || force === true) {\n",
       "    root._bokeh_timeout = Date.now() + 5000;\n",
       "    root._bokeh_failed_load = false;\n",
       "  }\n",
       "\n",
       "  var NB_LOAD_WARNING = {'data': {'text/html':\n",
       "     \"<div style='background-color: #fdd'>\\n\"+\n",
       "     \"<p>\\n\"+\n",
       "     \"BokehJS does not appear to have successfully loaded. If loading BokehJS from CDN, this \\n\"+\n",
       "     \"may be due to a slow or bad network connection. Possible fixes:\\n\"+\n",
       "     \"</p>\\n\"+\n",
       "     \"<ul>\\n\"+\n",
       "     \"<li>re-rerun `output_notebook()` to attempt to load from CDN again, or</li>\\n\"+\n",
       "     \"<li>use INLINE resources instead, as so:</li>\\n\"+\n",
       "     \"</ul>\\n\"+\n",
       "     \"<code>\\n\"+\n",
       "     \"from bokeh.resources import INLINE\\n\"+\n",
       "     \"output_notebook(resources=INLINE)\\n\"+\n",
       "     \"</code>\\n\"+\n",
       "     \"</div>\"}};\n",
       "\n",
       "  function display_loaded() {\n",
       "    var el = document.getElementById(\"1001\");\n",
       "    if (el != null) {\n",
       "      el.textContent = \"BokehJS is loading...\";\n",
       "    }\n",
       "    if (root.Bokeh !== undefined) {\n",
       "      if (el != null) {\n",
       "        el.textContent = \"BokehJS \" + root.Bokeh.version + \" successfully loaded.\";\n",
       "      }\n",
       "    } else if (Date.now() < root._bokeh_timeout) {\n",
       "      setTimeout(display_loaded, 100)\n",
       "    }\n",
       "  }\n",
       "\n",
       "\n",
       "  function run_callbacks() {\n",
       "    try {\n",
       "      root._bokeh_onload_callbacks.forEach(function(callback) {\n",
       "        if (callback != null)\n",
       "          callback();\n",
       "      });\n",
       "    } finally {\n",
       "      delete root._bokeh_onload_callbacks\n",
       "    }\n",
       "    console.debug(\"Bokeh: all callbacks have finished\");\n",
       "  }\n",
       "\n",
       "  function load_libs(css_urls, js_urls, callback) {\n",
       "    if (css_urls == null) css_urls = [];\n",
       "    if (js_urls == null) js_urls = [];\n",
       "\n",
       "    root._bokeh_onload_callbacks.push(callback);\n",
       "    if (root._bokeh_is_loading > 0) {\n",
       "      console.debug(\"Bokeh: BokehJS is being loaded, scheduling callback at\", now());\n",
       "      return null;\n",
       "    }\n",
       "    if (js_urls == null || js_urls.length === 0) {\n",
       "      run_callbacks();\n",
       "      return null;\n",
       "    }\n",
       "    console.debug(\"Bokeh: BokehJS not loaded, scheduling load and callback at\", now());\n",
       "    root._bokeh_is_loading = css_urls.length + js_urls.length;\n",
       "\n",
       "    function on_load() {\n",
       "      root._bokeh_is_loading--;\n",
       "      if (root._bokeh_is_loading === 0) {\n",
       "        console.debug(\"Bokeh: all BokehJS libraries/stylesheets loaded\");\n",
       "        run_callbacks()\n",
       "      }\n",
       "    }\n",
       "\n",
       "    function on_error() {\n",
       "      console.error(\"failed to load \" + url);\n",
       "    }\n",
       "\n",
       "    for (var i = 0; i < css_urls.length; i++) {\n",
       "      var url = css_urls[i];\n",
       "      const element = document.createElement(\"link\");\n",
       "      element.onload = on_load;\n",
       "      element.onerror = on_error;\n",
       "      element.rel = \"stylesheet\";\n",
       "      element.type = \"text/css\";\n",
       "      element.href = url;\n",
       "      console.debug(\"Bokeh: injecting link tag for BokehJS stylesheet: \", url);\n",
       "      document.body.appendChild(element);\n",
       "    }\n",
       "\n",
       "    const hashes = {\"https://cdn.bokeh.org/bokeh/release/bokeh-2.2.3.min.js\": \"T2yuo9Oe71Cz/I4X9Ac5+gpEa5a8PpJCDlqKYO0CfAuEszu1JrXLl8YugMqYe3sM\", \"https://cdn.bokeh.org/bokeh/release/bokeh-widgets-2.2.3.min.js\": \"98GDGJ0kOMCUMUePhksaQ/GYgB3+NH9h996V88sh3aOiUNX3N+fLXAtry6xctSZ6\", \"https://cdn.bokeh.org/bokeh/release/bokeh-tables-2.2.3.min.js\": \"89bArO+nlbP3sgakeHjCo1JYxYR5wufVgA3IbUvDY+K7w4zyxJqssu7wVnfeKCq8\"};\n",
       "\n",
       "    for (var i = 0; i < js_urls.length; i++) {\n",
       "      var url = js_urls[i];\n",
       "      var element = document.createElement('script');\n",
       "      element.onload = on_load;\n",
       "      element.onerror = on_error;\n",
       "      element.async = false;\n",
       "      element.src = url;\n",
       "      if (url in hashes) {\n",
       "        element.crossOrigin = \"anonymous\";\n",
       "        element.integrity = \"sha384-\" + hashes[url];\n",
       "      }\n",
       "      console.debug(\"Bokeh: injecting script tag for BokehJS library: \", url);\n",
       "      document.head.appendChild(element);\n",
       "    }\n",
       "  };\n",
       "\n",
       "  function inject_raw_css(css) {\n",
       "    const element = document.createElement(\"style\");\n",
       "    element.appendChild(document.createTextNode(css));\n",
       "    document.body.appendChild(element);\n",
       "  }\n",
       "\n",
       "  \n",
       "  var js_urls = [\"https://cdn.bokeh.org/bokeh/release/bokeh-2.2.3.min.js\", \"https://cdn.bokeh.org/bokeh/release/bokeh-widgets-2.2.3.min.js\", \"https://cdn.bokeh.org/bokeh/release/bokeh-tables-2.2.3.min.js\"];\n",
       "  var css_urls = [];\n",
       "  \n",
       "\n",
       "  var inline_js = [\n",
       "    function(Bokeh) {\n",
       "      Bokeh.set_log_level(\"info\");\n",
       "    },\n",
       "    function(Bokeh) {\n",
       "    \n",
       "    \n",
       "    }\n",
       "  ];\n",
       "\n",
       "  function run_inline_js() {\n",
       "    \n",
       "    if (root.Bokeh !== undefined || force === true) {\n",
       "      \n",
       "    for (var i = 0; i < inline_js.length; i++) {\n",
       "      inline_js[i].call(root, root.Bokeh);\n",
       "    }\n",
       "    if (force === true) {\n",
       "        display_loaded();\n",
       "      }} else if (Date.now() < root._bokeh_timeout) {\n",
       "      setTimeout(run_inline_js, 100);\n",
       "    } else if (!root._bokeh_failed_load) {\n",
       "      console.log(\"Bokeh: BokehJS failed to load within specified timeout.\");\n",
       "      root._bokeh_failed_load = true;\n",
       "    } else if (force !== true) {\n",
       "      var cell = $(document.getElementById(\"1001\")).parents('.cell').data().cell;\n",
       "      cell.output_area.append_execute_result(NB_LOAD_WARNING)\n",
       "    }\n",
       "\n",
       "  }\n",
       "\n",
       "  if (root._bokeh_is_loading === 0) {\n",
       "    console.debug(\"Bokeh: BokehJS loaded, going straight to plotting\");\n",
       "    run_inline_js();\n",
       "  } else {\n",
       "    load_libs(css_urls, js_urls, function() {\n",
       "      console.debug(\"Bokeh: BokehJS plotting callback run at\", now());\n",
       "      run_inline_js();\n",
       "    });\n",
       "  }\n",
       "}(window));"
      ],
      "application/vnd.bokehjs_load.v0+json": "\n(function(root) {\n  function now() {\n    return new Date();\n  }\n\n  var force = true;\n\n  if (typeof root._bokeh_onload_callbacks === \"undefined\" || force === true) {\n    root._bokeh_onload_callbacks = [];\n    root._bokeh_is_loading = undefined;\n  }\n\n  \n\n  \n  if (typeof (root._bokeh_timeout) === \"undefined\" || force === true) {\n    root._bokeh_timeout = Date.now() + 5000;\n    root._bokeh_failed_load = false;\n  }\n\n  var NB_LOAD_WARNING = {'data': {'text/html':\n     \"<div style='background-color: #fdd'>\\n\"+\n     \"<p>\\n\"+\n     \"BokehJS does not appear to have successfully loaded. If loading BokehJS from CDN, this \\n\"+\n     \"may be due to a slow or bad network connection. Possible fixes:\\n\"+\n     \"</p>\\n\"+\n     \"<ul>\\n\"+\n     \"<li>re-rerun `output_notebook()` to attempt to load from CDN again, or</li>\\n\"+\n     \"<li>use INLINE resources instead, as so:</li>\\n\"+\n     \"</ul>\\n\"+\n     \"<code>\\n\"+\n     \"from bokeh.resources import INLINE\\n\"+\n     \"output_notebook(resources=INLINE)\\n\"+\n     \"</code>\\n\"+\n     \"</div>\"}};\n\n  function display_loaded() {\n    var el = document.getElementById(\"1001\");\n    if (el != null) {\n      el.textContent = \"BokehJS is loading...\";\n    }\n    if (root.Bokeh !== undefined) {\n      if (el != null) {\n        el.textContent = \"BokehJS \" + root.Bokeh.version + \" successfully loaded.\";\n      }\n    } else if (Date.now() < root._bokeh_timeout) {\n      setTimeout(display_loaded, 100)\n    }\n  }\n\n\n  function run_callbacks() {\n    try {\n      root._bokeh_onload_callbacks.forEach(function(callback) {\n        if (callback != null)\n          callback();\n      });\n    } finally {\n      delete root._bokeh_onload_callbacks\n    }\n    console.debug(\"Bokeh: all callbacks have finished\");\n  }\n\n  function load_libs(css_urls, js_urls, callback) {\n    if (css_urls == null) css_urls = [];\n    if (js_urls == null) js_urls = [];\n\n    root._bokeh_onload_callbacks.push(callback);\n    if (root._bokeh_is_loading > 0) {\n      console.debug(\"Bokeh: BokehJS is being loaded, scheduling callback at\", now());\n      return null;\n    }\n    if (js_urls == null || js_urls.length === 0) {\n      run_callbacks();\n      return null;\n    }\n    console.debug(\"Bokeh: BokehJS not loaded, scheduling load and callback at\", now());\n    root._bokeh_is_loading = css_urls.length + js_urls.length;\n\n    function on_load() {\n      root._bokeh_is_loading--;\n      if (root._bokeh_is_loading === 0) {\n        console.debug(\"Bokeh: all BokehJS libraries/stylesheets loaded\");\n        run_callbacks()\n      }\n    }\n\n    function on_error() {\n      console.error(\"failed to load \" + url);\n    }\n\n    for (var i = 0; i < css_urls.length; i++) {\n      var url = css_urls[i];\n      const element = document.createElement(\"link\");\n      element.onload = on_load;\n      element.onerror = on_error;\n      element.rel = \"stylesheet\";\n      element.type = \"text/css\";\n      element.href = url;\n      console.debug(\"Bokeh: injecting link tag for BokehJS stylesheet: \", url);\n      document.body.appendChild(element);\n    }\n\n    const hashes = {\"https://cdn.bokeh.org/bokeh/release/bokeh-2.2.3.min.js\": \"T2yuo9Oe71Cz/I4X9Ac5+gpEa5a8PpJCDlqKYO0CfAuEszu1JrXLl8YugMqYe3sM\", \"https://cdn.bokeh.org/bokeh/release/bokeh-widgets-2.2.3.min.js\": \"98GDGJ0kOMCUMUePhksaQ/GYgB3+NH9h996V88sh3aOiUNX3N+fLXAtry6xctSZ6\", \"https://cdn.bokeh.org/bokeh/release/bokeh-tables-2.2.3.min.js\": \"89bArO+nlbP3sgakeHjCo1JYxYR5wufVgA3IbUvDY+K7w4zyxJqssu7wVnfeKCq8\"};\n\n    for (var i = 0; i < js_urls.length; i++) {\n      var url = js_urls[i];\n      var element = document.createElement('script');\n      element.onload = on_load;\n      element.onerror = on_error;\n      element.async = false;\n      element.src = url;\n      if (url in hashes) {\n        element.crossOrigin = \"anonymous\";\n        element.integrity = \"sha384-\" + hashes[url];\n      }\n      console.debug(\"Bokeh: injecting script tag for BokehJS library: \", url);\n      document.head.appendChild(element);\n    }\n  };\n\n  function inject_raw_css(css) {\n    const element = document.createElement(\"style\");\n    element.appendChild(document.createTextNode(css));\n    document.body.appendChild(element);\n  }\n\n  \n  var js_urls = [\"https://cdn.bokeh.org/bokeh/release/bokeh-2.2.3.min.js\", \"https://cdn.bokeh.org/bokeh/release/bokeh-widgets-2.2.3.min.js\", \"https://cdn.bokeh.org/bokeh/release/bokeh-tables-2.2.3.min.js\"];\n  var css_urls = [];\n  \n\n  var inline_js = [\n    function(Bokeh) {\n      Bokeh.set_log_level(\"info\");\n    },\n    function(Bokeh) {\n    \n    \n    }\n  ];\n\n  function run_inline_js() {\n    \n    if (root.Bokeh !== undefined || force === true) {\n      \n    for (var i = 0; i < inline_js.length; i++) {\n      inline_js[i].call(root, root.Bokeh);\n    }\n    if (force === true) {\n        display_loaded();\n      }} else if (Date.now() < root._bokeh_timeout) {\n      setTimeout(run_inline_js, 100);\n    } else if (!root._bokeh_failed_load) {\n      console.log(\"Bokeh: BokehJS failed to load within specified timeout.\");\n      root._bokeh_failed_load = true;\n    } else if (force !== true) {\n      var cell = $(document.getElementById(\"1001\")).parents('.cell').data().cell;\n      cell.output_area.append_execute_result(NB_LOAD_WARNING)\n    }\n\n  }\n\n  if (root._bokeh_is_loading === 0) {\n    console.debug(\"Bokeh: BokehJS loaded, going straight to plotting\");\n    run_inline_js();\n  } else {\n    load_libs(css_urls, js_urls, function() {\n      console.debug(\"Bokeh: BokehJS plotting callback run at\", now());\n      run_inline_js();\n    });\n  }\n}(window));"
     },
     "metadata": {},
     "output_type": "display_data"
    }
   ],
   "source": [
    "import numpy as np\n",
    "import pandas as pd\n",
    "import matplotlib.pyplot as plt\n",
    "%matplotlib inline\n",
    "\n",
    "import warnings\n",
    "warnings.filterwarnings('ignore') \n",
    "# 不发出警告\n",
    "\n",
    "from bokeh.io import output_notebook\n",
    "output_notebook()\n",
    "# 导入notebook绘图模块\n",
    "\n",
    "from bokeh.plotting import figure,show\n",
    "from bokeh.models import ColumnDataSource\n",
    "# 导入图表绘制、图标展示模块\n",
    "# 导入ColumnDataSource模块"
   ]
  },
  {
   "cell_type": "code",
   "execution_count": 2,
   "metadata": {
    "collapsed": false,
    "jupyter": {
     "outputs_hidden": false
    }
   },
   "outputs": [
    {
     "data": {
      "text/html": [
       "\n",
       "\n",
       "\n",
       "\n",
       "\n",
       "\n",
       "  <div class=\"bk-root\" id=\"3b429384-a037-49e1-affc-2da35e8b387a\" data-root-id=\"1002\"></div>\n"
      ]
     },
     "metadata": {},
     "output_type": "display_data"
    },
    {
     "data": {
      "application/javascript": [
       "(function(root) {\n",
       "  function embed_document(root) {\n",
       "    \n",
       "  var docs_json = {\"fc4317f4-a3d6-4f3b-aac0-513fd0dac63d\":{\"roots\":{\"references\":[{\"attributes\":{\"below\":[{\"id\":\"1011\"}],\"center\":[{\"id\":\"1014\"},{\"id\":\"1018\"}],\"left\":[{\"id\":\"1015\"}],\"plot_height\":300,\"plot_width\":300,\"renderers\":[{\"id\":\"1036\"}],\"title\":{\"id\":\"1038\"},\"toolbar\":{\"id\":\"1026\"},\"toolbar_location\":\"above\",\"x_range\":{\"id\":\"1003\"},\"x_scale\":{\"id\":\"1007\"},\"y_range\":{\"id\":\"1005\"},\"y_scale\":{\"id\":\"1009\"}},\"id\":\"1002\",\"subtype\":\"Figure\",\"type\":\"Plot\"},{\"attributes\":{\"text\":\"\"},\"id\":\"1038\",\"type\":\"Title\"},{\"attributes\":{},\"id\":\"1007\",\"type\":\"LinearScale\"},{\"attributes\":{},\"id\":\"1041\",\"type\":\"BasicTickFormatter\"},{\"attributes\":{},\"id\":\"1045\",\"type\":\"Selection\"},{\"attributes\":{\"source\":{\"id\":\"1033\"}},\"id\":\"1037\",\"type\":\"CDSView\"},{\"attributes\":{\"bottom_units\":\"screen\",\"fill_alpha\":0.5,\"fill_color\":\"lightgrey\",\"left_units\":\"screen\",\"level\":\"overlay\",\"line_alpha\":1.0,\"line_color\":\"black\",\"line_dash\":[4,4],\"line_width\":2,\"right_units\":\"screen\",\"top_units\":\"screen\"},\"id\":\"1025\",\"type\":\"BoxAnnotation\"},{\"attributes\":{\"formatter\":{\"id\":\"1043\"},\"ticker\":{\"id\":\"1012\"}},\"id\":\"1011\",\"type\":\"LinearAxis\"},{\"attributes\":{\"data_source\":{\"id\":\"1033\"},\"glyph\":{\"id\":\"1034\"},\"hover_glyph\":null,\"muted_glyph\":null,\"nonselection_glyph\":{\"id\":\"1035\"},\"selection_glyph\":null,\"view\":{\"id\":\"1037\"}},\"id\":\"1036\",\"type\":\"GlyphRenderer\"},{\"attributes\":{\"active_drag\":\"auto\",\"active_inspect\":\"auto\",\"active_multi\":null,\"active_scroll\":\"auto\",\"active_tap\":\"auto\",\"tools\":[{\"id\":\"1019\"},{\"id\":\"1020\"},{\"id\":\"1021\"},{\"id\":\"1022\"},{\"id\":\"1023\"},{\"id\":\"1024\"}]},\"id\":\"1026\",\"type\":\"Toolbar\"},{\"attributes\":{},\"id\":\"1043\",\"type\":\"BasicTickFormatter\"},{\"attributes\":{\"formatter\":{\"id\":\"1041\"},\"ticker\":{\"id\":\"1016\"}},\"id\":\"1015\",\"type\":\"LinearAxis\"},{\"attributes\":{},\"id\":\"1044\",\"type\":\"UnionRenderers\"},{\"attributes\":{},\"id\":\"1024\",\"type\":\"HelpTool\"},{\"attributes\":{\"axis\":{\"id\":\"1011\"},\"ticker\":null},\"id\":\"1014\",\"type\":\"Grid\"},{\"attributes\":{\"fill_color\":{\"value\":\"#1f77b4\"},\"line_color\":{\"value\":\"#1f77b4\"},\"x\":{\"field\":\"x\"},\"y\":{\"field\":\"y\"}},\"id\":\"1034\",\"type\":\"Circle\"},{\"attributes\":{\"axis\":{\"id\":\"1015\"},\"dimension\":1,\"ticker\":null},\"id\":\"1018\",\"type\":\"Grid\"},{\"attributes\":{},\"id\":\"1005\",\"type\":\"DataRange1d\"},{\"attributes\":{},\"id\":\"1003\",\"type\":\"DataRange1d\"},{\"attributes\":{},\"id\":\"1016\",\"type\":\"BasicTicker\"},{\"attributes\":{\"fill_alpha\":{\"value\":0.1},\"fill_color\":{\"value\":\"#1f77b4\"},\"line_alpha\":{\"value\":0.1},\"line_color\":{\"value\":\"#1f77b4\"},\"x\":{\"field\":\"x\"},\"y\":{\"field\":\"y\"}},\"id\":\"1035\",\"type\":\"Circle\"},{\"attributes\":{},\"id\":\"1020\",\"type\":\"WheelZoomTool\"},{\"attributes\":{},\"id\":\"1019\",\"type\":\"PanTool\"},{\"attributes\":{},\"id\":\"1012\",\"type\":\"BasicTicker\"},{\"attributes\":{\"data\":{\"x\":{\"__ndarray__\":\"i1uBSBKQzL8YifRVWuPhv43davRpi/+/SV+HzNGn779ETynS+um9v1Yb/7ZDYJK/LQe2JOkExz9JrZb1iqv0Py3i+2ScI/k/Bt17DL5f3L9utkP+MgfrvxzuCbFM+tA//ABvSIpbfT/ctjWJdVXpP41U5ClzFLo/Df09EH+2+D/X9pEuFJnRv4LG8y3eYMC/rM/RfdHB0L+eo9fEVDfNP/YnwNDAr+c/UHXDRrV3+z/jMXN5zL7ov2PddulYwuS/SB8VKnGk5D8i4izzYb7wv9uQpTK9m/S/5js9mTOpn78gLiYQsHflv1EdcCgoqdY/VVnOwc9a1L/U47fKyWO/P2UCWHGmqek/9NgXCCPx4r9SpVHGi6akPzA7x+4yod8/ogm8+DPl2D9cZ89IBvruPwvEOgpncNk/bv7hdPUL+z81XCuDplTWP/JUaTGacNu/GmNWBYAv/b8v/BnoLKLpvykZkPa5rfm/yzjcTNng9L8gS8XGbTr2P8N2tK9M3t2/OCyhRpb1AEBIdHrBdV7kv1tw2ZV0pfU/2ZhuLHGh+7/T+EGCx8jaPx6CGOaUngBA21IxJsAJ8b+/eBsRfDTgvy8siZnMD+O/xJ1cVsiUy7+cTUmPxwvHv3Rqgb73TvI/F7/dC8SD87+3Sj0XaYvqP0VLZ+PcTcM/PWmzJjcN7r9aETlFmI3tPx4gUc/Ojdi/mzSgDMuc6L9R5d+8SX/xv22wgkvAb+k/iGUH1UDWxr/DvGFE+Ef0v3QQCXW1afW/tW+3u4rGpL/hqquNZp3ev1Q34aCEwso/5oywcAG1k7/Y5lkFebP1P7qb1XkgGvK/5DGrKyRc0r//m+c+S2/0P5t9N+pSmu8/ae3C3u1Qsr/4sikT0r1/P7d4ab1S+NM/VuEBlM2g3T/bHKi+BePjPxIZJkyXyOQ/I3QzWxiOz78ZycXPGHuiv+YomawkI8c/w+zMdxaE9L+NhzTaUY/QP8A5H8X9gcK/KfQC/Ce48z/QuikgFPzhPxLhI6WYguk/KvNx2r8K+r+fY/19xU27vwbu0GBlEu0/IIly6Zdj7L8=\",\"dtype\":\"float64\",\"order\":\"little\",\"shape\":[100]},\"y\":{\"__ndarray__\":\"onBd2+xt8D/lSfgzDl+7vyIUxX8bj9K/VVxsAfNb27/ZfpYfsWG+P4lr2n9w9OS/tEXyb19k8j82brXju9nLP/wT8hhBovQ/QCdJsV+y8j+5kvrZiyDYPyYF7lLee/E/kO077tW70b/PoI06HFLov5mIDfTAusq/hCmbxzEK9D8PyE7mtELiPxUHAR2TIPO/Gk38gdk+x79ch3vxz2/Rv1qJXkrMXsO/YPQruZGy7b9lQ8SaOlnFP9YN99fTKuU/Pvt/8wcy8T/GvS+zymzrv/JDNYFeuu2/M3qVlBJmxb946ji6TNHqv6NwhBJr5uS/TLRS5pJXZT9U/yRz5WHxvxjj4M2dYcA//C15Flk6ub8mM5wjFO3qv0eTPW7B4ac/cgp+8npOAUA6PAlqozK4P/eRXzDbcvI/H8xbhY+p4D/LIsoNxsoAwMAW7Nhx7YQ/dIRuZ7qP+z/OeN+Zd9bkv/d0KivqTfW/XKKcnpOr9L8AdbQSUnztP6G0c9tNT8m/8EBkvyrY8D95EXFS7fWzP7tQfoOK2vE/aYcfneRHBMC6xkw0tLvuvy07mp/CePE/GBIBsmte1r9+H0X6UV3tP1LLe19T8vK/jqk1LygcwT9C32749Mrgv3H6aroVeum//pzhW1WK5z915v+4kL/kP+vdgUySCti/Xs2D0t9LAUAihxhinD/mv7oHq9s4Mto/W9FqoNZ07b/yIB9IaDvWP4M3BkEoE8y/M3/tVFCv5z8JacGAW2zoP/nvKEdG4Na/Nds5sKBY8D84uf4gdIQIwKhvhz0HB+C/5tLqysUe+78gIg4g6mD3v3QqlfQoTfq/UUWJjm/Zqb9l0p0ATpbkvy0vVRCvSYI/KrZp1dCiA0A59D1i+z30v+GmRgD5uKQ/MK/ENVjB479rlvwUdeDhP8nj7ZfYcd4/RcydIqk14z+4T/SleoS0v2CLiJVkudg/g50YVLUFzD82dlFD0QDzv/YsqbvCseW/Eg04sH734T8QQzdphwr8vzDgrUtkluO/bDsQqis59L+0EVRUQtDdP2UzeG3td90/eoWeH0fHsD8=\",\"dtype\":\"float64\",\"order\":\"little\",\"shape\":[100]}},\"selected\":{\"id\":\"1045\"},\"selection_policy\":{\"id\":\"1044\"}},\"id\":\"1033\",\"type\":\"ColumnDataSource\"},{\"attributes\":{\"overlay\":{\"id\":\"1025\"}},\"id\":\"1021\",\"type\":\"BoxZoomTool\"},{\"attributes\":{},\"id\":\"1022\",\"type\":\"SaveTool\"},{\"attributes\":{},\"id\":\"1009\",\"type\":\"LinearScale\"},{\"attributes\":{},\"id\":\"1023\",\"type\":\"ResetTool\"}],\"root_ids\":[\"1002\"]},\"title\":\"Bokeh Application\",\"version\":\"2.2.3\"}};\n",
       "  var render_items = [{\"docid\":\"fc4317f4-a3d6-4f3b-aac0-513fd0dac63d\",\"root_ids\":[\"1002\"],\"roots\":{\"1002\":\"3b429384-a037-49e1-affc-2da35e8b387a\"}}];\n",
       "  root.Bokeh.embed.embed_items_notebook(docs_json, render_items);\n",
       "\n",
       "  }\n",
       "  if (root.Bokeh !== undefined) {\n",
       "    embed_document(root);\n",
       "  } else {\n",
       "    var attempts = 0;\n",
       "    var timer = setInterval(function(root) {\n",
       "      if (root.Bokeh !== undefined) {\n",
       "        clearInterval(timer);\n",
       "        embed_document(root);\n",
       "      } else {\n",
       "        attempts++;\n",
       "        if (attempts > 100) {\n",
       "          clearInterval(timer);\n",
       "          console.log(\"Bokeh: ERROR: Unable to run BokehJS code because BokehJS library is missing\");\n",
       "        }\n",
       "      }\n",
       "    }, 10, root)\n",
       "  }\n",
       "})(window);"
      ],
      "application/vnd.bokehjs_exec.v0+json": ""
     },
     "metadata": {
      "application/vnd.bokehjs_exec.v0+json": {
       "id": "1002"
      }
     },
     "output_type": "display_data"
    }
   ],
   "source": [
    "# 工具栏 tools\n",
    "# （1）设置位置\n",
    "\n",
    "p = figure(plot_width=300, plot_height=300,\n",
    "          toolbar_location=\"above\")\n",
    "# 工具栏位置：\"above\"，\"below\"，\"left\"，\"right\"\n",
    "\n",
    "p.circle(np.random.randn(100),np.random.randn(100))\n",
    "show(p)"
   ]
  },
  {
   "cell_type": "code",
   "execution_count": 4,
   "metadata": {
    "collapsed": false,
    "jupyter": {
     "outputs_hidden": false
    }
   },
   "outputs": [
    {
     "data": {
      "text/html": [
       "\n",
       "\n",
       "\n",
       "\n",
       "\n",
       "\n",
       "  <div class=\"bk-root\" id=\"2c75200d-59e3-4771-b8dc-41a84fe52d64\" data-root-id=\"1191\"></div>\n"
      ]
     },
     "metadata": {},
     "output_type": "display_data"
    },
    {
     "data": {
      "application/javascript": [
       "(function(root) {\n",
       "  function embed_document(root) {\n",
       "    \n",
       "  var docs_json = {\"5ea1d8f3-e5dd-4d98-8cb1-ac59e416e6a8\":{\"roots\":{\"references\":[{\"attributes\":{\"below\":[{\"id\":\"1200\"}],\"center\":[{\"id\":\"1203\"},{\"id\":\"1207\"}],\"left\":[{\"id\":\"1204\"}],\"plot_height\":300,\"plot_width\":300,\"renderers\":[{\"id\":\"1225\"}],\"title\":{\"id\":\"1245\"},\"toolbar\":{\"id\":\"1215\"},\"toolbar_location\":\"below\",\"x_range\":{\"id\":\"1192\"},\"x_scale\":{\"id\":\"1196\"},\"y_range\":{\"id\":\"1194\"},\"y_scale\":{\"id\":\"1198\"}},\"id\":\"1191\",\"subtype\":\"Figure\",\"type\":\"Plot\"},{\"attributes\":{},\"id\":\"1211\",\"type\":\"SaveTool\"},{\"attributes\":{},\"id\":\"1208\",\"type\":\"PanTool\"},{\"attributes\":{\"active_drag\":\"auto\",\"active_inspect\":\"auto\",\"active_multi\":null,\"active_scroll\":\"auto\",\"active_tap\":\"auto\",\"tools\":[{\"id\":\"1208\"},{\"id\":\"1209\"},{\"id\":\"1210\"},{\"id\":\"1211\"},{\"id\":\"1212\"},{\"id\":\"1213\"}]},\"id\":\"1215\",\"type\":\"Toolbar\"},{\"attributes\":{},\"id\":\"1248\",\"type\":\"BasicTickFormatter\"},{\"attributes\":{},\"id\":\"1212\",\"type\":\"ResetTool\"},{\"attributes\":{\"axis\":{\"id\":\"1204\"},\"dimension\":1,\"ticker\":null},\"id\":\"1207\",\"type\":\"Grid\"},{\"attributes\":{\"data\":{\"x\":{\"__ndarray__\":\"jG8b8veR4T9EMyRxlojwP+q0W2yAuPk/DFtyEN6JxD+fT5inR2zUP58Ns3yGc/o/1709ARF50b93fxoGnTDuP8K+DSnX296/b/XbQZ4Lzz/eEb3YMfH0P5oIik8qPfI/T15j1iBz679AWmybhSrzP2VRxgLtrcK/Qd+BUsZX2j9BjSNIrzzbv8eg+zzoR+0/l6SkgDzX5L8ooI4mtcuWvwYQLnNdd/K/oa/5T+yU3b+ws46PEVfVvzpRqymfKec/8xOymyn8/L+pYC4sqBbyv54s68NBDPI/7/Z71Y+C579ddlNyc4tzv/lgifFM+NC/ljZlnekWA0DKwFCXHurqPwSZlWCFBNI/VtFAzrJT7z/7ZK2dUQzzP8jhHN2VkPO/jTsQiDRmvz/9c7qMRlnrv1lpyP8QU/U/yXVvnbia8D/u+UX0W+fpP2U+cH1pMJ6/E92TS/U05L96lwTdh3HHPztCN+hMcuo/QOPvn3rS77/NreD2WSLjP2X2FLNCUa2/Vz5Zriad479CUq0HUdvLP3nBs+tzEOi/qbcypKFzv79bJaRB81TivzPcPfgL7ea/fftbR07X1D98qx1tdxPpPzKN7cEq8rm/FfeNoTgi/L/qnnv1IQrTv9lDQzoM4c4/LOHeNqUx5T8Y9TMqXZoGwL3f2CFT/eM/00MjwaPO4T+WhVeZXSHkv4ToZa2odOq/4PLHx7dI47/Y5WS8fIvPP25CxEUpt/A/r+O3MgaX9b85tpcRaWG5v7ou80zgOPE/+W9f7kJpBUCf41Rwd5nZPwKnow0e7vG/BFSJlq6N7b9AMYXg69PxP+vkTTIAA+M/y132G7yW3L+kX6VxvRzHv1Glq/RE2NO/cY93K67ow7/KJ373OHe7vwIYtyWq/+6/qKokhxn93T+xHgWJWLJBP2YMMNGl7d6/Al+eTwRiub9vy30uRZjkPwplEvAQT8I/GZY1f2I78b80Qwg5QAzSv1z9/nNa0tc/DYsIwGlY079mDthRUZzYP71/lm+Xqu4/mankxqoSuL/0c/9mtzDwv7UjSEAxJ+u/KgShibt85D8=\",\"dtype\":\"float64\",\"order\":\"little\",\"shape\":[100]},\"y\":{\"__ndarray__\":\"PwIi65jM6L88trEj+pvnv56O5JEl6O0/oHC6pXEi9L/SbrdENRzwP7ToC8BSQdI/+VTb1RgU/r+OG2/K4hfPP1zZN5/Xw+Y/5Xbz+/aKAkB/4mlbR3roP9dyGMX4T/8/QayyXKoK1j/VSnF+tUP1P7p6mIFu+8C/Omdgkc9C9z9KoGdqPqPyPw0E1dmD6PA/MxIcuyzn0j8DrchDAHzoP62s2blGDvK/KMcTbSsT37/gfRZx/37kv1s+beInc+4/xxGtEcdd0T94470zN7nsv9vfQg/7nM0/D3rmPCfW678CdZeZNufQv5AWT2MH8+k/vRC5RFzl6b+DEeuE/x3mvwHX4Kzq/do/hajPQ5C+4D98OHyOd+a0v4+oIy0dNd6/aeLSOREY/j+InDlNdPL1P+ZA7CJ6nO6/989GenW2AsBHZjZig3bhP+zezaIgrPQ//23nYC8f8T9yLFw5q8/qvx162XkCi92/3X+2Gb5y8r+tZyhYvOHov2R186W6O9m/InvaGlHK0T/uX8V6VVLuv9SP9rDXPsc/xisUJwke+7/z2Uvv1lS+vzAV1qLQmQBAnvkghVP18L+Gh+4o5hsEQASHiiMSoua/NafSVQJL5T+qiuQBXMPxv/iAL2GTIa6/gx46cp3m8D9bXFSbGNTtP1j80lejxs0/D/pzlK6P3b/qnlSg+objP4YxMaBzhe2/I1bof7q99L8VdFNZmkTov5SQl20vb90/tswVt9Ed9D8hVKAGJDvxv990owExn/E/EYXg4/MOwT81qrR/kOTZv2OjJ8viC4Y/TrQiI7Kv4L8wGxA4x/f0vwPvyjs9Meo/plO7oJyn5r+pHL/5Ugnhv/eKRh8uNcC/PoSKMS1Z6T96kSjKv3Duv9frqsZ8bZa/82cC738l6b/29Z2XAEvfv/0QGdXT8Na/p9Gwdv9Z8r9oI/ibkdj5v4AYo0KaIOQ/0qMks/wk7j8wuu99OBz9v1cmRBEcN/a/MB6DtDxLwT9/9doOkzK8P1fBlIoGQus/6gzTIC6V8j/8ocToICHav3yyqVDHOuS/2euppLXm9r8=\",\"dtype\":\"float64\",\"order\":\"little\",\"shape\":[100]}},\"selected\":{\"id\":\"1252\"},\"selection_policy\":{\"id\":\"1251\"}},\"id\":\"1222\",\"type\":\"ColumnDataSource\"},{\"attributes\":{\"overlay\":{\"id\":\"1214\"}},\"id\":\"1210\",\"type\":\"BoxZoomTool\"},{\"attributes\":{},\"id\":\"1194\",\"type\":\"DataRange1d\"},{\"attributes\":{\"axis\":{\"id\":\"1200\"},\"ticker\":null},\"id\":\"1203\",\"type\":\"Grid\"},{\"attributes\":{},\"id\":\"1250\",\"type\":\"BasicTickFormatter\"},{\"attributes\":{\"fill_color\":{\"value\":\"#1f77b4\"},\"line_color\":{\"value\":\"#1f77b4\"},\"x\":{\"field\":\"x\"},\"y\":{\"field\":\"y\"}},\"id\":\"1223\",\"type\":\"Circle\"},{\"attributes\":{\"data_source\":{\"id\":\"1222\"},\"glyph\":{\"id\":\"1223\"},\"hover_glyph\":null,\"muted_glyph\":null,\"nonselection_glyph\":{\"id\":\"1224\"},\"selection_glyph\":null,\"view\":{\"id\":\"1226\"}},\"id\":\"1225\",\"type\":\"GlyphRenderer\"},{\"attributes\":{},\"id\":\"1205\",\"type\":\"BasicTicker\"},{\"attributes\":{\"source\":{\"id\":\"1222\"}},\"id\":\"1226\",\"type\":\"CDSView\"},{\"attributes\":{},\"id\":\"1198\",\"type\":\"LinearScale\"},{\"attributes\":{},\"id\":\"1196\",\"type\":\"LinearScale\"},{\"attributes\":{\"formatter\":{\"id\":\"1248\"},\"ticker\":{\"id\":\"1205\"}},\"id\":\"1204\",\"type\":\"LinearAxis\"},{\"attributes\":{},\"id\":\"1209\",\"type\":\"WheelZoomTool\"},{\"attributes\":{\"formatter\":{\"id\":\"1250\"},\"ticker\":{\"id\":\"1201\"}},\"id\":\"1200\",\"type\":\"LinearAxis\"},{\"attributes\":{},\"id\":\"1192\",\"type\":\"DataRange1d\"},{\"attributes\":{\"text\":\"\"},\"id\":\"1245\",\"type\":\"Title\"},{\"attributes\":{},\"id\":\"1252\",\"type\":\"Selection\"},{\"attributes\":{\"fill_alpha\":{\"value\":0.1},\"fill_color\":{\"value\":\"#1f77b4\"},\"line_alpha\":{\"value\":0.1},\"line_color\":{\"value\":\"#1f77b4\"},\"x\":{\"field\":\"x\"},\"y\":{\"field\":\"y\"}},\"id\":\"1224\",\"type\":\"Circle\"},{\"attributes\":{},\"id\":\"1251\",\"type\":\"UnionRenderers\"},{\"attributes\":{},\"id\":\"1213\",\"type\":\"HelpTool\"},{\"attributes\":{\"bottom_units\":\"screen\",\"fill_alpha\":0.5,\"fill_color\":\"lightgrey\",\"left_units\":\"screen\",\"level\":\"overlay\",\"line_alpha\":1.0,\"line_color\":\"black\",\"line_dash\":[4,4],\"line_width\":2,\"right_units\":\"screen\",\"top_units\":\"screen\"},\"id\":\"1214\",\"type\":\"BoxAnnotation\"},{\"attributes\":{},\"id\":\"1201\",\"type\":\"BasicTicker\"}],\"root_ids\":[\"1191\"]},\"title\":\"Bokeh Application\",\"version\":\"2.2.3\"}};\n",
       "  var render_items = [{\"docid\":\"5ea1d8f3-e5dd-4d98-8cb1-ac59e416e6a8\",\"root_ids\":[\"1191\"],\"roots\":{\"1191\":\"2c75200d-59e3-4771-b8dc-41a84fe52d64\"}}];\n",
       "  root.Bokeh.embed.embed_items_notebook(docs_json, render_items);\n",
       "\n",
       "  }\n",
       "  if (root.Bokeh !== undefined) {\n",
       "    embed_document(root);\n",
       "  } else {\n",
       "    var attempts = 0;\n",
       "    var timer = setInterval(function(root) {\n",
       "      if (root.Bokeh !== undefined) {\n",
       "        clearInterval(timer);\n",
       "        embed_document(root);\n",
       "      } else {\n",
       "        attempts++;\n",
       "        if (attempts > 100) {\n",
       "          clearInterval(timer);\n",
       "          console.log(\"Bokeh: ERROR: Unable to run BokehJS code because BokehJS library is missing\");\n",
       "        }\n",
       "      }\n",
       "    }, 10, root)\n",
       "  }\n",
       "})(window);"
      ],
      "application/vnd.bokehjs_exec.v0+json": ""
     },
     "metadata": {
      "application/vnd.bokehjs_exec.v0+json": {
       "id": "1191"
      }
     },
     "output_type": "display_data"
    }
   ],
   "source": [
    "# 工具栏 tools\n",
    "# （1）设置位置\n",
    "\n",
    "p = figure(plot_width=300, plot_height=300,\n",
    "           toolbar_location=\"below\",\n",
    "            toolbar_sticky=False\n",
    "          )\n",
    "# 工具栏位置设置为\"below\"时，可增加toolbar_sticky参数使得toolsbar不被遮挡\n",
    "p.circle(np.random.randn(100),np.random.randn(100))\n",
    "show(p)"
   ]
  },
  {
   "cell_type": "code",
   "execution_count": 5,
   "metadata": {
    "collapsed": false,
    "jupyter": {
     "outputs_hidden": false
    }
   },
   "outputs": [
    {
     "data": {
      "text/html": [
       "\n",
       "\n",
       "\n",
       "\n",
       "\n",
       "\n",
       "  <div class=\"bk-root\" id=\"9278041d-bcec-4e00-ba8c-191cc25ab3b9\" data-root-id=\"1299\"></div>\n"
      ]
     },
     "metadata": {},
     "output_type": "display_data"
    },
    {
     "data": {
      "application/javascript": [
       "(function(root) {\n",
       "  function embed_document(root) {\n",
       "    \n",
       "  var docs_json = {\"44a578a0-3940-4eae-b731-c42f0aa75505\":{\"roots\":{\"references\":[{\"attributes\":{\"below\":[{\"id\":\"1308\"}],\"center\":[{\"id\":\"1311\"},{\"id\":\"1315\"}],\"left\":[{\"id\":\"1312\"}],\"plot_height\":400,\"plot_width\":800,\"renderers\":[{\"id\":\"1351\"}],\"title\":{\"id\":\"1380\"},\"toolbar\":{\"id\":\"1332\"},\"toolbar_location\":\"above\",\"x_range\":{\"id\":\"1300\"},\"x_scale\":{\"id\":\"1304\"},\"y_range\":{\"id\":\"1302\"},\"y_scale\":{\"id\":\"1306\"}},\"id\":\"1299\",\"subtype\":\"Figure\",\"type\":\"Plot\"},{\"attributes\":{},\"id\":\"1386\",\"type\":\"UnionRenderers\"},{\"attributes\":{},\"id\":\"1309\",\"type\":\"BasicTicker\"},{\"attributes\":{\"axis\":{\"id\":\"1312\"},\"dimension\":1,\"ticker\":null},\"id\":\"1315\",\"type\":\"Grid\"},{\"attributes\":{\"formatter\":{\"id\":\"1385\"},\"ticker\":{\"id\":\"1309\"}},\"id\":\"1308\",\"type\":\"LinearAxis\"},{\"attributes\":{\"data\":{\"x\":{\"__ndarray__\":\"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\",\"dtype\":\"float64\",\"order\":\"little\",\"shape\":[500]},\"y\":{\"__ndarray__\":\"3Wl3JH9Z4z/Lf9fyRdbyv2J6u6/eWdq/DYlnaQv33r9+XLG6wyzqP42UKKuSsrc/BNIYMX0h4T+aF5B75EHtvxmMcUG95b+/TVA5xsdQ3D++a+LxcXTsP2Fbj8YM59s/NNvHuHz19b8fOI34nGHhv7X8m5ap2Ps/U23k5B5m8D83ENzWv/DFP2HspoPwIgFA0yhwj7cExr/c+4yTUkjmPxaHyfwJr/o/DR879pI61j+b7eG4x2bsP/VRUj7glOq/wb3AyaEgwT8RcpbBdui4P2ewj+GFMrI/ljA7HqUD6j/XjLlqjmnlP9/xaswp2Oc/kwUyVyUM7L91sg3VCxyLP6w1rYjrztC/joTBcgH657+7RVxCJkDmv+MHnrGC38q/Hr7KDCSQ07+qyn79tsPzv2655MyuxMI/VW9BYwKv978w/KOp60m+P9eoFhcv3c6/HvUUuhpx87+lBMDeWq3yP6W609nBpvM/b93h7z4l9L9ZEzaqejfsPzQjtYJf9OA/sfxk+WXy+D88Z/RDZCHeP5Bss6RJ+Pk/iENqIuat3b80WA1BkqvtP/kJcAFIXdS/xCDRm+sD+78PiFApTO/dPxe4dg0ZVgLA2ls4qyHUsz9L01xV5p30P0nei7taPdw/0y/liE7o4D/yHe2cZkj+P/Rece9YP8m/7MV8WLoWqL+aMjk6KYzgP+rnrYZMZeW/SPrTq8a34j9XDc9JMzvgP55zzSsg99q/O3y5+rmv9z9KJ70ZajmRv78QAU7SFuI/V/wFIbNU4D+2n759SyH4v0swglF3JuO//F2v3lke6r/bZ4r5sSvOP2dtCNDPs8y/XUaPMzNJqj9MoGbXJ2zxv+eZiA1AtO6/OMhvJMYp5T+8LtAlGgbjv9+0io2Is8W/bECrzaR99T9uI2ApNdbav8hBiDGdSNk/NZDONJrh8z8B9436dkMAwLuNTN0GZtY/rY+y7L8ZxL+g/TMicuTYv/sw5iuv1+U/OoUjHE6v+D9H0jtf1sHJP2e9NVkTJgzAYhLuO3/l3r9TDqa5gwP2P7eHaHc75Pq/M26DSgZc4r9YEePbgxj+P0vaGdOO5pc/VokMBq5I3L91IIR7T5GYv0FDjpA3tOK/cUMjT61907+gR2reTLroP4JwQc2rfuI/9AzK+rws9L8fVX7kaiHUvyyZop7WStS/Oubo+qmF7r/uYyQhZrbmPxJ1e7A3HeY/sRkF0JfEtD/v8bO03uDyv9JqqpGqX9A/rRO6AEqp4L8U6Qehl+ryv7G2o/hdEN+/fkRabLl7AsAaNjEug83jP5dkEjfjKem/dl6/Tw3h479YAnH7zm/3v6iitpgq0ve/uP4fj2LE8j+U5lnnNWHRv5I6HlOpq+A/B+8zcoSpAEAyQQMwIpLgPzrpwJxBGNs/JSz1Cn9R8L/qsIhYDjf4P4ZPZWjclfO/wChuOaIDsD+QntPPKl/rv91ShwZKCOI/TPxF9pvv678HiNUW8unPv1T7amRonvo/69LfebgPmb9jQJF+cCzxP8PC/eBCMdY/yaaO+P4+7D+xHIkwBrnjv9NzZsvlYrM/qHoq5zCaxT/8cvGy/bHZPyjlvdf8pPA/oaDV881M+z8mJrWY2mfmv2uxF1Cn7oa/JOAAm82Q5r8Y5bol35LJP7ij77+XeeU/utHVIF523T+Scz59a9i0P7+s+sefRfk/DhUOVYOL5L9bJUZ07mv5v6qdS6dcXsi/iXQIFP2b6T9jWY00bnvyP0VDVeywjdu/XxAs1m2x+j8hRGNrH7HzP2JnyvkfHec/gt9nsuQ51T9qhs9eNtLkv04437ADqpK/jbpnpkLlKD8iupXynJ/jP+YCXxxzC9O/n1rIiP0Y6r+itOiwb6Xgv3zKAczqkZC/9eYmMPp/7b8GO5rxdEnzP9bstz/DFOG/uKMDS40IAsDZ/p5XAEnFP2gK9t8bCtu/XGHw5P4i7L/dT/HVDgnvP3VRO9b/uaa/D+UIaj/Gwr/AS5mntDrev8kRwC9cIPa/qn14fbqU/7/P5qTQUqjxv0E3+RYakOY/aStc+UuE67/RPwslZPrrPzTUI8werNU/p3X03ZEc6L8DKDTvDJ7Rv2cFJftz5NW/AWk0N+f+0L/rDOZZuC/HP28+/i9TCe4/03Fi8SDF2j87WO9TnG7dv162esRgBOg/mXDNMK5IvT9gz5F3ffrhv1q/PQgzMum/zZVB7ZVAAcBeZF7QTVHvPwfNThpsefo/7s5OQrRY7D+QfhP5TemyP7CHeEkTJca/2EtKtBjx1L9OeJfWc8XNP6XYPkNpeeE/viZwngoS4T/OY3vb4C3SPwTftogQdtK/rUfGbxWS+j8UzELvZIYBwMdd41ySrf2/Vd776Ij0+D8Y7bimdDjUv2vUku57BQHAspUNDvr18L+SayUV3GDVv8A/j+aSKf8/tEI22bi34r8KRESR2vzTvyKlaKzVzt4/9zRWwYHn1j+DpkEHjzr2v4AR8QFOEuS/GOaMgQO3AMCzvHRD5PTsvxlUQ4himvg/nrkaR3KB1L97snycqZPyPxnT5iw1r94/aLHCr5vt+b87e0DN8UrYPwM3UbiWbOC/aJk0XZCa8L8T6pLjVbj2P229SaG/WvQ/cdQRKj1n3T/qXApWRCbZPw6MB7O+4NI/UOQgMq7L+j+YvZXM9nLiPy+P/sCl9uG/fzhTlyZy4j8ZyZLD7wnwP76hoiAsVNU/rHNjV8gDAcDE8mL1pA/nP3dX2hOU2au/S3RNU28++79GZA79fx7mP3Cs0eEeTcm/LOhzvzcK1D8OIsTDmB/yv+HLBNd1meY/Mz40CmqZ479DzYW1fYfbP0m+4ZrLgdg///g3DTAW+T+eaWXMdSf1v65O7yleLOe/QJR4oxvJ2T8cZfSx2T/rv/P6uj0lz+K/ZUDqNAF8+D/VJ6p/ElDSP3V4GSQNTJK/S5Lcqo6p9D8maMcx5MnUv6JCojIlU8s/r/kyd+6nxb/+9y7qdLnwv71p611wj+w/fzFqO02q8z/njUJ9jWDGP/5XK1SDWt2/w3YznMzA6796MvzXQFzAP3RpC7BTGbw/ZNtfcC7fyD+FC8I0bkT1P2N4Uat77uI/qEsnoTf0tD/wA1RrppbTP0LvcKE1UN4/Tl9ET7Mjwz8871sKmCYEQFp8o4nvzb+/7teSB39m5z8DYi2RfR/jP5oKm6uTVOW/AseO5mZS2D9OFL29Fenev/LsIHXLkf0/WAJ/eBox+L8EISsvMJzgv7EYGlJMCsE/tad4Ef6v0r/N7B//+0DsvyTWMXd5tOQ/RxjJ0dngwr/iLe1VEGTkv8lR8GJR9OU/N39FWGgBzr8YhZJPrWrkP4rKQSIS4Ly/O2/WVrSrWb9o+MrccbTgPyK+2H5MWco/xHR8MQ0Lvb/wcdt6Cy3Dvw3UQ1asU92/GJX33oYx4r/af2zKZ/22P70W6kSsNfa/MgdxS5XI/T8prNrWWUXUv4NYfbtFfNu/oEITlVzS9b9XrI5WZ8bmv4MY3U8hccg/S40yHUw4/L8f+C3i+RrHPzIFc8yRbc6/H21oXecF8L8V9U4cJADpPyEfJ2Z3j+w/2pu8AcON9z8iJAXILi/vP7gOv048/M8/WK0Ravq59T/+pIXXVCTtPzV687jrau+/c8OX2WjkBkBJ3OhQZhvyv9Cwp3JVfc6/3nChxPiG9T+X0SGat/3Fvyoi/8xKkfS/3F2SJrbk/b/buICdEmfYP+WEpvBAivK/iOfjKdJR1D/5w9dGyrLrv/9w9qr3yPW/awa4EBpV8L/2Yt8cDHT3v9SG7fkRh/A/H4x/rk8+4j+fXfbC7qbuvzUA+Ab3l+E/5RiW7qJj7D9XvWg25uTvv/atGX2gSuQ/HiwX79TMnr9BEDb4mZH5v3JMfMj/mO+/hyt2/zCpAUB2Gyhwd3YCQDOA9jMB6vC/uwYkGxcQ3b9NpnvL8Z3QP4RT0fNYgPK/1B2tbjtq7T9ch1P8qfryv/pN/i1eJ/G/vUdYrIll8D9/jTr89XjgP2wIMOBfF+M/Vtb7DJMY/b94j5Y2urToP6tBDxzXYO8/345pfbj32L8pq2epZhzSvwMI7zLTuew/8nAHV34t/j93pN99EB/6Pw/DKqxRn8A/13ibYBcxx78MV0mBRyHxP1sP+2kG3PU/rVD7S1X43j+BoQuFBa7IP+UHzaj8cvO/OPv5qD0euL/8dgZSYWDkvwDYoaoC3Oc/238EGR7Axb/XxGXa70j+vxp4cd32dME/r/OUe1P38L/14BDY8oDmvzsS5bhWF+E/yZKCMzeC97/VZZB+yK33P+Ux+d5A7eM/eZlX1Cln3r/3sNuIs8fqPzR1ToUsg++/OdvYfRwS9L9c1FmqXqvxPwA/WrjcWco/N7wwsw2u+b/vHwWV4c7ZP5GE6qLQWa6/ZmcWIngdwL+qjnpfQujYv9lsmeyIPeE/YjjhPo8p8r9PBw6YoS7Pv/yQeiWoe70/Kq7viT6Suz8Xc/9jbk/wPxFQvOfo0dU/JDWDpC/H6D/9mTaFljn7v52vCGhB5fq/ESL89DzD8z9eaxxsxb4DQBGZx/bTfu8/xSFR9vdU7L+hqgVkOMbXvzdRM41RVNc/+T6PglkE+b8runLuLb//P2gatmtz8Oo/O1If/b0h1j/gBVaTpqbcP5GcfAgWB+G/0a4xIjW/4D9kQ3VtImnvv74Ie41xKNe/R0jEXtUk0T+NumFy71Lzv1IPDuCdOuG/23ZRjGzF8L++WyNphlHfv2JJACFTivC/gNXVyuaU1T9QWaLiIp7Jv3HQpQIaUNs/xlPvKhjwpL/AqjFM7Rz3v8g3Mr9XcfC/cLQ8x0gL4D8wloJNA5vRPxwPEVs6l+6/Kot/NJu5/r/gPEMQUfvbP5X4/DIcUeo/wBFsnuKn5z+XtyouN1Tgv3Jcxoi6Ptc/j1YfJGij7T+qxWGkxdfwP+wU0A0jXte/oblCo0tg6j9xnYJ73IvUPz1eLGdTNuG/pjxSK/Dy9D9U2er2gkABwKXXeJD6BM4/840U2yHXAsApEU9vz5Pqv2XY/HQvj/e/be25u6fOwT+TnkIZtqTWv/py0JTJpOu/a2v9sB97ub8Prqth5BOGPx/Tm8BBQ/6/FBIlVMYk8b8X5IlHcLC8v48+7abJCeQ/2P3V3SJMy78I1EcWHoDlv62Oour/RtQ/BSI9fxnY5z+p0QkrslLtP5QkvUGRtve/SAP7KZOG9L9l+zM/Dz7QP83TghJmXdm/RKPmYShS3L/oVUIZ+07oP2zI8rCuENm/cA56J7gH+T8kCrqkyvrkP7n4jhtWkPY/uNgVfvD49L8RbrbpBafiPw==\",\"dtype\":\"float64\",\"order\":\"little\",\"shape\":[500]}},\"selected\":{\"id\":\"1387\"},\"selection_policy\":{\"id\":\"1386\"}},\"id\":\"1348\",\"type\":\"ColumnDataSource\"},{\"attributes\":{\"dimensions\":\"width\"},\"id\":\"1321\",\"type\":\"WheelZoomTool\"},{\"attributes\":{\"text\":\"\"},\"id\":\"1380\",\"type\":\"Title\"},{\"attributes\":{\"overlay\":{\"id\":\"1331\"}},\"id\":\"1319\",\"type\":\"BoxZoomTool\"},{\"attributes\":{\"dimensions\":\"width\"},\"id\":\"1317\",\"type\":\"PanTool\"},{\"attributes\":{\"fill_color\":{\"value\":\"#1f77b4\"},\"line_color\":{\"value\":\"#1f77b4\"},\"x\":{\"field\":\"x\"},\"y\":{\"field\":\"y\"}},\"id\":\"1349\",\"type\":\"Circle\"},{\"attributes\":{\"dimensions\":\"height\"},\"id\":\"1328\",\"type\":\"ZoomOutTool\"},{\"attributes\":{},\"id\":\"1329\",\"type\":\"SaveTool\"},{\"attributes\":{},\"id\":\"1387\",\"type\":\"Selection\"},{\"attributes\":{},\"id\":\"1316\",\"type\":\"PanTool\"},{\"attributes\":{\"dimensions\":\"height\"},\"id\":\"1318\",\"type\":\"PanTool\"},{\"attributes\":{},\"id\":\"1385\",\"type\":\"BasicTickFormatter\"},{\"attributes\":{\"bottom_units\":\"screen\",\"fill_alpha\":0.5,\"fill_color\":\"lightgrey\",\"left_units\":\"screen\",\"level\":\"overlay\",\"line_alpha\":1.0,\"line_color\":\"black\",\"line_dash\":[4,4],\"line_width\":2,\"right_units\":\"screen\",\"top_units\":\"screen\"},\"id\":\"1331\",\"type\":\"BoxAnnotation\"},{\"attributes\":{},\"id\":\"1313\",\"type\":\"BasicTicker\"},{\"attributes\":{\"dimensions\":\"width\"},\"id\":\"1327\",\"type\":\"ZoomOutTool\"},{\"attributes\":{},\"id\":\"1330\",\"type\":\"ResetTool\"},{\"attributes\":{},\"id\":\"1300\",\"type\":\"DataRange1d\"},{\"attributes\":{\"dimensions\":\"height\"},\"id\":\"1322\",\"type\":\"WheelZoomTool\"},{\"attributes\":{},\"id\":\"1320\",\"type\":\"WheelZoomTool\"},{\"attributes\":{},\"id\":\"1383\",\"type\":\"BasicTickFormatter\"},{\"attributes\":{\"formatter\":{\"id\":\"1383\"},\"ticker\":{\"id\":\"1313\"}},\"id\":\"1312\",\"type\":\"LinearAxis\"},{\"attributes\":{},\"id\":\"1326\",\"type\":\"ZoomOutTool\"},{\"attributes\":{\"data_source\":{\"id\":\"1348\"},\"glyph\":{\"id\":\"1349\"},\"hover_glyph\":null,\"muted_glyph\":null,\"nonselection_glyph\":{\"id\":\"1350\"},\"selection_glyph\":null,\"view\":{\"id\":\"1352\"}},\"id\":\"1351\",\"type\":\"GlyphRenderer\"},{\"attributes\":{\"fill_alpha\":{\"value\":0.1},\"fill_color\":{\"value\":\"#1f77b4\"},\"line_alpha\":{\"value\":0.1},\"line_color\":{\"value\":\"#1f77b4\"},\"x\":{\"field\":\"x\"},\"y\":{\"field\":\"y\"}},\"id\":\"1350\",\"type\":\"Circle\"},{\"attributes\":{},\"id\":\"1302\",\"type\":\"DataRange1d\"},{\"attributes\":{},\"id\":\"1323\",\"type\":\"ZoomInTool\"},{\"attributes\":{},\"id\":\"1304\",\"type\":\"LinearScale\"},{\"attributes\":{\"dimensions\":\"width\"},\"id\":\"1324\",\"type\":\"ZoomInTool\"},{\"attributes\":{\"active_drag\":\"auto\",\"active_inspect\":\"auto\",\"active_multi\":null,\"active_scroll\":\"auto\",\"active_tap\":\"auto\",\"tools\":[{\"id\":\"1316\"},{\"id\":\"1317\"},{\"id\":\"1318\"},{\"id\":\"1319\"},{\"id\":\"1320\"},{\"id\":\"1321\"},{\"id\":\"1322\"},{\"id\":\"1323\"},{\"id\":\"1324\"},{\"id\":\"1325\"},{\"id\":\"1326\"},{\"id\":\"1327\"},{\"id\":\"1328\"},{\"id\":\"1329\"},{\"id\":\"1330\"}]},\"id\":\"1332\",\"type\":\"Toolbar\"},{\"attributes\":{\"dimensions\":\"height\"},\"id\":\"1325\",\"type\":\"ZoomInTool\"},{\"attributes\":{},\"id\":\"1306\",\"type\":\"LinearScale\"},{\"attributes\":{\"axis\":{\"id\":\"1308\"},\"ticker\":null},\"id\":\"1311\",\"type\":\"Grid\"},{\"attributes\":{\"source\":{\"id\":\"1348\"}},\"id\":\"1352\",\"type\":\"CDSView\"}],\"root_ids\":[\"1299\"]},\"title\":\"Bokeh Application\",\"version\":\"2.2.3\"}};\n",
       "  var render_items = [{\"docid\":\"44a578a0-3940-4eae-b731-c42f0aa75505\",\"root_ids\":[\"1299\"],\"roots\":{\"1299\":\"9278041d-bcec-4e00-ba8c-191cc25ab3b9\"}}];\n",
       "  root.Bokeh.embed.embed_items_notebook(docs_json, render_items);\n",
       "\n",
       "  }\n",
       "  if (root.Bokeh !== undefined) {\n",
       "    embed_document(root);\n",
       "  } else {\n",
       "    var attempts = 0;\n",
       "    var timer = setInterval(function(root) {\n",
       "      if (root.Bokeh !== undefined) {\n",
       "        clearInterval(timer);\n",
       "        embed_document(root);\n",
       "      } else {\n",
       "        attempts++;\n",
       "        if (attempts > 100) {\n",
       "          clearInterval(timer);\n",
       "          console.log(\"Bokeh: ERROR: Unable to run BokehJS code because BokehJS library is missing\");\n",
       "        }\n",
       "      }\n",
       "    }, 10, root)\n",
       "  }\n",
       "})(window);"
      ],
      "application/vnd.bokehjs_exec.v0+json": ""
     },
     "metadata": {
      "application/vnd.bokehjs_exec.v0+json": {
       "id": "1299"
      }
     },
     "output_type": "display_data"
    }
   ],
   "source": [
    "# 工具栏 tools\n",
    "# （2）移动、放大缩小、存储、刷新\n",
    "\n",
    "TOOLS = '''\n",
    "        pan, xpan, ypan,             \n",
    "        box_zoom,\n",
    "        wheel_zoom, xwheel_zoom, ywheel_zoom,   \n",
    "        zoom_in, xzoom_in, yzoom_in,\n",
    "        zoom_out, xzoom_out, yzoom_out,\n",
    "        save,reset\n",
    "        '''\n",
    "\n",
    "p = figure(plot_width=800, plot_height=400,toolbar_location=\"above\",\n",
    "           tools = TOOLS)\n",
    "# 添加toolbar\n",
    "# 这里tools = '' 则不显示toolbar\n",
    "\n",
    "p.circle(np.random.randn(500),np.random.randn(500))\n",
    "show(p)"
   ]
  },
  {
   "cell_type": "code",
   "execution_count": 6,
   "metadata": {
    "collapsed": false,
    "jupyter": {
     "outputs_hidden": false
    }
   },
   "outputs": [
    {
     "data": {
      "text/html": [
       "\n",
       "\n",
       "\n",
       "\n",
       "\n",
       "\n",
       "  <div class=\"bk-root\" id=\"6821c26f-e534-4a78-a08d-1479b74301f4\" data-root-id=\"1434\"></div>\n"
      ]
     },
     "metadata": {},
     "output_type": "display_data"
    },
    {
     "data": {
      "application/javascript": [
       "(function(root) {\n",
       "  function embed_document(root) {\n",
       "    \n",
       "  var docs_json = {\"fa921bd8-2271-43e7-a008-f2ebde19f99b\":{\"roots\":{\"references\":[{\"attributes\":{\"below\":[{\"id\":\"1443\"}],\"center\":[{\"id\":\"1446\"},{\"id\":\"1450\"}],\"left\":[{\"id\":\"1447\"}],\"plot_height\":400,\"plot_width\":800,\"renderers\":[{\"id\":\"1463\"}],\"title\":{\"id\":\"1501\"},\"toolbar\":{\"id\":\"1456\"},\"toolbar_location\":\"above\",\"x_range\":{\"id\":\"1435\"},\"x_scale\":{\"id\":\"1439\"},\"y_range\":{\"id\":\"1437\"},\"y_scale\":{\"id\":\"1441\"}},\"id\":\"1434\",\"subtype\":\"Figure\",\"type\":\"Plot\"},{\"attributes\":{},\"id\":\"1506\",\"type\":\"BasicTickFormatter\"},{\"attributes\":{},\"id\":\"1504\",\"type\":\"BasicTickFormatter\"},{\"attributes\":{},\"id\":\"1435\",\"type\":\"DataRange1d\"},{\"attributes\":{\"axis\":{\"id\":\"1443\"},\"ticker\":null},\"id\":\"1446\",\"type\":\"Grid\"},{\"attributes\":{\"axis\":{\"id\":\"1447\"},\"dimension\":1,\"ticker\":null},\"id\":\"1450\",\"type\":\"Grid\"},{\"attributes\":{\"overlay\":{\"id\":\"1455\"}},\"id\":\"1452\",\"type\":\"LassoSelectTool\"},{\"attributes\":{\"bottom_units\":\"screen\",\"fill_alpha\":0.5,\"fill_color\":\"lightgrey\",\"left_units\":\"screen\",\"level\":\"overlay\",\"line_alpha\":1.0,\"line_color\":\"black\",\"line_dash\":[4,4],\"line_width\":2,\"right_units\":\"screen\",\"top_units\":\"screen\"},\"id\":\"1454\",\"type\":\"BoxAnnotation\"},{\"attributes\":{\"text\":\"\"},\"id\":\"1501\",\"type\":\"Title\"},{\"attributes\":{},\"id\":\"1441\",\"type\":\"LinearScale\"},{\"attributes\":{},\"id\":\"1448\",\"type\":\"BasicTicker\"},{\"attributes\":{\"data\":{\"x\":{\"__ndarray__\":\"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\",\"dtype\":\"float64\",\"order\":\"little\",\"shape\":[500]},\"y\":{\"__ndarray__\":\"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\",\"dtype\":\"float64\",\"order\":\"little\",\"shape\":[500]}},\"selected\":{\"id\":\"1508\"},\"selection_policy\":{\"id\":\"1507\"}},\"id\":\"1460\",\"type\":\"ColumnDataSource\"},{\"attributes\":{\"formatter\":{\"id\":\"1504\"},\"ticker\":{\"id\":\"1448\"}},\"id\":\"1447\",\"type\":\"LinearAxis\"},{\"attributes\":{\"overlay\":{\"id\":\"1454\"}},\"id\":\"1451\",\"type\":\"BoxSelectTool\"},{\"attributes\":{},\"id\":\"1444\",\"type\":\"BasicTicker\"},{\"attributes\":{},\"id\":\"1437\",\"type\":\"DataRange1d\"},{\"attributes\":{},\"id\":\"1507\",\"type\":\"UnionRenderers\"},{\"attributes\":{\"fill_alpha\":{\"value\":0.1},\"fill_color\":{\"value\":\"#1f77b4\"},\"line_alpha\":{\"value\":0.1},\"line_color\":{\"value\":\"#1f77b4\"},\"x\":{\"field\":\"x\"},\"y\":{\"field\":\"y\"}},\"id\":\"1462\",\"type\":\"Circle\"},{\"attributes\":{},\"id\":\"1439\",\"type\":\"LinearScale\"},{\"attributes\":{\"formatter\":{\"id\":\"1506\"},\"ticker\":{\"id\":\"1444\"}},\"id\":\"1443\",\"type\":\"LinearAxis\"},{\"attributes\":{\"active_drag\":\"auto\",\"active_inspect\":\"auto\",\"active_multi\":null,\"active_scroll\":\"auto\",\"active_tap\":\"auto\",\"tools\":[{\"id\":\"1451\"},{\"id\":\"1452\"},{\"id\":\"1453\"}]},\"id\":\"1456\",\"type\":\"Toolbar\"},{\"attributes\":{\"fill_color\":{\"value\":\"#1f77b4\"},\"line_color\":{\"value\":\"#1f77b4\"},\"x\":{\"field\":\"x\"},\"y\":{\"field\":\"y\"}},\"id\":\"1461\",\"type\":\"Circle\"},{\"attributes\":{\"data_source\":{\"id\":\"1460\"},\"glyph\":{\"id\":\"1461\"},\"hover_glyph\":null,\"muted_glyph\":null,\"nonselection_glyph\":{\"id\":\"1462\"},\"selection_glyph\":null,\"view\":{\"id\":\"1464\"}},\"id\":\"1463\",\"type\":\"GlyphRenderer\"},{\"attributes\":{},\"id\":\"1453\",\"type\":\"ResetTool\"},{\"attributes\":{},\"id\":\"1508\",\"type\":\"Selection\"},{\"attributes\":{\"source\":{\"id\":\"1460\"}},\"id\":\"1464\",\"type\":\"CDSView\"},{\"attributes\":{\"fill_alpha\":0.5,\"fill_color\":\"lightgrey\",\"level\":\"overlay\",\"line_alpha\":1.0,\"line_color\":\"black\",\"line_dash\":[4,4],\"line_width\":2,\"xs_units\":\"screen\",\"ys_units\":\"screen\"},\"id\":\"1455\",\"type\":\"PolyAnnotation\"}],\"root_ids\":[\"1434\"]},\"title\":\"Bokeh Application\",\"version\":\"2.2.3\"}};\n",
       "  var render_items = [{\"docid\":\"fa921bd8-2271-43e7-a008-f2ebde19f99b\",\"root_ids\":[\"1434\"],\"roots\":{\"1434\":\"6821c26f-e534-4a78-a08d-1479b74301f4\"}}];\n",
       "  root.Bokeh.embed.embed_items_notebook(docs_json, render_items);\n",
       "\n",
       "  }\n",
       "  if (root.Bokeh !== undefined) {\n",
       "    embed_document(root);\n",
       "  } else {\n",
       "    var attempts = 0;\n",
       "    var timer = setInterval(function(root) {\n",
       "      if (root.Bokeh !== undefined) {\n",
       "        clearInterval(timer);\n",
       "        embed_document(root);\n",
       "      } else {\n",
       "        attempts++;\n",
       "        if (attempts > 100) {\n",
       "          clearInterval(timer);\n",
       "          console.log(\"Bokeh: ERROR: Unable to run BokehJS code because BokehJS library is missing\");\n",
       "        }\n",
       "      }\n",
       "    }, 10, root)\n",
       "  }\n",
       "})(window);"
      ],
      "application/vnd.bokehjs_exec.v0+json": ""
     },
     "metadata": {
      "application/vnd.bokehjs_exec.v0+json": {
       "id": "1434"
      }
     },
     "output_type": "display_data"
    }
   ],
   "source": [
    "# 工具栏 tools\n",
    "# （3）选择\n",
    "\n",
    "TOOLS = '''\n",
    "        box_select,lasso_select,\n",
    "        reset\n",
    "        '''\n",
    "\n",
    "p = figure(plot_width=800, plot_height=400,toolbar_location=\"above\",\n",
    "           tools = TOOLS)\n",
    "# 添加toolbar\n",
    "\n",
    "p.circle(np.random.randn(500),np.random.randn(500))\n",
    "show(p)"
   ]
  },
  {
   "cell_type": "code",
   "execution_count": 7,
   "metadata": {
    "collapsed": false,
    "jupyter": {
     "outputs_hidden": false
    }
   },
   "outputs": [
    {
     "name": "stdout",
     "output_type": "stream",
     "text": [
      "                A           B         type  color\n",
      "index                                            \n",
      "0      -59.689688  161.620891       rabbit   blue\n",
      "1      -35.326939 -141.224876       rabbit  green\n",
      "2       65.273785  -64.227068       piglet    red\n",
      "3     -105.650725  -49.402659  Christopher    red\n",
      "4      -14.005908 -109.963244  Christopher   blue\n"
     ]
    },
    {
     "data": {
      "text/html": [
       "\n",
       "\n",
       "\n",
       "\n",
       "\n",
       "\n",
       "  <div class=\"bk-root\" id=\"34cca435-1196-4a4a-a3f8-fc94d6f4c2f7\" data-root-id=\"1563\"></div>\n"
      ]
     },
     "metadata": {},
     "output_type": "display_data"
    },
    {
     "data": {
      "application/javascript": [
       "(function(root) {\n",
       "  function embed_document(root) {\n",
       "    \n",
       "  var docs_json = {\"435fc0a1-cbc5-49ca-a275-e8a9b7708260\":{\"roots\":{\"references\":[{\"attributes\":{\"below\":[{\"id\":\"1572\"}],\"center\":[{\"id\":\"1575\"},{\"id\":\"1579\"}],\"left\":[{\"id\":\"1576\"}],\"plot_height\":400,\"plot_width\":800,\"renderers\":[{\"id\":\"1596\"}],\"title\":{\"id\":\"1644\"},\"toolbar\":{\"id\":\"1586\"},\"toolbar_location\":\"above\",\"x_range\":{\"id\":\"1564\"},\"x_scale\":{\"id\":\"1568\"},\"y_range\":{\"id\":\"1566\"},\"y_scale\":{\"id\":\"1570\"}},\"id\":\"1563\",\"subtype\":\"Figure\",\"type\":\"Plot\"},{\"attributes\":{\"source\":{\"id\":\"1561\"}},\"id\":\"1597\",\"type\":\"CDSView\"},{\"attributes\":{},\"id\":\"1582\",\"type\":\"WheelZoomTool\"},{\"attributes\":{\"axis\":{\"id\":\"1576\"},\"dimension\":1,\"ticker\":null},\"id\":\"1579\",\"type\":\"Grid\"},{\"attributes\":{\"data_source\":{\"id\":\"1561\"},\"glyph\":{\"id\":\"1594\"},\"hover_glyph\":null,\"muted_glyph\":null,\"nonselection_glyph\":{\"id\":\"1595\"},\"selection_glyph\":null,\"view\":{\"id\":\"1597\"}},\"id\":\"1596\",\"type\":\"GlyphRenderer\"},{\"attributes\":{\"bottom_units\":\"screen\",\"fill_alpha\":0.5,\"fill_color\":\"lightgrey\",\"left_units\":\"screen\",\"level\":\"overlay\",\"line_alpha\":1.0,\"line_color\":\"black\",\"line_dash\":[4,4],\"line_width\":2,\"right_units\":\"screen\",\"top_units\":\"screen\"},\"id\":\"1585\",\"type\":\"BoxAnnotation\"},{\"attributes\":{},\"id\":\"1564\",\"type\":\"DataRange1d\"},{\"attributes\":{},\"id\":\"1583\",\"type\":\"PanTool\"},{\"attributes\":{},\"id\":\"1649\",\"type\":\"BasicTickFormatter\"},{\"attributes\":{\"formatter\":{\"id\":\"1647\"},\"ticker\":{\"id\":\"1577\"}},\"id\":\"1576\",\"type\":\"LinearAxis\"},{\"attributes\":{\"overlay\":{\"id\":\"1585\"}},\"id\":\"1580\",\"type\":\"BoxSelectTool\"},{\"attributes\":{},\"id\":\"1584\",\"type\":\"CrosshairTool\"},{\"attributes\":{\"fill_alpha\":{\"value\":0.3},\"fill_color\":{\"field\":\"color\"},\"line_alpha\":{\"value\":0.3},\"line_color\":{\"field\":\"color\"},\"size\":{\"units\":\"screen\",\"value\":10},\"x\":{\"field\":\"A\"},\"y\":{\"field\":\"B\"}},\"id\":\"1594\",\"type\":\"Circle\"},{\"attributes\":{\"data\":{\"A\":{\"__ndarray__\":\"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\",\"dtype\":\"float64\",\"order\":\"little\",\"shape\":[500]},\"B\":{\"__ndarray__\":\"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\",\"dtype\":\"float64\",\"order\":\"little\",\"shape\":[500]},\"color\":[\"blue\",\"green\",\"red\",\"red\",\"blue\",\"blue\",\"blue\",\"red\",\"yellow\",\"yellow\",\"yellow\",\"red\",\"red\",\"red\",\"red\",\"green\",\"green\",\"yellow\",\"red\",\"green\",\"blue\",\"blue\",\"red\",\"yellow\",\"green\",\"yellow\",\"green\",\"red\",\"green\",\"blue\",\"yellow\",\"red\",\"blue\",\"blue\",\"yellow\",\"yellow\",\"yellow\",\"yellow\",\"red\",\"blue\",\"green\",\"red\",\"red\",\"blue\",\"blue\",\"green\",\"green\",\"green\",\"red\",\"blue\",\"blue\",\"yellow\",\"green\",\"yellow\",\"blue\",\"blue\",\"red\",\"yellow\",\"yellow\",\"red\",\"green\",\"blue\",\"blue\",\"green\",\"yellow\",\"yellow\",\"yellow\",\"blue\",\"blue\",\"blue\",\"green\",\"blue\",\"green\",\"green\",\"blue\",\"red\",\"red\",\"red\",\"yellow\",\"yellow\",\"blue\",\"yellow\",\"yellow\",\"red\",\"red\",\"yellow\",\"green\",\"green\",\"yellow\",\"green\",\"red\",\"blue\",\"yellow\",\"red\",\"blue\",\"green\",\"blue\",\"blue\",\"green\",\"green\",\"yellow\",\"red\",\"red\",\"blue\",\"green\",\"red\",\"blue\",\"blue\",\"yellow\",\"red\",\"red\",\"green\",\"green\",\"red\",\"yellow\",\"yellow\",\"green\",\"green\",\"blue\",\"green\",\"yellow\",\"yellow\",\"red\",\"blue\",\"blue\",\"yellow\",\"yellow\",\"yellow\",\"yellow\",\"yellow\",\"blue\",\"green\",\"red\",\"yellow\",\"green\",\"red\",\"yellow\",\"blue\",\"blue\",\"red\",\"yellow\",\"green\",\"green\",\"blue\",\"red\",\"green\",\"red\",\"yellow\",\"yellow\",\"yellow\",\"red\",\"red\",\"green\",\"yellow\",\"green\",\"blue\",\"blue\",\"blue\",\"green\",\"red\",\"yellow\",\"yellow\",\"red\",\"green\",\"blue\",\"red\",\"blue\",\"red\",\"yellow\",\"red\",\"green\",\"red\",\"blue\",\"green\",\"red\",\"red\",\"red\",\"green\",\"red\",\"blue\",\"blue\",\"yellow\",\"yellow\",\"green\",\"blue\",\"blue\",\"green\",\"red\",\"red\",\"yellow\",\"yellow\",\"yellow\",\"red\",\"yellow\",\"red\",\"yellow\",\"yellow\",\"blue\",\"green\",\"red\",\"yellow\",\"green\",\"yellow\",\"blue\",\"blue\",\"yellow\",\"blue\",\"green\",\"red\",\"blue\",\"red\",\"yellow\",\"yellow\",\"green\",\"red\",\"yellow\",\"red\",\"green\",\"green\",\"blue\",\"red\",\"red\",\"yellow\",\"red\",\"blue\",\"red\",\"green\",\"red\",\"yellow\",\"red\",\"blue\",\"blue\",\"blue\",\"red\",\"yellow\",\"green\",\"blue\",\"yellow\",\"red\",\"red\",\"blue\",\"red\",\"green\",\"blue\",\"yellow\",\"blue\",\"red\",\"yellow\",\"red\",\"yellow\",\"green\",\"green\",\"green\",\"red\",\"yellow\",\"blue\",\"red\",\"blue\",\"blue\",\"blue\",\"green\",\"yellow\",\"yellow\",\"yellow\",\"blue\",\"red\",\"yellow\",\"blue\",\"blue\",\"green\",\"yellow\",\"red\",\"green\",\"green\",\"red\",\"blue\",\"blue\",\"blue\",\"blue\",\"green\",\"green\",\"red\",\"green\",\"blue\",\"red\",\"blue\",\"green\",\"green\",\"green\",\"green\",\"yellow\",\"red\",\"yellow\",\"yellow\",\"green\",\"yellow\",\"yellow\",\"yellow\",\"blue\",\"yellow\",\"blue\",\"blue\",\"green\",\"blue\",\"green\",\"green\",\"blue\",\"yellow\",\"red\",\"blue\",\"blue\",\"blue\",\"blue\",\"red\",\"red\",\"blue\",\"green\",\"yellow\",\"yellow\",\"red\",\"blue\",\"green\",\"red\",\"green\",\"yellow\",\"blue\",\"blue\",\"yellow\",\"green\",\"green\",\"green\",\"red\",\"red\",\"yellow\",\"yellow\",\"blue\",\"yellow\",\"blue\",\"red\",\"red\",\"blue\",\"green\",\"yellow\",\"blue\",\"red\",\"yellow\",\"yellow\",\"yellow\",\"blue\",\"red\",\"blue\",\"yellow\",\"yellow\",\"blue\",\"red\",\"yellow\",\"green\",\"yellow\",\"blue\",\"green\",\"green\",\"yellow\",\"green\",\"red\",\"red\",\"yellow\",\"green\",\"blue\",\"yellow\",\"blue\",\"yellow\",\"blue\",\"green\",\"yellow\",\"red\",\"blue\",\"red\",\"yellow\",\"green\",\"blue\",\"yellow\",\"blue\",\"yellow\",\"yellow\",\"red\",\"red\",\"green\",\"red\",\"red\",\"green\",\"blue\",\"red\",\"yellow\",\"green\",\"blue\",\"blue\",\"red\",\"yellow\",\"blue\",\"yellow\",\"yellow\",\"blue\",\"green\",\"yellow\",\"green\",\"blue\",\"blue\",\"green\",\"blue\",\"blue\",\"blue\",\"red\",\"yellow\",\"blue\",\"green\",\"yellow\",\"green\",\"red\",\"yellow\",\"red\",\"yellow\",\"yellow\",\"green\",\"green\",\"blue\",\"red\",\"yellow\",\"blue\",\"yellow\",\"red\",\"green\",\"red\",\"blue\",\"green\",\"blue\",\"green\",\"yellow\",\"yellow\",\"green\",\"green\",\"red\",\"blue\",\"yellow\",\"blue\",\"yellow\",\"red\",\"red\",\"green\",\"green\",\"blue\",\"yellow\",\"blue\",\"red\",\"green\",\"yellow\",\"green\",\"red\",\"blue\",\"yellow\",\"yellow\",\"green\",\"green\",\"blue\",\"green\",\"red\",\"blue\",\"red\",\"green\",\"green\",\"green\",\"green\",\"green\",\"green\",\"green\",\"red\",\"yellow\",\"blue\",\"green\",\"blue\",\"blue\",\"blue\",\"green\",\"green\",\"blue\",\"yellow\",\"yellow\",\"red\",\"blue\",\"green\",\"yellow\",\"green\",\"blue\",\"green\",\"yellow\",\"yellow\",\"yellow\",\"yellow\",\"red\",\"green\",\"green\"],\"index\":[0,1,2,3,4,5,6,7,8,9,10,11,12,13,14,15,16,17,18,19,20,21,22,23,24,25,26,27,28,29,30,31,32,33,34,35,36,37,38,39,40,41,42,43,44,45,46,47,48,49,50,51,52,53,54,55,56,57,58,59,60,61,62,63,64,65,66,67,68,69,70,71,72,73,74,75,76,77,78,79,80,81,82,83,84,85,86,87,88,89,90,91,92,93,94,95,96,97,98,99,100,101,102,103,104,105,106,107,108,109,110,111,112,113,114,115,116,117,118,119,120,121,122,123,124,125,126,127,128,129,130,131,132,133,134,135,136,137,138,139,140,141,142,143,144,145,146,147,148,149,150,151,152,153,154,155,156,157,158,159,160,161,162,163,164,165,166,167,168,169,170,171,172,173,174,175,176,177,178,179,180,181,182,183,184,185,186,187,188,189,190,191,192,193,194,195,196,197,198,199,200,201,202,203,204,205,206,207,208,209,210,211,212,213,214,215,216,217,218,219,220,221,222,223,224,225,226,227,228,229,230,231,232,233,234,235,236,237,238,239,240,241,242,243,244,245,246,247,248,249,250,251,252,253,254,255,256,257,258,259,260,261,262,263,264,265,266,267,268,269,270,271,272,273,274,275,276,277,278,279,280,281,282,283,284,285,286,287,288,289,290,291,292,293,294,295,296,297,298,299,300,301,302,303,304,305,306,307,308,309,310,311,312,313,314,315,316,317,318,319,320,321,322,323,324,325,326,327,328,329,330,331,332,333,334,335,336,337,338,339,340,341,342,343,344,345,346,347,348,349,350,351,352,353,354,355,356,357,358,359,360,361,362,363,364,365,366,367,368,369,370,371,372,373,374,375,376,377,378,379,380,381,382,383,384,385,386,387,388,389,390,391,392,393,394,395,396,397,398,399,400,401,402,403,404,405,406,407,408,409,410,411,412,413,414,415,416,417,418,419,420,421,422,423,424,425,426,427,428,429,430,431,432,433,434,435,436,437,438,439,440,441,442,443,444,445,446,447,448,449,450,451,452,453,454,455,456,457,458,459,460,461,462,463,464,465,466,467,468,469,470,471,472,473,474,475,476,477,478,479,480,481,482,483,484,485,486,487,488,489,490,491,492,493,494,495,496,497,498,499],\"type\":[\"rabbit\",\"rabbit\",\"piglet\",\"Christopher\",\"Christopher\",\"pooh\",\"piglet\",\"pooh\",\"rabbit\",\"rabbit\",\"rabbit\",\"pooh\",\"piglet\",\"piglet\",\"rabbit\",\"rabbit\",\"pooh\",\"Christopher\",\"piglet\",\"rabbit\",\"piglet\",\"Christopher\",\"piglet\",\"Christopher\",\"rabbit\",\"piglet\",\"pooh\",\"Christopher\",\"rabbit\",\"pooh\",\"pooh\",\"rabbit\",\"Christopher\",\"piglet\",\"Christopher\",\"Christopher\",\"piglet\",\"rabbit\",\"piglet\",\"piglet\",\"rabbit\",\"Christopher\",\"rabbit\",\"Christopher\",\"rabbit\",\"rabbit\",\"pooh\",\"Christopher\",\"piglet\",\"pooh\",\"piglet\",\"pooh\",\"piglet\",\"pooh\",\"pooh\",\"Christopher\",\"Christopher\",\"Christopher\",\"Christopher\",\"piglet\",\"rabbit\",\"pooh\",\"piglet\",\"piglet\",\"Christopher\",\"rabbit\",\"Christopher\",\"piglet\",\"Christopher\",\"Christopher\",\"pooh\",\"pooh\",\"pooh\",\"rabbit\",\"Christopher\",\"pooh\",\"piglet\",\"pooh\",\"Christopher\",\"Christopher\",\"piglet\",\"pooh\",\"rabbit\",\"pooh\",\"pooh\",\"rabbit\",\"rabbit\",\"pooh\",\"pooh\",\"Christopher\",\"pooh\",\"pooh\",\"piglet\",\"Christopher\",\"pooh\",\"rabbit\",\"rabbit\",\"pooh\",\"rabbit\",\"rabbit\",\"rabbit\",\"pooh\",\"pooh\",\"piglet\",\"piglet\",\"rabbit\",\"pooh\",\"piglet\",\"rabbit\",\"Christopher\",\"Christopher\",\"piglet\",\"pooh\",\"rabbit\",\"Christopher\",\"rabbit\",\"rabbit\",\"piglet\",\"Christopher\",\"piglet\",\"pooh\",\"Christopher\",\"pooh\",\"piglet\",\"pooh\",\"Christopher\",\"Christopher\",\"Christopher\",\"pooh\",\"pooh\",\"piglet\",\"rabbit\",\"Christopher\",\"Christopher\",\"piglet\",\"pooh\",\"piglet\",\"piglet\",\"piglet\",\"rabbit\",\"rabbit\",\"Christopher\",\"rabbit\",\"Christopher\",\"Christopher\",\"piglet\",\"rabbit\",\"pooh\",\"piglet\",\"Christopher\",\"Christopher\",\"pooh\",\"Christopher\",\"Christopher\",\"piglet\",\"Christopher\",\"Christopher\",\"Christopher\",\"pooh\",\"rabbit\",\"Christopher\",\"Christopher\",\"rabbit\",\"piglet\",\"rabbit\",\"piglet\",\"rabbit\",\"piglet\",\"piglet\",\"pooh\",\"rabbit\",\"rabbit\",\"rabbit\",\"Christopher\",\"piglet\",\"rabbit\",\"Christopher\",\"piglet\",\"pooh\",\"rabbit\",\"pooh\",\"piglet\",\"rabbit\",\"pooh\",\"Christopher\",\"pooh\",\"pooh\",\"Christopher\",\"piglet\",\"Christopher\",\"pooh\",\"Christopher\",\"pooh\",\"Christopher\",\"piglet\",\"Christopher\",\"piglet\",\"Christopher\",\"rabbit\",\"piglet\",\"piglet\",\"Christopher\",\"piglet\",\"rabbit\",\"Christopher\",\"Christopher\",\"Christopher\",\"Christopher\",\"rabbit\",\"pooh\",\"piglet\",\"pooh\",\"rabbit\",\"piglet\",\"rabbit\",\"piglet\",\"rabbit\",\"piglet\",\"pooh\",\"piglet\",\"pooh\",\"pooh\",\"rabbit\",\"rabbit\",\"Christopher\",\"rabbit\",\"Christopher\",\"rabbit\",\"pooh\",\"rabbit\",\"Christopher\",\"pooh\",\"rabbit\",\"Christopher\",\"pooh\",\"rabbit\",\"Christopher\",\"pooh\",\"Christopher\",\"rabbit\",\"rabbit\",\"rabbit\",\"pooh\",\"pooh\",\"piglet\",\"piglet\",\"rabbit\",\"Christopher\",\"rabbit\",\"piglet\",\"piglet\",\"rabbit\",\"Christopher\",\"pooh\",\"piglet\",\"Christopher\",\"pooh\",\"Christopher\",\"piglet\",\"piglet\",\"Christopher\",\"Christopher\",\"rabbit\",\"piglet\",\"pooh\",\"rabbit\",\"Christopher\",\"Christopher\",\"pooh\",\"piglet\",\"rabbit\",\"piglet\",\"piglet\",\"pooh\",\"rabbit\",\"Christopher\",\"rabbit\",\"piglet\",\"rabbit\",\"rabbit\",\"pooh\",\"piglet\",\"piglet\",\"rabbit\",\"rabbit\",\"pooh\",\"Christopher\",\"rabbit\",\"piglet\",\"rabbit\",\"Christopher\",\"piglet\",\"rabbit\",\"pooh\",\"Christopher\",\"piglet\",\"pooh\",\"Christopher\",\"Christopher\",\"rabbit\",\"Christopher\",\"Christopher\",\"piglet\",\"pooh\",\"rabbit\",\"rabbit\",\"pooh\",\"piglet\",\"piglet\",\"piglet\",\"pooh\",\"pooh\",\"rabbit\",\"piglet\",\"piglet\",\"rabbit\",\"piglet\",\"Christopher\",\"Christopher\",\"pooh\",\"rabbit\",\"Christopher\",\"Christopher\",\"Christopher\",\"pooh\",\"Christopher\",\"Christopher\",\"Christopher\",\"Christopher\",\"pooh\",\"pooh\",\"piglet\",\"piglet\",\"piglet\",\"Christopher\",\"pooh\",\"Christopher\",\"piglet\",\"piglet\",\"Christopher\",\"pooh\",\"Christopher\",\"pooh\",\"Christopher\",\"pooh\",\"pooh\",\"piglet\",\"rabbit\",\"piglet\",\"piglet\",\"Christopher\",\"pooh\",\"Christopher\",\"pooh\",\"piglet\",\"Christopher\",\"Christopher\",\"rabbit\",\"piglet\",\"rabbit\",\"pooh\",\"Christopher\",\"rabbit\",\"rabbit\",\"piglet\",\"pooh\",\"Christopher\",\"rabbit\",\"pooh\",\"pooh\",\"pooh\",\"pooh\",\"piglet\",\"Christopher\",\"pooh\",\"piglet\",\"rabbit\",\"Christopher\",\"rabbit\",\"pooh\",\"Christopher\",\"pooh\",\"Christopher\",\"rabbit\",\"piglet\",\"pooh\",\"pooh\",\"Christopher\",\"piglet\",\"pooh\",\"Christopher\",\"piglet\",\"piglet\",\"pooh\",\"piglet\",\"Christopher\",\"piglet\",\"rabbit\",\"rabbit\",\"Christopher\",\"rabbit\",\"Christopher\",\"Christopher\",\"piglet\",\"piglet\",\"rabbit\",\"piglet\",\"rabbit\",\"rabbit\",\"rabbit\",\"Christopher\",\"pooh\",\"Christopher\",\"pooh\",\"rabbit\",\"piglet\",\"rabbit\",\"rabbit\",\"pooh\",\"pooh\",\"rabbit\",\"pooh\",\"Christopher\",\"pooh\",\"rabbit\",\"piglet\",\"pooh\",\"pooh\",\"rabbit\",\"Christopher\",\"Christopher\",\"rabbit\",\"pooh\",\"piglet\",\"Christopher\",\"piglet\",\"piglet\",\"Christopher\",\"piglet\",\"piglet\",\"piglet\",\"pooh\",\"rabbit\",\"Christopher\",\"Christopher\",\"pooh\",\"Christopher\",\"pooh\",\"Christopher\",\"pooh\",\"Christopher\",\"rabbit\",\"rabbit\",\"Christopher\",\"piglet\",\"pooh\",\"Christopher\",\"Christopher\",\"Christopher\",\"piglet\",\"pooh\",\"rabbit\",\"pooh\",\"pooh\",\"pooh\",\"pooh\",\"piglet\",\"rabbit\",\"piglet\",\"rabbit\",\"rabbit\",\"piglet\",\"rabbit\",\"rabbit\",\"pooh\",\"Christopher\",\"piglet\",\"rabbit\",\"Christopher\",\"piglet\",\"piglet\",\"rabbit\",\"Christopher\",\"pooh\",\"piglet\",\"Christopher\",\"pooh\",\"piglet\",\"rabbit\",\"pooh\",\"piglet\",\"piglet\",\"rabbit\",\"Christopher\",\"Christopher\",\"pooh\",\"pooh\",\"piglet\",\"rabbit\",\"rabbit\"]},\"selected\":{\"id\":\"1651\"},\"selection_policy\":{\"id\":\"1650\"}},\"id\":\"1561\",\"type\":\"ColumnDataSource\"},{\"attributes\":{},\"id\":\"1566\",\"type\":\"DataRange1d\"},{\"attributes\":{},\"id\":\"1650\",\"type\":\"UnionRenderers\"},{\"attributes\":{},\"id\":\"1577\",\"type\":\"BasicTicker\"},{\"attributes\":{\"fill_alpha\":{\"value\":0.1},\"fill_color\":{\"field\":\"color\"},\"line_alpha\":{\"value\":0.1},\"line_color\":{\"field\":\"color\"},\"size\":{\"units\":\"screen\",\"value\":10},\"x\":{\"field\":\"A\"},\"y\":{\"field\":\"B\"}},\"id\":\"1595\",\"type\":\"Circle\"},{\"attributes\":{},\"id\":\"1573\",\"type\":\"BasicTicker\"},{\"attributes\":{},\"id\":\"1581\",\"type\":\"ResetTool\"},{\"attributes\":{},\"id\":\"1570\",\"type\":\"LinearScale\"},{\"attributes\":{},\"id\":\"1647\",\"type\":\"BasicTickFormatter\"},{\"attributes\":{\"formatter\":{\"id\":\"1649\"},\"ticker\":{\"id\":\"1573\"}},\"id\":\"1572\",\"type\":\"LinearAxis\"},{\"attributes\":{\"axis\":{\"id\":\"1572\"},\"ticker\":null},\"id\":\"1575\",\"type\":\"Grid\"},{\"attributes\":{},\"id\":\"1568\",\"type\":\"LinearScale\"},{\"attributes\":{\"callback\":null,\"tooltips\":[[\"index\",\"$index\"],[\"(x,y)\",\"($x, $y)\"],[\"A\",\"@A\"],[\"B\",\"@B\"],[\"type\",\"@type\"],[\"color\",\"@color\"]]},\"id\":\"1562\",\"type\":\"HoverTool\"},{\"attributes\":{\"text\":\"\"},\"id\":\"1644\",\"type\":\"Title\"},{\"attributes\":{\"active_drag\":\"auto\",\"active_inspect\":\"auto\",\"active_multi\":null,\"active_scroll\":\"auto\",\"active_tap\":\"auto\",\"tools\":[{\"id\":\"1562\"},{\"id\":\"1580\"},{\"id\":\"1581\"},{\"id\":\"1582\"},{\"id\":\"1583\"},{\"id\":\"1584\"}]},\"id\":\"1586\",\"type\":\"Toolbar\"},{\"attributes\":{},\"id\":\"1651\",\"type\":\"Selection\"}],\"root_ids\":[\"1563\"]},\"title\":\"Bokeh Application\",\"version\":\"2.2.3\"}};\n",
       "  var render_items = [{\"docid\":\"435fc0a1-cbc5-49ca-a275-e8a9b7708260\",\"root_ids\":[\"1563\"],\"roots\":{\"1563\":\"34cca435-1196-4a4a-a3f8-fc94d6f4c2f7\"}}];\n",
       "  root.Bokeh.embed.embed_items_notebook(docs_json, render_items);\n",
       "\n",
       "  }\n",
       "  if (root.Bokeh !== undefined) {\n",
       "    embed_document(root);\n",
       "  } else {\n",
       "    var attempts = 0;\n",
       "    var timer = setInterval(function(root) {\n",
       "      if (root.Bokeh !== undefined) {\n",
       "        clearInterval(timer);\n",
       "        embed_document(root);\n",
       "      } else {\n",
       "        attempts++;\n",
       "        if (attempts > 100) {\n",
       "          clearInterval(timer);\n",
       "          console.log(\"Bokeh: ERROR: Unable to run BokehJS code because BokehJS library is missing\");\n",
       "        }\n",
       "      }\n",
       "    }, 10, root)\n",
       "  }\n",
       "})(window);"
      ],
      "application/vnd.bokehjs_exec.v0+json": ""
     },
     "metadata": {
      "application/vnd.bokehjs_exec.v0+json": {
       "id": "1563"
      }
     },
     "output_type": "display_data"
    },
    {
     "data": {
      "text/html": [
       "\n",
       "\n",
       "\n",
       "\n",
       "\n",
       "\n",
       "  <div class=\"bk-root\" id=\"93004eee-7d32-4d5e-92e0-7f01162687bf\" data-root-id=\"1698\"></div>\n"
      ]
     },
     "metadata": {},
     "output_type": "display_data"
    },
    {
     "data": {
      "application/javascript": [
       "(function(root) {\n",
       "  function embed_document(root) {\n",
       "    \n",
       "  var docs_json = {\"bc1cdc51-6799-4f9e-8c72-40594a21609f\":{\"roots\":{\"references\":[{\"attributes\":{\"below\":[{\"id\":\"1707\"}],\"center\":[{\"id\":\"1710\"},{\"id\":\"1714\"}],\"left\":[{\"id\":\"1711\"}],\"plot_height\":400,\"plot_width\":800,\"renderers\":[{\"id\":\"1729\"}],\"title\":{\"id\":\"1786\"},\"toolbar\":{\"id\":\"1720\"},\"toolbar_location\":\"above\",\"x_range\":{\"id\":\"1699\"},\"x_scale\":{\"id\":\"1703\"},\"y_range\":{\"id\":\"1701\"},\"y_scale\":{\"id\":\"1705\"}},\"id\":\"1698\",\"subtype\":\"Figure\",\"type\":\"Plot\"},{\"attributes\":{},\"id\":\"1716\",\"type\":\"ResetTool\"},{\"attributes\":{},\"id\":\"1717\",\"type\":\"WheelZoomTool\"},{\"attributes\":{},\"id\":\"1705\",\"type\":\"LinearScale\"},{\"attributes\":{},\"id\":\"1708\",\"type\":\"BasicTicker\"},{\"attributes\":{},\"id\":\"1703\",\"type\":\"LinearScale\"},{\"attributes\":{\"text\":\"\"},\"id\":\"1786\",\"type\":\"Title\"},{\"attributes\":{\"data_source\":{\"id\":\"1561\"},\"glyph\":{\"id\":\"1727\"},\"hover_glyph\":null,\"muted_glyph\":null,\"nonselection_glyph\":{\"id\":\"1728\"},\"selection_glyph\":null,\"view\":{\"id\":\"1730\"}},\"id\":\"1729\",\"type\":\"GlyphRenderer\"},{\"attributes\":{},\"id\":\"1718\",\"type\":\"PanTool\"},{\"attributes\":{\"data\":{\"A\":{\"__ndarray__\":\"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\",\"dtype\":\"float64\",\"order\":\"little\",\"shape\":[500]},\"B\":{\"__ndarray__\":\"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\",\"dtype\":\"float64\",\"order\":\"little\",\"shape\":[500]},\"color\":[\"blue\",\"green\",\"red\",\"red\",\"blue\",\"blue\",\"blue\",\"red\",\"yellow\",\"yellow\",\"yellow\",\"red\",\"red\",\"red\",\"red\",\"green\",\"green\",\"yellow\",\"red\",\"green\",\"blue\",\"blue\",\"red\",\"yellow\",\"green\",\"yellow\",\"green\",\"red\",\"green\",\"blue\",\"yellow\",\"red\",\"blue\",\"blue\",\"yellow\",\"yellow\",\"yellow\",\"yellow\",\"red\",\"blue\",\"green\",\"red\",\"red\",\"blue\",\"blue\",\"green\",\"green\",\"green\",\"red\",\"blue\",\"blue\",\"yellow\",\"green\",\"yellow\",\"blue\",\"blue\",\"red\",\"yellow\",\"yellow\",\"red\",\"green\",\"blue\",\"blue\",\"green\",\"yellow\",\"yellow\",\"yellow\",\"blue\",\"blue\",\"blue\",\"green\",\"blue\",\"green\",\"green\",\"blue\",\"red\",\"red\",\"red\",\"yellow\",\"yellow\",\"blue\",\"yellow\",\"yellow\",\"red\",\"red\",\"yellow\",\"green\",\"green\",\"yellow\",\"green\",\"red\",\"blue\",\"yellow\",\"red\",\"blue\",\"green\",\"blue\",\"blue\",\"green\",\"green\",\"yellow\",\"red\",\"red\",\"blue\",\"green\",\"red\",\"blue\",\"blue\",\"yellow\",\"red\",\"red\",\"green\",\"green\",\"red\",\"yellow\",\"yellow\",\"green\",\"green\",\"blue\",\"green\",\"yellow\",\"yellow\",\"red\",\"blue\",\"blue\",\"yellow\",\"yellow\",\"yellow\",\"yellow\",\"yellow\",\"blue\",\"green\",\"red\",\"yellow\",\"green\",\"red\",\"yellow\",\"blue\",\"blue\",\"red\",\"yellow\",\"green\",\"green\",\"blue\",\"red\",\"green\",\"red\",\"yellow\",\"yellow\",\"yellow\",\"red\",\"red\",\"green\",\"yellow\",\"green\",\"blue\",\"blue\",\"blue\",\"green\",\"red\",\"yellow\",\"yellow\",\"red\",\"green\",\"blue\",\"red\",\"blue\",\"red\",\"yellow\",\"red\",\"green\",\"red\",\"blue\",\"green\",\"red\",\"red\",\"red\",\"green\",\"red\",\"blue\",\"blue\",\"yellow\",\"yellow\",\"green\",\"blue\",\"blue\",\"green\",\"red\",\"red\",\"yellow\",\"yellow\",\"yellow\",\"red\",\"yellow\",\"red\",\"yellow\",\"yellow\",\"blue\",\"green\",\"red\",\"yellow\",\"green\",\"yellow\",\"blue\",\"blue\",\"yellow\",\"blue\",\"green\",\"red\",\"blue\",\"red\",\"yellow\",\"yellow\",\"green\",\"red\",\"yellow\",\"red\",\"green\",\"green\",\"blue\",\"red\",\"red\",\"yellow\",\"red\",\"blue\",\"red\",\"green\",\"red\",\"yellow\",\"red\",\"blue\",\"blue\",\"blue\",\"red\",\"yellow\",\"green\",\"blue\",\"yellow\",\"red\",\"red\",\"blue\",\"red\",\"green\",\"blue\",\"yellow\",\"blue\",\"red\",\"yellow\",\"red\",\"yellow\",\"green\",\"green\",\"green\",\"red\",\"yellow\",\"blue\",\"red\",\"blue\",\"blue\",\"blue\",\"green\",\"yellow\",\"yellow\",\"yellow\",\"blue\",\"red\",\"yellow\",\"blue\",\"blue\",\"green\",\"yellow\",\"red\",\"green\",\"green\",\"red\",\"blue\",\"blue\",\"blue\",\"blue\",\"green\",\"green\",\"red\",\"green\",\"blue\",\"red\",\"blue\",\"green\",\"green\",\"green\",\"green\",\"yellow\",\"red\",\"yellow\",\"yellow\",\"green\",\"yellow\",\"yellow\",\"yellow\",\"blue\",\"yellow\",\"blue\",\"blue\",\"green\",\"blue\",\"green\",\"green\",\"blue\",\"yellow\",\"red\",\"blue\",\"blue\",\"blue\",\"blue\",\"red\",\"red\",\"blue\",\"green\",\"yellow\",\"yellow\",\"red\",\"blue\",\"green\",\"red\",\"green\",\"yellow\",\"blue\",\"blue\",\"yellow\",\"green\",\"green\",\"green\",\"red\",\"red\",\"yellow\",\"yellow\",\"blue\",\"yellow\",\"blue\",\"red\",\"red\",\"blue\",\"green\",\"yellow\",\"blue\",\"red\",\"yellow\",\"yellow\",\"yellow\",\"blue\",\"red\",\"blue\",\"yellow\",\"yellow\",\"blue\",\"red\",\"yellow\",\"green\",\"yellow\",\"blue\",\"green\",\"green\",\"yellow\",\"green\",\"red\",\"red\",\"yellow\",\"green\",\"blue\",\"yellow\",\"blue\",\"yellow\",\"blue\",\"green\",\"yellow\",\"red\",\"blue\",\"red\",\"yellow\",\"green\",\"blue\",\"yellow\",\"blue\",\"yellow\",\"yellow\",\"red\",\"red\",\"green\",\"red\",\"red\",\"green\",\"blue\",\"red\",\"yellow\",\"green\",\"blue\",\"blue\",\"red\",\"yellow\",\"blue\",\"yellow\",\"yellow\",\"blue\",\"green\",\"yellow\",\"green\",\"blue\",\"blue\",\"green\",\"blue\",\"blue\",\"blue\",\"red\",\"yellow\",\"blue\",\"green\",\"yellow\",\"green\",\"red\",\"yellow\",\"red\",\"yellow\",\"yellow\",\"green\",\"green\",\"blue\",\"red\",\"yellow\",\"blue\",\"yellow\",\"red\",\"green\",\"red\",\"blue\",\"green\",\"blue\",\"green\",\"yellow\",\"yellow\",\"green\",\"green\",\"red\",\"blue\",\"yellow\",\"blue\",\"yellow\",\"red\",\"red\",\"green\",\"green\",\"blue\",\"yellow\",\"blue\",\"red\",\"green\",\"yellow\",\"green\",\"red\",\"blue\",\"yellow\",\"yellow\",\"green\",\"green\",\"blue\",\"green\",\"red\",\"blue\",\"red\",\"green\",\"green\",\"green\",\"green\",\"green\",\"green\",\"green\",\"red\",\"yellow\",\"blue\",\"green\",\"blue\",\"blue\",\"blue\",\"green\",\"green\",\"blue\",\"yellow\",\"yellow\",\"red\",\"blue\",\"green\",\"yellow\",\"green\",\"blue\",\"green\",\"yellow\",\"yellow\",\"yellow\",\"yellow\",\"red\",\"green\",\"green\"],\"index\":[0,1,2,3,4,5,6,7,8,9,10,11,12,13,14,15,16,17,18,19,20,21,22,23,24,25,26,27,28,29,30,31,32,33,34,35,36,37,38,39,40,41,42,43,44,45,46,47,48,49,50,51,52,53,54,55,56,57,58,59,60,61,62,63,64,65,66,67,68,69,70,71,72,73,74,75,76,77,78,79,80,81,82,83,84,85,86,87,88,89,90,91,92,93,94,95,96,97,98,99,100,101,102,103,104,105,106,107,108,109,110,111,112,113,114,115,116,117,118,119,120,121,122,123,124,125,126,127,128,129,130,131,132,133,134,135,136,137,138,139,140,141,142,143,144,145,146,147,148,149,150,151,152,153,154,155,156,157,158,159,160,161,162,163,164,165,166,167,168,169,170,171,172,173,174,175,176,177,178,179,180,181,182,183,184,185,186,187,188,189,190,191,192,193,194,195,196,197,198,199,200,201,202,203,204,205,206,207,208,209,210,211,212,213,214,215,216,217,218,219,220,221,222,223,224,225,226,227,228,229,230,231,232,233,234,235,236,237,238,239,240,241,242,243,244,245,246,247,248,249,250,251,252,253,254,255,256,257,258,259,260,261,262,263,264,265,266,267,268,269,270,271,272,273,274,275,276,277,278,279,280,281,282,283,284,285,286,287,288,289,290,291,292,293,294,295,296,297,298,299,300,301,302,303,304,305,306,307,308,309,310,311,312,313,314,315,316,317,318,319,320,321,322,323,324,325,326,327,328,329,330,331,332,333,334,335,336,337,338,339,340,341,342,343,344,345,346,347,348,349,350,351,352,353,354,355,356,357,358,359,360,361,362,363,364,365,366,367,368,369,370,371,372,373,374,375,376,377,378,379,380,381,382,383,384,385,386,387,388,389,390,391,392,393,394,395,396,397,398,399,400,401,402,403,404,405,406,407,408,409,410,411,412,413,414,415,416,417,418,419,420,421,422,423,424,425,426,427,428,429,430,431,432,433,434,435,436,437,438,439,440,441,442,443,444,445,446,447,448,449,450,451,452,453,454,455,456,457,458,459,460,461,462,463,464,465,466,467,468,469,470,471,472,473,474,475,476,477,478,479,480,481,482,483,484,485,486,487,488,489,490,491,492,493,494,495,496,497,498,499],\"type\":[\"rabbit\",\"rabbit\",\"piglet\",\"Christopher\",\"Christopher\",\"pooh\",\"piglet\",\"pooh\",\"rabbit\",\"rabbit\",\"rabbit\",\"pooh\",\"piglet\",\"piglet\",\"rabbit\",\"rabbit\",\"pooh\",\"Christopher\",\"piglet\",\"rabbit\",\"piglet\",\"Christopher\",\"piglet\",\"Christopher\",\"rabbit\",\"piglet\",\"pooh\",\"Christopher\",\"rabbit\",\"pooh\",\"pooh\",\"rabbit\",\"Christopher\",\"piglet\",\"Christopher\",\"Christopher\",\"piglet\",\"rabbit\",\"piglet\",\"piglet\",\"rabbit\",\"Christopher\",\"rabbit\",\"Christopher\",\"rabbit\",\"rabbit\",\"pooh\",\"Christopher\",\"piglet\",\"pooh\",\"piglet\",\"pooh\",\"piglet\",\"pooh\",\"pooh\",\"Christopher\",\"Christopher\",\"Christopher\",\"Christopher\",\"piglet\",\"rabbit\",\"pooh\",\"piglet\",\"piglet\",\"Christopher\",\"rabbit\",\"Christopher\",\"piglet\",\"Christopher\",\"Christopher\",\"pooh\",\"pooh\",\"pooh\",\"rabbit\",\"Christopher\",\"pooh\",\"piglet\",\"pooh\",\"Christopher\",\"Christopher\",\"piglet\",\"pooh\",\"rabbit\",\"pooh\",\"pooh\",\"rabbit\",\"rabbit\",\"pooh\",\"pooh\",\"Christopher\",\"pooh\",\"pooh\",\"piglet\",\"Christopher\",\"pooh\",\"rabbit\",\"rabbit\",\"pooh\",\"rabbit\",\"rabbit\",\"rabbit\",\"pooh\",\"pooh\",\"piglet\",\"piglet\",\"rabbit\",\"pooh\",\"piglet\",\"rabbit\",\"Christopher\",\"Christopher\",\"piglet\",\"pooh\",\"rabbit\",\"Christopher\",\"rabbit\",\"rabbit\",\"piglet\",\"Christopher\",\"piglet\",\"pooh\",\"Christopher\",\"pooh\",\"piglet\",\"pooh\",\"Christopher\",\"Christopher\",\"Christopher\",\"pooh\",\"pooh\",\"piglet\",\"rabbit\",\"Christopher\",\"Christopher\",\"piglet\",\"pooh\",\"piglet\",\"piglet\",\"piglet\",\"rabbit\",\"rabbit\",\"Christopher\",\"rabbit\",\"Christopher\",\"Christopher\",\"piglet\",\"rabbit\",\"pooh\",\"piglet\",\"Christopher\",\"Christopher\",\"pooh\",\"Christopher\",\"Christopher\",\"piglet\",\"Christopher\",\"Christopher\",\"Christopher\",\"pooh\",\"rabbit\",\"Christopher\",\"Christopher\",\"rabbit\",\"piglet\",\"rabbit\",\"piglet\",\"rabbit\",\"piglet\",\"piglet\",\"pooh\",\"rabbit\",\"rabbit\",\"rabbit\",\"Christopher\",\"piglet\",\"rabbit\",\"Christopher\",\"piglet\",\"pooh\",\"rabbit\",\"pooh\",\"piglet\",\"rabbit\",\"pooh\",\"Christopher\",\"pooh\",\"pooh\",\"Christopher\",\"piglet\",\"Christopher\",\"pooh\",\"Christopher\",\"pooh\",\"Christopher\",\"piglet\",\"Christopher\",\"piglet\",\"Christopher\",\"rabbit\",\"piglet\",\"piglet\",\"Christopher\",\"piglet\",\"rabbit\",\"Christopher\",\"Christopher\",\"Christopher\",\"Christopher\",\"rabbit\",\"pooh\",\"piglet\",\"pooh\",\"rabbit\",\"piglet\",\"rabbit\",\"piglet\",\"rabbit\",\"piglet\",\"pooh\",\"piglet\",\"pooh\",\"pooh\",\"rabbit\",\"rabbit\",\"Christopher\",\"rabbit\",\"Christopher\",\"rabbit\",\"pooh\",\"rabbit\",\"Christopher\",\"pooh\",\"rabbit\",\"Christopher\",\"pooh\",\"rabbit\",\"Christopher\",\"pooh\",\"Christopher\",\"rabbit\",\"rabbit\",\"rabbit\",\"pooh\",\"pooh\",\"piglet\",\"piglet\",\"rabbit\",\"Christopher\",\"rabbit\",\"piglet\",\"piglet\",\"rabbit\",\"Christopher\",\"pooh\",\"piglet\",\"Christopher\",\"pooh\",\"Christopher\",\"piglet\",\"piglet\",\"Christopher\",\"Christopher\",\"rabbit\",\"piglet\",\"pooh\",\"rabbit\",\"Christopher\",\"Christopher\",\"pooh\",\"piglet\",\"rabbit\",\"piglet\",\"piglet\",\"pooh\",\"rabbit\",\"Christopher\",\"rabbit\",\"piglet\",\"rabbit\",\"rabbit\",\"pooh\",\"piglet\",\"piglet\",\"rabbit\",\"rabbit\",\"pooh\",\"Christopher\",\"rabbit\",\"piglet\",\"rabbit\",\"Christopher\",\"piglet\",\"rabbit\",\"pooh\",\"Christopher\",\"piglet\",\"pooh\",\"Christopher\",\"Christopher\",\"rabbit\",\"Christopher\",\"Christopher\",\"piglet\",\"pooh\",\"rabbit\",\"rabbit\",\"pooh\",\"piglet\",\"piglet\",\"piglet\",\"pooh\",\"pooh\",\"rabbit\",\"piglet\",\"piglet\",\"rabbit\",\"piglet\",\"Christopher\",\"Christopher\",\"pooh\",\"rabbit\",\"Christopher\",\"Christopher\",\"Christopher\",\"pooh\",\"Christopher\",\"Christopher\",\"Christopher\",\"Christopher\",\"pooh\",\"pooh\",\"piglet\",\"piglet\",\"piglet\",\"Christopher\",\"pooh\",\"Christopher\",\"piglet\",\"piglet\",\"Christopher\",\"pooh\",\"Christopher\",\"pooh\",\"Christopher\",\"pooh\",\"pooh\",\"piglet\",\"rabbit\",\"piglet\",\"piglet\",\"Christopher\",\"pooh\",\"Christopher\",\"pooh\",\"piglet\",\"Christopher\",\"Christopher\",\"rabbit\",\"piglet\",\"rabbit\",\"pooh\",\"Christopher\",\"rabbit\",\"rabbit\",\"piglet\",\"pooh\",\"Christopher\",\"rabbit\",\"pooh\",\"pooh\",\"pooh\",\"pooh\",\"piglet\",\"Christopher\",\"pooh\",\"piglet\",\"rabbit\",\"Christopher\",\"rabbit\",\"pooh\",\"Christopher\",\"pooh\",\"Christopher\",\"rabbit\",\"piglet\",\"pooh\",\"pooh\",\"Christopher\",\"piglet\",\"pooh\",\"Christopher\",\"piglet\",\"piglet\",\"pooh\",\"piglet\",\"Christopher\",\"piglet\",\"rabbit\",\"rabbit\",\"Christopher\",\"rabbit\",\"Christopher\",\"Christopher\",\"piglet\",\"piglet\",\"rabbit\",\"piglet\",\"rabbit\",\"rabbit\",\"rabbit\",\"Christopher\",\"pooh\",\"Christopher\",\"pooh\",\"rabbit\",\"piglet\",\"rabbit\",\"rabbit\",\"pooh\",\"pooh\",\"rabbit\",\"pooh\",\"Christopher\",\"pooh\",\"rabbit\",\"piglet\",\"pooh\",\"pooh\",\"rabbit\",\"Christopher\",\"Christopher\",\"rabbit\",\"pooh\",\"piglet\",\"Christopher\",\"piglet\",\"piglet\",\"Christopher\",\"piglet\",\"piglet\",\"piglet\",\"pooh\",\"rabbit\",\"Christopher\",\"Christopher\",\"pooh\",\"Christopher\",\"pooh\",\"Christopher\",\"pooh\",\"Christopher\",\"rabbit\",\"rabbit\",\"Christopher\",\"piglet\",\"pooh\",\"Christopher\",\"Christopher\",\"Christopher\",\"piglet\",\"pooh\",\"rabbit\",\"pooh\",\"pooh\",\"pooh\",\"pooh\",\"piglet\",\"rabbit\",\"piglet\",\"rabbit\",\"rabbit\",\"piglet\",\"rabbit\",\"rabbit\",\"pooh\",\"Christopher\",\"piglet\",\"rabbit\",\"Christopher\",\"piglet\",\"piglet\",\"rabbit\",\"Christopher\",\"pooh\",\"piglet\",\"Christopher\",\"pooh\",\"piglet\",\"rabbit\",\"pooh\",\"piglet\",\"piglet\",\"rabbit\",\"Christopher\",\"Christopher\",\"pooh\",\"pooh\",\"piglet\",\"rabbit\",\"rabbit\"]},\"selected\":{\"id\":\"1651\"},\"selection_policy\":{\"id\":\"1650\"}},\"id\":\"1561\",\"type\":\"ColumnDataSource\"},{\"attributes\":{},\"id\":\"1650\",\"type\":\"UnionRenderers\"},{\"attributes\":{\"formatter\":{\"id\":\"1791\"},\"ticker\":{\"id\":\"1708\"}},\"id\":\"1707\",\"type\":\"LinearAxis\"},{\"attributes\":{},\"id\":\"1789\",\"type\":\"BasicTickFormatter\"},{\"attributes\":{\"active_drag\":\"auto\",\"active_inspect\":\"auto\",\"active_multi\":null,\"active_scroll\":\"auto\",\"active_tap\":\"auto\",\"tools\":[{\"id\":\"1562\"},{\"id\":\"1715\"},{\"id\":\"1716\"},{\"id\":\"1717\"},{\"id\":\"1718\"}]},\"id\":\"1720\",\"type\":\"Toolbar\"},{\"attributes\":{},\"id\":\"1699\",\"type\":\"DataRange1d\"},{\"attributes\":{},\"id\":\"1712\",\"type\":\"BasicTicker\"},{\"attributes\":{\"fill_color\":{\"value\":\"#1f77b4\"},\"line_color\":{\"value\":\"#1f77b4\"},\"top\":{\"field\":\"A\"},\"width\":{\"value\":1},\"x\":{\"field\":\"index\"}},\"id\":\"1727\",\"type\":\"VBar\"},{\"attributes\":{\"axis\":{\"id\":\"1707\"},\"ticker\":null},\"id\":\"1710\",\"type\":\"Grid\"},{\"attributes\":{\"fill_alpha\":{\"value\":0.1},\"fill_color\":{\"value\":\"#1f77b4\"},\"line_alpha\":{\"value\":0.1},\"line_color\":{\"value\":\"#1f77b4\"},\"top\":{\"field\":\"A\"},\"width\":{\"value\":1},\"x\":{\"field\":\"index\"}},\"id\":\"1728\",\"type\":\"VBar\"},{\"attributes\":{\"formatter\":{\"id\":\"1789\"},\"ticker\":{\"id\":\"1712\"}},\"id\":\"1711\",\"type\":\"LinearAxis\"},{\"attributes\":{\"bottom_units\":\"screen\",\"fill_alpha\":0.5,\"fill_color\":\"lightgrey\",\"left_units\":\"screen\",\"level\":\"overlay\",\"line_alpha\":1.0,\"line_color\":\"black\",\"line_dash\":[4,4],\"line_width\":2,\"right_units\":\"screen\",\"top_units\":\"screen\"},\"id\":\"1719\",\"type\":\"BoxAnnotation\"},{\"attributes\":{},\"id\":\"1791\",\"type\":\"BasicTickFormatter\"},{\"attributes\":{},\"id\":\"1651\",\"type\":\"Selection\"},{\"attributes\":{\"source\":{\"id\":\"1561\"}},\"id\":\"1730\",\"type\":\"CDSView\"},{\"attributes\":{\"callback\":null,\"tooltips\":[[\"index\",\"$index\"],[\"(x,y)\",\"($x, $y)\"],[\"A\",\"@A\"],[\"B\",\"@B\"],[\"type\",\"@type\"],[\"color\",\"@color\"]]},\"id\":\"1562\",\"type\":\"HoverTool\"},{\"attributes\":{},\"id\":\"1701\",\"type\":\"DataRange1d\"},{\"attributes\":{\"overlay\":{\"id\":\"1719\"}},\"id\":\"1715\",\"type\":\"BoxSelectTool\"},{\"attributes\":{\"axis\":{\"id\":\"1711\"},\"dimension\":1,\"ticker\":null},\"id\":\"1714\",\"type\":\"Grid\"}],\"root_ids\":[\"1698\"]},\"title\":\"Bokeh Application\",\"version\":\"2.2.3\"}};\n",
       "  var render_items = [{\"docid\":\"bc1cdc51-6799-4f9e-8c72-40594a21609f\",\"root_ids\":[\"1698\"],\"roots\":{\"1698\":\"93004eee-7d32-4d5e-92e0-7f01162687bf\"}}];\n",
       "  root.Bokeh.embed.embed_items_notebook(docs_json, render_items);\n",
       "\n",
       "  }\n",
       "  if (root.Bokeh !== undefined) {\n",
       "    embed_document(root);\n",
       "  } else {\n",
       "    var attempts = 0;\n",
       "    var timer = setInterval(function(root) {\n",
       "      if (root.Bokeh !== undefined) {\n",
       "        clearInterval(timer);\n",
       "        embed_document(root);\n",
       "      } else {\n",
       "        attempts++;\n",
       "        if (attempts > 100) {\n",
       "          clearInterval(timer);\n",
       "          console.log(\"Bokeh: ERROR: Unable to run BokehJS code because BokehJS library is missing\");\n",
       "        }\n",
       "      }\n",
       "    }, 10, root)\n",
       "  }\n",
       "})(window);"
      ],
      "application/vnd.bokehjs_exec.v0+json": ""
     },
     "metadata": {
      "application/vnd.bokehjs_exec.v0+json": {
       "id": "1698"
      }
     },
     "output_type": "display_data"
    },
    {
     "name": "stdout",
     "output_type": "stream",
     "text": [
      "HoverTool(id='1562', ...)\n"
     ]
    }
   ],
   "source": [
    "# 工具栏 tools\n",
    "# （4）提示框、十字线\n",
    "\n",
    "from bokeh.models import HoverTool\n",
    "# 用于设置显示标签内容\n",
    "\n",
    "df = pd.DataFrame({'A':np.random.randn(500)*100,\n",
    "                  'B':np.random.randn(500)*100,\n",
    "                  'type':np.random.choice(['pooh', 'rabbit', 'piglet', 'Christopher'],500),\n",
    "                  'color':np.random.choice(['red', 'yellow', 'blue', 'green'],500)})\n",
    "df.index.name = 'index'\n",
    "source = ColumnDataSource(df)\n",
    "print(df.head())\n",
    "# 创建数据 → 包含四个标签\n",
    "\n",
    "hover = HoverTool(tooltips=[\n",
    "                            (\"index\", \"$index\"),\n",
    "                            (\"(x,y)\", \"($x, $y)\"),\n",
    "                            (\"A\", \"@A\"),\n",
    "                            (\"B\", \"@B\"),\n",
    "                            (\"type\", \"@type\"),\n",
    "                            (\"color\", \"@color\"),\n",
    "                        ])\n",
    "# 设置标签显示内容\n",
    "# $index：自动计算 → 数据index\n",
    "# $x：自动计算 → 数据x值\n",
    "# $y：自动计算 → 数据y值\n",
    "# @A：显示ColumnDataSource中对应字段值\n",
    "\n",
    "p1 = figure(plot_width=800, plot_height=400,toolbar_location=\"above\",\n",
    "            tools=[hover,'box_select,reset,wheel_zoom,pan,crosshair'])   # 注意这里书写方式\n",
    "# 如果不设置标签，就只写hover，例如 tools='hover,box_select,reset,wheel_zoom,pan,crosshair'\n",
    "p1.circle(x = 'A',y = 'B',source = source,size = 10,alpha = 0.3, color = 'color')\n",
    "show(p1)\n",
    "\n",
    "p2 = figure(plot_width=800, plot_height=400,toolbar_location=\"above\",\n",
    "           tools=[hover,'box_select,reset,wheel_zoom,pan'])\n",
    "p2.vbar(x = 'index', width=1, top='A',source = source)\n",
    "show(p2)\n",
    "print(hover)"
   ]
  },
  {
   "cell_type": "code",
   "execution_count": null,
   "metadata": {},
   "outputs": [],
   "source": []
  }
 ],
 "metadata": {
  "anaconda-cloud": {},
  "kernelspec": {
   "display_name": "Python 3",
   "language": "python",
   "name": "python3"
  },
  "language_info": {
   "codemirror_mode": {
    "name": "ipython",
    "version": 3
   },
   "file_extension": ".py",
   "mimetype": "text/x-python",
   "name": "python",
   "nbconvert_exporter": "python",
   "pygments_lexer": "ipython3",
   "version": "3.8.5"
  }
 },
 "nbformat": 4,
 "nbformat_minor": 4
}
