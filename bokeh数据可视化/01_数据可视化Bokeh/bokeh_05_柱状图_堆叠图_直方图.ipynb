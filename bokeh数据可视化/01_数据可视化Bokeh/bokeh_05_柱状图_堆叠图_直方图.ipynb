{
 "cells": [
  {
   "cell_type": "code",
   "execution_count": null,
   "metadata": {
    "collapsed": true,
    "jupyter": {
     "outputs_hidden": true
    }
   },
   "outputs": [],
   "source": [
    "'''\n",
    "【课程5.6】  柱状图/堆叠图/直方图\n",
    "\n",
    "① 单系列柱状图\n",
    "② 多系列柱状图\n",
    "③ 堆叠图\n",
    "④ 直方图\n",
    "\n",
    "'''"
   ]
  },
  {
   "cell_type": "code",
   "execution_count": 1,
   "metadata": {
    "collapsed": false,
    "jupyter": {
     "outputs_hidden": false
    }
   },
   "outputs": [
    {
     "data": {
      "text/html": [
       "\n",
       "    <div class=\"bk-root\">\n",
       "        <a href=\"https://bokeh.org\" target=\"_blank\" class=\"bk-logo bk-logo-small bk-logo-notebook\"></a>\n",
       "        <span id=\"1001\">Loading BokehJS ...</span>\n",
       "    </div>"
      ]
     },
     "metadata": {},
     "output_type": "display_data"
    },
    {
     "data": {
      "application/javascript": [
       "\n",
       "(function(root) {\n",
       "  function now() {\n",
       "    return new Date();\n",
       "  }\n",
       "\n",
       "  var force = true;\n",
       "\n",
       "  if (typeof root._bokeh_onload_callbacks === \"undefined\" || force === true) {\n",
       "    root._bokeh_onload_callbacks = [];\n",
       "    root._bokeh_is_loading = undefined;\n",
       "  }\n",
       "\n",
       "  var JS_MIME_TYPE = 'application/javascript';\n",
       "  var HTML_MIME_TYPE = 'text/html';\n",
       "  var EXEC_MIME_TYPE = 'application/vnd.bokehjs_exec.v0+json';\n",
       "  var CLASS_NAME = 'output_bokeh rendered_html';\n",
       "\n",
       "  /**\n",
       "   * Render data to the DOM node\n",
       "   */\n",
       "  function render(props, node) {\n",
       "    var script = document.createElement(\"script\");\n",
       "    node.appendChild(script);\n",
       "  }\n",
       "\n",
       "  /**\n",
       "   * Handle when an output is cleared or removed\n",
       "   */\n",
       "  function handleClearOutput(event, handle) {\n",
       "    var cell = handle.cell;\n",
       "\n",
       "    var id = cell.output_area._bokeh_element_id;\n",
       "    var server_id = cell.output_area._bokeh_server_id;\n",
       "    // Clean up Bokeh references\n",
       "    if (id != null && id in Bokeh.index) {\n",
       "      Bokeh.index[id].model.document.clear();\n",
       "      delete Bokeh.index[id];\n",
       "    }\n",
       "\n",
       "    if (server_id !== undefined) {\n",
       "      // Clean up Bokeh references\n",
       "      var cmd = \"from bokeh.io.state import curstate; print(curstate().uuid_to_server['\" + server_id + \"'].get_sessions()[0].document.roots[0]._id)\";\n",
       "      cell.notebook.kernel.execute(cmd, {\n",
       "        iopub: {\n",
       "          output: function(msg) {\n",
       "            var id = msg.content.text.trim();\n",
       "            if (id in Bokeh.index) {\n",
       "              Bokeh.index[id].model.document.clear();\n",
       "              delete Bokeh.index[id];\n",
       "            }\n",
       "          }\n",
       "        }\n",
       "      });\n",
       "      // Destroy server and session\n",
       "      var cmd = \"import bokeh.io.notebook as ion; ion.destroy_server('\" + server_id + \"')\";\n",
       "      cell.notebook.kernel.execute(cmd);\n",
       "    }\n",
       "  }\n",
       "\n",
       "  /**\n",
       "   * Handle when a new output is added\n",
       "   */\n",
       "  function handleAddOutput(event, handle) {\n",
       "    var output_area = handle.output_area;\n",
       "    var output = handle.output;\n",
       "\n",
       "    // limit handleAddOutput to display_data with EXEC_MIME_TYPE content only\n",
       "    if ((output.output_type != \"display_data\") || (!output.data.hasOwnProperty(EXEC_MIME_TYPE))) {\n",
       "      return\n",
       "    }\n",
       "\n",
       "    var toinsert = output_area.element.find(\".\" + CLASS_NAME.split(' ')[0]);\n",
       "\n",
       "    if (output.metadata[EXEC_MIME_TYPE][\"id\"] !== undefined) {\n",
       "      toinsert[toinsert.length - 1].firstChild.textContent = output.data[JS_MIME_TYPE];\n",
       "      // store reference to embed id on output_area\n",
       "      output_area._bokeh_element_id = output.metadata[EXEC_MIME_TYPE][\"id\"];\n",
       "    }\n",
       "    if (output.metadata[EXEC_MIME_TYPE][\"server_id\"] !== undefined) {\n",
       "      var bk_div = document.createElement(\"div\");\n",
       "      bk_div.innerHTML = output.data[HTML_MIME_TYPE];\n",
       "      var script_attrs = bk_div.children[0].attributes;\n",
       "      for (var i = 0; i < script_attrs.length; i++) {\n",
       "        toinsert[toinsert.length - 1].firstChild.setAttribute(script_attrs[i].name, script_attrs[i].value);\n",
       "        toinsert[toinsert.length - 1].firstChild.textContent = bk_div.children[0].textContent\n",
       "      }\n",
       "      // store reference to server id on output_area\n",
       "      output_area._bokeh_server_id = output.metadata[EXEC_MIME_TYPE][\"server_id\"];\n",
       "    }\n",
       "  }\n",
       "\n",
       "  function register_renderer(events, OutputArea) {\n",
       "\n",
       "    function append_mime(data, metadata, element) {\n",
       "      // create a DOM node to render to\n",
       "      var toinsert = this.create_output_subarea(\n",
       "        metadata,\n",
       "        CLASS_NAME,\n",
       "        EXEC_MIME_TYPE\n",
       "      );\n",
       "      this.keyboard_manager.register_events(toinsert);\n",
       "      // Render to node\n",
       "      var props = {data: data, metadata: metadata[EXEC_MIME_TYPE]};\n",
       "      render(props, toinsert[toinsert.length - 1]);\n",
       "      element.append(toinsert);\n",
       "      return toinsert\n",
       "    }\n",
       "\n",
       "    /* Handle when an output is cleared or removed */\n",
       "    events.on('clear_output.CodeCell', handleClearOutput);\n",
       "    events.on('delete.Cell', handleClearOutput);\n",
       "\n",
       "    /* Handle when a new output is added */\n",
       "    events.on('output_added.OutputArea', handleAddOutput);\n",
       "\n",
       "    /**\n",
       "     * Register the mime type and append_mime function with output_area\n",
       "     */\n",
       "    OutputArea.prototype.register_mime_type(EXEC_MIME_TYPE, append_mime, {\n",
       "      /* Is output safe? */\n",
       "      safe: true,\n",
       "      /* Index of renderer in `output_area.display_order` */\n",
       "      index: 0\n",
       "    });\n",
       "  }\n",
       "\n",
       "  // register the mime type if in Jupyter Notebook environment and previously unregistered\n",
       "  if (root.Jupyter !== undefined) {\n",
       "    var events = require('base/js/events');\n",
       "    var OutputArea = require('notebook/js/outputarea').OutputArea;\n",
       "\n",
       "    if (OutputArea.prototype.mime_types().indexOf(EXEC_MIME_TYPE) == -1) {\n",
       "      register_renderer(events, OutputArea);\n",
       "    }\n",
       "  }\n",
       "\n",
       "  \n",
       "  if (typeof (root._bokeh_timeout) === \"undefined\" || force === true) {\n",
       "    root._bokeh_timeout = Date.now() + 5000;\n",
       "    root._bokeh_failed_load = false;\n",
       "  }\n",
       "\n",
       "  var NB_LOAD_WARNING = {'data': {'text/html':\n",
       "     \"<div style='background-color: #fdd'>\\n\"+\n",
       "     \"<p>\\n\"+\n",
       "     \"BokehJS does not appear to have successfully loaded. If loading BokehJS from CDN, this \\n\"+\n",
       "     \"may be due to a slow or bad network connection. Possible fixes:\\n\"+\n",
       "     \"</p>\\n\"+\n",
       "     \"<ul>\\n\"+\n",
       "     \"<li>re-rerun `output_notebook()` to attempt to load from CDN again, or</li>\\n\"+\n",
       "     \"<li>use INLINE resources instead, as so:</li>\\n\"+\n",
       "     \"</ul>\\n\"+\n",
       "     \"<code>\\n\"+\n",
       "     \"from bokeh.resources import INLINE\\n\"+\n",
       "     \"output_notebook(resources=INLINE)\\n\"+\n",
       "     \"</code>\\n\"+\n",
       "     \"</div>\"}};\n",
       "\n",
       "  function display_loaded() {\n",
       "    var el = document.getElementById(\"1001\");\n",
       "    if (el != null) {\n",
       "      el.textContent = \"BokehJS is loading...\";\n",
       "    }\n",
       "    if (root.Bokeh !== undefined) {\n",
       "      if (el != null) {\n",
       "        el.textContent = \"BokehJS \" + root.Bokeh.version + \" successfully loaded.\";\n",
       "      }\n",
       "    } else if (Date.now() < root._bokeh_timeout) {\n",
       "      setTimeout(display_loaded, 100)\n",
       "    }\n",
       "  }\n",
       "\n",
       "\n",
       "  function run_callbacks() {\n",
       "    try {\n",
       "      root._bokeh_onload_callbacks.forEach(function(callback) {\n",
       "        if (callback != null)\n",
       "          callback();\n",
       "      });\n",
       "    } finally {\n",
       "      delete root._bokeh_onload_callbacks\n",
       "    }\n",
       "    console.debug(\"Bokeh: all callbacks have finished\");\n",
       "  }\n",
       "\n",
       "  function load_libs(css_urls, js_urls, callback) {\n",
       "    if (css_urls == null) css_urls = [];\n",
       "    if (js_urls == null) js_urls = [];\n",
       "\n",
       "    root._bokeh_onload_callbacks.push(callback);\n",
       "    if (root._bokeh_is_loading > 0) {\n",
       "      console.debug(\"Bokeh: BokehJS is being loaded, scheduling callback at\", now());\n",
       "      return null;\n",
       "    }\n",
       "    if (js_urls == null || js_urls.length === 0) {\n",
       "      run_callbacks();\n",
       "      return null;\n",
       "    }\n",
       "    console.debug(\"Bokeh: BokehJS not loaded, scheduling load and callback at\", now());\n",
       "    root._bokeh_is_loading = css_urls.length + js_urls.length;\n",
       "\n",
       "    function on_load() {\n",
       "      root._bokeh_is_loading--;\n",
       "      if (root._bokeh_is_loading === 0) {\n",
       "        console.debug(\"Bokeh: all BokehJS libraries/stylesheets loaded\");\n",
       "        run_callbacks()\n",
       "      }\n",
       "    }\n",
       "\n",
       "    function on_error() {\n",
       "      console.error(\"failed to load \" + url);\n",
       "    }\n",
       "\n",
       "    for (var i = 0; i < css_urls.length; i++) {\n",
       "      var url = css_urls[i];\n",
       "      const element = document.createElement(\"link\");\n",
       "      element.onload = on_load;\n",
       "      element.onerror = on_error;\n",
       "      element.rel = \"stylesheet\";\n",
       "      element.type = \"text/css\";\n",
       "      element.href = url;\n",
       "      console.debug(\"Bokeh: injecting link tag for BokehJS stylesheet: \", url);\n",
       "      document.body.appendChild(element);\n",
       "    }\n",
       "\n",
       "    const hashes = {\"https://cdn.bokeh.org/bokeh/release/bokeh-2.2.3.min.js\": \"T2yuo9Oe71Cz/I4X9Ac5+gpEa5a8PpJCDlqKYO0CfAuEszu1JrXLl8YugMqYe3sM\", \"https://cdn.bokeh.org/bokeh/release/bokeh-widgets-2.2.3.min.js\": \"98GDGJ0kOMCUMUePhksaQ/GYgB3+NH9h996V88sh3aOiUNX3N+fLXAtry6xctSZ6\", \"https://cdn.bokeh.org/bokeh/release/bokeh-tables-2.2.3.min.js\": \"89bArO+nlbP3sgakeHjCo1JYxYR5wufVgA3IbUvDY+K7w4zyxJqssu7wVnfeKCq8\"};\n",
       "\n",
       "    for (var i = 0; i < js_urls.length; i++) {\n",
       "      var url = js_urls[i];\n",
       "      var element = document.createElement('script');\n",
       "      element.onload = on_load;\n",
       "      element.onerror = on_error;\n",
       "      element.async = false;\n",
       "      element.src = url;\n",
       "      if (url in hashes) {\n",
       "        element.crossOrigin = \"anonymous\";\n",
       "        element.integrity = \"sha384-\" + hashes[url];\n",
       "      }\n",
       "      console.debug(\"Bokeh: injecting script tag for BokehJS library: \", url);\n",
       "      document.head.appendChild(element);\n",
       "    }\n",
       "  };\n",
       "\n",
       "  function inject_raw_css(css) {\n",
       "    const element = document.createElement(\"style\");\n",
       "    element.appendChild(document.createTextNode(css));\n",
       "    document.body.appendChild(element);\n",
       "  }\n",
       "\n",
       "  \n",
       "  var js_urls = [\"https://cdn.bokeh.org/bokeh/release/bokeh-2.2.3.min.js\", \"https://cdn.bokeh.org/bokeh/release/bokeh-widgets-2.2.3.min.js\", \"https://cdn.bokeh.org/bokeh/release/bokeh-tables-2.2.3.min.js\"];\n",
       "  var css_urls = [];\n",
       "  \n",
       "\n",
       "  var inline_js = [\n",
       "    function(Bokeh) {\n",
       "      Bokeh.set_log_level(\"info\");\n",
       "    },\n",
       "    function(Bokeh) {\n",
       "    \n",
       "    \n",
       "    }\n",
       "  ];\n",
       "\n",
       "  function run_inline_js() {\n",
       "    \n",
       "    if (root.Bokeh !== undefined || force === true) {\n",
       "      \n",
       "    for (var i = 0; i < inline_js.length; i++) {\n",
       "      inline_js[i].call(root, root.Bokeh);\n",
       "    }\n",
       "    if (force === true) {\n",
       "        display_loaded();\n",
       "      }} else if (Date.now() < root._bokeh_timeout) {\n",
       "      setTimeout(run_inline_js, 100);\n",
       "    } else if (!root._bokeh_failed_load) {\n",
       "      console.log(\"Bokeh: BokehJS failed to load within specified timeout.\");\n",
       "      root._bokeh_failed_load = true;\n",
       "    } else if (force !== true) {\n",
       "      var cell = $(document.getElementById(\"1001\")).parents('.cell').data().cell;\n",
       "      cell.output_area.append_execute_result(NB_LOAD_WARNING)\n",
       "    }\n",
       "\n",
       "  }\n",
       "\n",
       "  if (root._bokeh_is_loading === 0) {\n",
       "    console.debug(\"Bokeh: BokehJS loaded, going straight to plotting\");\n",
       "    run_inline_js();\n",
       "  } else {\n",
       "    load_libs(css_urls, js_urls, function() {\n",
       "      console.debug(\"Bokeh: BokehJS plotting callback run at\", now());\n",
       "      run_inline_js();\n",
       "    });\n",
       "  }\n",
       "}(window));"
      ],
      "application/vnd.bokehjs_load.v0+json": "\n(function(root) {\n  function now() {\n    return new Date();\n  }\n\n  var force = true;\n\n  if (typeof root._bokeh_onload_callbacks === \"undefined\" || force === true) {\n    root._bokeh_onload_callbacks = [];\n    root._bokeh_is_loading = undefined;\n  }\n\n  \n\n  \n  if (typeof (root._bokeh_timeout) === \"undefined\" || force === true) {\n    root._bokeh_timeout = Date.now() + 5000;\n    root._bokeh_failed_load = false;\n  }\n\n  var NB_LOAD_WARNING = {'data': {'text/html':\n     \"<div style='background-color: #fdd'>\\n\"+\n     \"<p>\\n\"+\n     \"BokehJS does not appear to have successfully loaded. If loading BokehJS from CDN, this \\n\"+\n     \"may be due to a slow or bad network connection. Possible fixes:\\n\"+\n     \"</p>\\n\"+\n     \"<ul>\\n\"+\n     \"<li>re-rerun `output_notebook()` to attempt to load from CDN again, or</li>\\n\"+\n     \"<li>use INLINE resources instead, as so:</li>\\n\"+\n     \"</ul>\\n\"+\n     \"<code>\\n\"+\n     \"from bokeh.resources import INLINE\\n\"+\n     \"output_notebook(resources=INLINE)\\n\"+\n     \"</code>\\n\"+\n     \"</div>\"}};\n\n  function display_loaded() {\n    var el = document.getElementById(\"1001\");\n    if (el != null) {\n      el.textContent = \"BokehJS is loading...\";\n    }\n    if (root.Bokeh !== undefined) {\n      if (el != null) {\n        el.textContent = \"BokehJS \" + root.Bokeh.version + \" successfully loaded.\";\n      }\n    } else if (Date.now() < root._bokeh_timeout) {\n      setTimeout(display_loaded, 100)\n    }\n  }\n\n\n  function run_callbacks() {\n    try {\n      root._bokeh_onload_callbacks.forEach(function(callback) {\n        if (callback != null)\n          callback();\n      });\n    } finally {\n      delete root._bokeh_onload_callbacks\n    }\n    console.debug(\"Bokeh: all callbacks have finished\");\n  }\n\n  function load_libs(css_urls, js_urls, callback) {\n    if (css_urls == null) css_urls = [];\n    if (js_urls == null) js_urls = [];\n\n    root._bokeh_onload_callbacks.push(callback);\n    if (root._bokeh_is_loading > 0) {\n      console.debug(\"Bokeh: BokehJS is being loaded, scheduling callback at\", now());\n      return null;\n    }\n    if (js_urls == null || js_urls.length === 0) {\n      run_callbacks();\n      return null;\n    }\n    console.debug(\"Bokeh: BokehJS not loaded, scheduling load and callback at\", now());\n    root._bokeh_is_loading = css_urls.length + js_urls.length;\n\n    function on_load() {\n      root._bokeh_is_loading--;\n      if (root._bokeh_is_loading === 0) {\n        console.debug(\"Bokeh: all BokehJS libraries/stylesheets loaded\");\n        run_callbacks()\n      }\n    }\n\n    function on_error() {\n      console.error(\"failed to load \" + url);\n    }\n\n    for (var i = 0; i < css_urls.length; i++) {\n      var url = css_urls[i];\n      const element = document.createElement(\"link\");\n      element.onload = on_load;\n      element.onerror = on_error;\n      element.rel = \"stylesheet\";\n      element.type = \"text/css\";\n      element.href = url;\n      console.debug(\"Bokeh: injecting link tag for BokehJS stylesheet: \", url);\n      document.body.appendChild(element);\n    }\n\n    const hashes = {\"https://cdn.bokeh.org/bokeh/release/bokeh-2.2.3.min.js\": \"T2yuo9Oe71Cz/I4X9Ac5+gpEa5a8PpJCDlqKYO0CfAuEszu1JrXLl8YugMqYe3sM\", \"https://cdn.bokeh.org/bokeh/release/bokeh-widgets-2.2.3.min.js\": \"98GDGJ0kOMCUMUePhksaQ/GYgB3+NH9h996V88sh3aOiUNX3N+fLXAtry6xctSZ6\", \"https://cdn.bokeh.org/bokeh/release/bokeh-tables-2.2.3.min.js\": \"89bArO+nlbP3sgakeHjCo1JYxYR5wufVgA3IbUvDY+K7w4zyxJqssu7wVnfeKCq8\"};\n\n    for (var i = 0; i < js_urls.length; i++) {\n      var url = js_urls[i];\n      var element = document.createElement('script');\n      element.onload = on_load;\n      element.onerror = on_error;\n      element.async = false;\n      element.src = url;\n      if (url in hashes) {\n        element.crossOrigin = \"anonymous\";\n        element.integrity = \"sha384-\" + hashes[url];\n      }\n      console.debug(\"Bokeh: injecting script tag for BokehJS library: \", url);\n      document.head.appendChild(element);\n    }\n  };\n\n  function inject_raw_css(css) {\n    const element = document.createElement(\"style\");\n    element.appendChild(document.createTextNode(css));\n    document.body.appendChild(element);\n  }\n\n  \n  var js_urls = [\"https://cdn.bokeh.org/bokeh/release/bokeh-2.2.3.min.js\", \"https://cdn.bokeh.org/bokeh/release/bokeh-widgets-2.2.3.min.js\", \"https://cdn.bokeh.org/bokeh/release/bokeh-tables-2.2.3.min.js\"];\n  var css_urls = [];\n  \n\n  var inline_js = [\n    function(Bokeh) {\n      Bokeh.set_log_level(\"info\");\n    },\n    function(Bokeh) {\n    \n    \n    }\n  ];\n\n  function run_inline_js() {\n    \n    if (root.Bokeh !== undefined || force === true) {\n      \n    for (var i = 0; i < inline_js.length; i++) {\n      inline_js[i].call(root, root.Bokeh);\n    }\n    if (force === true) {\n        display_loaded();\n      }} else if (Date.now() < root._bokeh_timeout) {\n      setTimeout(run_inline_js, 100);\n    } else if (!root._bokeh_failed_load) {\n      console.log(\"Bokeh: BokehJS failed to load within specified timeout.\");\n      root._bokeh_failed_load = true;\n    } else if (force !== true) {\n      var cell = $(document.getElementById(\"1001\")).parents('.cell').data().cell;\n      cell.output_area.append_execute_result(NB_LOAD_WARNING)\n    }\n\n  }\n\n  if (root._bokeh_is_loading === 0) {\n    console.debug(\"Bokeh: BokehJS loaded, going straight to plotting\");\n    run_inline_js();\n  } else {\n    load_libs(css_urls, js_urls, function() {\n      console.debug(\"Bokeh: BokehJS plotting callback run at\", now());\n      run_inline_js();\n    });\n  }\n}(window));"
     },
     "metadata": {},
     "output_type": "display_data"
    }
   ],
   "source": [
    "import numpy as np\n",
    "import pandas as pd\n",
    "import matplotlib.pyplot as plt\n",
    "%matplotlib inline\n",
    "\n",
    "import warnings\n",
    "warnings.filterwarnings('ignore') \n",
    "# 不发出警告\n",
    "\n",
    "from bokeh.io import output_notebook\n",
    "output_notebook()\n",
    "# 导入notebook绘图模块\n",
    "\n",
    "from bokeh.plotting import figure,show\n",
    "from bokeh.models import ColumnDataSource\n",
    "# 导入图表绘制、图标展示模块\n",
    "# 导入ColumnDataSource模块"
   ]
  },
  {
   "cell_type": "code",
   "execution_count": 2,
   "metadata": {
    "collapsed": false,
    "jupyter": {
     "outputs_hidden": false
    }
   },
   "outputs": [
    {
     "data": {
      "text/html": [
       "\n",
       "\n",
       "\n",
       "\n",
       "\n",
       "\n",
       "  <div class=\"bk-root\" id=\"d32f0e15-b0eb-4dbb-ba0e-f82e816f4d61\" data-root-id=\"1002\"></div>\n"
      ]
     },
     "metadata": {},
     "output_type": "display_data"
    },
    {
     "data": {
      "application/javascript": [
       "(function(root) {\n",
       "  function embed_document(root) {\n",
       "    \n",
       "  var docs_json = {\"5d8e3c55-9b4c-4ca3-8c4b-565d8f12ceba\":{\"roots\":{\"references\":[{\"attributes\":{\"below\":[{\"id\":\"1011\"}],\"center\":[{\"id\":\"1014\"},{\"id\":\"1018\"}],\"left\":[{\"id\":\"1015\"}],\"plot_height\":400,\"plot_width\":400,\"renderers\":[{\"id\":\"1036\"}],\"title\":{\"id\":\"1038\"},\"toolbar\":{\"id\":\"1026\"},\"x_range\":{\"id\":\"1003\"},\"x_scale\":{\"id\":\"1007\"},\"y_range\":{\"id\":\"1005\"},\"y_scale\":{\"id\":\"1009\"}},\"id\":\"1002\",\"subtype\":\"Figure\",\"type\":\"Plot\"},{\"attributes\":{},\"id\":\"1041\",\"type\":\"BasicTickFormatter\"},{\"attributes\":{\"formatter\":{\"id\":\"1041\"},\"ticker\":{\"id\":\"1012\"}},\"id\":\"1011\",\"type\":\"LinearAxis\"},{\"attributes\":{},\"id\":\"1003\",\"type\":\"DataRange1d\"},{\"attributes\":{},\"id\":\"1007\",\"type\":\"LinearScale\"},{\"attributes\":{},\"id\":\"1005\",\"type\":\"DataRange1d\"},{\"attributes\":{},\"id\":\"1043\",\"type\":\"BasicTickFormatter\"},{\"attributes\":{},\"id\":\"1009\",\"type\":\"LinearScale\"},{\"attributes\":{\"bottom_units\":\"screen\",\"fill_alpha\":0.5,\"fill_color\":\"lightgrey\",\"left_units\":\"screen\",\"level\":\"overlay\",\"line_alpha\":1.0,\"line_color\":\"black\",\"line_dash\":[4,4],\"line_width\":2,\"right_units\":\"screen\",\"top_units\":\"screen\"},\"id\":\"1025\",\"type\":\"BoxAnnotation\"},{\"attributes\":{},\"id\":\"1045\",\"type\":\"UnionRenderers\"},{\"attributes\":{},\"id\":\"1024\",\"type\":\"HelpTool\"},{\"attributes\":{},\"id\":\"1023\",\"type\":\"ResetTool\"},{\"attributes\":{},\"id\":\"1012\",\"type\":\"BasicTicker\"},{\"attributes\":{\"axis\":{\"id\":\"1011\"},\"ticker\":null},\"id\":\"1014\",\"type\":\"Grid\"},{\"attributes\":{},\"id\":\"1046\",\"type\":\"Selection\"},{\"attributes\":{\"axis\":{\"id\":\"1015\"},\"dimension\":1,\"ticker\":null},\"id\":\"1018\",\"type\":\"Grid\"},{\"attributes\":{},\"id\":\"1016\",\"type\":\"BasicTicker\"},{\"attributes\":{\"active_drag\":\"auto\",\"active_inspect\":\"auto\",\"active_multi\":null,\"active_scroll\":\"auto\",\"active_tap\":\"auto\",\"tools\":[{\"id\":\"1019\"},{\"id\":\"1020\"},{\"id\":\"1021\"},{\"id\":\"1022\"},{\"id\":\"1023\"},{\"id\":\"1024\"}]},\"id\":\"1026\",\"type\":\"Toolbar\"},{\"attributes\":{},\"id\":\"1020\",\"type\":\"WheelZoomTool\"},{\"attributes\":{},\"id\":\"1019\",\"type\":\"PanTool\"},{\"attributes\":{\"source\":{\"id\":\"1033\"}},\"id\":\"1037\",\"type\":\"CDSView\"},{\"attributes\":{\"overlay\":{\"id\":\"1025\"}},\"id\":\"1021\",\"type\":\"BoxZoomTool\"},{\"attributes\":{},\"id\":\"1022\",\"type\":\"SaveTool\"},{\"attributes\":{\"formatter\":{\"id\":\"1043\"},\"ticker\":{\"id\":\"1016\"}},\"id\":\"1015\",\"type\":\"LinearAxis\"},{\"attributes\":{\"text\":\"\"},\"id\":\"1038\",\"type\":\"Title\"},{\"attributes\":{\"data_source\":{\"id\":\"1033\"},\"glyph\":{\"id\":\"1034\"},\"hover_glyph\":null,\"muted_glyph\":null,\"nonselection_glyph\":{\"id\":\"1035\"},\"selection_glyph\":null,\"view\":{\"id\":\"1037\"}},\"id\":\"1036\",\"type\":\"GlyphRenderer\"},{\"attributes\":{\"fill_alpha\":{\"value\":0.1},\"fill_color\":{\"value\":\"red\"},\"line_alpha\":{\"value\":0.1},\"line_dash\":[5,2],\"top\":{\"field\":\"top\"},\"width\":{\"value\":0.5},\"x\":{\"field\":\"x\"}},\"id\":\"1035\",\"type\":\"VBar\"},{\"attributes\":{\"fill_alpha\":{\"value\":0.6},\"fill_color\":{\"value\":\"red\"},\"line_alpha\":{\"value\":0.8},\"line_dash\":[5,2],\"top\":{\"field\":\"top\"},\"width\":{\"value\":0.5},\"x\":{\"field\":\"x\"}},\"id\":\"1034\",\"type\":\"VBar\"},{\"attributes\":{\"data\":{\"top\":[1.2,2.5,3.7],\"x\":[1,2,3]},\"selected\":{\"id\":\"1046\"},\"selection_policy\":{\"id\":\"1045\"}},\"id\":\"1033\",\"type\":\"ColumnDataSource\"}],\"root_ids\":[\"1002\"]},\"title\":\"Bokeh Application\",\"version\":\"2.2.3\"}};\n",
       "  var render_items = [{\"docid\":\"5d8e3c55-9b4c-4ca3-8c4b-565d8f12ceba\",\"root_ids\":[\"1002\"],\"roots\":{\"1002\":\"d32f0e15-b0eb-4dbb-ba0e-f82e816f4d61\"}}];\n",
       "  root.Bokeh.embed.embed_items_notebook(docs_json, render_items);\n",
       "\n",
       "  }\n",
       "  if (root.Bokeh !== undefined) {\n",
       "    embed_document(root);\n",
       "  } else {\n",
       "    var attempts = 0;\n",
       "    var timer = setInterval(function(root) {\n",
       "      if (root.Bokeh !== undefined) {\n",
       "        clearInterval(timer);\n",
       "        embed_document(root);\n",
       "      } else {\n",
       "        attempts++;\n",
       "        if (attempts > 100) {\n",
       "          clearInterval(timer);\n",
       "          console.log(\"Bokeh: ERROR: Unable to run BokehJS code because BokehJS library is missing\");\n",
       "        }\n",
       "      }\n",
       "    }, 10, root)\n",
       "  }\n",
       "})(window);"
      ],
      "application/vnd.bokehjs_exec.v0+json": ""
     },
     "metadata": {
      "application/vnd.bokehjs_exec.v0+json": {
       "id": "1002"
      }
     },
     "output_type": "display_data"
    }
   ],
   "source": [
    "# 1、单系列柱状图\n",
    "# vbar\n",
    "\n",
    "p = figure(plot_width=400, plot_height=400)\n",
    "p.vbar(x=[1, 2, 3], width=0.5, bottom=0,top=[1.2, 2.5, 3.7],  # x：横轴坐标，width：宽度，bottom：底高度，top：顶高度\n",
    "       #color = ['red','blue','green'], alpha = 0.8   # 整体颜色设置，也可单独设置 → color=\"firebrick\"\n",
    "       line_width = 1,line_alpha = 0.8,line_color = 'black', line_dash = [5,2],    # 单独设置线参数\n",
    "       fill_color = 'red',fill_alpha = 0.6    # 单独设置填充颜色参数\n",
    "      )\n",
    "# 绘制竖向柱状图\n",
    "\n",
    "show(p)"
   ]
  },
  {
   "cell_type": "code",
   "execution_count": 4,
   "metadata": {
    "collapsed": false,
    "jupyter": {
     "outputs_hidden": false
    }
   },
   "outputs": [
    {
     "data": {
      "text/html": [
       "\n",
       "\n",
       "\n",
       "\n",
       "\n",
       "\n",
       "  <div class=\"bk-root\" id=\"a97e83b3-6dac-48b2-9cfe-80ce814be6ef\" data-root-id=\"1191\"></div>\n"
      ]
     },
     "metadata": {},
     "output_type": "display_data"
    },
    {
     "data": {
      "application/javascript": [
       "(function(root) {\n",
       "  function embed_document(root) {\n",
       "    \n",
       "  var docs_json = {\"30661613-8a29-44e9-85cf-81eb05894761\":{\"roots\":{\"references\":[{\"attributes\":{\"below\":[{\"id\":\"1200\"}],\"center\":[{\"id\":\"1203\"},{\"id\":\"1207\"}],\"left\":[{\"id\":\"1204\"}],\"plot_height\":400,\"plot_width\":400,\"renderers\":[{\"id\":\"1225\"}],\"title\":{\"id\":\"1245\"},\"toolbar\":{\"id\":\"1215\"},\"x_range\":{\"id\":\"1192\"},\"x_scale\":{\"id\":\"1196\"},\"y_range\":{\"id\":\"1194\"},\"y_scale\":{\"id\":\"1198\"}},\"id\":\"1191\",\"subtype\":\"Figure\",\"type\":\"Plot\"},{\"attributes\":{\"data\":{\"fill_color\":[\"red\",\"blue\",\"green\"],\"line_color\":[\"red\",\"blue\",\"green\"],\"right\":[1.2,2.5,3.7],\"y\":[1,2,3]},\"selected\":{\"id\":\"1253\"},\"selection_policy\":{\"id\":\"1252\"}},\"id\":\"1222\",\"type\":\"ColumnDataSource\"},{\"attributes\":{},\"id\":\"1248\",\"type\":\"BasicTickFormatter\"},{\"attributes\":{\"fill_alpha\":{\"value\":0.1},\"fill_color\":{\"field\":\"fill_color\"},\"height\":{\"value\":0.5},\"line_alpha\":{\"value\":0.1},\"line_color\":{\"field\":\"line_color\"},\"right\":{\"field\":\"right\"},\"y\":{\"field\":\"y\"}},\"id\":\"1224\",\"type\":\"HBar\"},{\"attributes\":{},\"id\":\"1252\",\"type\":\"UnionRenderers\"},{\"attributes\":{},\"id\":\"1209\",\"type\":\"WheelZoomTool\"},{\"attributes\":{\"axis\":{\"id\":\"1204\"},\"dimension\":1,\"ticker\":null},\"id\":\"1207\",\"type\":\"Grid\"},{\"attributes\":{\"overlay\":{\"id\":\"1214\"}},\"id\":\"1210\",\"type\":\"BoxZoomTool\"},{\"attributes\":{},\"id\":\"1194\",\"type\":\"DataRange1d\"},{\"attributes\":{\"source\":{\"id\":\"1222\"}},\"id\":\"1226\",\"type\":\"CDSView\"},{\"attributes\":{},\"id\":\"1205\",\"type\":\"BasicTicker\"},{\"attributes\":{},\"id\":\"1211\",\"type\":\"SaveTool\"},{\"attributes\":{},\"id\":\"1250\",\"type\":\"BasicTickFormatter\"},{\"attributes\":{},\"id\":\"1213\",\"type\":\"HelpTool\"},{\"attributes\":{\"formatter\":{\"id\":\"1248\"},\"ticker\":{\"id\":\"1201\"}},\"id\":\"1200\",\"type\":\"LinearAxis\"},{\"attributes\":{\"fill_alpha\":{\"value\":0.6},\"fill_color\":{\"field\":\"fill_color\"},\"height\":{\"value\":0.5},\"line_alpha\":{\"value\":0.6},\"line_color\":{\"field\":\"line_color\"},\"right\":{\"field\":\"right\"},\"y\":{\"field\":\"y\"}},\"id\":\"1223\",\"type\":\"HBar\"},{\"attributes\":{\"axis\":{\"id\":\"1200\"},\"ticker\":null},\"id\":\"1203\",\"type\":\"Grid\"},{\"attributes\":{},\"id\":\"1196\",\"type\":\"LinearScale\"},{\"attributes\":{},\"id\":\"1198\",\"type\":\"LinearScale\"},{\"attributes\":{},\"id\":\"1212\",\"type\":\"ResetTool\"},{\"attributes\":{},\"id\":\"1201\",\"type\":\"BasicTicker\"},{\"attributes\":{\"active_drag\":\"auto\",\"active_inspect\":\"auto\",\"active_multi\":null,\"active_scroll\":\"auto\",\"active_tap\":\"auto\",\"tools\":[{\"id\":\"1208\"},{\"id\":\"1209\"},{\"id\":\"1210\"},{\"id\":\"1211\"},{\"id\":\"1212\"},{\"id\":\"1213\"}]},\"id\":\"1215\",\"type\":\"Toolbar\"},{\"attributes\":{\"bottom_units\":\"screen\",\"fill_alpha\":0.5,\"fill_color\":\"lightgrey\",\"left_units\":\"screen\",\"level\":\"overlay\",\"line_alpha\":1.0,\"line_color\":\"black\",\"line_dash\":[4,4],\"line_width\":2,\"right_units\":\"screen\",\"top_units\":\"screen\"},\"id\":\"1214\",\"type\":\"BoxAnnotation\"},{\"attributes\":{},\"id\":\"1192\",\"type\":\"DataRange1d\"},{\"attributes\":{\"data_source\":{\"id\":\"1222\"},\"glyph\":{\"id\":\"1223\"},\"hover_glyph\":null,\"muted_glyph\":null,\"nonselection_glyph\":{\"id\":\"1224\"},\"selection_glyph\":null,\"view\":{\"id\":\"1226\"}},\"id\":\"1225\",\"type\":\"GlyphRenderer\"},{\"attributes\":{\"formatter\":{\"id\":\"1250\"},\"ticker\":{\"id\":\"1205\"}},\"id\":\"1204\",\"type\":\"LinearAxis\"},{\"attributes\":{},\"id\":\"1253\",\"type\":\"Selection\"},{\"attributes\":{\"text\":\"\"},\"id\":\"1245\",\"type\":\"Title\"},{\"attributes\":{},\"id\":\"1208\",\"type\":\"PanTool\"}],\"root_ids\":[\"1191\"]},\"title\":\"Bokeh Application\",\"version\":\"2.2.3\"}};\n",
       "  var render_items = [{\"docid\":\"30661613-8a29-44e9-85cf-81eb05894761\",\"root_ids\":[\"1191\"],\"roots\":{\"1191\":\"a97e83b3-6dac-48b2-9cfe-80ce814be6ef\"}}];\n",
       "  root.Bokeh.embed.embed_items_notebook(docs_json, render_items);\n",
       "\n",
       "  }\n",
       "  if (root.Bokeh !== undefined) {\n",
       "    embed_document(root);\n",
       "  } else {\n",
       "    var attempts = 0;\n",
       "    var timer = setInterval(function(root) {\n",
       "      if (root.Bokeh !== undefined) {\n",
       "        clearInterval(timer);\n",
       "        embed_document(root);\n",
       "      } else {\n",
       "        attempts++;\n",
       "        if (attempts > 100) {\n",
       "          clearInterval(timer);\n",
       "          console.log(\"Bokeh: ERROR: Unable to run BokehJS code because BokehJS library is missing\");\n",
       "        }\n",
       "      }\n",
       "    }, 10, root)\n",
       "  }\n",
       "})(window);"
      ],
      "application/vnd.bokehjs_exec.v0+json": ""
     },
     "metadata": {
      "application/vnd.bokehjs_exec.v0+json": {
       "id": "1191"
      }
     },
     "output_type": "display_data"
    }
   ],
   "source": [
    "# 1、单系列柱状图\n",
    "# hbar\n",
    "\n",
    "p = figure(plot_width=400, plot_height=400)\n",
    "p.hbar(y=[1, 2, 3], height=0.5, left=0,right=[1.2, 2.5, 3.7],  # y：纵轴坐标，height：厚度，left：左边最小值，right：右边最大值\n",
    "       color = ['red','blue','green'],\n",
    "      alpha = 0.6)\n",
    "# 绘制竖向柱状图\n",
    "\n",
    "show(p)"
   ]
  },
  {
   "cell_type": "code",
   "execution_count": 5,
   "metadata": {},
   "outputs": [
    {
     "data": {
      "text/html": [
       "\n",
       "\n",
       "\n",
       "\n",
       "\n",
       "\n",
       "  <div class=\"bk-root\" id=\"b6d67a87-9d92-4adb-aeb4-185d742342df\" data-root-id=\"1299\"></div>\n"
      ]
     },
     "metadata": {},
     "output_type": "display_data"
    },
    {
     "data": {
      "application/javascript": [
       "(function(root) {\n",
       "  function embed_document(root) {\n",
       "    \n",
       "  var docs_json = {\"bba5478f-3301-4355-a733-00eb40a1340f\":{\"roots\":{\"references\":[{\"attributes\":{\"below\":[{\"id\":\"1308\"}],\"center\":[{\"id\":\"1311\"},{\"id\":\"1315\"}],\"left\":[{\"id\":\"1312\"}],\"plot_height\":400,\"plot_width\":400,\"renderers\":[{\"id\":\"1333\"}],\"title\":{\"id\":\"1362\"},\"toolbar\":{\"id\":\"1323\"},\"x_range\":{\"id\":\"1300\"},\"x_scale\":{\"id\":\"1304\"},\"y_range\":{\"id\":\"1302\"},\"y_scale\":{\"id\":\"1306\"}},\"id\":\"1299\",\"subtype\":\"Figure\",\"type\":\"Plot\"},{\"attributes\":{},\"id\":\"1365\",\"type\":\"BasicTickFormatter\"},{\"attributes\":{},\"id\":\"1320\",\"type\":\"ResetTool\"},{\"attributes\":{},\"id\":\"1304\",\"type\":\"LinearScale\"},{\"attributes\":{\"data\":{\"fill_color\":[\"green\",\"blue\",\"blue\",\"blue\",\"red\",\"red\",\"green\",\"blue\",\"red\",\"red\",\"green\",\"blue\",\"blue\",\"blue\",\"blue\",\"green\",\"red\",\"blue\",\"red\",\"red\",\"red\",\"green\",\"green\",\"green\",\"red\",\"green\",\"red\",\"red\",\"blue\",\"blue\",\"blue\",\"green\",\"blue\",\"blue\",\"red\",\"green\",\"red\",\"blue\",\"blue\",\"green\",\"blue\",\"green\",\"red\",\"red\",\"red\",\"blue\",\"blue\",\"blue\",\"blue\",\"red\",\"red\",\"red\",\"green\",\"green\",\"red\",\"red\",\"red\",\"blue\",\"blue\",\"red\",\"blue\",\"blue\",\"red\",\"blue\",\"green\",\"red\",\"blue\",\"blue\",\"blue\",\"blue\",\"blue\",\"blue\",\"blue\",\"green\",\"green\",\"red\",\"blue\",\"blue\",\"red\",\"green\",\"blue\",\"red\",\"red\",\"blue\",\"green\",\"green\",\"red\",\"green\",\"red\",\"green\",\"blue\",\"blue\",\"green\",\"green\",\"blue\",\"blue\",\"red\",\"green\",\"green\",\"red\"],\"line_color\":[\"green\",\"blue\",\"blue\",\"blue\",\"red\",\"red\",\"green\",\"blue\",\"red\",\"red\",\"green\",\"blue\",\"blue\",\"blue\",\"blue\",\"green\",\"red\",\"blue\",\"red\",\"red\",\"red\",\"green\",\"green\",\"green\",\"red\",\"green\",\"red\",\"red\",\"blue\",\"blue\",\"blue\",\"green\",\"blue\",\"blue\",\"red\",\"green\",\"red\",\"blue\",\"blue\",\"green\",\"blue\",\"green\",\"red\",\"red\",\"red\",\"blue\",\"blue\",\"blue\",\"blue\",\"red\",\"red\",\"red\",\"green\",\"green\",\"red\",\"red\",\"red\",\"blue\",\"blue\",\"red\",\"blue\",\"blue\",\"red\",\"blue\",\"green\",\"red\",\"blue\",\"blue\",\"blue\",\"blue\",\"blue\",\"blue\",\"blue\",\"green\",\"green\",\"red\",\"blue\",\"blue\",\"red\",\"green\",\"blue\",\"red\",\"red\",\"blue\",\"green\",\"green\",\"red\",\"green\",\"red\",\"green\",\"blue\",\"blue\",\"green\",\"green\",\"blue\",\"blue\",\"red\",\"green\",\"green\",\"red\"],\"right\":{\"__ndarray__\":\"NhcXZK7z87/gmoc9FBUoQLgSnNioWCVAxfxE+ZvSCEBhEwCGT+wIQFZvqJ4yXzVA8PfZ0zOH8D9V9oBhLvcUwCmAPmGNASPAWlFjJvQTJcBAvcTDTv4dQFSx4ECHLDRARMmeAy5mGEBd3XlceJAuwApx+n79Ju4/W5IC6OnaE8Dhy/+d6eUQwDpf/R9EOS3AiNgSvib/JUDSDd/BUbgrQECSwLCmCibAC/9oSTK5BUAbX+K9KZogQGNoDroV/xVAG5k0pZqLNMBmbyNk588bQFpmitL/NiFA7DE9DnSxFsBDGh6fUUgiwKxYf7XmEyjA9OAktkAFH0Ba9QB2534lQPhaL/rRn9m/ujeWUHUwDMDTgbKAPyscwCWPbT9WuxHA8M9rfJeOJkBQl96VTAoSwGRjieq4xyVA34JOlrjIAEBqXG1AIvojQOvm1rRlVwZA+3Oa5VFFOcCSp25RbAozQIfr2Xhl0SbARKRn0E66JkDAo4QD1tMxQLITanBKMyhAwwj2SWLIKcBiL+RWl9YjQJu5UywVpSbAUnMjAQYT+T8UHmwqZesfQPaex8/heTPAfv8HEQr0I0Cv0FwXxLgcwBD3qy6lPjZA1TAEQ0LmLMDzueofc2wcQMBqQEvSlh5A2FBOpf26KkBicaYGAqQqQH8Hs5FuCRNAQt33LP/zIMBn9MXw5qkQQGjyqswL8u+/kLFbArLRL0AwFQFPxM7wP+OI0odmph1Ano9Wnbv9JsBTN1u1WI+SP5LVHAqP//4/0Kg6va30x79AdEyHRo0LwJZQYH3ejhdA9prO0jv2GkDUvk4BNSoVwHqgI9JnHRvAzo1MZXN8IMAiyTE+KvYawKrzS1+ssBxANdhJAsUJEEBMgRuYyxkXQF74FaSAMy5AS5/6TaUr9T+o2Gbv7mMcwJTxetW9UQ7AC9V1bIG01b9ob/mGQ97nP5v0pS+Kyeq/aFbhO+YOB8Aiue0MX+QlQLWYPpSw0/S/K3glKeKcJ0DeXDW4tJEIwLjJlX1tpA1A6VWItYpSIUA8LrWePAUgwJDjYsVs4TJAFIwSV4LdF8A=\",\"dtype\":\"float64\",\"order\":\"little\",\"shape\":[100]},\"y\":[0,1,2,3,4,5,6,7,8,9,10,11,12,13,14,15,16,17,18,19,20,21,22,23,24,25,26,27,28,29,30,31,32,33,34,35,36,37,38,39,40,41,42,43,44,45,46,47,48,49,50,51,52,53,54,55,56,57,58,59,60,61,62,63,64,65,66,67,68,69,70,71,72,73,74,75,76,77,78,79,80,81,82,83,84,85,86,87,88,89,90,91,92,93,94,95,96,97,98,99]},\"selected\":{\"id\":\"1370\"},\"selection_policy\":{\"id\":\"1369\"}},\"id\":\"1330\",\"type\":\"ColumnDataSource\"},{\"attributes\":{},\"id\":\"1369\",\"type\":\"UnionRenderers\"},{\"attributes\":{},\"id\":\"1367\",\"type\":\"BasicTickFormatter\"},{\"attributes\":{\"axis\":{\"id\":\"1308\"},\"ticker\":null},\"id\":\"1311\",\"type\":\"Grid\"},{\"attributes\":{},\"id\":\"1321\",\"type\":\"HelpTool\"},{\"attributes\":{\"source\":{\"id\":\"1330\"}},\"id\":\"1334\",\"type\":\"CDSView\"},{\"attributes\":{},\"id\":\"1370\",\"type\":\"Selection\"},{\"attributes\":{\"formatter\":{\"id\":\"1367\"},\"ticker\":{\"id\":\"1313\"}},\"id\":\"1312\",\"type\":\"LinearAxis\"},{\"attributes\":{\"active_drag\":\"auto\",\"active_inspect\":\"auto\",\"active_multi\":null,\"active_scroll\":\"auto\",\"active_tap\":\"auto\",\"tools\":[{\"id\":\"1316\"},{\"id\":\"1317\"},{\"id\":\"1318\"},{\"id\":\"1319\"},{\"id\":\"1320\"},{\"id\":\"1321\"}]},\"id\":\"1323\",\"type\":\"Toolbar\"},{\"attributes\":{\"bottom_units\":\"screen\",\"fill_alpha\":0.5,\"fill_color\":\"lightgrey\",\"left_units\":\"screen\",\"level\":\"overlay\",\"line_alpha\":1.0,\"line_color\":\"black\",\"line_dash\":[4,4],\"line_width\":2,\"right_units\":\"screen\",\"top_units\":\"screen\"},\"id\":\"1322\",\"type\":\"BoxAnnotation\"},{\"attributes\":{\"overlay\":{\"id\":\"1322\"}},\"id\":\"1318\",\"type\":\"BoxZoomTool\"},{\"attributes\":{},\"id\":\"1309\",\"type\":\"BasicTicker\"},{\"attributes\":{},\"id\":\"1316\",\"type\":\"PanTool\"},{\"attributes\":{},\"id\":\"1319\",\"type\":\"SaveTool\"},{\"attributes\":{\"axis\":{\"id\":\"1312\"},\"dimension\":1,\"ticker\":null},\"id\":\"1315\",\"type\":\"Grid\"},{\"attributes\":{},\"id\":\"1300\",\"type\":\"DataRange1d\"},{\"attributes\":{},\"id\":\"1317\",\"type\":\"WheelZoomTool\"},{\"attributes\":{\"fill_color\":{\"field\":\"fill_color\"},\"height\":{\"value\":0.5},\"line_color\":{\"field\":\"line_color\"},\"right\":{\"field\":\"right\"},\"y\":{\"field\":\"y\"}},\"id\":\"1331\",\"type\":\"HBar\"},{\"attributes\":{\"formatter\":{\"id\":\"1365\"},\"ticker\":{\"id\":\"1309\"}},\"id\":\"1308\",\"type\":\"LinearAxis\"},{\"attributes\":{\"text\":\"\"},\"id\":\"1362\",\"type\":\"Title\"},{\"attributes\":{},\"id\":\"1302\",\"type\":\"DataRange1d\"},{\"attributes\":{\"data_source\":{\"id\":\"1330\"},\"glyph\":{\"id\":\"1331\"},\"hover_glyph\":null,\"muted_glyph\":null,\"nonselection_glyph\":{\"id\":\"1332\"},\"selection_glyph\":null,\"view\":{\"id\":\"1334\"}},\"id\":\"1333\",\"type\":\"GlyphRenderer\"},{\"attributes\":{},\"id\":\"1306\",\"type\":\"LinearScale\"},{\"attributes\":{},\"id\":\"1313\",\"type\":\"BasicTicker\"},{\"attributes\":{\"fill_alpha\":{\"value\":0.1},\"fill_color\":{\"field\":\"fill_color\"},\"height\":{\"value\":0.5},\"line_alpha\":{\"value\":0.1},\"line_color\":{\"field\":\"line_color\"},\"right\":{\"field\":\"right\"},\"y\":{\"field\":\"y\"}},\"id\":\"1332\",\"type\":\"HBar\"}],\"root_ids\":[\"1299\"]},\"title\":\"Bokeh Application\",\"version\":\"2.2.3\"}};\n",
       "  var render_items = [{\"docid\":\"bba5478f-3301-4355-a733-00eb40a1340f\",\"root_ids\":[\"1299\"],\"roots\":{\"1299\":\"b6d67a87-9d92-4adb-aeb4-185d742342df\"}}];\n",
       "  root.Bokeh.embed.embed_items_notebook(docs_json, render_items);\n",
       "\n",
       "  }\n",
       "  if (root.Bokeh !== undefined) {\n",
       "    embed_document(root);\n",
       "  } else {\n",
       "    var attempts = 0;\n",
       "    var timer = setInterval(function(root) {\n",
       "      if (root.Bokeh !== undefined) {\n",
       "        clearInterval(timer);\n",
       "        embed_document(root);\n",
       "      } else {\n",
       "        attempts++;\n",
       "        if (attempts > 100) {\n",
       "          clearInterval(timer);\n",
       "          console.log(\"Bokeh: ERROR: Unable to run BokehJS code because BokehJS library is missing\");\n",
       "        }\n",
       "      }\n",
       "    }, 10, root)\n",
       "  }\n",
       "})(window);"
      ],
      "application/vnd.bokehjs_exec.v0+json": ""
     },
     "metadata": {
      "application/vnd.bokehjs_exec.v0+json": {
       "id": "1299"
      }
     },
     "output_type": "display_data"
    }
   ],
   "source": [
    "df = pd.DataFrame({'value':np.random.randn(100) * 10,\n",
    "                  'color':np.random.choice(['red','green','blue'],100)})\n",
    "\n",
    "p = figure(plot_width = 400,plot_height = 400)\n",
    "p.hbar(y =df.index,height = 0.5,left = 0,right = df.value,\n",
    "      color = df.color)\n",
    "\n",
    "show(p)"
   ]
  },
  {
   "cell_type": "code",
   "execution_count": 6,
   "metadata": {
    "collapsed": false,
    "jupyter": {
     "outputs_hidden": false
    }
   },
   "outputs": [
    {
     "data": {
      "text/html": [
       "\n",
       "\n",
       "\n",
       "\n",
       "\n",
       "\n",
       "  <div class=\"bk-root\" id=\"38dc4df7-8ed7-4945-ab38-1c494c4a5eb7\" data-root-id=\"1417\"></div>\n"
      ]
     },
     "metadata": {},
     "output_type": "display_data"
    },
    {
     "data": {
      "application/javascript": [
       "(function(root) {\n",
       "  function embed_document(root) {\n",
       "    \n",
       "  var docs_json = {\"bde39d3e-212d-45ae-a0e9-df60c5e8078b\":{\"roots\":{\"references\":[{\"attributes\":{\"below\":[{\"id\":\"1428\"}],\"center\":[{\"id\":\"1430\"},{\"id\":\"1434\"},{\"id\":\"1449\"}],\"left\":[{\"id\":\"1431\"}],\"plot_height\":350,\"renderers\":[{\"id\":\"1440\"}],\"title\":{\"id\":\"1418\"},\"toolbar\":{\"id\":\"1435\"},\"x_range\":{\"id\":\"1420\"},\"x_scale\":{\"id\":\"1424\"},\"y_range\":{\"id\":\"1422\"},\"y_scale\":{\"id\":\"1426\"}},\"id\":\"1417\",\"subtype\":\"Figure\",\"type\":\"Plot\"},{\"attributes\":{\"axis\":{\"id\":\"1428\"},\"grid_line_color\":null,\"ticker\":null},\"id\":\"1430\",\"type\":\"Grid\"},{\"attributes\":{},\"id\":\"1429\",\"type\":\"CategoricalTicker\"},{\"attributes\":{},\"id\":\"1447\",\"type\":\"UnionRenderers\"},{\"attributes\":{\"formatter\":{\"id\":\"1444\"},\"ticker\":{\"id\":\"1429\"}},\"id\":\"1428\",\"type\":\"CategoricalAxis\"},{\"attributes\":{\"active_drag\":\"auto\",\"active_inspect\":\"auto\",\"active_multi\":null,\"active_scroll\":\"auto\",\"active_tap\":\"auto\"},\"id\":\"1435\",\"type\":\"Toolbar\"},{\"attributes\":{},\"id\":\"1424\",\"type\":\"CategoricalScale\"},{\"attributes\":{},\"id\":\"1446\",\"type\":\"BasicTickFormatter\"},{\"attributes\":{\"items\":[{\"id\":\"1450\"}],\"location\":\"top_center\",\"orientation\":\"horizontal\"},\"id\":\"1449\",\"type\":\"Legend\"},{\"attributes\":{\"end\":9},\"id\":\"1422\",\"type\":\"Range1d\"},{\"attributes\":{\"factors\":[\"Apples\",\"Pears\",\"Nectarines\",\"Plums\",\"Grapes\",\"Strawberries\"],\"palette\":[\"#3288bd\",\"#99d594\",\"#e6f598\",\"#fee08b\",\"#fc8d59\",\"#d53e4f\"]},\"id\":\"1436\",\"type\":\"CategoricalColorMapper\"},{\"attributes\":{\"label\":{\"value\":\"fruits\"},\"renderers\":[{\"id\":\"1440\"}]},\"id\":\"1450\",\"type\":\"LegendItem\"},{\"attributes\":{\"text\":\"Fruit Counts\"},\"id\":\"1418\",\"type\":\"Title\"},{\"attributes\":{},\"id\":\"1448\",\"type\":\"Selection\"},{\"attributes\":{\"factors\":[\"Apples\",\"Pears\",\"Nectarines\",\"Plums\",\"Grapes\",\"Strawberries\"]},\"id\":\"1420\",\"type\":\"FactorRange\"},{\"attributes\":{\"data\":{\"counts\":[5,3,4,2,4,6],\"fruits\":[\"Apples\",\"Pears\",\"Nectarines\",\"Plums\",\"Grapes\",\"Strawberries\"]},\"selected\":{\"id\":\"1448\"},\"selection_policy\":{\"id\":\"1447\"}},\"id\":\"1416\",\"type\":\"ColumnDataSource\"},{\"attributes\":{\"source\":{\"id\":\"1416\"}},\"id\":\"1441\",\"type\":\"CDSView\"},{\"attributes\":{},\"id\":\"1432\",\"type\":\"BasicTicker\"},{\"attributes\":{\"axis\":{\"id\":\"1431\"},\"dimension\":1,\"ticker\":null},\"id\":\"1434\",\"type\":\"Grid\"},{\"attributes\":{},\"id\":\"1444\",\"type\":\"CategoricalTickFormatter\"},{\"attributes\":{\"data_source\":{\"id\":\"1416\"},\"glyph\":{\"id\":\"1438\"},\"hover_glyph\":null,\"muted_glyph\":null,\"nonselection_glyph\":{\"id\":\"1439\"},\"selection_glyph\":null,\"view\":{\"id\":\"1441\"}},\"id\":\"1440\",\"type\":\"GlyphRenderer\"},{\"attributes\":{\"fill_alpha\":{\"value\":0.1},\"fill_color\":{\"field\":\"fruits\",\"transform\":{\"id\":\"1436\"}},\"line_alpha\":{\"value\":0.1},\"line_color\":{\"field\":\"fruits\",\"transform\":{\"id\":\"1436\"}},\"top\":{\"field\":\"counts\"},\"width\":{\"value\":0.9},\"x\":{\"field\":\"fruits\"}},\"id\":\"1439\",\"type\":\"VBar\"},{\"attributes\":{\"fill_alpha\":{\"value\":0.8},\"fill_color\":{\"field\":\"fruits\",\"transform\":{\"id\":\"1436\"}},\"line_alpha\":{\"value\":0.8},\"line_color\":{\"field\":\"fruits\",\"transform\":{\"id\":\"1436\"}},\"top\":{\"field\":\"counts\"},\"width\":{\"value\":0.9},\"x\":{\"field\":\"fruits\"}},\"id\":\"1438\",\"type\":\"VBar\"},{\"attributes\":{},\"id\":\"1426\",\"type\":\"LinearScale\"},{\"attributes\":{\"formatter\":{\"id\":\"1446\"},\"ticker\":{\"id\":\"1432\"}},\"id\":\"1431\",\"type\":\"LinearAxis\"}],\"root_ids\":[\"1417\"]},\"title\":\"Bokeh Application\",\"version\":\"2.2.3\"}};\n",
       "  var render_items = [{\"docid\":\"bde39d3e-212d-45ae-a0e9-df60c5e8078b\",\"root_ids\":[\"1417\"],\"roots\":{\"1417\":\"38dc4df7-8ed7-4945-ab38-1c494c4a5eb7\"}}];\n",
       "  root.Bokeh.embed.embed_items_notebook(docs_json, render_items);\n",
       "\n",
       "  }\n",
       "  if (root.Bokeh !== undefined) {\n",
       "    embed_document(root);\n",
       "  } else {\n",
       "    var attempts = 0;\n",
       "    var timer = setInterval(function(root) {\n",
       "      if (root.Bokeh !== undefined) {\n",
       "        clearInterval(timer);\n",
       "        embed_document(root);\n",
       "      } else {\n",
       "        attempts++;\n",
       "        if (attempts > 100) {\n",
       "          clearInterval(timer);\n",
       "          console.log(\"Bokeh: ERROR: Unable to run BokehJS code because BokehJS library is missing\");\n",
       "        }\n",
       "      }\n",
       "    }, 10, root)\n",
       "  }\n",
       "})(window);"
      ],
      "application/vnd.bokehjs_exec.v0+json": ""
     },
     "metadata": {
      "application/vnd.bokehjs_exec.v0+json": {
       "id": "1417"
      }
     },
     "output_type": "display_data"
    }
   ],
   "source": [
    "# 1、单系列柱状图 - 分类设置标签\n",
    "# ColumnDataSource\n",
    "\n",
    "from bokeh.palettes import Spectral6\n",
    "from bokeh.transform import factor_cmap\n",
    "# 导入相关模块\n",
    "\n",
    "fruits = ['Apples', 'Pears', 'Nectarines', 'Plums', 'Grapes', 'Strawberries']\n",
    "counts = [5, 3, 4, 2, 4, 6]\n",
    "source = ColumnDataSource(data=dict(fruits=fruits, counts=counts))\n",
    "colors = [ \"salmon\", \"olive\", \"darkred\", \"goldenrod\", \"skyblue\", \"orange\"]\n",
    "# 创建一个包含标签的data，对象类型为ColumnDataSource\n",
    "\n",
    "p = figure(x_range=fruits, y_range=(0,9), plot_height=350, title=\"Fruit Counts\",tools=\"\")\n",
    "\n",
    "p.vbar(x='fruits', top='counts', source=source,    # 加载数据另一个方式\n",
    "       width=0.9, alpha = 0.8,\n",
    "       color = factor_cmap('fruits', palette=Spectral6, factors=fruits),    # 设置颜色\n",
    "       legend_label=\"fruits\")\n",
    "# 绘制柱状图，横轴直接显示标签\n",
    "# factor_cmap(field_name, palette, factors, start=0, end=None, nan_color='gray')：颜色转换模块，生成一个颜色转换对象\n",
    "# field_name：分类名称\n",
    "# palette：调色盘\n",
    "# factors：用于在调色盘中分颜色的参数\n",
    "# 参考文档：http://bokeh.pydata.org/en/latest/docs/reference/transform.html\n",
    "\n",
    "p.xgrid.grid_line_color = None\n",
    "p.legend.orientation = \"horizontal\"\n",
    "p.legend.location = \"top_center\"\n",
    "# 其他参数设置\n",
    "\n",
    "show(p)\n",
    "\n",
    "#更新bokeh：conda update bokeh"
   ]
  },
  {
   "cell_type": "code",
   "execution_count": 7,
   "metadata": {
    "collapsed": false,
    "jupyter": {
     "outputs_hidden": false
    }
   },
   "outputs": [
    {
     "name": "stdout",
     "output_type": "stream",
     "text": [
      "{'index': ['Apples', 'Pears', 'Nectarines', 'Plums', 'Grapes', 'Strawberries'], '2015': [2, 1, 4, 3, 2, 4], '2016': [5, 3, 3, 2, 4, 6], '2017': [3, 2, 4, 4, 5, 3]}\n"
     ]
    },
    {
     "name": "stderr",
     "output_type": "stream",
     "text": [
      "BokehDeprecationWarning: 'legend' keyword is deprecated, use explicit 'legend_label', 'legend_field', or 'legend_group' keywords instead\n",
      "BokehDeprecationWarning: 'legend' keyword is deprecated, use explicit 'legend_label', 'legend_field', or 'legend_group' keywords instead\n",
      "BokehDeprecationWarning: 'legend' keyword is deprecated, use explicit 'legend_label', 'legend_field', or 'legend_group' keywords instead\n"
     ]
    },
    {
     "data": {
      "text/html": [
       "\n",
       "\n",
       "\n",
       "\n",
       "\n",
       "\n",
       "  <div class=\"bk-root\" id=\"57978472-cfcb-4179-b9b6-52c700b6b3c2\" data-root-id=\"1530\"></div>\n"
      ]
     },
     "metadata": {},
     "output_type": "display_data"
    },
    {
     "data": {
      "application/javascript": [
       "(function(root) {\n",
       "  function embed_document(root) {\n",
       "    \n",
       "  var docs_json = {\"43c088f7-6575-46f9-a449-7450f2c0ca29\":{\"roots\":{\"references\":[{\"attributes\":{\"below\":[{\"id\":\"1541\"}],\"center\":[{\"id\":\"1543\"},{\"id\":\"1547\"},{\"id\":\"1562\"}],\"left\":[{\"id\":\"1544\"}],\"plot_height\":350,\"renderers\":[{\"id\":\"1553\"},{\"id\":\"1568\"},{\"id\":\"1582\"}],\"title\":{\"id\":\"1531\"},\"toolbar\":{\"id\":\"1548\"},\"x_range\":{\"id\":\"1533\"},\"x_scale\":{\"id\":\"1537\"},\"y_range\":{\"id\":\"1535\"},\"y_scale\":{\"id\":\"1539\"}},\"id\":\"1530\",\"subtype\":\"Figure\",\"type\":\"Plot\"},{\"attributes\":{\"data_source\":{\"id\":\"1529\"},\"glyph\":{\"id\":\"1580\"},\"hover_glyph\":null,\"muted_glyph\":null,\"nonselection_glyph\":{\"id\":\"1581\"},\"selection_glyph\":null,\"view\":{\"id\":\"1583\"}},\"id\":\"1582\",\"type\":\"GlyphRenderer\"},{\"attributes\":{\"range\":{\"id\":\"1533\"}},\"id\":\"1564\",\"type\":\"Dodge\"},{\"attributes\":{\"source\":{\"id\":\"1529\"}},\"id\":\"1583\",\"type\":\"CDSView\"},{\"attributes\":{\"fill_alpha\":{\"value\":0.1},\"fill_color\":{\"value\":\"#c9d9d3\"},\"line_alpha\":{\"value\":0.1},\"line_color\":{\"value\":\"#c9d9d3\"},\"top\":{\"field\":\"2015\"},\"width\":{\"value\":0.2},\"x\":{\"field\":\"index\",\"transform\":{\"id\":\"1549\"}}},\"id\":\"1552\",\"type\":\"VBar\"},{\"attributes\":{\"data\":{\"2015\":[2,1,4,3,2,4],\"2016\":[5,3,3,2,4,6],\"2017\":[3,2,4,4,5,3],\"index\":[\"Apples\",\"Pears\",\"Nectarines\",\"Plums\",\"Grapes\",\"Strawberries\"]},\"selected\":{\"id\":\"1561\"},\"selection_policy\":{\"id\":\"1560\"}},\"id\":\"1529\",\"type\":\"ColumnDataSource\"},{\"attributes\":{},\"id\":\"1545\",\"type\":\"BasicTicker\"},{\"attributes\":{\"range\":{\"id\":\"1533\"},\"value\":-0.25},\"id\":\"1549\",\"type\":\"Dodge\"},{\"attributes\":{\"label\":{\"value\":\"2015\"},\"renderers\":[{\"id\":\"1553\"}]},\"id\":\"1563\",\"type\":\"LegendItem\"},{\"attributes\":{\"data_source\":{\"id\":\"1529\"},\"glyph\":{\"id\":\"1566\"},\"hover_glyph\":null,\"muted_glyph\":null,\"nonselection_glyph\":{\"id\":\"1567\"},\"selection_glyph\":null,\"view\":{\"id\":\"1569\"}},\"id\":\"1568\",\"type\":\"GlyphRenderer\"},{\"attributes\":{\"label\":{\"value\":\"2016\"},\"renderers\":[{\"id\":\"1568\"}]},\"id\":\"1577\",\"type\":\"LegendItem\"},{\"attributes\":{\"fill_color\":{\"value\":\"#c9d9d3\"},\"line_color\":{\"value\":\"#c9d9d3\"},\"top\":{\"field\":\"2015\"},\"width\":{\"value\":0.2},\"x\":{\"field\":\"index\",\"transform\":{\"id\":\"1549\"}}},\"id\":\"1551\",\"type\":\"VBar\"},{\"attributes\":{\"range\":{\"id\":\"1533\"},\"value\":0.25},\"id\":\"1578\",\"type\":\"Dodge\"},{\"attributes\":{\"formatter\":{\"id\":\"1557\"},\"ticker\":{\"id\":\"1542\"}},\"id\":\"1541\",\"type\":\"CategoricalAxis\"},{\"attributes\":{},\"id\":\"1560\",\"type\":\"UnionRenderers\"},{\"attributes\":{\"active_drag\":\"auto\",\"active_inspect\":\"auto\",\"active_multi\":null,\"active_scroll\":\"auto\",\"active_tap\":\"auto\"},\"id\":\"1548\",\"type\":\"Toolbar\"},{\"attributes\":{\"label\":{\"value\":\"2017\"},\"renderers\":[{\"id\":\"1582\"}]},\"id\":\"1591\",\"type\":\"LegendItem\"},{\"attributes\":{\"text\":\"Fruit Counts by Year\"},\"id\":\"1531\",\"type\":\"Title\"},{\"attributes\":{\"factors\":[\"Apples\",\"Pears\",\"Nectarines\",\"Plums\",\"Grapes\",\"Strawberries\"]},\"id\":\"1533\",\"type\":\"FactorRange\"},{\"attributes\":{\"fill_alpha\":{\"value\":0.1},\"fill_color\":{\"value\":\"#e84d60\"},\"line_alpha\":{\"value\":0.1},\"line_color\":{\"value\":\"#e84d60\"},\"top\":{\"field\":\"2017\"},\"width\":{\"value\":0.2},\"x\":{\"field\":\"index\",\"transform\":{\"id\":\"1578\"}}},\"id\":\"1581\",\"type\":\"VBar\"},{\"attributes\":{},\"id\":\"1542\",\"type\":\"CategoricalTicker\"},{\"attributes\":{\"fill_color\":{\"value\":\"#e84d60\"},\"line_color\":{\"value\":\"#e84d60\"},\"top\":{\"field\":\"2017\"},\"width\":{\"value\":0.2},\"x\":{\"field\":\"index\",\"transform\":{\"id\":\"1578\"}}},\"id\":\"1580\",\"type\":\"VBar\"},{\"attributes\":{},\"id\":\"1557\",\"type\":\"CategoricalTickFormatter\"},{\"attributes\":{\"axis\":{\"id\":\"1544\"},\"dimension\":1,\"ticker\":null},\"id\":\"1547\",\"type\":\"Grid\"},{\"attributes\":{\"fill_color\":{\"value\":\"#718dbf\"},\"line_color\":{\"value\":\"#718dbf\"},\"top\":{\"field\":\"2016\"},\"width\":{\"value\":0.2},\"x\":{\"field\":\"index\",\"transform\":{\"id\":\"1564\"}}},\"id\":\"1566\",\"type\":\"VBar\"},{\"attributes\":{\"end\":10},\"id\":\"1535\",\"type\":\"Range1d\"},{\"attributes\":{\"source\":{\"id\":\"1529\"}},\"id\":\"1554\",\"type\":\"CDSView\"},{\"attributes\":{},\"id\":\"1539\",\"type\":\"LinearScale\"},{\"attributes\":{},\"id\":\"1537\",\"type\":\"CategoricalScale\"},{\"attributes\":{},\"id\":\"1561\",\"type\":\"Selection\"},{\"attributes\":{},\"id\":\"1559\",\"type\":\"BasicTickFormatter\"},{\"attributes\":{\"data_source\":{\"id\":\"1529\"},\"glyph\":{\"id\":\"1551\"},\"hover_glyph\":null,\"muted_glyph\":null,\"nonselection_glyph\":{\"id\":\"1552\"},\"selection_glyph\":null,\"view\":{\"id\":\"1554\"}},\"id\":\"1553\",\"type\":\"GlyphRenderer\"},{\"attributes\":{\"axis\":{\"id\":\"1541\"},\"grid_line_color\":null,\"ticker\":null},\"id\":\"1543\",\"type\":\"Grid\"},{\"attributes\":{\"fill_alpha\":{\"value\":0.1},\"fill_color\":{\"value\":\"#718dbf\"},\"line_alpha\":{\"value\":0.1},\"line_color\":{\"value\":\"#718dbf\"},\"top\":{\"field\":\"2016\"},\"width\":{\"value\":0.2},\"x\":{\"field\":\"index\",\"transform\":{\"id\":\"1564\"}}},\"id\":\"1567\",\"type\":\"VBar\"},{\"attributes\":{\"formatter\":{\"id\":\"1559\"},\"ticker\":{\"id\":\"1545\"}},\"id\":\"1544\",\"type\":\"LinearAxis\"},{\"attributes\":{\"source\":{\"id\":\"1529\"}},\"id\":\"1569\",\"type\":\"CDSView\"},{\"attributes\":{\"items\":[{\"id\":\"1563\"},{\"id\":\"1577\"},{\"id\":\"1591\"}],\"location\":\"top_left\",\"orientation\":\"horizontal\"},\"id\":\"1562\",\"type\":\"Legend\"}],\"root_ids\":[\"1530\"]},\"title\":\"Bokeh Application\",\"version\":\"2.2.3\"}};\n",
       "  var render_items = [{\"docid\":\"43c088f7-6575-46f9-a449-7450f2c0ca29\",\"root_ids\":[\"1530\"],\"roots\":{\"1530\":\"57978472-cfcb-4179-b9b6-52c700b6b3c2\"}}];\n",
       "  root.Bokeh.embed.embed_items_notebook(docs_json, render_items);\n",
       "\n",
       "  }\n",
       "  if (root.Bokeh !== undefined) {\n",
       "    embed_document(root);\n",
       "  } else {\n",
       "    var attempts = 0;\n",
       "    var timer = setInterval(function(root) {\n",
       "      if (root.Bokeh !== undefined) {\n",
       "        clearInterval(timer);\n",
       "        embed_document(root);\n",
       "      } else {\n",
       "        attempts++;\n",
       "        if (attempts > 100) {\n",
       "          clearInterval(timer);\n",
       "          console.log(\"Bokeh: ERROR: Unable to run BokehJS code because BokehJS library is missing\");\n",
       "        }\n",
       "      }\n",
       "    }, 10, root)\n",
       "  }\n",
       "})(window);"
      ],
      "application/vnd.bokehjs_exec.v0+json": ""
     },
     "metadata": {
      "application/vnd.bokehjs_exec.v0+json": {
       "id": "1530"
      }
     },
     "output_type": "display_data"
    }
   ],
   "source": [
    "# 2、多系列柱状图\n",
    "# vbar\n",
    "\n",
    "from bokeh.transform import dodge\n",
    "from bokeh.core.properties import value\n",
    "# 导入dodge、value模块\n",
    "\n",
    "df = pd.DataFrame({'2015':[2, 1, 4, 3, 2, 4],'2016':[5, 3, 3, 2, 4, 6], '2017':[3, 2, 4, 4, 5, 3]},\n",
    "                 index = ['Apples', 'Pears', 'Nectarines', 'Plums', 'Grapes', 'Strawberries'])\n",
    "# 创建数据\n",
    "\n",
    "fruits = df.index.tolist()   # 横坐标\n",
    "years = df.columns.tolist()    # 系列名\n",
    "data = {'index':fruits}\n",
    "for year in years:\n",
    "    data[year] = df[year].tolist()\n",
    "print(data)\n",
    "# 生成数据，数据格式为dict\n",
    "\n",
    "source = ColumnDataSource(data=data)\n",
    "# 将数据转化为ColumnDataSource对象\n",
    "\n",
    "p = figure(x_range=fruits, y_range=(0, 10), plot_height=350, title=\"Fruit Counts by Year\",tools=\"\")   #x_range需要为列表\n",
    "\n",
    "p.vbar(x=dodge('index', -0.25, range=p.x_range), top='2015', width=0.2, source=source,color=\"#c9d9d3\", legend=value(\"2015\"))\n",
    "p.vbar(x=dodge('index',  0.0,  range=p.x_range), top='2016', width=0.2, source=source,color=\"#718dbf\", legend=value(\"2016\"))\n",
    "p.vbar(x=dodge('index',  0.25, range=p.x_range), top='2017', width=0.2, source=source,color=\"#e84d60\", legend=value(\"2017\"))\n",
    "# 绘制多系列柱状图\n",
    "# dodge(field_name, value, range=None) → 转换成一个可分组的对象，value为元素的位置（配合width设置）\n",
    "# value(val, transform=None) → 按照年份分为dict\n",
    "\n",
    "p.xgrid.grid_line_color = None\n",
    "p.legend.location = \"top_left\"\n",
    "p.legend.orientation = \"horizontal\"\n",
    "# 其他参数设置\n",
    "\n",
    "show(p)"
   ]
  },
  {
   "cell_type": "code",
   "execution_count": 9,
   "metadata": {
    "collapsed": false,
    "jupyter": {
     "outputs_hidden": false
    }
   },
   "outputs": [
    {
     "name": "stderr",
     "output_type": "stream",
     "text": [
      "BokehDeprecationWarning: 'legend' keyword is deprecated, use explicit 'legend_label', 'legend_field', or 'legend_group' keywords instead\n",
      "BokehDeprecationWarning: 'legend' keyword is deprecated, use explicit 'legend_label', 'legend_field', or 'legend_group' keywords instead\n",
      "BokehDeprecationWarning: 'legend' keyword is deprecated, use explicit 'legend_label', 'legend_field', or 'legend_group' keywords instead\n"
     ]
    },
    {
     "data": {
      "text/html": [
       "\n",
       "\n",
       "\n",
       "\n",
       "\n",
       "\n",
       "  <div class=\"bk-root\" id=\"b1faa212-764e-40af-a0fc-369eea699393\" data-root-id=\"1836\"></div>\n"
      ]
     },
     "metadata": {},
     "output_type": "display_data"
    },
    {
     "data": {
      "application/javascript": [
       "(function(root) {\n",
       "  function embed_document(root) {\n",
       "    \n",
       "  var docs_json = {\"34a23020-862e-460a-b218-40a9af8a96fb\":{\"roots\":{\"references\":[{\"attributes\":{\"below\":[{\"id\":\"1847\"}],\"center\":[{\"id\":\"1849\"},{\"id\":\"1853\"},{\"id\":\"1873\"}],\"left\":[{\"id\":\"1850\"}],\"outline_line_color\":null,\"plot_height\":350,\"renderers\":[{\"id\":\"1864\"},{\"id\":\"1878\"},{\"id\":\"1891\"}],\"title\":{\"id\":\"1837\"},\"toolbar\":{\"id\":\"1854\"},\"x_range\":{\"id\":\"1839\"},\"x_scale\":{\"id\":\"1843\"},\"y_range\":{\"id\":\"1841\"},\"y_scale\":{\"id\":\"1845\"}},\"id\":\"1836\",\"subtype\":\"Figure\",\"type\":\"Plot\"},{\"attributes\":{\"source\":{\"id\":\"1835\"}},\"id\":\"1879\",\"type\":\"CDSView\"},{\"attributes\":{},\"id\":\"1871\",\"type\":\"UnionRenderers\"},{\"attributes\":{\"bottom\":{\"expr\":{\"id\":\"1857\"}},\"fill_color\":{\"value\":\"#718dbf\"},\"line_color\":{\"value\":\"#718dbf\"},\"top\":{\"expr\":{\"id\":\"1858\"}},\"width\":{\"value\":0.9},\"x\":{\"field\":\"fruits\"}},\"id\":\"1876\",\"type\":\"VBar\"},{\"attributes\":{\"factors\":[\"Apples\",\"Pears\",\"Nectarines\",\"Plums\",\"Grapes\",\"Strawberries\"]},\"id\":\"1839\",\"type\":\"FactorRange\"},{\"attributes\":{\"label\":{\"value\":\"2015\"},\"renderers\":[{\"id\":\"1864\"}]},\"id\":\"1874\",\"type\":\"LegendItem\"},{\"attributes\":{\"formatter\":{\"id\":\"1868\"},\"minor_tick_line_color\":null,\"ticker\":{\"id\":\"1848\"}},\"id\":\"1847\",\"type\":\"CategoricalAxis\"},{\"attributes\":{\"bottom\":{\"expr\":{\"id\":\"1855\"}},\"fill_color\":{\"value\":\"#c9d9d3\"},\"line_color\":{\"value\":\"#c9d9d3\"},\"top\":{\"expr\":{\"id\":\"1856\"}},\"width\":{\"value\":0.9},\"x\":{\"field\":\"fruits\"}},\"id\":\"1862\",\"type\":\"VBar\"},{\"attributes\":{\"data_source\":{\"id\":\"1835\"},\"glyph\":{\"id\":\"1876\"},\"hover_glyph\":null,\"muted_glyph\":null,\"name\":\"2016\",\"nonselection_glyph\":{\"id\":\"1877\"},\"selection_glyph\":null,\"view\":{\"id\":\"1879\"}},\"id\":\"1878\",\"type\":\"GlyphRenderer\"},{\"attributes\":{\"fields\":[\"2015\",\"2016\"]},\"id\":\"1859\",\"type\":\"Stack\"},{\"attributes\":{\"fields\":[\"2015\",\"2016\",\"2017\"]},\"id\":\"1860\",\"type\":\"Stack\"},{\"attributes\":{},\"id\":\"1843\",\"type\":\"CategoricalScale\"},{\"attributes\":{\"bottom\":{\"expr\":{\"id\":\"1855\"}},\"fill_alpha\":{\"value\":0.1},\"fill_color\":{\"value\":\"#c9d9d3\"},\"line_alpha\":{\"value\":0.1},\"line_color\":{\"value\":\"#c9d9d3\"},\"top\":{\"expr\":{\"id\":\"1856\"}},\"width\":{\"value\":0.9},\"x\":{\"field\":\"fruits\"}},\"id\":\"1863\",\"type\":\"VBar\"},{\"attributes\":{\"axis\":{\"id\":\"1847\"},\"grid_line_color\":null,\"ticker\":null},\"id\":\"1849\",\"type\":\"Grid\"},{\"attributes\":{\"bottom\":{\"expr\":{\"id\":\"1859\"}},\"fill_alpha\":{\"value\":0.1},\"fill_color\":{\"value\":\"#e84d60\"},\"line_alpha\":{\"value\":0.1},\"line_color\":{\"value\":\"#e84d60\"},\"top\":{\"expr\":{\"id\":\"1860\"}},\"width\":{\"value\":0.9},\"x\":{\"field\":\"fruits\"}},\"id\":\"1890\",\"type\":\"VBar\"},{\"attributes\":{\"fields\":[\"2015\"]},\"id\":\"1857\",\"type\":\"Stack\"},{\"attributes\":{\"label\":{\"value\":\"2016\"},\"renderers\":[{\"id\":\"1878\"}]},\"id\":\"1887\",\"type\":\"LegendItem\"},{\"attributes\":{},\"id\":\"1872\",\"type\":\"Selection\"},{\"attributes\":{\"data\":{\"2015\":[2,1,4,3,2,4],\"2016\":[5,3,4,2,4,6],\"2017\":[3,2,4,4,5,3],\"fruits\":[\"Apples\",\"Pears\",\"Nectarines\",\"Plums\",\"Grapes\",\"Strawberries\"]},\"selected\":{\"id\":\"1872\"},\"selection_policy\":{\"id\":\"1871\"}},\"id\":\"1835\",\"type\":\"ColumnDataSource\"},{\"attributes\":{},\"id\":\"1841\",\"type\":\"DataRange1d\"},{\"attributes\":{\"fields\":[\"2015\",\"2016\"]},\"id\":\"1858\",\"type\":\"Stack\"},{\"attributes\":{},\"id\":\"1848\",\"type\":\"CategoricalTicker\"},{\"attributes\":{},\"id\":\"1870\",\"type\":\"BasicTickFormatter\"},{\"attributes\":{\"fields\":[\"2015\"]},\"id\":\"1856\",\"type\":\"Stack\"},{\"attributes\":{\"source\":{\"id\":\"1835\"}},\"id\":\"1892\",\"type\":\"CDSView\"},{\"attributes\":{},\"id\":\"1851\",\"type\":\"BasicTicker\"},{\"attributes\":{\"data_source\":{\"id\":\"1835\"},\"glyph\":{\"id\":\"1862\"},\"hover_glyph\":null,\"muted_glyph\":null,\"name\":\"2015\",\"nonselection_glyph\":{\"id\":\"1863\"},\"selection_glyph\":null,\"view\":{\"id\":\"1865\"}},\"id\":\"1864\",\"type\":\"GlyphRenderer\"},{\"attributes\":{\"bottom\":{\"expr\":{\"id\":\"1857\"}},\"fill_alpha\":{\"value\":0.1},\"fill_color\":{\"value\":\"#718dbf\"},\"line_alpha\":{\"value\":0.1},\"line_color\":{\"value\":\"#718dbf\"},\"top\":{\"expr\":{\"id\":\"1858\"}},\"width\":{\"value\":0.9},\"x\":{\"field\":\"fruits\"}},\"id\":\"1877\",\"type\":\"VBar\"},{\"attributes\":{\"data_source\":{\"id\":\"1835\"},\"glyph\":{\"id\":\"1889\"},\"hover_glyph\":null,\"muted_glyph\":null,\"name\":\"2017\",\"nonselection_glyph\":{\"id\":\"1890\"},\"selection_glyph\":null,\"view\":{\"id\":\"1892\"}},\"id\":\"1891\",\"type\":\"GlyphRenderer\"},{\"attributes\":{\"text\":\"Fruit Counts by Year\"},\"id\":\"1837\",\"type\":\"Title\"},{\"attributes\":{\"axis\":{\"id\":\"1850\"},\"dimension\":1,\"ticker\":null},\"id\":\"1853\",\"type\":\"Grid\"},{\"attributes\":{},\"id\":\"1868\",\"type\":\"CategoricalTickFormatter\"},{\"attributes\":{\"active_drag\":\"auto\",\"active_inspect\":\"auto\",\"active_multi\":null,\"active_scroll\":\"auto\",\"active_tap\":\"auto\"},\"id\":\"1854\",\"type\":\"Toolbar\"},{\"attributes\":{\"formatter\":{\"id\":\"1870\"},\"minor_tick_line_color\":null,\"ticker\":{\"id\":\"1851\"}},\"id\":\"1850\",\"type\":\"LinearAxis\"},{\"attributes\":{\"label\":{\"value\":\"2017\"},\"renderers\":[{\"id\":\"1891\"}]},\"id\":\"1900\",\"type\":\"LegendItem\"},{\"attributes\":{\"items\":[{\"id\":\"1874\"},{\"id\":\"1887\"},{\"id\":\"1900\"}],\"location\":\"top_left\",\"orientation\":\"horizontal\"},\"id\":\"1873\",\"type\":\"Legend\"},{\"attributes\":{\"source\":{\"id\":\"1835\"}},\"id\":\"1865\",\"type\":\"CDSView\"},{\"attributes\":{\"bottom\":{\"expr\":{\"id\":\"1859\"}},\"fill_color\":{\"value\":\"#e84d60\"},\"line_color\":{\"value\":\"#e84d60\"},\"top\":{\"expr\":{\"id\":\"1860\"}},\"width\":{\"value\":0.9},\"x\":{\"field\":\"fruits\"}},\"id\":\"1889\",\"type\":\"VBar\"},{\"attributes\":{},\"id\":\"1845\",\"type\":\"LinearScale\"},{\"attributes\":{\"fields\":[]},\"id\":\"1855\",\"type\":\"Stack\"}],\"root_ids\":[\"1836\"]},\"title\":\"Bokeh Application\",\"version\":\"2.2.3\"}};\n",
       "  var render_items = [{\"docid\":\"34a23020-862e-460a-b218-40a9af8a96fb\",\"root_ids\":[\"1836\"],\"roots\":{\"1836\":\"b1faa212-764e-40af-a0fc-369eea699393\"}}];\n",
       "  root.Bokeh.embed.embed_items_notebook(docs_json, render_items);\n",
       "\n",
       "  }\n",
       "  if (root.Bokeh !== undefined) {\n",
       "    embed_document(root);\n",
       "  } else {\n",
       "    var attempts = 0;\n",
       "    var timer = setInterval(function(root) {\n",
       "      if (root.Bokeh !== undefined) {\n",
       "        clearInterval(timer);\n",
       "        embed_document(root);\n",
       "      } else {\n",
       "        attempts++;\n",
       "        if (attempts > 100) {\n",
       "          clearInterval(timer);\n",
       "          console.log(\"Bokeh: ERROR: Unable to run BokehJS code because BokehJS library is missing\");\n",
       "        }\n",
       "      }\n",
       "    }, 10, root)\n",
       "  }\n",
       "})(window);"
      ],
      "application/vnd.bokehjs_exec.v0+json": ""
     },
     "metadata": {
      "application/vnd.bokehjs_exec.v0+json": {
       "id": "1836"
      }
     },
     "output_type": "display_data"
    }
   ],
   "source": [
    "# 3、堆叠图\n",
    "\n",
    "from bokeh.core.properties import value\n",
    "# 导入value模块\n",
    "\n",
    "fruits = ['Apples', 'Pears', 'Nectarines', 'Plums', 'Grapes', 'Strawberries']\n",
    "years = [\"2015\", \"2016\", \"2017\"]\n",
    "colors = [\"#c9d9d3\", \"#718dbf\", \"#e84d60\"]\n",
    "data = {'fruits' : fruits,\n",
    "        '2015'   : [2, 1, 4, 3, 2, 4],\n",
    "        '2016'   : [5, 3, 4, 2, 4, 6],\n",
    "        '2017'   : [3, 2, 4, 4, 5, 3]}\n",
    "source = ColumnDataSource(data=data)\n",
    "# 创建数据\n",
    "\n",
    "p = figure(x_range=fruits, plot_height=350, title=\"Fruit Counts by Year\",tools=\"\")\n",
    "renderers = p.vbar_stack(years,          # 设置堆叠值，这里source中包含了不同年份的值，years变量用于识别不同堆叠层\n",
    "                         x='fruits',     # 设置x坐标\n",
    "                         source=source,\n",
    "                         width=0.9, color=colors,\n",
    "                         legend=[value(x) for x in years], name=years)\n",
    "# 绘制堆叠图\n",
    "# 注意第一个参数需要放years\n",
    "\n",
    "p.xgrid.grid_line_color = None\n",
    "p.axis.minor_tick_line_color = None\n",
    "p.outline_line_color = None\n",
    "p.legend.location = \"top_left\"\n",
    "p.legend.orientation = \"horizontal\"\n",
    "# 设置其他参数\n",
    "\n",
    "show(p)"
   ]
  },
  {
   "cell_type": "code",
   "execution_count": 16,
   "metadata": {
    "collapsed": false,
    "jupyter": {
     "outputs_hidden": false
    }
   },
   "outputs": [
    {
     "name": "stderr",
     "output_type": "stream",
     "text": [
      "BokehDeprecationWarning: 'legend' keyword is deprecated, use explicit 'legend_label', 'legend_field', or 'legend_group' keywords instead\n",
      "BokehDeprecationWarning: 'legend' keyword is deprecated, use explicit 'legend_label', 'legend_field', or 'legend_group' keywords instead\n",
      "BokehDeprecationWarning: 'legend' keyword is deprecated, use explicit 'legend_label', 'legend_field', or 'legend_group' keywords instead\n",
      "BokehDeprecationWarning: 'legend' keyword is deprecated, use explicit 'legend_label', 'legend_field', or 'legend_group' keywords instead\n",
      "BokehDeprecationWarning: 'legend' keyword is deprecated, use explicit 'legend_label', 'legend_field', or 'legend_group' keywords instead\n",
      "BokehDeprecationWarning: 'legend' keyword is deprecated, use explicit 'legend_label', 'legend_field', or 'legend_group' keywords instead\n"
     ]
    },
    {
     "data": {
      "text/html": [
       "\n",
       "\n",
       "\n",
       "\n",
       "\n",
       "\n",
       "  <div class=\"bk-root\" id=\"4df2ffb1-bdd1-4b81-a979-566276082040\" data-root-id=\"3542\"></div>\n"
      ]
     },
     "metadata": {},
     "output_type": "display_data"
    },
    {
     "data": {
      "application/javascript": [
       "(function(root) {\n",
       "  function embed_document(root) {\n",
       "    \n",
       "  var docs_json = {\"c1d4276d-e202-43c0-90bd-49c9c4fdc471\":{\"roots\":{\"references\":[{\"attributes\":{\"below\":[{\"id\":\"3553\"}],\"center\":[{\"id\":\"3556\"},{\"id\":\"3559\"},{\"id\":\"3594\"}],\"left\":[{\"id\":\"3557\"}],\"outline_line_color\":null,\"plot_height\":350,\"renderers\":[{\"id\":\"3584\"},{\"id\":\"3599\"},{\"id\":\"3613\"},{\"id\":\"3634\"},{\"id\":\"3650\"},{\"id\":\"3666\"}],\"title\":{\"id\":\"3543\"},\"toolbar\":{\"id\":\"3567\"},\"x_range\":{\"id\":\"3545\"},\"x_scale\":{\"id\":\"3549\"},\"y_range\":{\"id\":\"3547\"},\"y_scale\":{\"id\":\"3551\"}},\"id\":\"3542\",\"subtype\":\"Figure\",\"type\":\"Plot\"},{\"attributes\":{\"label\":{\"value\":\"2017 exports\"},\"renderers\":[{\"id\":\"3613\"}]},\"id\":\"3623\",\"type\":\"LegendItem\"},{\"attributes\":{\"fill_color\":{\"value\":\"#e0f3db\"},\"height\":{\"value\":0.9},\"left\":{\"expr\":{\"id\":\"3579\"}},\"line_color\":{\"value\":\"#e0f3db\"},\"right\":{\"expr\":{\"id\":\"3580\"}},\"y\":{\"field\":\"fruits\"}},\"id\":\"3611\",\"type\":\"HBar\"},{\"attributes\":{\"fill_alpha\":{\"value\":0.1},\"fill_color\":{\"value\":\"#43a2ca\"},\"height\":{\"value\":0.9},\"left\":{\"expr\":{\"id\":\"3575\"}},\"line_alpha\":{\"value\":0.1},\"line_color\":{\"value\":\"#43a2ca\"},\"right\":{\"expr\":{\"id\":\"3576\"}},\"y\":{\"field\":\"fruits\"}},\"id\":\"3583\",\"type\":\"HBar\"},{\"attributes\":{\"fields\":[]},\"id\":\"3575\",\"type\":\"Stack\"},{\"attributes\":{\"fill_alpha\":{\"value\":0.1},\"fill_color\":{\"value\":\"#fdbb84\"},\"height\":{\"value\":0.9},\"left\":{\"expr\":{\"id\":\"3627\"}},\"line_alpha\":{\"value\":0.1},\"line_color\":{\"value\":\"#fdbb84\"},\"right\":{\"expr\":{\"id\":\"3628\"}},\"y\":{\"field\":\"fruits\"}},\"id\":\"3649\",\"type\":\"HBar\"},{\"attributes\":{\"fill_color\":{\"value\":\"#fdbb84\"},\"height\":{\"value\":0.9},\"left\":{\"expr\":{\"id\":\"3627\"}},\"line_color\":{\"value\":\"#fdbb84\"},\"right\":{\"expr\":{\"id\":\"3628\"}},\"y\":{\"field\":\"fruits\"}},\"id\":\"3648\",\"type\":\"HBar\"},{\"attributes\":{\"source\":{\"id\":\"3574\"}},\"id\":\"3600\",\"type\":\"CDSView\"},{\"attributes\":{\"source\":{\"id\":\"3624\"}},\"id\":\"3651\",\"type\":\"CDSView\"},{\"attributes\":{\"label\":{\"value\":\"2015 exports\"},\"renderers\":[{\"id\":\"3584\"}]},\"id\":\"3595\",\"type\":\"LegendItem\"},{\"attributes\":{\"fields\":[\"2015\",\"2016\",\"2017\"]},\"id\":\"3580\",\"type\":\"Stack\"},{\"attributes\":{\"source\":{\"id\":\"3624\"}},\"id\":\"3635\",\"type\":\"CDSView\"},{\"attributes\":{\"data_source\":{\"id\":\"3574\"},\"glyph\":{\"id\":\"3611\"},\"hover_glyph\":null,\"muted_glyph\":null,\"name\":\"2017\",\"nonselection_glyph\":{\"id\":\"3612\"},\"selection_glyph\":null,\"view\":{\"id\":\"3614\"}},\"id\":\"3613\",\"type\":\"GlyphRenderer\"},{\"attributes\":{},\"id\":\"3593\",\"type\":\"Selection\"},{\"attributes\":{\"fields\":[\"2015\"]},\"id\":\"3576\",\"type\":\"Stack\"},{\"attributes\":{\"text\":\"Fruit import/export, by year\"},\"id\":\"3543\",\"type\":\"Title\"},{\"attributes\":{\"fields\":[\"2015\",\"2016\"]},\"id\":\"3628\",\"type\":\"Stack\"},{\"attributes\":{\"data_source\":{\"id\":\"3624\"},\"glyph\":{\"id\":\"3648\"},\"hover_glyph\":null,\"muted_glyph\":null,\"name\":\"2016\",\"nonselection_glyph\":{\"id\":\"3649\"},\"selection_glyph\":null,\"view\":{\"id\":\"3651\"}},\"id\":\"3650\",\"type\":\"GlyphRenderer\"},{\"attributes\":{\"end\":16,\"start\":-16},\"id\":\"3545\",\"type\":\"Range1d\"},{\"attributes\":{\"fill_alpha\":{\"value\":0.1},\"fill_color\":{\"value\":\"#e0f3db\"},\"height\":{\"value\":0.9},\"left\":{\"expr\":{\"id\":\"3579\"}},\"line_alpha\":{\"value\":0.1},\"line_color\":{\"value\":\"#e0f3db\"},\"right\":{\"expr\":{\"id\":\"3580\"}},\"y\":{\"field\":\"fruits\"}},\"id\":\"3612\",\"type\":\"HBar\"},{\"attributes\":{\"source\":{\"id\":\"3574\"}},\"id\":\"3614\",\"type\":\"CDSView\"},{\"attributes\":{},\"id\":\"3551\",\"type\":\"CategoricalScale\"},{\"attributes\":{\"source\":{\"id\":\"3574\"}},\"id\":\"3585\",\"type\":\"CDSView\"},{\"attributes\":{\"fill_alpha\":{\"value\":0.1},\"fill_color\":{\"value\":\"#e34a33\"},\"height\":{\"value\":0.9},\"left\":{\"expr\":{\"id\":\"3625\"}},\"line_alpha\":{\"value\":0.1},\"line_color\":{\"value\":\"#e34a33\"},\"right\":{\"expr\":{\"id\":\"3626\"}},\"y\":{\"field\":\"fruits\"}},\"id\":\"3633\",\"type\":\"HBar\"},{\"attributes\":{\"factors\":[\"Apples\",\"Pears\",\"Nectarines\",\"Plums\",\"Grapes\",\"Strawberries\"],\"range_padding\":0.2},\"id\":\"3547\",\"type\":\"FactorRange\"},{\"attributes\":{\"label\":{\"value\":\"2016 imports\"},\"renderers\":[{\"id\":\"3650\"}]},\"id\":\"3662\",\"type\":\"LegendItem\"},{\"attributes\":{\"fields\":[\"2015\"]},\"id\":\"3626\",\"type\":\"Stack\"},{\"attributes\":{\"formatter\":{\"id\":\"3588\"},\"minor_tick_line_color\":\"red\",\"ticker\":{\"id\":\"3554\"}},\"id\":\"3553\",\"type\":\"LinearAxis\"},{\"attributes\":{\"fields\":[\"2015\"]},\"id\":\"3627\",\"type\":\"Stack\"},{\"attributes\":{\"fields\":[\"2015\",\"2016\"]},\"id\":\"3578\",\"type\":\"Stack\"},{\"attributes\":{\"fields\":[\"2015\",\"2016\"]},\"id\":\"3629\",\"type\":\"Stack\"},{\"attributes\":{\"formatter\":{\"id\":\"3590\"},\"minor_tick_line_color\":\"red\",\"ticker\":{\"id\":\"3558\"}},\"id\":\"3557\",\"type\":\"CategoricalAxis\"},{\"attributes\":{\"fields\":[\"2015\",\"2016\"]},\"id\":\"3579\",\"type\":\"Stack\"},{\"attributes\":{\"fields\":[\"2015\",\"2016\",\"2017\"]},\"id\":\"3630\",\"type\":\"Stack\"},{\"attributes\":{},\"id\":\"3549\",\"type\":\"LinearScale\"},{\"attributes\":{\"data\":{\"2015\":[-1,0,-1,-3,-2,-1],\"2016\":[-2,-1,-3,-1,-2,-2],\"2017\":[-1,-2,-1,0,-2,-2],\"fruits\":[\"Apples\",\"Pears\",\"Nectarines\",\"Plums\",\"Grapes\",\"Strawberries\"]},\"selected\":{\"id\":\"3645\"},\"selection_policy\":{\"id\":\"3644\"}},\"id\":\"3624\",\"type\":\"ColumnDataSource\"},{\"attributes\":{},\"id\":\"3565\",\"type\":\"HelpTool\"},{\"attributes\":{\"fill_color\":{\"value\":\"#e34a33\"},\"height\":{\"value\":0.9},\"left\":{\"expr\":{\"id\":\"3625\"}},\"line_color\":{\"value\":\"#e34a33\"},\"right\":{\"expr\":{\"id\":\"3626\"}},\"y\":{\"field\":\"fruits\"}},\"id\":\"3632\",\"type\":\"HBar\"},{\"attributes\":{},\"id\":\"3554\",\"type\":\"BasicTicker\"},{\"attributes\":{},\"id\":\"3592\",\"type\":\"UnionRenderers\"},{\"attributes\":{\"axis\":{\"id\":\"3553\"},\"ticker\":null},\"id\":\"3556\",\"type\":\"Grid\"},{\"attributes\":{},\"id\":\"3588\",\"type\":\"BasicTickFormatter\"},{\"attributes\":{},\"id\":\"3645\",\"type\":\"Selection\"},{\"attributes\":{\"fields\":[]},\"id\":\"3625\",\"type\":\"Stack\"},{\"attributes\":{\"fill_color\":{\"value\":\"#a8ddb5\"},\"height\":{\"value\":0.9},\"left\":{\"expr\":{\"id\":\"3577\"}},\"line_color\":{\"value\":\"#a8ddb5\"},\"right\":{\"expr\":{\"id\":\"3578\"}},\"y\":{\"field\":\"fruits\"}},\"id\":\"3597\",\"type\":\"HBar\"},{\"attributes\":{},\"id\":\"3644\",\"type\":\"UnionRenderers\"},{\"attributes\":{\"data_source\":{\"id\":\"3574\"},\"glyph\":{\"id\":\"3597\"},\"hover_glyph\":null,\"muted_glyph\":null,\"name\":\"2016\",\"nonselection_glyph\":{\"id\":\"3598\"},\"selection_glyph\":null,\"view\":{\"id\":\"3600\"}},\"id\":\"3599\",\"type\":\"GlyphRenderer\"},{\"attributes\":{\"axis\":{\"id\":\"3557\"},\"dimension\":1,\"grid_line_color\":null,\"ticker\":null},\"id\":\"3559\",\"type\":\"Grid\"},{\"attributes\":{\"data\":{\"2015\":[2,1,4,3,2,4],\"2016\":[5,3,4,2,4,6],\"2017\":[3,2,4,4,5,3],\"fruits\":[\"Apples\",\"Pears\",\"Nectarines\",\"Plums\",\"Grapes\",\"Strawberries\"]},\"selected\":{\"id\":\"3593\"},\"selection_policy\":{\"id\":\"3592\"}},\"id\":\"3574\",\"type\":\"ColumnDataSource\"},{\"attributes\":{\"data_source\":{\"id\":\"3624\"},\"glyph\":{\"id\":\"3632\"},\"hover_glyph\":null,\"muted_glyph\":null,\"name\":\"2015\",\"nonselection_glyph\":{\"id\":\"3633\"},\"selection_glyph\":null,\"view\":{\"id\":\"3635\"}},\"id\":\"3634\",\"type\":\"GlyphRenderer\"},{\"attributes\":{\"label\":{\"value\":\"2015 imports\"},\"renderers\":[{\"id\":\"3634\"}]},\"id\":\"3646\",\"type\":\"LegendItem\"},{\"attributes\":{},\"id\":\"3558\",\"type\":\"CategoricalTicker\"},{\"attributes\":{\"data_source\":{\"id\":\"3574\"},\"glyph\":{\"id\":\"3582\"},\"hover_glyph\":null,\"muted_glyph\":null,\"name\":\"2015\",\"nonselection_glyph\":{\"id\":\"3583\"},\"selection_glyph\":null,\"view\":{\"id\":\"3585\"}},\"id\":\"3584\",\"type\":\"GlyphRenderer\"},{\"attributes\":{\"fill_alpha\":{\"value\":0.1},\"fill_color\":{\"value\":\"#a8ddb5\"},\"height\":{\"value\":0.9},\"left\":{\"expr\":{\"id\":\"3577\"}},\"line_alpha\":{\"value\":0.1},\"line_color\":{\"value\":\"#a8ddb5\"},\"right\":{\"expr\":{\"id\":\"3578\"}},\"y\":{\"field\":\"fruits\"}},\"id\":\"3598\",\"type\":\"HBar\"},{\"attributes\":{\"fill_alpha\":{\"value\":0.1},\"fill_color\":{\"value\":\"#fee8c8\"},\"height\":{\"value\":0.9},\"left\":{\"expr\":{\"id\":\"3629\"}},\"line_alpha\":{\"value\":0.1},\"line_color\":{\"value\":\"#fee8c8\"},\"right\":{\"expr\":{\"id\":\"3630\"}},\"y\":{\"field\":\"fruits\"}},\"id\":\"3665\",\"type\":\"HBar\"},{\"attributes\":{\"bottom_units\":\"screen\",\"fill_alpha\":0.5,\"fill_color\":\"lightgrey\",\"left_units\":\"screen\",\"level\":\"overlay\",\"line_alpha\":1.0,\"line_color\":\"black\",\"line_dash\":[4,4],\"line_width\":2,\"right_units\":\"screen\",\"top_units\":\"screen\"},\"id\":\"3566\",\"type\":\"BoxAnnotation\"},{\"attributes\":{\"active_drag\":\"auto\",\"active_inspect\":\"auto\",\"active_multi\":null,\"active_scroll\":\"auto\",\"active_tap\":\"auto\",\"tools\":[{\"id\":\"3560\"},{\"id\":\"3561\"},{\"id\":\"3562\"},{\"id\":\"3563\"},{\"id\":\"3564\"},{\"id\":\"3565\"}]},\"id\":\"3567\",\"type\":\"Toolbar\"},{\"attributes\":{},\"id\":\"3561\",\"type\":\"WheelZoomTool\"},{\"attributes\":{\"fill_color\":{\"value\":\"#fee8c8\"},\"height\":{\"value\":0.9},\"left\":{\"expr\":{\"id\":\"3629\"}},\"line_color\":{\"value\":\"#fee8c8\"},\"right\":{\"expr\":{\"id\":\"3630\"}},\"y\":{\"field\":\"fruits\"}},\"id\":\"3664\",\"type\":\"HBar\"},{\"attributes\":{\"fill_color\":{\"value\":\"#43a2ca\"},\"height\":{\"value\":0.9},\"left\":{\"expr\":{\"id\":\"3575\"}},\"line_color\":{\"value\":\"#43a2ca\"},\"right\":{\"expr\":{\"id\":\"3576\"}},\"y\":{\"field\":\"fruits\"}},\"id\":\"3582\",\"type\":\"HBar\"},{\"attributes\":{},\"id\":\"3590\",\"type\":\"CategoricalTickFormatter\"},{\"attributes\":{\"items\":[{\"id\":\"3595\"},{\"id\":\"3609\"},{\"id\":\"3623\"},{\"id\":\"3646\"},{\"id\":\"3662\"},{\"id\":\"3678\"}],\"location\":\"top_left\"},\"id\":\"3594\",\"type\":\"Legend\"},{\"attributes\":{},\"id\":\"3560\",\"type\":\"PanTool\"},{\"attributes\":{\"source\":{\"id\":\"3624\"}},\"id\":\"3667\",\"type\":\"CDSView\"},{\"attributes\":{\"overlay\":{\"id\":\"3566\"}},\"id\":\"3562\",\"type\":\"BoxZoomTool\"},{\"attributes\":{},\"id\":\"3563\",\"type\":\"SaveTool\"},{\"attributes\":{},\"id\":\"3564\",\"type\":\"ResetTool\"},{\"attributes\":{\"label\":{\"value\":\"2017 imports\"},\"renderers\":[{\"id\":\"3666\"}]},\"id\":\"3678\",\"type\":\"LegendItem\"},{\"attributes\":{\"label\":{\"value\":\"2016 exports\"},\"renderers\":[{\"id\":\"3599\"}]},\"id\":\"3609\",\"type\":\"LegendItem\"},{\"attributes\":{\"data_source\":{\"id\":\"3624\"},\"glyph\":{\"id\":\"3664\"},\"hover_glyph\":null,\"muted_glyph\":null,\"name\":\"2017\",\"nonselection_glyph\":{\"id\":\"3665\"},\"selection_glyph\":null,\"view\":{\"id\":\"3667\"}},\"id\":\"3666\",\"type\":\"GlyphRenderer\"},{\"attributes\":{\"fields\":[\"2015\"]},\"id\":\"3577\",\"type\":\"Stack\"}],\"root_ids\":[\"3542\"]},\"title\":\"Bokeh Application\",\"version\":\"2.2.3\"}};\n",
       "  var render_items = [{\"docid\":\"c1d4276d-e202-43c0-90bd-49c9c4fdc471\",\"root_ids\":[\"3542\"],\"roots\":{\"3542\":\"4df2ffb1-bdd1-4b81-a979-566276082040\"}}];\n",
       "  root.Bokeh.embed.embed_items_notebook(docs_json, render_items);\n",
       "\n",
       "  }\n",
       "  if (root.Bokeh !== undefined) {\n",
       "    embed_document(root);\n",
       "  } else {\n",
       "    var attempts = 0;\n",
       "    var timer = setInterval(function(root) {\n",
       "      if (root.Bokeh !== undefined) {\n",
       "        clearInterval(timer);\n",
       "        embed_document(root);\n",
       "      } else {\n",
       "        attempts++;\n",
       "        if (attempts > 100) {\n",
       "          clearInterval(timer);\n",
       "          console.log(\"Bokeh: ERROR: Unable to run BokehJS code because BokehJS library is missing\");\n",
       "        }\n",
       "      }\n",
       "    }, 10, root)\n",
       "  }\n",
       "})(window);"
      ],
      "application/vnd.bokehjs_exec.v0+json": ""
     },
     "metadata": {
      "application/vnd.bokehjs_exec.v0+json": {
       "id": "3542"
      }
     },
     "output_type": "display_data"
    }
   ],
   "source": [
    "# 3、堆叠图\n",
    "\n",
    "from bokeh.palettes import GnBu3, OrRd3\n",
    "# 导入颜色模块\n",
    "\n",
    "fruits = ['Apples', 'Pears', 'Nectarines', 'Plums', 'Grapes', 'Strawberries']\n",
    "years = [\"2015\", \"2016\", \"2017\"]\n",
    "exports = {'fruits' : fruits,\n",
    "           '2015'   : [2, 1, 4, 3, 2, 4],\n",
    "           '2016'   : [5, 3, 4, 2, 4, 6],\n",
    "           '2017'   : [3, 2, 4, 4, 5, 3]}\n",
    "imports = {'fruits' : fruits,\n",
    "           '2015'   : [-1, 0, -1, -3, -2, -1],\n",
    "           '2016'   : [-2, -1, -3, -1, -2, -2],\n",
    "           '2017'   : [-1, -2, -1, 0, -2, -2]}\n",
    "\n",
    "p = figure(y_range=fruits, plot_height=350, x_range=(-16, 16), title=\"Fruit import/export, by year\")\n",
    "\n",
    "p.hbar_stack(years, y='fruits', height=0.9, color=GnBu3, source=ColumnDataSource(exports),\n",
    "             legend=[\"%s exports\" % x for x in years])      # 绘制出口数据堆叠图\n",
    "\n",
    "p.hbar_stack(years, y='fruits', height=0.9, color=OrRd3, source=ColumnDataSource(imports),\n",
    "             legend=[\"%s imports\" % x for x in years])      # 绘制进口数据堆叠图，这里值为负值\n",
    "\n",
    "p.y_range.range_padding = 0.2     # 调整边界间隔\n",
    "p.ygrid.grid_line_color = None   \n",
    "p.legend.location = \"top_left\"\n",
    "p.axis.minor_tick_line_color = 'red'\n",
    "p.outline_line_color = None\n",
    "# 设置其他参数\n",
    "\n",
    "show(p)"
   ]
  },
  {
   "cell_type": "code",
   "execution_count": 17,
   "metadata": {
    "collapsed": false,
    "jupyter": {
     "outputs_hidden": false
    }
   },
   "outputs": [
    {
     "name": "stdout",
     "output_type": "stream",
     "text": [
      "           value\n",
      "index           \n",
      "0     -51.806035\n",
      "1     -82.415547\n",
      "2     -72.315673\n",
      "3      79.522757\n",
      "4      12.108624\n",
      "[ 2  2 10 23 43]\n",
      "[-330.74629994 -292.85066905 -254.95503815 -217.05940726 -179.16377637\n",
      " -141.26814547 -103.37251458  -65.47688369  -27.58125279   10.3143781\n",
      "   48.21000899   86.10563989  124.00127078  161.89690167  199.79253256\n",
      "  237.68816346  275.58379435  313.47942524  351.37505614  389.27068703\n",
      "  427.16631792]\n"
     ]
    },
    {
     "data": {
      "text/html": [
       "\n",
       "\n",
       "\n",
       "\n",
       "\n",
       "\n",
       "  <div class=\"bk-root\" id=\"10844ddf-9933-416f-88e7-02cc2f60cd59\" data-root-id=\"3853\"></div>\n"
      ]
     },
     "metadata": {},
     "output_type": "display_data"
    },
    {
     "data": {
      "application/javascript": [
       "(function(root) {\n",
       "  function embed_document(root) {\n",
       "    \n",
       "  var docs_json = {\"32420c59-04f4-420d-ae33-404ec8cf76d2\":{\"roots\":{\"references\":[{\"attributes\":{\"background_fill_color\":\"#E8DDCB\",\"below\":[{\"id\":\"3864\"}],\"center\":[{\"id\":\"3867\"},{\"id\":\"3871\"}],\"left\":[{\"id\":\"3868\"}],\"renderers\":[{\"id\":\"3878\"}],\"title\":{\"id\":\"3854\"},\"toolbar\":{\"id\":\"3873\"},\"x_range\":{\"id\":\"3856\"},\"x_scale\":{\"id\":\"3860\"},\"y_range\":{\"id\":\"3858\"},\"y_scale\":{\"id\":\"3862\"}},\"id\":\"3853\",\"subtype\":\"Figure\",\"type\":\"Plot\"},{\"attributes\":{},\"id\":\"3872\",\"type\":\"SaveTool\"},{\"attributes\":{\"text\":\"HIST\"},\"id\":\"3854\",\"type\":\"Title\"},{\"attributes\":{},\"id\":\"3856\",\"type\":\"DataRange1d\"},{\"attributes\":{},\"id\":\"3858\",\"type\":\"DataRange1d\"},{\"attributes\":{},\"id\":\"3860\",\"type\":\"LinearScale\"},{\"attributes\":{},\"id\":\"4008\",\"type\":\"BasicTickFormatter\"},{\"attributes\":{\"axis\":{\"id\":\"3864\"},\"ticker\":null},\"id\":\"3867\",\"type\":\"Grid\"},{\"attributes\":{},\"id\":\"3869\",\"type\":\"BasicTicker\"},{\"attributes\":{},\"id\":\"3862\",\"type\":\"LinearScale\"},{\"attributes\":{\"bottom\":{\"value\":0},\"fill_color\":{\"value\":\"#036564\"},\"left\":{\"field\":\"left\"},\"line_color\":{\"value\":\"#033649\"},\"right\":{\"field\":\"right\"},\"top\":{\"field\":\"top\"}},\"id\":\"3876\",\"type\":\"Quad\"},{\"attributes\":{\"active_drag\":\"auto\",\"active_inspect\":\"auto\",\"active_multi\":null,\"active_scroll\":\"auto\",\"active_tap\":\"auto\",\"tools\":[{\"id\":\"3872\"}]},\"id\":\"3873\",\"type\":\"Toolbar\"},{\"attributes\":{},\"id\":\"4010\",\"type\":\"Selection\"},{\"attributes\":{\"axis\":{\"id\":\"3868\"},\"dimension\":1,\"ticker\":null},\"id\":\"3871\",\"type\":\"Grid\"},{\"attributes\":{\"bottom\":{\"value\":0},\"fill_alpha\":{\"value\":0.1},\"fill_color\":{\"value\":\"#036564\"},\"left\":{\"field\":\"left\"},\"line_alpha\":{\"value\":0.1},\"line_color\":{\"value\":\"#033649\"},\"right\":{\"field\":\"right\"},\"top\":{\"field\":\"top\"}},\"id\":\"3877\",\"type\":\"Quad\"},{\"attributes\":{\"source\":{\"id\":\"3875\"}},\"id\":\"3879\",\"type\":\"CDSView\"},{\"attributes\":{\"data_source\":{\"id\":\"3875\"},\"glyph\":{\"id\":\"3876\"},\"hover_glyph\":null,\"muted_glyph\":null,\"nonselection_glyph\":{\"id\":\"3877\"},\"selection_glyph\":null,\"view\":{\"id\":\"3879\"}},\"id\":\"3878\",\"type\":\"GlyphRenderer\"},{\"attributes\":{},\"id\":\"3865\",\"type\":\"BasicTicker\"},{\"attributes\":{},\"id\":\"4009\",\"type\":\"UnionRenderers\"},{\"attributes\":{\"formatter\":{\"id\":\"4008\"},\"ticker\":{\"id\":\"3869\"}},\"id\":\"3868\",\"type\":\"LinearAxis\"},{\"attributes\":{\"formatter\":{\"id\":\"4006\"},\"ticker\":{\"id\":\"3865\"}},\"id\":\"3864\",\"type\":\"LinearAxis\"},{\"attributes\":{\"data\":{\"left\":{\"__ndarray__\":\"62002PCrdMBfOyVXnE1ywKURLKyP3m/AjKwNquYha8B0R++nPWVmwFzi0KWUqGHAhvpkR9fXWcBUMChDhV5QwJCYrfvMlDvAYCCLKvagJEB4XByT4RpIQHD4ys3ChlVAoMIH0hQAX0BoRiJrszxkQIKrQG1c+WhAmhBfbwW2bUDZur44VzlxQGXtzbmrl3NA8R/dOgD2dUB9Uuy7VFR4QA==\",\"dtype\":\"float64\",\"order\":\"little\",\"shape\":[20]},\"right\":{\"__ndarray__\":\"XzslV5xNcsClESysj95vwIysDarmIWvAdEfvpz1lZsBc4tCllKhhwIb6ZEfX11nAVDAoQ4VeUMCQmK37zJQ7wGAgiyr2oCRAeFwck+EaSEBw+MrNwoZVQKDCB9IUAF9AaEYia7M8ZECCq0BtXPloQJoQX28Ftm1A2bq+OFc5cUBl7c25q5dzQPEf3ToA9nVAfVLsu1RUeEAJhfs8qbJ6QA==\",\"dtype\":\"float64\",\"order\":\"little\",\"shape\":[20]},\"top\":[2,2,10,23,43,61,114,137,156,146,120,78,60,20,12,11,3,0,1,1]},\"selected\":{\"id\":\"4010\"},\"selection_policy\":{\"id\":\"4009\"}},\"id\":\"3875\",\"type\":\"ColumnDataSource\"},{\"attributes\":{},\"id\":\"4006\",\"type\":\"BasicTickFormatter\"}],\"root_ids\":[\"3853\"]},\"title\":\"Bokeh Application\",\"version\":\"2.2.3\"}};\n",
       "  var render_items = [{\"docid\":\"32420c59-04f4-420d-ae33-404ec8cf76d2\",\"root_ids\":[\"3853\"],\"roots\":{\"3853\":\"10844ddf-9933-416f-88e7-02cc2f60cd59\"}}];\n",
       "  root.Bokeh.embed.embed_items_notebook(docs_json, render_items);\n",
       "\n",
       "  }\n",
       "  if (root.Bokeh !== undefined) {\n",
       "    embed_document(root);\n",
       "  } else {\n",
       "    var attempts = 0;\n",
       "    var timer = setInterval(function(root) {\n",
       "      if (root.Bokeh !== undefined) {\n",
       "        clearInterval(timer);\n",
       "        embed_document(root);\n",
       "      } else {\n",
       "        attempts++;\n",
       "        if (attempts > 100) {\n",
       "          clearInterval(timer);\n",
       "          console.log(\"Bokeh: ERROR: Unable to run BokehJS code because BokehJS library is missing\");\n",
       "        }\n",
       "      }\n",
       "    }, 10, root)\n",
       "  }\n",
       "})(window);"
      ],
      "application/vnd.bokehjs_exec.v0+json": ""
     },
     "metadata": {
      "application/vnd.bokehjs_exec.v0+json": {
       "id": "3853"
      }
     },
     "output_type": "display_data"
    }
   ],
   "source": [
    "# 4、直方图\n",
    "# np.histogram + figure.quad()\n",
    "# 不需要构建ColumnDataSource对象\n",
    "\n",
    "df = pd.DataFrame({'value': np.random.randn(1000)*100})\n",
    "df.index.name = 'index'\n",
    "print(df.head())\n",
    "# 创建数据\n",
    "\n",
    "hist, edges = np.histogram(df['value'],bins=20)\n",
    "print(hist[:5])\n",
    "print(edges)\n",
    "# 将数据解析成直方图统计格式\n",
    "# 高阶函数np.histogram(a, bins=10, range=None, weights=None, density=None) \n",
    "# a：数据\n",
    "# bins：箱数\n",
    "# range：最大最小值的范围，如果不设定则为(a.min(), a.max())\n",
    "# weights：权重\n",
    "# density：为True则返回“频率”，为False则返回“计数”\n",
    "# 返回值1 - hist：每个箱子的统计值（top）\n",
    "# 返回值2 - edges：每个箱子的位置坐标，这里n个bins将会有n+1个edges\n",
    "\n",
    "p = figure(title=\"HIST\", tools=\"save\",background_fill_color=\"#E8DDCB\")\n",
    "p.quad(top=hist, bottom=0, left=edges[:-1], right=edges[1:],   # 分别代表每个柱子的四边值，\n",
    "        fill_color=\"#036564\", line_color=\"#033649\")\n",
    "# figure.quad绘制直方图\n",
    "\n",
    "show(p)\n",
    "'''\n",
    "left为柱子的左边坐标，所以不包括最右边的数据\n",
    "right为\n",
    "'''"
   ]
  }
 ],
 "metadata": {
  "anaconda-cloud": {},
  "kernelspec": {
   "display_name": "Python 3",
   "language": "python",
   "name": "python3"
  },
  "language_info": {
   "codemirror_mode": {
    "name": "ipython",
    "version": 3
   },
   "file_extension": ".py",
   "mimetype": "text/x-python",
   "name": "python",
   "nbconvert_exporter": "python",
   "pygments_lexer": "ipython3",
   "version": "3.8.5"
  }
 },
 "nbformat": 4,
 "nbformat_minor": 4
}
