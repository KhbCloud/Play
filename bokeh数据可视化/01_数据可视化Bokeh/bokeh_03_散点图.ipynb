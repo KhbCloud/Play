{
 "cells": [
  {
   "cell_type": "code",
   "execution_count": null,
   "metadata": {},
   "outputs": [],
   "source": [
    "'''\n",
    "【课程5.4】  散点图\n",
    "\n",
    "① 基本散点图绘制\n",
    "② 散点图颜色、大小设置方法\n",
    "③ 不同符号的散点图\n",
    "\n",
    "'''"
   ]
  },
  {
   "cell_type": "code",
   "execution_count": 1,
   "metadata": {
    "collapsed": false,
    "jupyter": {
     "outputs_hidden": false
    }
   },
   "outputs": [
    {
     "data": {
      "text/html": [
       "\n",
       "    <div class=\"bk-root\">\n",
       "        <a href=\"https://bokeh.org\" target=\"_blank\" class=\"bk-logo bk-logo-small bk-logo-notebook\"></a>\n",
       "        <span id=\"1001\">Loading BokehJS ...</span>\n",
       "    </div>"
      ]
     },
     "metadata": {},
     "output_type": "display_data"
    },
    {
     "data": {
      "application/javascript": [
       "\n",
       "(function(root) {\n",
       "  function now() {\n",
       "    return new Date();\n",
       "  }\n",
       "\n",
       "  var force = true;\n",
       "\n",
       "  if (typeof root._bokeh_onload_callbacks === \"undefined\" || force === true) {\n",
       "    root._bokeh_onload_callbacks = [];\n",
       "    root._bokeh_is_loading = undefined;\n",
       "  }\n",
       "\n",
       "  var JS_MIME_TYPE = 'application/javascript';\n",
       "  var HTML_MIME_TYPE = 'text/html';\n",
       "  var EXEC_MIME_TYPE = 'application/vnd.bokehjs_exec.v0+json';\n",
       "  var CLASS_NAME = 'output_bokeh rendered_html';\n",
       "\n",
       "  /**\n",
       "   * Render data to the DOM node\n",
       "   */\n",
       "  function render(props, node) {\n",
       "    var script = document.createElement(\"script\");\n",
       "    node.appendChild(script);\n",
       "  }\n",
       "\n",
       "  /**\n",
       "   * Handle when an output is cleared or removed\n",
       "   */\n",
       "  function handleClearOutput(event, handle) {\n",
       "    var cell = handle.cell;\n",
       "\n",
       "    var id = cell.output_area._bokeh_element_id;\n",
       "    var server_id = cell.output_area._bokeh_server_id;\n",
       "    // Clean up Bokeh references\n",
       "    if (id != null && id in Bokeh.index) {\n",
       "      Bokeh.index[id].model.document.clear();\n",
       "      delete Bokeh.index[id];\n",
       "    }\n",
       "\n",
       "    if (server_id !== undefined) {\n",
       "      // Clean up Bokeh references\n",
       "      var cmd = \"from bokeh.io.state import curstate; print(curstate().uuid_to_server['\" + server_id + \"'].get_sessions()[0].document.roots[0]._id)\";\n",
       "      cell.notebook.kernel.execute(cmd, {\n",
       "        iopub: {\n",
       "          output: function(msg) {\n",
       "            var id = msg.content.text.trim();\n",
       "            if (id in Bokeh.index) {\n",
       "              Bokeh.index[id].model.document.clear();\n",
       "              delete Bokeh.index[id];\n",
       "            }\n",
       "          }\n",
       "        }\n",
       "      });\n",
       "      // Destroy server and session\n",
       "      var cmd = \"import bokeh.io.notebook as ion; ion.destroy_server('\" + server_id + \"')\";\n",
       "      cell.notebook.kernel.execute(cmd);\n",
       "    }\n",
       "  }\n",
       "\n",
       "  /**\n",
       "   * Handle when a new output is added\n",
       "   */\n",
       "  function handleAddOutput(event, handle) {\n",
       "    var output_area = handle.output_area;\n",
       "    var output = handle.output;\n",
       "\n",
       "    // limit handleAddOutput to display_data with EXEC_MIME_TYPE content only\n",
       "    if ((output.output_type != \"display_data\") || (!output.data.hasOwnProperty(EXEC_MIME_TYPE))) {\n",
       "      return\n",
       "    }\n",
       "\n",
       "    var toinsert = output_area.element.find(\".\" + CLASS_NAME.split(' ')[0]);\n",
       "\n",
       "    if (output.metadata[EXEC_MIME_TYPE][\"id\"] !== undefined) {\n",
       "      toinsert[toinsert.length - 1].firstChild.textContent = output.data[JS_MIME_TYPE];\n",
       "      // store reference to embed id on output_area\n",
       "      output_area._bokeh_element_id = output.metadata[EXEC_MIME_TYPE][\"id\"];\n",
       "    }\n",
       "    if (output.metadata[EXEC_MIME_TYPE][\"server_id\"] !== undefined) {\n",
       "      var bk_div = document.createElement(\"div\");\n",
       "      bk_div.innerHTML = output.data[HTML_MIME_TYPE];\n",
       "      var script_attrs = bk_div.children[0].attributes;\n",
       "      for (var i = 0; i < script_attrs.length; i++) {\n",
       "        toinsert[toinsert.length - 1].firstChild.setAttribute(script_attrs[i].name, script_attrs[i].value);\n",
       "        toinsert[toinsert.length - 1].firstChild.textContent = bk_div.children[0].textContent\n",
       "      }\n",
       "      // store reference to server id on output_area\n",
       "      output_area._bokeh_server_id = output.metadata[EXEC_MIME_TYPE][\"server_id\"];\n",
       "    }\n",
       "  }\n",
       "\n",
       "  function register_renderer(events, OutputArea) {\n",
       "\n",
       "    function append_mime(data, metadata, element) {\n",
       "      // create a DOM node to render to\n",
       "      var toinsert = this.create_output_subarea(\n",
       "        metadata,\n",
       "        CLASS_NAME,\n",
       "        EXEC_MIME_TYPE\n",
       "      );\n",
       "      this.keyboard_manager.register_events(toinsert);\n",
       "      // Render to node\n",
       "      var props = {data: data, metadata: metadata[EXEC_MIME_TYPE]};\n",
       "      render(props, toinsert[toinsert.length - 1]);\n",
       "      element.append(toinsert);\n",
       "      return toinsert\n",
       "    }\n",
       "\n",
       "    /* Handle when an output is cleared or removed */\n",
       "    events.on('clear_output.CodeCell', handleClearOutput);\n",
       "    events.on('delete.Cell', handleClearOutput);\n",
       "\n",
       "    /* Handle when a new output is added */\n",
       "    events.on('output_added.OutputArea', handleAddOutput);\n",
       "\n",
       "    /**\n",
       "     * Register the mime type and append_mime function with output_area\n",
       "     */\n",
       "    OutputArea.prototype.register_mime_type(EXEC_MIME_TYPE, append_mime, {\n",
       "      /* Is output safe? */\n",
       "      safe: true,\n",
       "      /* Index of renderer in `output_area.display_order` */\n",
       "      index: 0\n",
       "    });\n",
       "  }\n",
       "\n",
       "  // register the mime type if in Jupyter Notebook environment and previously unregistered\n",
       "  if (root.Jupyter !== undefined) {\n",
       "    var events = require('base/js/events');\n",
       "    var OutputArea = require('notebook/js/outputarea').OutputArea;\n",
       "\n",
       "    if (OutputArea.prototype.mime_types().indexOf(EXEC_MIME_TYPE) == -1) {\n",
       "      register_renderer(events, OutputArea);\n",
       "    }\n",
       "  }\n",
       "\n",
       "  \n",
       "  if (typeof (root._bokeh_timeout) === \"undefined\" || force === true) {\n",
       "    root._bokeh_timeout = Date.now() + 5000;\n",
       "    root._bokeh_failed_load = false;\n",
       "  }\n",
       "\n",
       "  var NB_LOAD_WARNING = {'data': {'text/html':\n",
       "     \"<div style='background-color: #fdd'>\\n\"+\n",
       "     \"<p>\\n\"+\n",
       "     \"BokehJS does not appear to have successfully loaded. If loading BokehJS from CDN, this \\n\"+\n",
       "     \"may be due to a slow or bad network connection. Possible fixes:\\n\"+\n",
       "     \"</p>\\n\"+\n",
       "     \"<ul>\\n\"+\n",
       "     \"<li>re-rerun `output_notebook()` to attempt to load from CDN again, or</li>\\n\"+\n",
       "     \"<li>use INLINE resources instead, as so:</li>\\n\"+\n",
       "     \"</ul>\\n\"+\n",
       "     \"<code>\\n\"+\n",
       "     \"from bokeh.resources import INLINE\\n\"+\n",
       "     \"output_notebook(resources=INLINE)\\n\"+\n",
       "     \"</code>\\n\"+\n",
       "     \"</div>\"}};\n",
       "\n",
       "  function display_loaded() {\n",
       "    var el = document.getElementById(\"1001\");\n",
       "    if (el != null) {\n",
       "      el.textContent = \"BokehJS is loading...\";\n",
       "    }\n",
       "    if (root.Bokeh !== undefined) {\n",
       "      if (el != null) {\n",
       "        el.textContent = \"BokehJS \" + root.Bokeh.version + \" successfully loaded.\";\n",
       "      }\n",
       "    } else if (Date.now() < root._bokeh_timeout) {\n",
       "      setTimeout(display_loaded, 100)\n",
       "    }\n",
       "  }\n",
       "\n",
       "\n",
       "  function run_callbacks() {\n",
       "    try {\n",
       "      root._bokeh_onload_callbacks.forEach(function(callback) {\n",
       "        if (callback != null)\n",
       "          callback();\n",
       "      });\n",
       "    } finally {\n",
       "      delete root._bokeh_onload_callbacks\n",
       "    }\n",
       "    console.debug(\"Bokeh: all callbacks have finished\");\n",
       "  }\n",
       "\n",
       "  function load_libs(css_urls, js_urls, callback) {\n",
       "    if (css_urls == null) css_urls = [];\n",
       "    if (js_urls == null) js_urls = [];\n",
       "\n",
       "    root._bokeh_onload_callbacks.push(callback);\n",
       "    if (root._bokeh_is_loading > 0) {\n",
       "      console.debug(\"Bokeh: BokehJS is being loaded, scheduling callback at\", now());\n",
       "      return null;\n",
       "    }\n",
       "    if (js_urls == null || js_urls.length === 0) {\n",
       "      run_callbacks();\n",
       "      return null;\n",
       "    }\n",
       "    console.debug(\"Bokeh: BokehJS not loaded, scheduling load and callback at\", now());\n",
       "    root._bokeh_is_loading = css_urls.length + js_urls.length;\n",
       "\n",
       "    function on_load() {\n",
       "      root._bokeh_is_loading--;\n",
       "      if (root._bokeh_is_loading === 0) {\n",
       "        console.debug(\"Bokeh: all BokehJS libraries/stylesheets loaded\");\n",
       "        run_callbacks()\n",
       "      }\n",
       "    }\n",
       "\n",
       "    function on_error() {\n",
       "      console.error(\"failed to load \" + url);\n",
       "    }\n",
       "\n",
       "    for (var i = 0; i < css_urls.length; i++) {\n",
       "      var url = css_urls[i];\n",
       "      const element = document.createElement(\"link\");\n",
       "      element.onload = on_load;\n",
       "      element.onerror = on_error;\n",
       "      element.rel = \"stylesheet\";\n",
       "      element.type = \"text/css\";\n",
       "      element.href = url;\n",
       "      console.debug(\"Bokeh: injecting link tag for BokehJS stylesheet: \", url);\n",
       "      document.body.appendChild(element);\n",
       "    }\n",
       "\n",
       "    const hashes = {\"https://cdn.bokeh.org/bokeh/release/bokeh-2.2.3.min.js\": \"T2yuo9Oe71Cz/I4X9Ac5+gpEa5a8PpJCDlqKYO0CfAuEszu1JrXLl8YugMqYe3sM\", \"https://cdn.bokeh.org/bokeh/release/bokeh-widgets-2.2.3.min.js\": \"98GDGJ0kOMCUMUePhksaQ/GYgB3+NH9h996V88sh3aOiUNX3N+fLXAtry6xctSZ6\", \"https://cdn.bokeh.org/bokeh/release/bokeh-tables-2.2.3.min.js\": \"89bArO+nlbP3sgakeHjCo1JYxYR5wufVgA3IbUvDY+K7w4zyxJqssu7wVnfeKCq8\"};\n",
       "\n",
       "    for (var i = 0; i < js_urls.length; i++) {\n",
       "      var url = js_urls[i];\n",
       "      var element = document.createElement('script');\n",
       "      element.onload = on_load;\n",
       "      element.onerror = on_error;\n",
       "      element.async = false;\n",
       "      element.src = url;\n",
       "      if (url in hashes) {\n",
       "        element.crossOrigin = \"anonymous\";\n",
       "        element.integrity = \"sha384-\" + hashes[url];\n",
       "      }\n",
       "      console.debug(\"Bokeh: injecting script tag for BokehJS library: \", url);\n",
       "      document.head.appendChild(element);\n",
       "    }\n",
       "  };\n",
       "\n",
       "  function inject_raw_css(css) {\n",
       "    const element = document.createElement(\"style\");\n",
       "    element.appendChild(document.createTextNode(css));\n",
       "    document.body.appendChild(element);\n",
       "  }\n",
       "\n",
       "  \n",
       "  var js_urls = [\"https://cdn.bokeh.org/bokeh/release/bokeh-2.2.3.min.js\", \"https://cdn.bokeh.org/bokeh/release/bokeh-widgets-2.2.3.min.js\", \"https://cdn.bokeh.org/bokeh/release/bokeh-tables-2.2.3.min.js\"];\n",
       "  var css_urls = [];\n",
       "  \n",
       "\n",
       "  var inline_js = [\n",
       "    function(Bokeh) {\n",
       "      Bokeh.set_log_level(\"info\");\n",
       "    },\n",
       "    function(Bokeh) {\n",
       "    \n",
       "    \n",
       "    }\n",
       "  ];\n",
       "\n",
       "  function run_inline_js() {\n",
       "    \n",
       "    if (root.Bokeh !== undefined || force === true) {\n",
       "      \n",
       "    for (var i = 0; i < inline_js.length; i++) {\n",
       "      inline_js[i].call(root, root.Bokeh);\n",
       "    }\n",
       "    if (force === true) {\n",
       "        display_loaded();\n",
       "      }} else if (Date.now() < root._bokeh_timeout) {\n",
       "      setTimeout(run_inline_js, 100);\n",
       "    } else if (!root._bokeh_failed_load) {\n",
       "      console.log(\"Bokeh: BokehJS failed to load within specified timeout.\");\n",
       "      root._bokeh_failed_load = true;\n",
       "    } else if (force !== true) {\n",
       "      var cell = $(document.getElementById(\"1001\")).parents('.cell').data().cell;\n",
       "      cell.output_area.append_execute_result(NB_LOAD_WARNING)\n",
       "    }\n",
       "\n",
       "  }\n",
       "\n",
       "  if (root._bokeh_is_loading === 0) {\n",
       "    console.debug(\"Bokeh: BokehJS loaded, going straight to plotting\");\n",
       "    run_inline_js();\n",
       "  } else {\n",
       "    load_libs(css_urls, js_urls, function() {\n",
       "      console.debug(\"Bokeh: BokehJS plotting callback run at\", now());\n",
       "      run_inline_js();\n",
       "    });\n",
       "  }\n",
       "}(window));"
      ],
      "application/vnd.bokehjs_load.v0+json": "\n(function(root) {\n  function now() {\n    return new Date();\n  }\n\n  var force = true;\n\n  if (typeof root._bokeh_onload_callbacks === \"undefined\" || force === true) {\n    root._bokeh_onload_callbacks = [];\n    root._bokeh_is_loading = undefined;\n  }\n\n  \n\n  \n  if (typeof (root._bokeh_timeout) === \"undefined\" || force === true) {\n    root._bokeh_timeout = Date.now() + 5000;\n    root._bokeh_failed_load = false;\n  }\n\n  var NB_LOAD_WARNING = {'data': {'text/html':\n     \"<div style='background-color: #fdd'>\\n\"+\n     \"<p>\\n\"+\n     \"BokehJS does not appear to have successfully loaded. If loading BokehJS from CDN, this \\n\"+\n     \"may be due to a slow or bad network connection. Possible fixes:\\n\"+\n     \"</p>\\n\"+\n     \"<ul>\\n\"+\n     \"<li>re-rerun `output_notebook()` to attempt to load from CDN again, or</li>\\n\"+\n     \"<li>use INLINE resources instead, as so:</li>\\n\"+\n     \"</ul>\\n\"+\n     \"<code>\\n\"+\n     \"from bokeh.resources import INLINE\\n\"+\n     \"output_notebook(resources=INLINE)\\n\"+\n     \"</code>\\n\"+\n     \"</div>\"}};\n\n  function display_loaded() {\n    var el = document.getElementById(\"1001\");\n    if (el != null) {\n      el.textContent = \"BokehJS is loading...\";\n    }\n    if (root.Bokeh !== undefined) {\n      if (el != null) {\n        el.textContent = \"BokehJS \" + root.Bokeh.version + \" successfully loaded.\";\n      }\n    } else if (Date.now() < root._bokeh_timeout) {\n      setTimeout(display_loaded, 100)\n    }\n  }\n\n\n  function run_callbacks() {\n    try {\n      root._bokeh_onload_callbacks.forEach(function(callback) {\n        if (callback != null)\n          callback();\n      });\n    } finally {\n      delete root._bokeh_onload_callbacks\n    }\n    console.debug(\"Bokeh: all callbacks have finished\");\n  }\n\n  function load_libs(css_urls, js_urls, callback) {\n    if (css_urls == null) css_urls = [];\n    if (js_urls == null) js_urls = [];\n\n    root._bokeh_onload_callbacks.push(callback);\n    if (root._bokeh_is_loading > 0) {\n      console.debug(\"Bokeh: BokehJS is being loaded, scheduling callback at\", now());\n      return null;\n    }\n    if (js_urls == null || js_urls.length === 0) {\n      run_callbacks();\n      return null;\n    }\n    console.debug(\"Bokeh: BokehJS not loaded, scheduling load and callback at\", now());\n    root._bokeh_is_loading = css_urls.length + js_urls.length;\n\n    function on_load() {\n      root._bokeh_is_loading--;\n      if (root._bokeh_is_loading === 0) {\n        console.debug(\"Bokeh: all BokehJS libraries/stylesheets loaded\");\n        run_callbacks()\n      }\n    }\n\n    function on_error() {\n      console.error(\"failed to load \" + url);\n    }\n\n    for (var i = 0; i < css_urls.length; i++) {\n      var url = css_urls[i];\n      const element = document.createElement(\"link\");\n      element.onload = on_load;\n      element.onerror = on_error;\n      element.rel = \"stylesheet\";\n      element.type = \"text/css\";\n      element.href = url;\n      console.debug(\"Bokeh: injecting link tag for BokehJS stylesheet: \", url);\n      document.body.appendChild(element);\n    }\n\n    const hashes = {\"https://cdn.bokeh.org/bokeh/release/bokeh-2.2.3.min.js\": \"T2yuo9Oe71Cz/I4X9Ac5+gpEa5a8PpJCDlqKYO0CfAuEszu1JrXLl8YugMqYe3sM\", \"https://cdn.bokeh.org/bokeh/release/bokeh-widgets-2.2.3.min.js\": \"98GDGJ0kOMCUMUePhksaQ/GYgB3+NH9h996V88sh3aOiUNX3N+fLXAtry6xctSZ6\", \"https://cdn.bokeh.org/bokeh/release/bokeh-tables-2.2.3.min.js\": \"89bArO+nlbP3sgakeHjCo1JYxYR5wufVgA3IbUvDY+K7w4zyxJqssu7wVnfeKCq8\"};\n\n    for (var i = 0; i < js_urls.length; i++) {\n      var url = js_urls[i];\n      var element = document.createElement('script');\n      element.onload = on_load;\n      element.onerror = on_error;\n      element.async = false;\n      element.src = url;\n      if (url in hashes) {\n        element.crossOrigin = \"anonymous\";\n        element.integrity = \"sha384-\" + hashes[url];\n      }\n      console.debug(\"Bokeh: injecting script tag for BokehJS library: \", url);\n      document.head.appendChild(element);\n    }\n  };\n\n  function inject_raw_css(css) {\n    const element = document.createElement(\"style\");\n    element.appendChild(document.createTextNode(css));\n    document.body.appendChild(element);\n  }\n\n  \n  var js_urls = [\"https://cdn.bokeh.org/bokeh/release/bokeh-2.2.3.min.js\", \"https://cdn.bokeh.org/bokeh/release/bokeh-widgets-2.2.3.min.js\", \"https://cdn.bokeh.org/bokeh/release/bokeh-tables-2.2.3.min.js\"];\n  var css_urls = [];\n  \n\n  var inline_js = [\n    function(Bokeh) {\n      Bokeh.set_log_level(\"info\");\n    },\n    function(Bokeh) {\n    \n    \n    }\n  ];\n\n  function run_inline_js() {\n    \n    if (root.Bokeh !== undefined || force === true) {\n      \n    for (var i = 0; i < inline_js.length; i++) {\n      inline_js[i].call(root, root.Bokeh);\n    }\n    if (force === true) {\n        display_loaded();\n      }} else if (Date.now() < root._bokeh_timeout) {\n      setTimeout(run_inline_js, 100);\n    } else if (!root._bokeh_failed_load) {\n      console.log(\"Bokeh: BokehJS failed to load within specified timeout.\");\n      root._bokeh_failed_load = true;\n    } else if (force !== true) {\n      var cell = $(document.getElementById(\"1001\")).parents('.cell').data().cell;\n      cell.output_area.append_execute_result(NB_LOAD_WARNING)\n    }\n\n  }\n\n  if (root._bokeh_is_loading === 0) {\n    console.debug(\"Bokeh: BokehJS loaded, going straight to plotting\");\n    run_inline_js();\n  } else {\n    load_libs(css_urls, js_urls, function() {\n      console.debug(\"Bokeh: BokehJS plotting callback run at\", now());\n      run_inline_js();\n    });\n  }\n}(window));"
     },
     "metadata": {},
     "output_type": "display_data"
    }
   ],
   "source": [
    "import numpy as np\n",
    "import pandas as pd\n",
    "import matplotlib.pyplot as plt\n",
    "%matplotlib inline\n",
    "\n",
    "import warnings\n",
    "warnings.filterwarnings('ignore') \n",
    "# 不发出警告\n",
    "\n",
    "from bokeh.io import output_notebook\n",
    "output_notebook()\n",
    "# 导入notebook绘图模块\n",
    "\n",
    "from bokeh.plotting import figure,show\n",
    "# 导入图表绘制、图标展示模块"
   ]
  },
  {
   "cell_type": "code",
   "execution_count": 2,
   "metadata": {
    "collapsed": false,
    "jupyter": {
     "outputs_hidden": false
    }
   },
   "outputs": [
    {
     "name": "stderr",
     "output_type": "stream",
     "text": [
      "BokehDeprecationWarning: 'legend' keyword is deprecated, use explicit 'legend_label', 'legend_field', or 'legend_group' keywords instead\n"
     ]
    },
    {
     "data": {
      "text/html": [
       "\n",
       "\n",
       "\n",
       "\n",
       "\n",
       "\n",
       "  <div class=\"bk-root\" id=\"96c945ee-ef64-4272-8a83-01fe49d248f5\" data-root-id=\"1002\"></div>\n"
      ]
     },
     "metadata": {},
     "output_type": "display_data"
    },
    {
     "data": {
      "application/javascript": [
       "(function(root) {\n",
       "  function embed_document(root) {\n",
       "    \n",
       "  var docs_json = {\"7c02ece9-e8f1-4f88-b83a-99bee93fb192\":{\"roots\":{\"references\":[{\"attributes\":{\"below\":[{\"id\":\"1011\"}],\"center\":[{\"id\":\"1014\"},{\"id\":\"1018\"},{\"id\":\"1047\"}],\"left\":[{\"id\":\"1015\"}],\"plot_height\":400,\"renderers\":[{\"id\":\"1036\"}],\"title\":{\"id\":\"1039\"},\"toolbar\":{\"id\":\"1026\"},\"x_range\":{\"id\":\"1003\"},\"x_scale\":{\"id\":\"1007\"},\"y_range\":{\"id\":\"1005\"},\"y_scale\":{\"id\":\"1009\"}},\"id\":\"1002\",\"subtype\":\"Figure\",\"type\":\"Plot\"},{\"attributes\":{},\"id\":\"1041\",\"type\":\"BasicTickFormatter\"},{\"attributes\":{\"text\":\"\"},\"id\":\"1039\",\"type\":\"Title\"},{\"attributes\":{\"label\":{\"value\":\"scatter-circle\"},\"renderers\":[{\"id\":\"1036\"}]},\"id\":\"1048\",\"type\":\"LegendItem\"},{\"attributes\":{\"items\":[{\"id\":\"1048\"}],\"location\":\"bottom_right\"},\"id\":\"1047\",\"type\":\"Legend\"},{\"attributes\":{\"data_source\":{\"id\":\"1033\"},\"glyph\":{\"id\":\"1034\"},\"hover_glyph\":null,\"muted_glyph\":null,\"nonselection_glyph\":{\"id\":\"1035\"},\"selection_glyph\":null,\"view\":{\"id\":\"1037\"}},\"id\":\"1036\",\"type\":\"GlyphRenderer\"},{\"attributes\":{\"source\":{\"id\":\"1033\"}},\"id\":\"1037\",\"type\":\"CDSView\"},{\"attributes\":{\"fill_alpha\":{\"value\":0.1},\"fill_color\":{\"value\":\"red\"},\"line_alpha\":{\"value\":0.1},\"line_dash\":[6],\"line_width\":{\"value\":2},\"size\":{\"units\":\"screen\",\"value\":25},\"x\":{\"field\":\"x\"},\"y\":{\"field\":\"y\"}},\"id\":\"1035\",\"type\":\"Circle\"},{\"attributes\":{\"bottom_units\":\"screen\",\"fill_alpha\":0.5,\"fill_color\":\"lightgrey\",\"left_units\":\"screen\",\"level\":\"overlay\",\"line_alpha\":1.0,\"line_color\":\"black\",\"line_dash\":[4,4],\"line_width\":2,\"right_units\":\"screen\",\"top_units\":\"screen\"},\"id\":\"1025\",\"type\":\"BoxAnnotation\"},{\"attributes\":{\"data\":{\"x\":[0,1,2,3,4,5,6,7,8,9,10,11,12,13,14,15,16,17,18,19,20,21,22,23,24,25,26,27,28,29,30,31,32,33,34,35,36,37,38,39,40,41,42,43,44,45,46,47,48,49,50,51,52,53,54,55,56,57,58,59,60,61,62,63,64,65,66,67,68,69,70,71,72,73,74,75,76,77,78,79],\"y\":{\"__ndarray__\":\"oivXmD2b579McTkBIynqv3+Ac9DOMq2/Ugues7IS+j8bWC6JkNz1P/q8MsoSHPU/rh7l2OLv4L+1BIGNOhXkPzTWaWHDxgTAAVlJo7+U8L9a30tDm3PMv0wlKvrkRKU/NxVNlqK74b+undoh+iwDwJ5NDkC1Xco/ipyWwdZs8T9dJFs0NPTdP7fzp/JGk9W/Zw0Ete2SxL9+tf1aiyH+PyVzolNQCNq/LvgI9wk98T/JWnqR4FfZv/+nnm0z3fE/5u6ShCZQ+z9JUP7pdjXiv7zpsdyknua/N7k+77EX6b+eMamhpEOnv/SfTg04h+4/UjJzkJy36T89eZPuh4/dv8U/7RKKAfO/QCODRuLB6D/Ok+VDb4jOP4A71x8eZNK/bqk+p8QPAkBWediq/jPfP5+4EMjJrPS/hz+86Sjq8r/uS7Kgzhfwv23KuFIOrek/6nrV38xD4z+1spxc7AjQP9lqNb48G+E/oKbGrn1w67/s56GsXcX1vw5SpgeYUNs/oVSWLb4w4z+TR6WA/QbyP9UV2oTWvec/306pOCe96j9xvfOtVEThPwWgs4Ciosk/1AVh41OE2D8nJ3RE1yn1v13hZM4FfwDA2tq8x2imBEA1MNDrNPjyP1t49ocBKpy/qd/aCanTxT/yjmay7Z70P1F/W658P+s/G0VvRC/qxz+h4DWxOFL8P1WdPQRsk+i/QIbR5Gm19T/gfJ9AkbjtP2KkgopbtLu/tsmneZ2mjz+Fg14lIxbaPyNHAWcDH94/U86G71iT+b+ROkesoRnAv076ZmVkXqa/F5lbNSma6z9eLBnHqC/4v+prjV0W5PC/9OgOne0Fgr8nBU8qy8vavw==\",\"dtype\":\"float64\",\"order\":\"little\",\"shape\":[80]}},\"selected\":{\"id\":\"1045\"},\"selection_policy\":{\"id\":\"1044\"}},\"id\":\"1033\",\"type\":\"ColumnDataSource\"},{\"attributes\":{},\"id\":\"1005\",\"type\":\"DataRange1d\"},{\"attributes\":{},\"id\":\"1003\",\"type\":\"DataRange1d\"},{\"attributes\":{},\"id\":\"1009\",\"type\":\"LinearScale\"},{\"attributes\":{\"formatter\":{\"id\":\"1041\"},\"ticker\":{\"id\":\"1016\"}},\"id\":\"1015\",\"type\":\"LinearAxis\"},{\"attributes\":{\"formatter\":{\"id\":\"1043\"},\"ticker\":{\"id\":\"1012\"}},\"id\":\"1011\",\"type\":\"LinearAxis\"},{\"attributes\":{},\"id\":\"1007\",\"type\":\"LinearScale\"},{\"attributes\":{},\"id\":\"1044\",\"type\":\"UnionRenderers\"},{\"attributes\":{\"fill_alpha\":{\"value\":0.6},\"fill_color\":{\"value\":\"red\"},\"line_alpha\":{\"value\":0.8},\"line_dash\":[6],\"line_width\":{\"value\":2},\"size\":{\"units\":\"screen\",\"value\":25},\"x\":{\"field\":\"x\"},\"y\":{\"field\":\"y\"}},\"id\":\"1034\",\"type\":\"Circle\"},{\"attributes\":{},\"id\":\"1024\",\"type\":\"HelpTool\"},{\"attributes\":{},\"id\":\"1045\",\"type\":\"Selection\"},{\"attributes\":{},\"id\":\"1023\",\"type\":\"ResetTool\"},{\"attributes\":{},\"id\":\"1012\",\"type\":\"BasicTicker\"},{\"attributes\":{},\"id\":\"1022\",\"type\":\"SaveTool\"},{\"attributes\":{\"axis\":{\"id\":\"1011\"},\"ticker\":null},\"id\":\"1014\",\"type\":\"Grid\"},{\"attributes\":{},\"id\":\"1043\",\"type\":\"BasicTickFormatter\"},{\"attributes\":{\"axis\":{\"id\":\"1015\"},\"dimension\":1,\"ticker\":null},\"id\":\"1018\",\"type\":\"Grid\"},{\"attributes\":{},\"id\":\"1016\",\"type\":\"BasicTicker\"},{\"attributes\":{\"active_drag\":\"auto\",\"active_inspect\":\"auto\",\"active_multi\":null,\"active_scroll\":\"auto\",\"active_tap\":\"auto\",\"tools\":[{\"id\":\"1019\"},{\"id\":\"1020\"},{\"id\":\"1021\"},{\"id\":\"1022\"},{\"id\":\"1023\"},{\"id\":\"1024\"}]},\"id\":\"1026\",\"type\":\"Toolbar\"},{\"attributes\":{},\"id\":\"1020\",\"type\":\"WheelZoomTool\"},{\"attributes\":{},\"id\":\"1019\",\"type\":\"PanTool\"},{\"attributes\":{\"overlay\":{\"id\":\"1025\"}},\"id\":\"1021\",\"type\":\"BoxZoomTool\"}],\"root_ids\":[\"1002\"]},\"title\":\"Bokeh Application\",\"version\":\"2.2.3\"}};\n",
       "  var render_items = [{\"docid\":\"7c02ece9-e8f1-4f88-b83a-99bee93fb192\",\"root_ids\":[\"1002\"],\"roots\":{\"1002\":\"96c945ee-ef64-4272-8a83-01fe49d248f5\"}}];\n",
       "  root.Bokeh.embed.embed_items_notebook(docs_json, render_items);\n",
       "\n",
       "  }\n",
       "  if (root.Bokeh !== undefined) {\n",
       "    embed_document(root);\n",
       "  } else {\n",
       "    var attempts = 0;\n",
       "    var timer = setInterval(function(root) {\n",
       "      if (root.Bokeh !== undefined) {\n",
       "        clearInterval(timer);\n",
       "        embed_document(root);\n",
       "      } else {\n",
       "        attempts++;\n",
       "        if (attempts > 100) {\n",
       "          clearInterval(timer);\n",
       "          console.log(\"Bokeh: ERROR: Unable to run BokehJS code because BokehJS library is missing\");\n",
       "        }\n",
       "      }\n",
       "    }, 10, root)\n",
       "  }\n",
       "})(window);"
      ],
      "application/vnd.bokehjs_exec.v0+json": ""
     },
     "metadata": {
      "application/vnd.bokehjs_exec.v0+json": {
       "id": "1002"
      }
     },
     "output_type": "display_data"
    }
   ],
   "source": [
    "# 1、基本散点图绘制\n",
    "\n",
    "s = pd.Series(np.random.randn(80))\n",
    "# 创建数据\n",
    "\n",
    "p = figure(plot_width=600, plot_height=400)\n",
    "p.circle(s.index, s.values,                  # x，y值，也可以写成：x=s.index, y = s.values\n",
    "         size=25, color=\"navy\", alpha=0.5,   # 点的大小、颜色、透明度（注意，这里的color是线+填充的颜色，同时线和填充可以分别上色，参数如下）\n",
    "         fill_color = 'red',fill_alpha = 0.6, # 填充的颜色、透明度\n",
    "         line_color = 'black',line_alpha = 0.8,line_dash = 'dashed',line_width = 2,   # 点边线的颜色、透明度、虚线、宽度\n",
    "         # 同时还有line_cap、line_dash_offset、line_join参数    \n",
    "         legend = 'scatter-circle',    # 设置图例\n",
    "         #radius = 2   # 设置点的半径，和size只能同时选一个\n",
    "        )\n",
    "# 创建散点图，基本参数\n",
    "# bokeh对line和fill是同样的设置方法\n",
    "\n",
    "p.legend.location = \"bottom_right\"\n",
    "# 设置图例位置\n",
    "\n",
    "show(p)"
   ]
  },
  {
   "cell_type": "code",
   "execution_count": 4,
   "metadata": {
    "collapsed": false,
    "jupyter": {
     "outputs_hidden": false
    }
   },
   "outputs": [
    {
     "data": {
      "text/html": [
       "\n",
       "\n",
       "\n",
       "\n",
       "\n",
       "\n",
       "  <div class=\"bk-root\" id=\"210712d0-c38f-4d72-b5a7-3409a799dbd3\" data-root-id=\"1103\"></div>\n"
      ]
     },
     "metadata": {},
     "output_type": "display_data"
    },
    {
     "data": {
      "application/javascript": [
       "(function(root) {\n",
       "  function embed_document(root) {\n",
       "    \n",
       "  var docs_json = {\"67d0ab8d-1d44-4b0c-a01d-da42eadeca8e\":{\"roots\":{\"references\":[{\"attributes\":{\"below\":[{\"id\":\"1112\"}],\"center\":[{\"id\":\"1115\"},{\"id\":\"1119\"}],\"left\":[{\"id\":\"1116\"}],\"plot_height\":400,\"renderers\":[{\"id\":\"1137\"}],\"title\":{\"id\":\"1149\"},\"toolbar\":{\"id\":\"1127\"},\"x_range\":{\"id\":\"1104\"},\"x_scale\":{\"id\":\"1108\"},\"y_range\":{\"id\":\"1106\"},\"y_scale\":{\"id\":\"1110\"}},\"id\":\"1103\",\"subtype\":\"Figure\",\"type\":\"Plot\"},{\"attributes\":{\"fill_alpha\":{\"value\":0.1},\"fill_color\":{\"field\":\"fill_color\"},\"line_alpha\":{\"value\":0.1},\"line_color\":{\"value\":\"white\"},\"size\":{\"field\":\"size\",\"units\":\"screen\"},\"x\":{\"field\":\"x\"},\"y\":{\"field\":\"y\"}},\"id\":\"1136\",\"type\":\"Circle\"},{\"attributes\":{},\"id\":\"1104\",\"type\":\"DataRange1d\"},{\"attributes\":{},\"id\":\"1106\",\"type\":\"DataRange1d\"},{\"attributes\":{\"bottom_units\":\"screen\",\"fill_alpha\":0.5,\"fill_color\":\"lightgrey\",\"left_units\":\"screen\",\"level\":\"overlay\",\"line_alpha\":1.0,\"line_color\":\"black\",\"line_dash\":[4,4],\"line_width\":2,\"right_units\":\"screen\",\"top_units\":\"screen\"},\"id\":\"1126\",\"type\":\"BoxAnnotation\"},{\"attributes\":{},\"id\":\"1108\",\"type\":\"LinearScale\"},{\"attributes\":{\"formatter\":{\"id\":\"1153\"},\"ticker\":{\"id\":\"1113\"}},\"id\":\"1112\",\"type\":\"LinearAxis\"},{\"attributes\":{},\"id\":\"1125\",\"type\":\"HelpTool\"},{\"attributes\":{\"overlay\":{\"id\":\"1126\"}},\"id\":\"1122\",\"type\":\"BoxZoomTool\"},{\"attributes\":{\"fill_alpha\":{\"value\":0.5},\"fill_color\":{\"field\":\"fill_color\"},\"line_color\":{\"value\":\"white\"},\"size\":{\"field\":\"size\",\"units\":\"screen\"},\"x\":{\"field\":\"x\"},\"y\":{\"field\":\"y\"}},\"id\":\"1135\",\"type\":\"Circle\"},{\"attributes\":{},\"id\":\"1123\",\"type\":\"SaveTool\"},{\"attributes\":{\"data_source\":{\"id\":\"1134\"},\"glyph\":{\"id\":\"1135\"},\"hover_glyph\":null,\"muted_glyph\":null,\"nonselection_glyph\":{\"id\":\"1136\"},\"selection_glyph\":null,\"view\":{\"id\":\"1138\"}},\"id\":\"1137\",\"type\":\"GlyphRenderer\"},{\"attributes\":{\"active_drag\":\"auto\",\"active_inspect\":\"auto\",\"active_multi\":null,\"active_scroll\":\"auto\",\"active_tap\":\"auto\",\"tools\":[{\"id\":\"1120\"},{\"id\":\"1121\"},{\"id\":\"1122\"},{\"id\":\"1123\"},{\"id\":\"1124\"},{\"id\":\"1125\"}]},\"id\":\"1127\",\"type\":\"Toolbar\"},{\"attributes\":{},\"id\":\"1153\",\"type\":\"BasicTickFormatter\"},{\"attributes\":{},\"id\":\"1124\",\"type\":\"ResetTool\"},{\"attributes\":{\"axis\":{\"id\":\"1112\"},\"ticker\":null},\"id\":\"1115\",\"type\":\"Grid\"},{\"attributes\":{\"formatter\":{\"id\":\"1151\"},\"ticker\":{\"id\":\"1117\"}},\"id\":\"1116\",\"type\":\"LinearAxis\"},{\"attributes\":{},\"id\":\"1151\",\"type\":\"BasicTickFormatter\"},{\"attributes\":{\"source\":{\"id\":\"1134\"}},\"id\":\"1138\",\"type\":\"CDSView\"},{\"attributes\":{},\"id\":\"1121\",\"type\":\"WheelZoomTool\"},{\"attributes\":{},\"id\":\"1110\",\"type\":\"LinearScale\"},{\"attributes\":{\"data\":{\"fill_color\":[\"#c6dbef\",\"#f7fbff\",\"#4292c6\",\"#084594\",\"#9ecae1\",\"#084594\",\"#2171b5\",\"#6baed6\",\"#084594\",\"#deebf7\",\"#084594\",\"#084594\",\"#2171b5\",\"#4292c6\",\"#f7fbff\",\"#f7fbff\",\"#9ecae1\",\"#deebf7\",\"#9ecae1\",\"#4292c6\",\"#084594\",\"#2171b5\",\"#084594\",\"#084594\",\"#c6dbef\",\"#deebf7\",\"#4292c6\",\"#deebf7\",\"#c6dbef\",\"#9ecae1\",\"#6baed6\",\"#084594\",\"#deebf7\",\"#4292c6\",\"#2171b5\",\"#6baed6\",\"#6baed6\",\"#2171b5\",\"#9ecae1\",\"#9ecae1\",\"#9ecae1\",\"#c6dbef\",\"#084594\",\"#2171b5\",\"#084594\",\"#f7fbff\",\"#f7fbff\",\"#deebf7\",\"#2171b5\",\"#4292c6\",\"#f7fbff\",\"#4292c6\",\"#9ecae1\",\"#c6dbef\",\"#c6dbef\",\"#deebf7\",\"#f7fbff\",\"#4292c6\",\"#9ecae1\",\"#c6dbef\",\"#deebf7\",\"#084594\",\"#c6dbef\",\"#4292c6\",\"#c6dbef\",\"#9ecae1\",\"#f7fbff\",\"#9ecae1\",\"#f7fbff\",\"#2171b5\",\"#2171b5\",\"#f7fbff\",\"#2171b5\",\"#2171b5\",\"#c6dbef\",\"#9ecae1\",\"#deebf7\",\"#c6dbef\",\"#6baed6\",\"#deebf7\",\"#9ecae1\",\"#2171b5\",\"#2171b5\",\"#deebf7\",\"#f7fbff\",\"#c6dbef\",\"#2171b5\",\"#4292c6\",\"#deebf7\",\"#9ecae1\",\"#6baed6\",\"#4292c6\",\"#6baed6\",\"#f7fbff\",\"#6baed6\",\"#4292c6\",\"#6baed6\",\"#084594\",\"#4292c6\",\"#084594\"],\"size\":{\"__ndarray__\":\"GAAAABIAAAARAAAAGgAAAA8AAAAMAAAADAAAABgAAAAVAAAAFAAAABIAAAAaAAAADwAAABMAAAAXAAAAEgAAABQAAAAVAAAAEAAAAAoAAAAYAAAADgAAABUAAAANAAAACgAAABgAAAAbAAAAEAAAAAoAAAALAAAAEAAAAA4AAAAcAAAADwAAABAAAAAcAAAAHAAAABgAAAARAAAAGgAAABEAAAAVAAAAGAAAABIAAAASAAAAEgAAABoAAAAMAAAACgAAABEAAAAWAAAAGwAAAAsAAAAUAAAAEwAAABUAAAAPAAAAGwAAAA8AAAAUAAAAGAAAABsAAAAUAAAAEgAAABoAAAAdAAAAFgAAABcAAAAaAAAADgAAABwAAAAOAAAADQAAABYAAAAMAAAAFgAAAAoAAAAKAAAAGQAAAA4AAAAUAAAAFgAAABwAAAAPAAAAGgAAAAoAAAAVAAAAFgAAABUAAAANAAAAFgAAABkAAAAdAAAAFwAAAAsAAAAOAAAAEQAAAA0AAAAMAAAADAAAAA==\",\"dtype\":\"int32\",\"order\":\"little\",\"shape\":[100]},\"x\":{\"__ndarray__\":\"HknPuOdNZEC4IKQymWhKwKp1IdybolVAtFIYzGXPZUBoELOeZuc/QJxgcNK+RmJA6kmxsfAeQMAd37TaH1hcQMKzQYApPjHAGQq6CrDiEECF/7519oNbwAkUkzwuilZALXEkY3qFVkC4IZDD+pMowL8yklHvyTrAqazC+aBKUcA/8XrA5y1RwFLEJ6n5x1DAnMVzRsnuW8DIdIjxXb9kQLtS2Hn9LjPADuACJtCtUsAuforOtlIUQPSsZrhvFzNABQsGbCMIKEB2A3g1XAQ+QKS/zdAdkFzAMcRyP7HjNMCP799sfvlUQGfqQxgJjzxAUMImliXcUsDQ7H9vgKVJQOUNOEMIbUhA6Gihlm1KXEDeBX9f11FrQAVHhwcqDWLAfJw28PIAMEDtvLMwQZA/QGZI/p3Snj7AHi6R22wCN0AUMSW3mTs2wFMYY7v4pzJA/Aq7C3nUM0ClzAAXPcRQwDUTXcM/XShAbCrvDRP5XUDS5nW5pcNCwOxMpUy6LEVAsltfuVMxQcASe/TDAgBPwPspj+E+W0bAqQptabEsREDwhGyRb19bwBKCgbCPg1JAvI3XmTGfOsAeY3C1+SlhwFx/4ZptJ1VAL1UZEP2GQUC5zb8d1/QOwKmv7sUSCVxAn9XKdI2xA8A980m3CdhfQLJ/TL6KOWfA1Q06f3tYZECHcoK+UPtdwEnPrEqPFzLAU7XdP1/AXsBGMuXE9tFTQHsUlIpgB0pAIptXHekLVECcbDyoL6gywOAuYxTfuFVAwguP+Sd5SkBwKfEs4iAfQMQP0VfcPzdAVBx0Sf0CP8D9qEk6evhZQAI3OQJ3EUZAWOkUjPhJK8AZ+JHF5Nr7P+iCpR7P2knAIUUfL0LhOEDFtWZ3tMJIQAOoXJKLqFhAbAPNNz1ia0BTSVJNRCxQwJueRGukmm9A3CtsdLR3EUDzYKiqqaRgQHbP92xyAFFAF4C8Q2DQX8DpbSX/wyhJQHeQwEPjFibAn/23j1cjTEDyGkGmBhE8QCVEjLYqAl1Ak5PzaejOZ0CTJZkv63lQQMr/UtGvHU5AsTGBOBdGVEA=\",\"dtype\":\"float64\",\"order\":\"little\",\"shape\":[100]},\"y\":{\"__ndarray__\":\"HkSPanuWTsCT32DK/9JawKu9H4DsxGzAeNnsYrkHU8Dzq1ax4e84wB2i60RzwGnAjFwzT+UzQ8BxvjTaTX9bwMpDXztL8lXADQlu5AgkTUBk7IFTO55cQOhuIHPtH0lARPJ2udsXUcBieh6k7GRXwCjEHMuMhEpAO/Tw9HHWQ8DjykvsUCFVwD/SlXJrQ/S/y1ebtwpxN0CLrxYnFY1SQBMrdUvTMFbAezwlz9onZUDEfK1Vi9lPwHZo/wHRQGpAriRfJjPcTkC+iAdMzJxBwB3ymDuWd0HAfSJ038ZUTUBl6GamDUdXQE0nlkjnIFZAqit/L1tSX0D3zkE0Lc89wLBAIx2LOh7AYI2e72n/YkBE0UvMyXRhwNsrXb0pOUnADiUNKXvnVUCzsWo8C0dpwKHiiacJs1RAoqkpHt8MU0DKPp4UaBM0wACF0TypgERATNtQHz7NJ0AzHdgD0eBCQND/SW+yPFxAX879GAGEMkD91JTMv+9PwKr82nyf7x5ACJiccVFwEUBxg0OvZ3NRQLL9bWzZnF5AFo/dGs6tTUCNY5q2MPAwQNOD5RCv11fA0nixi3UXCkB643iXFIQ/QO+Z3urmfFXA4lkLkk5nYMAAZYW2eDJkwC7GX0jtcURAECb+ywhhU8Ah68PAuZZoQAgpwiVz515Ad6QyuozmQEBeKOD3aJVVQGiX9xwvMk7AlfpNROGGS0A8Sbl+MS1PwMlDye7Im1zANemtyX2gEkD5IRuAY1kkwNHyRW6iwlJAKK63TE2KK0Bax0hxROtOQDkLmjlUEFFA9dKqGHtvbsCZpg+6VVZrQCwtd6zyByTAKO7MDJPPJ8A8rzR86wxcwA3QIcH47FjAkw/IdAOqPcDHMLCgZngxwCNNmsZ3WjVAyV433lq0Z8AFGY8fhIlWQPGcFeEM3TjApX4NBaWhNsA7UGfQFLs8wIvUL8Lr+j/AQJRAV9JaP0DEtZmkUipgQG7IpwI83k7AAYWRm94SOECJrT6pvT4dwGUyp7uBeUJAOfp/S8PGW0CrChd9zVdkwCO/k7mcA0VA1VWP7W0cWkA=\",\"dtype\":\"float64\",\"order\":\"little\",\"shape\":[100]}},\"selected\":{\"id\":\"1155\"},\"selection_policy\":{\"id\":\"1154\"}},\"id\":\"1134\",\"type\":\"ColumnDataSource\"},{\"attributes\":{},\"id\":\"1117\",\"type\":\"BasicTicker\"},{\"attributes\":{},\"id\":\"1154\",\"type\":\"UnionRenderers\"},{\"attributes\":{\"text\":\"\"},\"id\":\"1149\",\"type\":\"Title\"},{\"attributes\":{},\"id\":\"1120\",\"type\":\"PanTool\"},{\"attributes\":{},\"id\":\"1155\",\"type\":\"Selection\"},{\"attributes\":{\"axis\":{\"id\":\"1116\"},\"dimension\":1,\"ticker\":null},\"id\":\"1119\",\"type\":\"Grid\"},{\"attributes\":{},\"id\":\"1113\",\"type\":\"BasicTicker\"}],\"root_ids\":[\"1103\"]},\"title\":\"Bokeh Application\",\"version\":\"2.2.3\"}};\n",
       "  var render_items = [{\"docid\":\"67d0ab8d-1d44-4b0c-a01d-da42eadeca8e\",\"root_ids\":[\"1103\"],\"roots\":{\"1103\":\"210712d0-c38f-4d72-b5a7-3409a799dbd3\"}}];\n",
       "  root.Bokeh.embed.embed_items_notebook(docs_json, render_items);\n",
       "\n",
       "  }\n",
       "  if (root.Bokeh !== undefined) {\n",
       "    embed_document(root);\n",
       "  } else {\n",
       "    var attempts = 0;\n",
       "    var timer = setInterval(function(root) {\n",
       "      if (root.Bokeh !== undefined) {\n",
       "        clearInterval(timer);\n",
       "        embed_document(root);\n",
       "      } else {\n",
       "        attempts++;\n",
       "        if (attempts > 100) {\n",
       "          clearInterval(timer);\n",
       "          console.log(\"Bokeh: ERROR: Unable to run BokehJS code because BokehJS library is missing\");\n",
       "        }\n",
       "      }\n",
       "    }, 10, root)\n",
       "  }\n",
       "})(window);"
      ],
      "application/vnd.bokehjs_exec.v0+json": ""
     },
     "metadata": {
      "application/vnd.bokehjs_exec.v0+json": {
       "id": "1103"
      }
     },
     "output_type": "display_data"
    }
   ],
   "source": [
    "# 2、散点图不同 颜色上色/散点大小 的方法\n",
    "# ① 数据中有一列专门用于设置颜色 / 点大小\n",
    "\n",
    "from bokeh.palettes import brewer\n",
    "\n",
    "rng = np.random.RandomState(1)\n",
    "df = pd.DataFrame(rng.randn(100,2)*100,columns = ['A','B'])\n",
    "# 创建数据，有2列随机值\n",
    "\n",
    "df['size'] = rng.randint(10,30,100)   \n",
    "# 设置点大小字段\n",
    "\n",
    "colormap1 = {1: 'red', 2: 'green', 3: 'blue'}    \n",
    "df['color1'] = [colormap1[x] for x in rng.randint(1,4,100)]           # 调色盘1\n",
    "\n",
    "n = 8\n",
    "colormap2 = brewer['Blues'][n]\n",
    "df['color2'] = [colormap2[x] for x in rng.randint(0,n,100)]           # 调色盘2\n",
    "\n",
    "df['color3'] = np.random.choice(['red','green','blue'],100)    #调色盘3\n",
    "# 设置颜色字段\n",
    "# 通过字典/列表，识别颜色str\n",
    "# 这里设置了两个调色盘，第二个为蓝色渐变\n",
    "\n",
    "p = figure(plot_width=600, plot_height=400)\n",
    "p.circle(df['A'], df['B'],       # 设置散点图x，y值\n",
    "         line_color = 'white',   # 设置点边线为白色\n",
    "         fill_color = df['color2'],fill_alpha = 0.5,   # 设置内部填充颜色，这里用到了颜色字段\n",
    "         size = df['size']       # 设置点大小，这里用到了点大小字段\n",
    "        )\n",
    "\n",
    "show(p)"
   ]
  },
  {
   "cell_type": "code",
   "execution_count": 5,
   "metadata": {
    "collapsed": false,
    "jupyter": {
     "outputs_hidden": false
    }
   },
   "outputs": [
    {
     "name": "stdout",
     "output_type": "stream",
     "text": [
      "            A           B  type\n",
      "0  162.434536  -61.175641     6\n",
      "1  -52.817175 -107.296862     0\n",
      "2   86.540763 -230.153870     1\n",
      "3  174.481176  -76.120690     0\n",
      "4   31.903910  -24.937038     5\n"
     ]
    },
    {
     "data": {
      "text/html": [
       "\n",
       "\n",
       "\n",
       "\n",
       "\n",
       "\n",
       "  <div class=\"bk-root\" id=\"f6a03d74-b83d-4935-8747-47a35d96cad2\" data-root-id=\"1202\"></div>\n"
      ]
     },
     "metadata": {},
     "output_type": "display_data"
    },
    {
     "data": {
      "application/javascript": [
       "(function(root) {\n",
       "  function embed_document(root) {\n",
       "    \n",
       "  var docs_json = {\"3ef971c3-ca70-44ca-b8cb-612a6fc30b13\":{\"roots\":{\"references\":[{\"attributes\":{\"below\":[{\"id\":\"1211\"}],\"center\":[{\"id\":\"1214\"},{\"id\":\"1218\"}],\"left\":[{\"id\":\"1215\"}],\"plot_height\":400,\"renderers\":[{\"id\":\"1235\"},{\"id\":\"1240\"},{\"id\":\"1245\"},{\"id\":\"1250\"},{\"id\":\"1255\"},{\"id\":\"1260\"},{\"id\":\"1265\"}],\"title\":{\"id\":\"1286\"},\"toolbar\":{\"id\":\"1226\"},\"x_range\":{\"id\":\"1203\"},\"x_scale\":{\"id\":\"1207\"},\"y_range\":{\"id\":\"1205\"},\"y_scale\":{\"id\":\"1209\"}},\"id\":\"1202\",\"subtype\":\"Figure\",\"type\":\"Plot\"},{\"attributes\":{},\"id\":\"1219\",\"type\":\"PanTool\"},{\"attributes\":{\"data_source\":{\"id\":\"1247\"},\"glyph\":{\"id\":\"1248\"},\"hover_glyph\":null,\"muted_glyph\":null,\"nonselection_glyph\":{\"id\":\"1249\"},\"selection_glyph\":null,\"view\":{\"id\":\"1251\"}},\"id\":\"1250\",\"type\":\"GlyphRenderer\"},{\"attributes\":{},\"id\":\"1294\",\"type\":\"Selection\"},{\"attributes\":{\"overlay\":{\"id\":\"1224\"}},\"id\":\"1221\",\"type\":\"BoxSelectTool\"},{\"attributes\":{\"fill_alpha\":{\"value\":0.1},\"fill_color\":{\"value\":\"darkred\"},\"line_alpha\":{\"value\":0.1},\"line_color\":{\"value\":\"darkred\"},\"size\":{\"units\":\"screen\",\"value\":20},\"x\":{\"field\":\"x\"},\"y\":{\"field\":\"y\"}},\"id\":\"1254\",\"type\":\"Circle\"},{\"attributes\":{},\"id\":\"1302\",\"type\":\"Selection\"},{\"attributes\":{\"data_source\":{\"id\":\"1262\"},\"glyph\":{\"id\":\"1263\"},\"hover_glyph\":null,\"muted_glyph\":null,\"nonselection_glyph\":{\"id\":\"1264\"},\"selection_glyph\":null,\"view\":{\"id\":\"1266\"}},\"id\":\"1265\",\"type\":\"GlyphRenderer\"},{\"attributes\":{\"fill_alpha\":{\"value\":0.1},\"fill_color\":{\"value\":\"red\"},\"line_alpha\":{\"value\":0.1},\"line_color\":{\"value\":\"red\"},\"size\":{\"units\":\"screen\",\"value\":20},\"x\":{\"field\":\"x\"},\"y\":{\"field\":\"y\"}},\"id\":\"1239\",\"type\":\"Circle\"},{\"attributes\":{\"data\":{\"x\":{\"__ndarray__\":\"uCCkMploSsC0UhjMZc9lQLghkMP6kyjAP/F6wOctUcAO4AIm0K1SwKS/zdAdkFzA5Q04QwhtSEBmSP6d0p4+wB5jcLX5KWHAsn9Mvoo5Z8CHcoK+UPtdwEnPrEqPFzLAU7XdP1/AXsCcbDyoL6gywNwrbHS0dxFAn/23j1cjTEDyGkGmBhE8QA==\",\"dtype\":\"float64\",\"order\":\"little\",\"shape\":[17]},\"y\":{\"__ndarray__\":\"k99gyv/SWsB42exiuQdTwGJ6HqTsZFfA48pL7FAhVcB7PCXP2idlQB3ymDuWd0HAsEAjHYs6HsCh4omnCbNUQHrjeJcUhD9ACCnCJXPnXkBeKOD3aJVVQGiX9xwvMk7AlfpNROGGS0D5IRuAY1kkwKV+DQWloTbAAYWRm94SOECJrT6pvT4dwA==\",\"dtype\":\"float64\",\"order\":\"little\",\"shape\":[17]}},\"selected\":{\"id\":\"1294\"},\"selection_policy\":{\"id\":\"1293\"}},\"id\":\"1237\",\"type\":\"ColumnDataSource\"},{\"attributes\":{},\"id\":\"1223\",\"type\":\"ResetTool\"},{\"attributes\":{},\"id\":\"1301\",\"type\":\"UnionRenderers\"},{\"attributes\":{},\"id\":\"1291\",\"type\":\"UnionRenderers\"},{\"attributes\":{\"source\":{\"id\":\"1237\"}},\"id\":\"1241\",\"type\":\"CDSView\"},{\"attributes\":{},\"id\":\"1212\",\"type\":\"BasicTicker\"},{\"attributes\":{},\"id\":\"1295\",\"type\":\"UnionRenderers\"},{\"attributes\":{\"axis\":{\"id\":\"1215\"},\"dimension\":1,\"ticker\":null},\"id\":\"1218\",\"type\":\"Grid\"},{\"attributes\":{\"source\":{\"id\":\"1257\"}},\"id\":\"1261\",\"type\":\"CDSView\"},{\"attributes\":{},\"id\":\"1303\",\"type\":\"UnionRenderers\"},{\"attributes\":{},\"id\":\"1304\",\"type\":\"Selection\"},{\"attributes\":{\"source\":{\"id\":\"1242\"}},\"id\":\"1246\",\"type\":\"CDSView\"},{\"attributes\":{\"active_drag\":\"auto\",\"active_inspect\":\"auto\",\"active_multi\":null,\"active_scroll\":\"auto\",\"active_tap\":\"auto\",\"tools\":[{\"id\":\"1219\"},{\"id\":\"1220\"},{\"id\":\"1221\"},{\"id\":\"1222\"},{\"id\":\"1223\"}]},\"id\":\"1226\",\"type\":\"Toolbar\"},{\"attributes\":{\"data_source\":{\"id\":\"1257\"},\"glyph\":{\"id\":\"1258\"},\"hover_glyph\":null,\"muted_glyph\":null,\"nonselection_glyph\":{\"id\":\"1259\"},\"selection_glyph\":null,\"view\":{\"id\":\"1261\"}},\"id\":\"1260\",\"type\":\"GlyphRenderer\"},{\"attributes\":{\"overlay\":{\"id\":\"1225\"}},\"id\":\"1222\",\"type\":\"LassoSelectTool\"},{\"attributes\":{\"fill_alpha\":{\"value\":0.5},\"fill_color\":{\"value\":\"orange\"},\"line_alpha\":{\"value\":0.5},\"line_color\":{\"value\":\"orange\"},\"size\":{\"units\":\"screen\",\"value\":20},\"x\":{\"field\":\"x\"},\"y\":{\"field\":\"y\"}},\"id\":\"1248\",\"type\":\"Circle\"},{\"attributes\":{},\"id\":\"1216\",\"type\":\"BasicTicker\"},{\"attributes\":{\"data\":{\"x\":{\"__ndarray__\":\"Hd+02h9YXEBSxCep+cdQwI/v32x++VRA/Aq7C3nUM0BsKu8NE/ldQOxMpUy6LEVAIptXHekLVEDgLmMU37hVQP2oSTp6+FlAU0lSTUQsUMCTJZkv63lQQA==\",\"dtype\":\"float64\",\"order\":\"little\",\"shape\":[11]},\"y\":{\"__ndarray__\":\"cb402k1/W8A/0pVya0P0v2XoZqYNR1dATNtQHz7NJ0Bfzv0YAYQyQKr82nyf7x5ANemtyX2gEkDR8kVuosJSQJmmD7pVVmtABRmPH4SJVkCrChd9zVdkwA==\",\"dtype\":\"float64\",\"order\":\"little\",\"shape\":[11]}},\"selected\":{\"id\":\"1302\"},\"selection_policy\":{\"id\":\"1301\"}},\"id\":\"1257\",\"type\":\"ColumnDataSource\"},{\"attributes\":{\"axis\":{\"id\":\"1211\"},\"ticker\":null},\"id\":\"1214\",\"type\":\"Grid\"},{\"attributes\":{},\"id\":\"1292\",\"type\":\"Selection\"},{\"attributes\":{\"fill_alpha\":{\"value\":0.1},\"fill_color\":{\"value\":\"olive\"},\"line_alpha\":{\"value\":0.1},\"line_color\":{\"value\":\"olive\"},\"size\":{\"units\":\"screen\",\"value\":20},\"x\":{\"field\":\"x\"},\"y\":{\"field\":\"y\"}},\"id\":\"1244\",\"type\":\"Circle\"},{\"attributes\":{\"formatter\":{\"id\":\"1288\"},\"ticker\":{\"id\":\"1216\"}},\"id\":\"1215\",\"type\":\"LinearAxis\"},{\"attributes\":{\"fill_alpha\":{\"value\":0.5},\"fill_color\":{\"value\":\"salmon\"},\"line_alpha\":{\"value\":0.5},\"line_color\":{\"value\":\"salmon\"},\"size\":{\"units\":\"screen\",\"value\":20},\"x\":{\"field\":\"x\"},\"y\":{\"field\":\"y\"}},\"id\":\"1233\",\"type\":\"Circle\"},{\"attributes\":{},\"id\":\"1296\",\"type\":\"Selection\"},{\"attributes\":{\"data_source\":{\"id\":\"1252\"},\"glyph\":{\"id\":\"1253\"},\"hover_glyph\":null,\"muted_glyph\":null,\"nonselection_glyph\":{\"id\":\"1254\"},\"selection_glyph\":null,\"view\":{\"id\":\"1256\"}},\"id\":\"1255\",\"type\":\"GlyphRenderer\"},{\"attributes\":{\"source\":{\"id\":\"1262\"}},\"id\":\"1266\",\"type\":\"CDSView\"},{\"attributes\":{\"data\":{\"x\":{\"__ndarray__\":\"aBCznmbnP0C/MpJR78k6wJzFc0bJ7lvAu1LYef0uM8DS5nW5pcNCwLyN15kxnzrAXH/hmm0nVUC5zb8d1/QOwBn4kcXk2vs/IUUfL0LhOEAXgLxDYNBfwCVEjLYqAl1AsTGBOBdGVEA=\",\"dtype\":\"float64\",\"order\":\"little\",\"shape\":[13]},\"y\":{\"__ndarray__\":\"86tWseHvOMAoxBzLjIRKQMtXm7cKcTdAEyt1S9MwVsD91JTMv+9PwNJ4sYt1FwpA75ne6uZ8VcAAZYW2eDJkwDyvNHzrDFzAkw/IdAOqPcBAlEBX0lo/QGUyp7uBeUJA1VWP7W0cWkA=\",\"dtype\":\"float64\",\"order\":\"little\",\"shape\":[13]}},\"selected\":{\"id\":\"1298\"},\"selection_policy\":{\"id\":\"1297\"}},\"id\":\"1247\",\"type\":\"ColumnDataSource\"},{\"attributes\":{},\"id\":\"1297\",\"type\":\"UnionRenderers\"},{\"attributes\":{\"data\":{\"x\":{\"__ndarray__\":\"GQq6CrDiEED0rGa4bxczQGfqQxgJjzxAUMImliXcUsDQ7H9vgKVJQN4Ff1/XUWtANRNdwz9dKEAvVRkQ/YZBQKmv7sUSCVxAWOkUjPhJK8CTk/Np6M5nQA==\",\"dtype\":\"float64\",\"order\":\"little\",\"shape\":[11]},\"y\":{\"__ndarray__\":\"DQlu5AgkTUB2aP8B0UBqQE0nlkjnIFZAqit/L1tSX0D3zkE0Lc89wETRS8zJdGHA0P9Jb7I8XEDiWQuSTmdgwC7GX0jtcURAKO7MDJPPJ8A5+n9Lw8ZbQA==\",\"dtype\":\"float64\",\"order\":\"little\",\"shape\":[11]}},\"selected\":{\"id\":\"1304\"},\"selection_policy\":{\"id\":\"1303\"}},\"id\":\"1262\",\"type\":\"ColumnDataSource\"},{\"attributes\":{\"text\":\"\"},\"id\":\"1286\",\"type\":\"Title\"},{\"attributes\":{\"data\":{\"x\":{\"__ndarray__\":\"nGBw0r5GYkDqSbGx8B5AwIX/vnX2g1vACRSTPC6KVkAtcSRjeoVWQKmswvmgSlHALn6KzrZSFEDtvLMwQZA/QKXMABc9xFDAEnv0wwIAT8DwhGyRb19bwJ/VynSNsQPAexSUimAHSkBwKfEs4iAfQFQcdEn9Aj/AA6hckouoWEB2z/dscgBRQHeQwEPjFibA\",\"dtype\":\"float64\",\"order\":\"little\",\"shape\":[18]},\"y\":{\"__ndarray__\":\"HaLrRHPAacCMXDNP5TNDwGTsgVM7nlxA6G4gc+0fSUBE8na52xdRwDv08PRx1kPAxHytVYvZT8CzsWo8C0dpwDMd2APR4EJAcYNDr2dzUUCNY5q2MPAwQBAm/ssIYVPAyUPJ7sibXMBax0hxROtOQPXSqhh7b27AI02axndaNUCL1C/C6/o/wG7IpwI83k7A\",\"dtype\":\"float64\",\"order\":\"little\",\"shape\":[18]}},\"selected\":{\"id\":\"1300\"},\"selection_policy\":{\"id\":\"1299\"}},\"id\":\"1252\",\"type\":\"ColumnDataSource\"},{\"attributes\":{\"fill_alpha\":{\"value\":0.5},\"fill_color\":{\"value\":\"red\"},\"line_alpha\":{\"value\":0.5},\"line_color\":{\"value\":\"red\"},\"size\":{\"units\":\"screen\",\"value\":20},\"x\":{\"field\":\"x\"},\"y\":{\"field\":\"y\"}},\"id\":\"1238\",\"type\":\"Circle\"},{\"attributes\":{\"formatter\":{\"id\":\"1290\"},\"ticker\":{\"id\":\"1212\"}},\"id\":\"1211\",\"type\":\"LinearAxis\"},{\"attributes\":{},\"id\":\"1298\",\"type\":\"Selection\"},{\"attributes\":{\"fill_alpha\":{\"value\":0.5},\"fill_color\":{\"value\":\"darkred\"},\"line_alpha\":{\"value\":0.5},\"line_color\":{\"value\":\"darkred\"},\"size\":{\"units\":\"screen\",\"value\":20},\"x\":{\"field\":\"x\"},\"y\":{\"field\":\"y\"}},\"id\":\"1253\",\"type\":\"Circle\"},{\"attributes\":{\"fill_alpha\":0.5,\"fill_color\":\"lightgrey\",\"level\":\"overlay\",\"line_alpha\":1.0,\"line_color\":\"black\",\"line_dash\":[4,4],\"line_width\":2,\"xs_units\":\"screen\",\"ys_units\":\"screen\"},\"id\":\"1225\",\"type\":\"PolyAnnotation\"},{\"attributes\":{},\"id\":\"1207\",\"type\":\"LinearScale\"},{\"attributes\":{\"data_source\":{\"id\":\"1237\"},\"glyph\":{\"id\":\"1238\"},\"hover_glyph\":null,\"muted_glyph\":null,\"nonselection_glyph\":{\"id\":\"1239\"},\"selection_glyph\":null,\"view\":{\"id\":\"1241\"}},\"id\":\"1240\",\"type\":\"GlyphRenderer\"},{\"attributes\":{},\"id\":\"1203\",\"type\":\"DataRange1d\"},{\"attributes\":{\"source\":{\"id\":\"1232\"}},\"id\":\"1236\",\"type\":\"CDSView\"},{\"attributes\":{\"data\":{\"x\":{\"__ndarray__\":\"qnUh3JuiVUDIdIjxXb9kQAVHhwcqDWLAFDElt5k7NsCpCm1psSxEQMILj/kneUpAxA/RV9w/N0ACNzkCdxFGQOiCpR7P2knAxbVmd7TCSECbnkRrpJpvQOltJf/DKElAyv9S0a8dTkA=\",\"dtype\":\"float64\",\"order\":\"little\",\"shape\":[13]},\"y\":{\"__ndarray__\":\"q70fgOzEbMCLrxYnFY1SQNsrXb0pOUnAyj6eFGgTNMAWj90azq1NQCiut0xNiitAOQuaOVQQUUAsLXes8gckwA3QIcH47FjAxzCwoGZ4McDxnBXhDN04wMS1maRSKmBAI7+TuZwDRUA=\",\"dtype\":\"float64\",\"order\":\"little\",\"shape\":[13]}},\"selected\":{\"id\":\"1296\"},\"selection_policy\":{\"id\":\"1295\"}},\"id\":\"1242\",\"type\":\"ColumnDataSource\"},{\"attributes\":{\"fill_alpha\":{\"value\":0.1},\"fill_color\":{\"value\":\"skyblue\"},\"line_alpha\":{\"value\":0.1},\"line_color\":{\"value\":\"skyblue\"},\"size\":{\"units\":\"screen\",\"value\":20},\"x\":{\"field\":\"x\"},\"y\":{\"field\":\"y\"}},\"id\":\"1259\",\"type\":\"Circle\"},{\"attributes\":{},\"id\":\"1205\",\"type\":\"DataRange1d\"},{\"attributes\":{\"data\":{\"x\":{\"__ndarray__\":\"HknPuOdNZEDCs0GAKT4xwAULBmwjCChAdgN4NVwEPkAxxHI/seM0wOhooZZtSlxAfJw28PIAMEAeLpHbbAI3QFMYY7v4pzJAsltfuVMxQcD7KY/hPltGwBKCgbCPg1JAPfNJtwnYX0DVDTp/e1hkQEYy5cT20VNAbAPNNz1ia0DzYKiqqaRgQA==\",\"dtype\":\"float64\",\"order\":\"little\",\"shape\":[17]},\"y\":{\"__ndarray__\":\"HkSPanuWTsDKQ187S/JVwK4kXyYz3E5AvogHTMycQcB9InTfxlRNQGCNnu9p/2JADiUNKXvnVUCiqSke3wxTQACF0TypgERACJiccVFwEUCy/W1s2ZxeQNOD5RCv11fAIevDwLmWaEB3pDK6jOZAQDxJuX4xLU/AyV433lq0Z8A7UGfQFLs8wA==\",\"dtype\":\"float64\",\"order\":\"little\",\"shape\":[17]}},\"selected\":{\"id\":\"1292\"},\"selection_policy\":{\"id\":\"1291\"}},\"id\":\"1232\",\"type\":\"ColumnDataSource\"},{\"attributes\":{\"source\":{\"id\":\"1247\"}},\"id\":\"1251\",\"type\":\"CDSView\"},{\"attributes\":{\"fill_alpha\":{\"value\":0.1},\"fill_color\":{\"value\":\"orange\"},\"line_alpha\":{\"value\":0.1},\"line_color\":{\"value\":\"orange\"},\"size\":{\"units\":\"screen\",\"value\":20},\"x\":{\"field\":\"x\"},\"y\":{\"field\":\"y\"}},\"id\":\"1249\",\"type\":\"Circle\"},{\"attributes\":{\"fill_alpha\":{\"value\":0.5},\"fill_color\":{\"value\":\"olive\"},\"line_alpha\":{\"value\":0.5},\"line_color\":{\"value\":\"olive\"},\"size\":{\"units\":\"screen\",\"value\":20},\"x\":{\"field\":\"x\"},\"y\":{\"field\":\"y\"}},\"id\":\"1243\",\"type\":\"Circle\"},{\"attributes\":{},\"id\":\"1299\",\"type\":\"UnionRenderers\"},{\"attributes\":{},\"id\":\"1300\",\"type\":\"Selection\"},{\"attributes\":{\"source\":{\"id\":\"1252\"}},\"id\":\"1256\",\"type\":\"CDSView\"},{\"attributes\":{},\"id\":\"1220\",\"type\":\"WheelZoomTool\"},{\"attributes\":{},\"id\":\"1288\",\"type\":\"BasicTickFormatter\"},{\"attributes\":{\"data_source\":{\"id\":\"1242\"},\"glyph\":{\"id\":\"1243\"},\"hover_glyph\":null,\"muted_glyph\":null,\"nonselection_glyph\":{\"id\":\"1244\"},\"selection_glyph\":null,\"view\":{\"id\":\"1246\"}},\"id\":\"1245\",\"type\":\"GlyphRenderer\"},{\"attributes\":{},\"id\":\"1293\",\"type\":\"UnionRenderers\"},{\"attributes\":{},\"id\":\"1290\",\"type\":\"BasicTickFormatter\"},{\"attributes\":{\"fill_alpha\":{\"value\":0.5},\"fill_color\":{\"value\":\"skyblue\"},\"line_alpha\":{\"value\":0.5},\"line_color\":{\"value\":\"skyblue\"},\"size\":{\"units\":\"screen\",\"value\":20},\"x\":{\"field\":\"x\"},\"y\":{\"field\":\"y\"}},\"id\":\"1258\",\"type\":\"Circle\"},{\"attributes\":{\"bottom_units\":\"screen\",\"fill_alpha\":0.5,\"fill_color\":\"lightgrey\",\"left_units\":\"screen\",\"level\":\"overlay\",\"line_alpha\":1.0,\"line_color\":\"black\",\"line_dash\":[4,4],\"line_width\":2,\"right_units\":\"screen\",\"top_units\":\"screen\"},\"id\":\"1224\",\"type\":\"BoxAnnotation\"},{\"attributes\":{\"fill_alpha\":{\"value\":0.1},\"fill_color\":{\"value\":\"salmon\"},\"line_alpha\":{\"value\":0.1},\"line_color\":{\"value\":\"salmon\"},\"size\":{\"units\":\"screen\",\"value\":20},\"x\":{\"field\":\"x\"},\"y\":{\"field\":\"y\"}},\"id\":\"1234\",\"type\":\"Circle\"},{\"attributes\":{\"fill_alpha\":{\"value\":0.5},\"fill_color\":{\"value\":\"goldenrod\"},\"line_alpha\":{\"value\":0.5},\"line_color\":{\"value\":\"goldenrod\"},\"size\":{\"units\":\"screen\",\"value\":20},\"x\":{\"field\":\"x\"},\"y\":{\"field\":\"y\"}},\"id\":\"1263\",\"type\":\"Circle\"},{\"attributes\":{},\"id\":\"1209\",\"type\":\"LinearScale\"},{\"attributes\":{\"fill_alpha\":{\"value\":0.1},\"fill_color\":{\"value\":\"goldenrod\"},\"line_alpha\":{\"value\":0.1},\"line_color\":{\"value\":\"goldenrod\"},\"size\":{\"units\":\"screen\",\"value\":20},\"x\":{\"field\":\"x\"},\"y\":{\"field\":\"y\"}},\"id\":\"1264\",\"type\":\"Circle\"},{\"attributes\":{\"data_source\":{\"id\":\"1232\"},\"glyph\":{\"id\":\"1233\"},\"hover_glyph\":null,\"muted_glyph\":null,\"nonselection_glyph\":{\"id\":\"1234\"},\"selection_glyph\":null,\"view\":{\"id\":\"1236\"}},\"id\":\"1235\",\"type\":\"GlyphRenderer\"}],\"root_ids\":[\"1202\"]},\"title\":\"Bokeh Application\",\"version\":\"2.2.3\"}};\n",
       "  var render_items = [{\"docid\":\"3ef971c3-ca70-44ca-b8cb-612a6fc30b13\",\"root_ids\":[\"1202\"],\"roots\":{\"1202\":\"f6a03d74-b83d-4935-8747-47a35d96cad2\"}}];\n",
       "  root.Bokeh.embed.embed_items_notebook(docs_json, render_items);\n",
       "\n",
       "  }\n",
       "  if (root.Bokeh !== undefined) {\n",
       "    embed_document(root);\n",
       "  } else {\n",
       "    var attempts = 0;\n",
       "    var timer = setInterval(function(root) {\n",
       "      if (root.Bokeh !== undefined) {\n",
       "        clearInterval(timer);\n",
       "        embed_document(root);\n",
       "      } else {\n",
       "        attempts++;\n",
       "        if (attempts > 100) {\n",
       "          clearInterval(timer);\n",
       "          console.log(\"Bokeh: ERROR: Unable to run BokehJS code because BokehJS library is missing\");\n",
       "        }\n",
       "      }\n",
       "    }, 10, root)\n",
       "  }\n",
       "})(window);"
      ],
      "application/vnd.bokehjs_exec.v0+json": ""
     },
     "metadata": {
      "application/vnd.bokehjs_exec.v0+json": {
       "id": "1202"
      }
     },
     "output_type": "display_data"
    }
   ],
   "source": [
    "# 2、散点图不同 颜色上色/散点大小 的方法\n",
    "# ② 遍历数据分开做图\n",
    "\n",
    "rng = np.random.RandomState(1)\n",
    "df = pd.DataFrame(rng.randn(100,2)*100,columns = ['A','B'])\n",
    "df['type'] = rng.randint(0,7,100)\n",
    "print(df.head())\n",
    "# 创建数据\n",
    "\n",
    "colors = [\"red\", \"olive\", \"darkred\", \"goldenrod\", \"skyblue\", \"orange\", \"salmon\"]\n",
    "# 创建颜色列表\n",
    "\n",
    "p = figure(plot_width=600, plot_height=400,tools = \"pan,wheel_zoom,box_select,lasso_select,reset\")\n",
    "for t in df['type'].unique():\n",
    "    p.circle(df['A'][df['type'] == t], df['B'][df['type'] == t],       # 设置散点图x，y值\n",
    "             size = 20,alpha = 0.5,\n",
    "             color = colors[t])        \n",
    "# 通过分类设置颜色\n",
    "\n",
    "show(p)"
   ]
  },
  {
   "cell_type": "code",
   "execution_count": 6,
   "metadata": {},
   "outputs": [
    {
     "name": "stdout",
     "output_type": "stream",
     "text": [
      "            A           B  type\n",
      "0  162.434536  -61.175641     6\n",
      "1  -52.817175 -107.296862     0\n",
      "2   86.540763 -230.153870     1\n",
      "3  174.481176  -76.120690     0\n",
      "4   31.903910  -24.937038     5\n"
     ]
    },
    {
     "data": {
      "text/html": [
       "\n",
       "\n",
       "\n",
       "\n",
       "\n",
       "\n",
       "  <div class=\"bk-root\" id=\"acea1343-253a-44cc-924f-abdd53bc30ff\" data-root-id=\"1417\"></div>\n"
      ]
     },
     "metadata": {},
     "output_type": "display_data"
    },
    {
     "data": {
      "application/javascript": [
       "(function(root) {\n",
       "  function embed_document(root) {\n",
       "    \n",
       "  var docs_json = {\"3e5f858e-28cc-4957-897a-f46c7a48b673\":{\"roots\":{\"references\":[{\"attributes\":{\"below\":[{\"id\":\"1426\"}],\"center\":[{\"id\":\"1429\"},{\"id\":\"1433\"},{\"id\":\"1524\"}],\"left\":[{\"id\":\"1430\"}],\"plot_height\":400,\"renderers\":[{\"id\":\"1513\"}],\"title\":{\"id\":\"1516\"},\"toolbar\":{\"id\":\"1441\"},\"x_range\":{\"id\":\"1418\"},\"x_scale\":{\"id\":\"1422\"},\"y_range\":{\"id\":\"1420\"},\"y_scale\":{\"id\":\"1424\"}},\"id\":\"1417\",\"subtype\":\"Figure\",\"type\":\"Plot\"},{\"attributes\":{\"overlay\":{\"id\":\"1440\"}},\"id\":\"1436\",\"type\":\"BoxZoomTool\"},{\"attributes\":{},\"id\":\"1522\",\"type\":\"Selection\"},{\"attributes\":{\"formatter\":{\"id\":\"1520\"},\"ticker\":{\"id\":\"1427\"}},\"id\":\"1426\",\"type\":\"LinearAxis\"},{\"attributes\":{},\"id\":\"1439\",\"type\":\"HelpTool\"},{\"attributes\":{},\"id\":\"1434\",\"type\":\"PanTool\"},{\"attributes\":{},\"id\":\"1521\",\"type\":\"UnionRenderers\"},{\"attributes\":{},\"id\":\"1420\",\"type\":\"DataRange1d\"},{\"attributes\":{\"active_drag\":\"auto\",\"active_inspect\":\"auto\",\"active_multi\":null,\"active_scroll\":\"auto\",\"active_tap\":\"auto\",\"tools\":[{\"id\":\"1434\"},{\"id\":\"1435\"},{\"id\":\"1436\"},{\"id\":\"1437\"},{\"id\":\"1438\"},{\"id\":\"1439\"}]},\"id\":\"1441\",\"type\":\"Toolbar\"},{\"attributes\":{},\"id\":\"1520\",\"type\":\"BasicTickFormatter\"},{\"attributes\":{\"fill_alpha\":{\"value\":0.5},\"fill_color\":{\"value\":\"salmon\"},\"line_alpha\":{\"value\":0.5},\"line_color\":{\"value\":\"salmon\"},\"size\":{\"units\":\"screen\",\"value\":20},\"x\":{\"field\":\"x\"},\"y\":{\"field\":\"y\"}},\"id\":\"1511\",\"type\":\"Circle\"},{\"attributes\":{},\"id\":\"1427\",\"type\":\"BasicTicker\"},{\"attributes\":{},\"id\":\"1418\",\"type\":\"DataRange1d\"},{\"attributes\":{\"bottom_units\":\"screen\",\"fill_alpha\":0.5,\"fill_color\":\"lightgrey\",\"left_units\":\"screen\",\"level\":\"overlay\",\"line_alpha\":1.0,\"line_color\":\"black\",\"line_dash\":[4,4],\"line_width\":2,\"right_units\":\"screen\",\"top_units\":\"screen\"},\"id\":\"1440\",\"type\":\"BoxAnnotation\"},{\"attributes\":{\"axis\":{\"id\":\"1426\"},\"ticker\":null},\"id\":\"1429\",\"type\":\"Grid\"},{\"attributes\":{\"label\":{\"value\":\"type6\"},\"renderers\":[{\"id\":\"1513\"}]},\"id\":\"1525\",\"type\":\"LegendItem\"},{\"attributes\":{\"data_source\":{\"id\":\"1510\"},\"glyph\":{\"id\":\"1511\"},\"hover_glyph\":null,\"muted_glyph\":null,\"nonselection_glyph\":{\"id\":\"1512\"},\"selection_glyph\":null,\"view\":{\"id\":\"1514\"}},\"id\":\"1513\",\"type\":\"GlyphRenderer\"},{\"attributes\":{\"items\":[{\"id\":\"1525\"}]},\"id\":\"1524\",\"type\":\"Legend\"},{\"attributes\":{},\"id\":\"1435\",\"type\":\"WheelZoomTool\"},{\"attributes\":{},\"id\":\"1438\",\"type\":\"ResetTool\"},{\"attributes\":{\"axis\":{\"id\":\"1430\"},\"dimension\":1,\"ticker\":null},\"id\":\"1433\",\"type\":\"Grid\"},{\"attributes\":{},\"id\":\"1424\",\"type\":\"LinearScale\"},{\"attributes\":{\"fill_alpha\":{\"value\":0.1},\"fill_color\":{\"value\":\"salmon\"},\"line_alpha\":{\"value\":0.1},\"line_color\":{\"value\":\"salmon\"},\"size\":{\"units\":\"screen\",\"value\":20},\"x\":{\"field\":\"x\"},\"y\":{\"field\":\"y\"}},\"id\":\"1512\",\"type\":\"Circle\"},{\"attributes\":{},\"id\":\"1518\",\"type\":\"BasicTickFormatter\"},{\"attributes\":{},\"id\":\"1431\",\"type\":\"BasicTicker\"},{\"attributes\":{},\"id\":\"1437\",\"type\":\"SaveTool\"},{\"attributes\":{\"formatter\":{\"id\":\"1518\"},\"ticker\":{\"id\":\"1431\"}},\"id\":\"1430\",\"type\":\"LinearAxis\"},{\"attributes\":{\"source\":{\"id\":\"1510\"}},\"id\":\"1514\",\"type\":\"CDSView\"},{\"attributes\":{},\"id\":\"1422\",\"type\":\"LinearScale\"},{\"attributes\":{\"data\":{\"x\":{\"__ndarray__\":\"HknPuOdNZEDCs0GAKT4xwAULBmwjCChAdgN4NVwEPkAxxHI/seM0wOhooZZtSlxAfJw28PIAMEAeLpHbbAI3QFMYY7v4pzJAsltfuVMxQcD7KY/hPltGwBKCgbCPg1JAPfNJtwnYX0DVDTp/e1hkQEYy5cT20VNAbAPNNz1ia0DzYKiqqaRgQA==\",\"dtype\":\"float64\",\"order\":\"little\",\"shape\":[17]},\"y\":{\"__ndarray__\":\"HkSPanuWTsDKQ187S/JVwK4kXyYz3E5AvogHTMycQcB9InTfxlRNQGCNnu9p/2JADiUNKXvnVUCiqSke3wxTQACF0TypgERACJiccVFwEUCy/W1s2ZxeQNOD5RCv11fAIevDwLmWaEB3pDK6jOZAQDxJuX4xLU/AyV433lq0Z8A7UGfQFLs8wA==\",\"dtype\":\"float64\",\"order\":\"little\",\"shape\":[17]}},\"selected\":{\"id\":\"1522\"},\"selection_policy\":{\"id\":\"1521\"}},\"id\":\"1510\",\"type\":\"ColumnDataSource\"},{\"attributes\":{\"text\":\"\"},\"id\":\"1516\",\"type\":\"Title\"}],\"root_ids\":[\"1417\"]},\"title\":\"Bokeh Application\",\"version\":\"2.2.3\"}};\n",
       "  var render_items = [{\"docid\":\"3e5f858e-28cc-4957-897a-f46c7a48b673\",\"root_ids\":[\"1417\"],\"roots\":{\"1417\":\"acea1343-253a-44cc-924f-abdd53bc30ff\"}}];\n",
       "  root.Bokeh.embed.embed_items_notebook(docs_json, render_items);\n",
       "\n",
       "  }\n",
       "  if (root.Bokeh !== undefined) {\n",
       "    embed_document(root);\n",
       "  } else {\n",
       "    var attempts = 0;\n",
       "    var timer = setInterval(function(root) {\n",
       "      if (root.Bokeh !== undefined) {\n",
       "        clearInterval(timer);\n",
       "        embed_document(root);\n",
       "      } else {\n",
       "        attempts++;\n",
       "        if (attempts > 100) {\n",
       "          clearInterval(timer);\n",
       "          console.log(\"Bokeh: ERROR: Unable to run BokehJS code because BokehJS library is missing\");\n",
       "        }\n",
       "      }\n",
       "    }, 10, root)\n",
       "  }\n",
       "})(window);"
      ],
      "application/vnd.bokehjs_exec.v0+json": ""
     },
     "metadata": {
      "application/vnd.bokehjs_exec.v0+json": {
       "id": "1417"
      }
     },
     "output_type": "display_data"
    },
    {
     "data": {
      "text/html": [
       "\n",
       "\n",
       "\n",
       "\n",
       "\n",
       "\n",
       "  <div class=\"bk-root\" id=\"64de843d-e658-4990-a139-5ea4d26dc62f\" data-root-id=\"1448\"></div>\n"
      ]
     },
     "metadata": {},
     "output_type": "display_data"
    },
    {
     "data": {
      "application/javascript": [
       "(function(root) {\n",
       "  function embed_document(root) {\n",
       "    \n",
       "  var docs_json = {\"0f45201d-20a1-41eb-9cb1-d610f21ff938\":{\"roots\":{\"references\":[{\"attributes\":{\"below\":[{\"id\":\"1457\"}],\"center\":[{\"id\":\"1460\"},{\"id\":\"1464\"},{\"id\":\"1634\"}],\"left\":[{\"id\":\"1461\"}],\"plot_height\":400,\"renderers\":[{\"id\":\"1623\"}],\"title\":{\"id\":\"1626\"},\"toolbar\":{\"id\":\"1472\"},\"x_range\":{\"id\":\"1449\"},\"x_scale\":{\"id\":\"1453\"},\"y_range\":{\"id\":\"1451\"},\"y_scale\":{\"id\":\"1455\"}},\"id\":\"1448\",\"subtype\":\"Figure\",\"type\":\"Plot\"},{\"attributes\":{},\"id\":\"1631\",\"type\":\"UnionRenderers\"},{\"attributes\":{},\"id\":\"1462\",\"type\":\"BasicTicker\"},{\"attributes\":{},\"id\":\"1449\",\"type\":\"DataRange1d\"},{\"attributes\":{},\"id\":\"1470\",\"type\":\"HelpTool\"},{\"attributes\":{\"source\":{\"id\":\"1620\"}},\"id\":\"1624\",\"type\":\"CDSView\"},{\"attributes\":{},\"id\":\"1466\",\"type\":\"WheelZoomTool\"},{\"attributes\":{},\"id\":\"1632\",\"type\":\"Selection\"},{\"attributes\":{},\"id\":\"1468\",\"type\":\"SaveTool\"},{\"attributes\":{\"fill_alpha\":{\"value\":0.1},\"fill_color\":{\"value\":\"red\"},\"line_alpha\":{\"value\":0.1},\"line_color\":{\"value\":\"red\"},\"size\":{\"units\":\"screen\",\"value\":20},\"x\":{\"field\":\"x\"},\"y\":{\"field\":\"y\"}},\"id\":\"1622\",\"type\":\"Circle\"},{\"attributes\":{\"data\":{\"x\":{\"__ndarray__\":\"uCCkMploSsC0UhjMZc9lQLghkMP6kyjAP/F6wOctUcAO4AIm0K1SwKS/zdAdkFzA5Q04QwhtSEBmSP6d0p4+wB5jcLX5KWHAsn9Mvoo5Z8CHcoK+UPtdwEnPrEqPFzLAU7XdP1/AXsCcbDyoL6gywNwrbHS0dxFAn/23j1cjTEDyGkGmBhE8QA==\",\"dtype\":\"float64\",\"order\":\"little\",\"shape\":[17]},\"y\":{\"__ndarray__\":\"k99gyv/SWsB42exiuQdTwGJ6HqTsZFfA48pL7FAhVcB7PCXP2idlQB3ymDuWd0HAsEAjHYs6HsCh4omnCbNUQHrjeJcUhD9ACCnCJXPnXkBeKOD3aJVVQGiX9xwvMk7AlfpNROGGS0D5IRuAY1kkwKV+DQWloTbAAYWRm94SOECJrT6pvT4dwA==\",\"dtype\":\"float64\",\"order\":\"little\",\"shape\":[17]}},\"selected\":{\"id\":\"1632\"},\"selection_policy\":{\"id\":\"1631\"}},\"id\":\"1620\",\"type\":\"ColumnDataSource\"},{\"attributes\":{\"fill_alpha\":{\"value\":0.5},\"fill_color\":{\"value\":\"red\"},\"line_alpha\":{\"value\":0.5},\"line_color\":{\"value\":\"red\"},\"size\":{\"units\":\"screen\",\"value\":20},\"x\":{\"field\":\"x\"},\"y\":{\"field\":\"y\"}},\"id\":\"1621\",\"type\":\"Circle\"},{\"attributes\":{\"text\":\"\"},\"id\":\"1626\",\"type\":\"Title\"},{\"attributes\":{\"bottom_units\":\"screen\",\"fill_alpha\":0.5,\"fill_color\":\"lightgrey\",\"left_units\":\"screen\",\"level\":\"overlay\",\"line_alpha\":1.0,\"line_color\":\"black\",\"line_dash\":[4,4],\"line_width\":2,\"right_units\":\"screen\",\"top_units\":\"screen\"},\"id\":\"1471\",\"type\":\"BoxAnnotation\"},{\"attributes\":{},\"id\":\"1465\",\"type\":\"PanTool\"},{\"attributes\":{\"overlay\":{\"id\":\"1471\"}},\"id\":\"1467\",\"type\":\"BoxZoomTool\"},{\"attributes\":{\"label\":{\"value\":\"type0\"},\"renderers\":[{\"id\":\"1623\"}]},\"id\":\"1635\",\"type\":\"LegendItem\"},{\"attributes\":{},\"id\":\"1469\",\"type\":\"ResetTool\"},{\"attributes\":{},\"id\":\"1628\",\"type\":\"BasicTickFormatter\"},{\"attributes\":{},\"id\":\"1453\",\"type\":\"LinearScale\"},{\"attributes\":{\"data_source\":{\"id\":\"1620\"},\"glyph\":{\"id\":\"1621\"},\"hover_glyph\":null,\"muted_glyph\":null,\"nonselection_glyph\":{\"id\":\"1622\"},\"selection_glyph\":null,\"view\":{\"id\":\"1624\"}},\"id\":\"1623\",\"type\":\"GlyphRenderer\"},{\"attributes\":{},\"id\":\"1630\",\"type\":\"BasicTickFormatter\"},{\"attributes\":{\"formatter\":{\"id\":\"1628\"},\"ticker\":{\"id\":\"1462\"}},\"id\":\"1461\",\"type\":\"LinearAxis\"},{\"attributes\":{\"axis\":{\"id\":\"1461\"},\"dimension\":1,\"ticker\":null},\"id\":\"1464\",\"type\":\"Grid\"},{\"attributes\":{\"formatter\":{\"id\":\"1630\"},\"ticker\":{\"id\":\"1458\"}},\"id\":\"1457\",\"type\":\"LinearAxis\"},{\"attributes\":{},\"id\":\"1455\",\"type\":\"LinearScale\"},{\"attributes\":{\"items\":[{\"id\":\"1635\"}]},\"id\":\"1634\",\"type\":\"Legend\"},{\"attributes\":{},\"id\":\"1458\",\"type\":\"BasicTicker\"},{\"attributes\":{\"active_drag\":\"auto\",\"active_inspect\":\"auto\",\"active_multi\":null,\"active_scroll\":\"auto\",\"active_tap\":\"auto\",\"tools\":[{\"id\":\"1465\"},{\"id\":\"1466\"},{\"id\":\"1467\"},{\"id\":\"1468\"},{\"id\":\"1469\"},{\"id\":\"1470\"}]},\"id\":\"1472\",\"type\":\"Toolbar\"},{\"attributes\":{\"axis\":{\"id\":\"1457\"},\"ticker\":null},\"id\":\"1460\",\"type\":\"Grid\"},{\"attributes\":{},\"id\":\"1451\",\"type\":\"DataRange1d\"}],\"root_ids\":[\"1448\"]},\"title\":\"Bokeh Application\",\"version\":\"2.2.3\"}};\n",
       "  var render_items = [{\"docid\":\"0f45201d-20a1-41eb-9cb1-d610f21ff938\",\"root_ids\":[\"1448\"],\"roots\":{\"1448\":\"64de843d-e658-4990-a139-5ea4d26dc62f\"}}];\n",
       "  root.Bokeh.embed.embed_items_notebook(docs_json, render_items);\n",
       "\n",
       "  }\n",
       "  if (root.Bokeh !== undefined) {\n",
       "    embed_document(root);\n",
       "  } else {\n",
       "    var attempts = 0;\n",
       "    var timer = setInterval(function(root) {\n",
       "      if (root.Bokeh !== undefined) {\n",
       "        clearInterval(timer);\n",
       "        embed_document(root);\n",
       "      } else {\n",
       "        attempts++;\n",
       "        if (attempts > 100) {\n",
       "          clearInterval(timer);\n",
       "          console.log(\"Bokeh: ERROR: Unable to run BokehJS code because BokehJS library is missing\");\n",
       "        }\n",
       "      }\n",
       "    }, 10, root)\n",
       "  }\n",
       "})(window);"
      ],
      "application/vnd.bokehjs_exec.v0+json": ""
     },
     "metadata": {
      "application/vnd.bokehjs_exec.v0+json": {
       "id": "1448"
      }
     },
     "output_type": "display_data"
    },
    {
     "data": {
      "text/html": [
       "\n",
       "\n",
       "\n",
       "\n",
       "\n",
       "\n",
       "  <div class=\"bk-root\" id=\"ca9160f3-7024-442f-ad26-dd8ef259c688\" data-root-id=\"1479\"></div>\n"
      ]
     },
     "metadata": {},
     "output_type": "display_data"
    },
    {
     "data": {
      "application/javascript": [
       "(function(root) {\n",
       "  function embed_document(root) {\n",
       "    \n",
       "  var docs_json = {\"a62235a3-f51c-4a60-94dc-e86f15ed4127\":{\"roots\":{\"references\":[{\"attributes\":{\"below\":[{\"id\":\"1488\"}],\"center\":[{\"id\":\"1491\"},{\"id\":\"1495\"},{\"id\":\"1753\"}],\"left\":[{\"id\":\"1492\"}],\"plot_height\":400,\"renderers\":[{\"id\":\"1742\"}],\"title\":{\"id\":\"1745\"},\"toolbar\":{\"id\":\"1503\"},\"x_range\":{\"id\":\"1480\"},\"x_scale\":{\"id\":\"1484\"},\"y_range\":{\"id\":\"1482\"},\"y_scale\":{\"id\":\"1486\"}},\"id\":\"1479\",\"subtype\":\"Figure\",\"type\":\"Plot\"},{\"attributes\":{},\"id\":\"1482\",\"type\":\"DataRange1d\"},{\"attributes\":{\"active_drag\":\"auto\",\"active_inspect\":\"auto\",\"active_multi\":null,\"active_scroll\":\"auto\",\"active_tap\":\"auto\",\"tools\":[{\"id\":\"1496\"},{\"id\":\"1497\"},{\"id\":\"1498\"},{\"id\":\"1499\"},{\"id\":\"1500\"},{\"id\":\"1501\"}]},\"id\":\"1503\",\"type\":\"Toolbar\"},{\"attributes\":{},\"id\":\"1486\",\"type\":\"LinearScale\"},{\"attributes\":{},\"id\":\"1484\",\"type\":\"LinearScale\"},{\"attributes\":{\"label\":{\"value\":\"type1\"},\"renderers\":[{\"id\":\"1742\"}]},\"id\":\"1754\",\"type\":\"LegendItem\"},{\"attributes\":{\"data_source\":{\"id\":\"1739\"},\"glyph\":{\"id\":\"1740\"},\"hover_glyph\":null,\"muted_glyph\":null,\"nonselection_glyph\":{\"id\":\"1741\"},\"selection_glyph\":null,\"view\":{\"id\":\"1743\"}},\"id\":\"1742\",\"type\":\"GlyphRenderer\"},{\"attributes\":{},\"id\":\"1480\",\"type\":\"DataRange1d\"},{\"attributes\":{\"fill_alpha\":{\"value\":0.5},\"fill_color\":{\"value\":\"olive\"},\"line_alpha\":{\"value\":0.5},\"line_color\":{\"value\":\"olive\"},\"size\":{\"units\":\"screen\",\"value\":20},\"x\":{\"field\":\"x\"},\"y\":{\"field\":\"y\"}},\"id\":\"1740\",\"type\":\"Circle\"},{\"attributes\":{},\"id\":\"1489\",\"type\":\"BasicTicker\"},{\"attributes\":{\"text\":\"\"},\"id\":\"1745\",\"type\":\"Title\"},{\"attributes\":{\"fill_alpha\":{\"value\":0.1},\"fill_color\":{\"value\":\"olive\"},\"line_alpha\":{\"value\":0.1},\"line_color\":{\"value\":\"olive\"},\"size\":{\"units\":\"screen\",\"value\":20},\"x\":{\"field\":\"x\"},\"y\":{\"field\":\"y\"}},\"id\":\"1741\",\"type\":\"Circle\"},{\"attributes\":{\"formatter\":{\"id\":\"1747\"},\"ticker\":{\"id\":\"1493\"}},\"id\":\"1492\",\"type\":\"LinearAxis\"},{\"attributes\":{\"formatter\":{\"id\":\"1749\"},\"ticker\":{\"id\":\"1489\"}},\"id\":\"1488\",\"type\":\"LinearAxis\"},{\"attributes\":{},\"id\":\"1501\",\"type\":\"HelpTool\"},{\"attributes\":{},\"id\":\"1747\",\"type\":\"BasicTickFormatter\"},{\"attributes\":{\"data\":{\"x\":{\"__ndarray__\":\"qnUh3JuiVUDIdIjxXb9kQAVHhwcqDWLAFDElt5k7NsCpCm1psSxEQMILj/kneUpAxA/RV9w/N0ACNzkCdxFGQOiCpR7P2knAxbVmd7TCSECbnkRrpJpvQOltJf/DKElAyv9S0a8dTkA=\",\"dtype\":\"float64\",\"order\":\"little\",\"shape\":[13]},\"y\":{\"__ndarray__\":\"q70fgOzEbMCLrxYnFY1SQNsrXb0pOUnAyj6eFGgTNMAWj90azq1NQCiut0xNiitAOQuaOVQQUUAsLXes8gckwA3QIcH47FjAxzCwoGZ4McDxnBXhDN04wMS1maRSKmBAI7+TuZwDRUA=\",\"dtype\":\"float64\",\"order\":\"little\",\"shape\":[13]}},\"selected\":{\"id\":\"1751\"},\"selection_policy\":{\"id\":\"1750\"}},\"id\":\"1739\",\"type\":\"ColumnDataSource\"},{\"attributes\":{},\"id\":\"1500\",\"type\":\"ResetTool\"},{\"attributes\":{},\"id\":\"1751\",\"type\":\"Selection\"},{\"attributes\":{},\"id\":\"1496\",\"type\":\"PanTool\"},{\"attributes\":{\"bottom_units\":\"screen\",\"fill_alpha\":0.5,\"fill_color\":\"lightgrey\",\"left_units\":\"screen\",\"level\":\"overlay\",\"line_alpha\":1.0,\"line_color\":\"black\",\"line_dash\":[4,4],\"line_width\":2,\"right_units\":\"screen\",\"top_units\":\"screen\"},\"id\":\"1502\",\"type\":\"BoxAnnotation\"},{\"attributes\":{},\"id\":\"1749\",\"type\":\"BasicTickFormatter\"},{\"attributes\":{},\"id\":\"1493\",\"type\":\"BasicTicker\"},{\"attributes\":{},\"id\":\"1750\",\"type\":\"UnionRenderers\"},{\"attributes\":{},\"id\":\"1499\",\"type\":\"SaveTool\"},{\"attributes\":{\"axis\":{\"id\":\"1488\"},\"ticker\":null},\"id\":\"1491\",\"type\":\"Grid\"},{\"attributes\":{\"items\":[{\"id\":\"1754\"}]},\"id\":\"1753\",\"type\":\"Legend\"},{\"attributes\":{},\"id\":\"1497\",\"type\":\"WheelZoomTool\"},{\"attributes\":{\"source\":{\"id\":\"1739\"}},\"id\":\"1743\",\"type\":\"CDSView\"},{\"attributes\":{\"overlay\":{\"id\":\"1502\"}},\"id\":\"1498\",\"type\":\"BoxZoomTool\"},{\"attributes\":{\"axis\":{\"id\":\"1492\"},\"dimension\":1,\"ticker\":null},\"id\":\"1495\",\"type\":\"Grid\"}],\"root_ids\":[\"1479\"]},\"title\":\"Bokeh Application\",\"version\":\"2.2.3\"}};\n",
       "  var render_items = [{\"docid\":\"a62235a3-f51c-4a60-94dc-e86f15ed4127\",\"root_ids\":[\"1479\"],\"roots\":{\"1479\":\"ca9160f3-7024-442f-ad26-dd8ef259c688\"}}];\n",
       "  root.Bokeh.embed.embed_items_notebook(docs_json, render_items);\n",
       "\n",
       "  }\n",
       "  if (root.Bokeh !== undefined) {\n",
       "    embed_document(root);\n",
       "  } else {\n",
       "    var attempts = 0;\n",
       "    var timer = setInterval(function(root) {\n",
       "      if (root.Bokeh !== undefined) {\n",
       "        clearInterval(timer);\n",
       "        embed_document(root);\n",
       "      } else {\n",
       "        attempts++;\n",
       "        if (attempts > 100) {\n",
       "          clearInterval(timer);\n",
       "          console.log(\"Bokeh: ERROR: Unable to run BokehJS code because BokehJS library is missing\");\n",
       "        }\n",
       "      }\n",
       "    }, 10, root)\n",
       "  }\n",
       "})(window);"
      ],
      "application/vnd.bokehjs_exec.v0+json": ""
     },
     "metadata": {
      "application/vnd.bokehjs_exec.v0+json": {
       "id": "1479"
      }
     },
     "output_type": "display_data"
    }
   ],
   "source": [
    "rng = np.random.RandomState(1)\n",
    "df = pd.DataFrame(rng.randn(100,2)*100,columns = ['A','B'])\n",
    "df['type'] = rng.randint(0,7,100)\n",
    "print(df.head())\n",
    "# 创建数据\n",
    "\n",
    "colors = [\"red\", \"olive\", \"darkred\", \"goldenrod\", \"skyblue\", \"orange\", \"salmon\"]\n",
    "# 创建颜色列表\n",
    "\n",
    "p1 = figure(plot_width=600, plot_height=400)\n",
    "p2 = figure(plot_width=600, plot_height=400)\n",
    "p3 = figure(plot_width=600, plot_height=400)\n",
    "plst = [p1,p2,p3]\n",
    "\n",
    "for t,pi in zip(df['type'].unique()[:3],plst):\n",
    "    pi.circle(df['A'][df['type'] == t], df['B'][df['type'] == t],       # 设置散点图x，y值\n",
    "             size = 20,alpha = 0.5,\n",
    "             color = colors[t], \n",
    "            legend_label = 'type%i' %t)  \n",
    "    show(pi)\n",
    "# 通过分类设置颜色\n",
    "\n"
   ]
  },
  {
   "cell_type": "code",
   "execution_count": 7,
   "metadata": {
    "collapsed": false,
    "jupyter": {
     "outputs_hidden": false
    }
   },
   "outputs": [
    {
     "name": "stderr",
     "output_type": "stream",
     "text": [
      "BokehDeprecationWarning: 'legend' keyword is deprecated, use explicit 'legend_label', 'legend_field', or 'legend_group' keywords instead\n",
      "BokehDeprecationWarning: 'legend' keyword is deprecated, use explicit 'legend_label', 'legend_field', or 'legend_group' keywords instead\n",
      "BokehDeprecationWarning: 'legend' keyword is deprecated, use explicit 'legend_label', 'legend_field', or 'legend_group' keywords instead\n",
      "BokehDeprecationWarning: 'legend' keyword is deprecated, use explicit 'legend_label', 'legend_field', or 'legend_group' keywords instead\n",
      "BokehDeprecationWarning: 'legend' keyword is deprecated, use explicit 'legend_label', 'legend_field', or 'legend_group' keywords instead\n",
      "BokehDeprecationWarning: 'legend' keyword is deprecated, use explicit 'legend_label', 'legend_field', or 'legend_group' keywords instead\n",
      "BokehDeprecationWarning: 'legend' keyword is deprecated, use explicit 'legend_label', 'legend_field', or 'legend_group' keywords instead\n",
      "BokehDeprecationWarning: 'legend' keyword is deprecated, use explicit 'legend_label', 'legend_field', or 'legend_group' keywords instead\n",
      "BokehDeprecationWarning: 'legend' keyword is deprecated, use explicit 'legend_label', 'legend_field', or 'legend_group' keywords instead\n",
      "BokehDeprecationWarning: 'legend' keyword is deprecated, use explicit 'legend_label', 'legend_field', or 'legend_group' keywords instead\n",
      "BokehDeprecationWarning: 'legend' keyword is deprecated, use explicit 'legend_label', 'legend_field', or 'legend_group' keywords instead\n",
      "BokehDeprecationWarning: 'legend' keyword is deprecated, use explicit 'legend_label', 'legend_field', or 'legend_group' keywords instead\n"
     ]
    },
    {
     "data": {
      "text/html": [
       "\n",
       "\n",
       "\n",
       "\n",
       "\n",
       "\n",
       "  <div class=\"bk-root\" id=\"9857018b-16c5-4559-9b20-4390ccd00b42\" data-root-id=\"1867\"></div>\n"
      ]
     },
     "metadata": {},
     "output_type": "display_data"
    },
    {
     "data": {
      "application/javascript": [
       "(function(root) {\n",
       "  function embed_document(root) {\n",
       "    \n",
       "  var docs_json = {\"ce2485c3-086b-4193-a8f3-e302bc1ce168\":{\"roots\":{\"references\":[{\"attributes\":{\"below\":[{\"id\":\"1876\"}],\"center\":[{\"id\":\"1879\"},{\"id\":\"1883\"},{\"id\":\"1912\"}],\"left\":[{\"id\":\"1880\"}],\"plot_height\":400,\"renderers\":[{\"id\":\"1901\"},{\"id\":\"1917\"},{\"id\":\"1934\"},{\"id\":\"1953\"},{\"id\":\"1974\"},{\"id\":\"1997\"},{\"id\":\"2022\"},{\"id\":\"2049\"},{\"id\":\"2078\"},{\"id\":\"2109\"},{\"id\":\"2142\"},{\"id\":\"2177\"}],\"title\":{\"id\":\"1904\"},\"toolbar\":{\"id\":\"1891\"},\"x_range\":{\"id\":\"1868\"},\"x_scale\":{\"id\":\"1872\"},\"y_range\":{\"id\":\"1870\"},\"y_scale\":{\"id\":\"1874\"}},\"id\":\"1867\",\"subtype\":\"Figure\",\"type\":\"Plot\"},{\"attributes\":{\"data_source\":{\"id\":\"2174\"},\"glyph\":{\"id\":\"2175\"},\"hover_glyph\":null,\"muted_glyph\":null,\"nonselection_glyph\":{\"id\":\"2176\"},\"selection_glyph\":null,\"view\":{\"id\":\"2178\"}},\"id\":\"2177\",\"type\":\"GlyphRenderer\"},{\"attributes\":{\"fill_alpha\":{\"value\":0.5},\"fill_color\":{\"value\":\"#1f77b4\"},\"line_alpha\":{\"value\":0.5},\"line_color\":{\"value\":\"#1f77b4\"},\"size\":{\"units\":\"screen\",\"value\":30},\"x\":{\"value\":1},\"y\":{\"value\":5}},\"id\":\"1972\",\"type\":\"Diamond\"},{\"attributes\":{\"fill_alpha\":{\"value\":0.5},\"fill_color\":{\"value\":\"#1f77b4\"},\"line_alpha\":{\"value\":0.5},\"line_color\":{\"value\":\"#1f77b4\"},\"size\":{\"units\":\"screen\",\"value\":30},\"x\":{\"value\":2},\"y\":{\"value\":2}},\"id\":\"2047\",\"type\":\"Square\"},{\"attributes\":{\"fill_alpha\":{\"value\":0.5},\"fill_color\":{\"value\":\"#1f77b4\"},\"line_alpha\":{\"value\":0.5},\"line_color\":{\"value\":\"#1f77b4\"},\"size\":{\"units\":\"screen\",\"value\":30},\"x\":{\"value\":1},\"y\":{\"value\":6}},\"id\":\"1995\",\"type\":\"DiamondCross\"},{\"attributes\":{\"fill_alpha\":{\"value\":0.1},\"fill_color\":{\"value\":\"#1f77b4\"},\"line_alpha\":{\"value\":0.1},\"line_color\":{\"value\":\"#1f77b4\"},\"size\":{\"units\":\"screen\",\"value\":30},\"x\":{\"value\":2},\"y\":{\"value\":1}},\"id\":\"2021\",\"type\":\"InvertedTriangle\"},{\"attributes\":{},\"id\":\"1968\",\"type\":\"Selection\"},{\"attributes\":{\"label\":{\"value\":\"diamond\"},\"renderers\":[{\"id\":\"1974\"}]},\"id\":\"1993\",\"type\":\"LegendItem\"},{\"attributes\":{\"data_source\":{\"id\":\"1950\"},\"glyph\":{\"id\":\"1951\"},\"hover_glyph\":null,\"muted_glyph\":null,\"nonselection_glyph\":{\"id\":\"1952\"},\"selection_glyph\":null,\"view\":{\"id\":\"1954\"}},\"id\":\"1953\",\"type\":\"GlyphRenderer\"},{\"attributes\":{\"fill_alpha\":{\"value\":0.1},\"fill_color\":{\"value\":\"#1f77b4\"},\"line_alpha\":{\"value\":0.1},\"line_color\":{\"value\":\"#1f77b4\"},\"size\":{\"units\":\"screen\",\"value\":30},\"x\":{\"value\":2},\"y\":{\"value\":6}},\"id\":\"2176\",\"type\":\"X\"},{\"attributes\":{},\"id\":\"1991\",\"type\":\"Selection\"},{\"attributes\":{\"data\":{},\"selected\":{\"id\":\"1991\"},\"selection_policy\":{\"id\":\"1990\"}},\"id\":\"1971\",\"type\":\"ColumnDataSource\"},{\"attributes\":{\"source\":{\"id\":\"1950\"}},\"id\":\"1954\",\"type\":\"CDSView\"},{\"attributes\":{\"fill_alpha\":{\"value\":0.5},\"fill_color\":{\"value\":\"#1f77b4\"},\"line_alpha\":{\"value\":0.5},\"line_color\":{\"value\":\"#1f77b4\"},\"size\":{\"units\":\"screen\",\"value\":30},\"x\":{\"value\":2},\"y\":{\"value\":3}},\"id\":\"2076\",\"type\":\"SquareCross\"},{\"attributes\":{},\"id\":\"2015\",\"type\":\"UnionRenderers\"},{\"attributes\":{},\"id\":\"1967\",\"type\":\"UnionRenderers\"},{\"attributes\":{},\"id\":\"2042\",\"type\":\"UnionRenderers\"},{\"attributes\":{},\"id\":\"2043\",\"type\":\"Selection\"},{\"attributes\":{\"data\":{},\"selected\":{\"id\":\"2072\"},\"selection_policy\":{\"id\":\"2071\"}},\"id\":\"2046\",\"type\":\"ColumnDataSource\"},{\"attributes\":{},\"id\":\"2103\",\"type\":\"Selection\"},{\"attributes\":{\"fill_alpha\":{\"value\":0.1},\"fill_color\":{\"value\":\"#1f77b4\"},\"line_alpha\":{\"value\":0.1},\"line_color\":{\"value\":\"#1f77b4\"},\"size\":{\"units\":\"screen\",\"value\":30},\"x\":{\"value\":1},\"y\":{\"value\":4}},\"id\":\"1952\",\"type\":\"Cross\"},{\"attributes\":{},\"id\":\"2016\",\"type\":\"Selection\"},{\"attributes\":{\"label\":{\"value\":\"circle_cross\"},\"renderers\":[{\"id\":\"1901\"}]},\"id\":\"1913\",\"type\":\"LegendItem\"},{\"attributes\":{},\"id\":\"1947\",\"type\":\"Selection\"},{\"attributes\":{},\"id\":\"2102\",\"type\":\"UnionRenderers\"},{\"attributes\":{\"data_source\":{\"id\":\"1994\"},\"glyph\":{\"id\":\"1995\"},\"hover_glyph\":null,\"muted_glyph\":null,\"nonselection_glyph\":{\"id\":\"1996\"},\"selection_glyph\":null,\"view\":{\"id\":\"1998\"}},\"id\":\"1997\",\"type\":\"GlyphRenderer\"},{\"attributes\":{\"source\":{\"id\":\"2075\"}},\"id\":\"2079\",\"type\":\"CDSView\"},{\"attributes\":{\"data_source\":{\"id\":\"1931\"},\"glyph\":{\"id\":\"1932\"},\"hover_glyph\":null,\"muted_glyph\":null,\"nonselection_glyph\":{\"id\":\"1933\"},\"selection_glyph\":null,\"view\":{\"id\":\"1935\"}},\"id\":\"1934\",\"type\":\"GlyphRenderer\"},{\"attributes\":{\"source\":{\"id\":\"1931\"}},\"id\":\"1935\",\"type\":\"CDSView\"},{\"attributes\":{\"data\":{},\"selected\":{\"id\":\"2043\"},\"selection_policy\":{\"id\":\"2042\"}},\"id\":\"2019\",\"type\":\"ColumnDataSource\"},{\"attributes\":{\"data\":{},\"selected\":{\"id\":\"2016\"},\"selection_policy\":{\"id\":\"2015\"}},\"id\":\"1994\",\"type\":\"ColumnDataSource\"},{\"attributes\":{\"data\":{},\"selected\":{\"id\":\"2136\"},\"selection_policy\":{\"id\":\"2135\"}},\"id\":\"2106\",\"type\":\"ColumnDataSource\"},{\"attributes\":{\"label\":{\"value\":\"square_cross\"},\"renderers\":[{\"id\":\"2078\"}]},\"id\":\"2105\",\"type\":\"LegendItem\"},{\"attributes\":{\"fill_alpha\":{\"value\":0.5},\"fill_color\":{\"value\":\"#1f77b4\"},\"line_alpha\":{\"value\":0.5},\"line_color\":{\"value\":\"#1f77b4\"},\"size\":{\"units\":\"screen\",\"value\":30},\"x\":{\"value\":2},\"y\":{\"value\":5}},\"id\":\"2140\",\"type\":\"Triangle\"},{\"attributes\":{\"source\":{\"id\":\"2046\"}},\"id\":\"2050\",\"type\":\"CDSView\"},{\"attributes\":{},\"id\":\"1946\",\"type\":\"UnionRenderers\"},{\"attributes\":{\"bottom_units\":\"screen\",\"fill_alpha\":0.5,\"fill_color\":\"lightgrey\",\"left_units\":\"screen\",\"level\":\"overlay\",\"line_alpha\":1.0,\"line_color\":\"black\",\"line_dash\":[4,4],\"line_width\":2,\"right_units\":\"screen\",\"top_units\":\"screen\"},\"id\":\"1890\",\"type\":\"BoxAnnotation\"},{\"attributes\":{\"fill_alpha\":{\"value\":0.5},\"fill_color\":{\"value\":\"#1f77b4\"},\"line_alpha\":{\"value\":0.5},\"line_color\":{\"value\":\"#1f77b4\"},\"size\":{\"units\":\"screen\",\"value\":30},\"x\":{\"value\":2},\"y\":{\"value\":4}},\"id\":\"2107\",\"type\":\"SquareX\"},{\"attributes\":{\"data_source\":{\"id\":\"2019\"},\"glyph\":{\"id\":\"2020\"},\"hover_glyph\":null,\"muted_glyph\":null,\"nonselection_glyph\":{\"id\":\"2021\"},\"selection_glyph\":null,\"view\":{\"id\":\"2023\"}},\"id\":\"2022\",\"type\":\"GlyphRenderer\"},{\"attributes\":{\"fill_alpha\":{\"value\":0.5},\"fill_color\":{\"value\":\"#1f77b4\"},\"line_alpha\":{\"value\":0.5},\"line_color\":{\"value\":\"#1f77b4\"},\"size\":{\"units\":\"screen\",\"value\":30},\"x\":{\"value\":1},\"y\":{\"value\":3}},\"id\":\"1932\",\"type\":\"CircleX\"},{\"attributes\":{\"fill_alpha\":{\"value\":0.1},\"fill_color\":{\"value\":\"#1f77b4\"},\"line_alpha\":{\"value\":0.1},\"line_color\":{\"value\":\"#1f77b4\"},\"size\":{\"units\":\"screen\",\"value\":30},\"x\":{\"value\":2},\"y\":{\"value\":2}},\"id\":\"2048\",\"type\":\"Square\"},{\"attributes\":{\"source\":{\"id\":\"2174\"}},\"id\":\"2178\",\"type\":\"CDSView\"},{\"attributes\":{\"data\":{},\"selected\":{\"id\":\"1968\"},\"selection_policy\":{\"id\":\"1967\"}},\"id\":\"1950\",\"type\":\"ColumnDataSource\"},{\"attributes\":{\"fill_alpha\":{\"value\":0.1},\"fill_color\":{\"value\":\"#1f77b4\"},\"line_alpha\":{\"value\":0.1},\"line_color\":{\"value\":\"#1f77b4\"},\"size\":{\"units\":\"screen\",\"value\":30},\"x\":{\"value\":2},\"y\":{\"value\":3}},\"id\":\"2077\",\"type\":\"SquareCross\"},{\"attributes\":{\"label\":{\"value\":\"diamond_cross\"},\"renderers\":[{\"id\":\"1997\"}]},\"id\":\"2018\",\"type\":\"LegendItem\"},{\"attributes\":{\"fill_alpha\":{\"value\":0.1},\"fill_color\":{\"value\":\"#1f77b4\"},\"line_alpha\":{\"value\":0.1},\"line_color\":{\"value\":\"#1f77b4\"},\"size\":{\"units\":\"screen\",\"value\":30},\"x\":{\"value\":1},\"y\":{\"value\":3}},\"id\":\"1933\",\"type\":\"CircleX\"},{\"attributes\":{\"data\":{},\"selected\":{\"id\":\"2208\"},\"selection_policy\":{\"id\":\"2207\"}},\"id\":\"2174\",\"type\":\"ColumnDataSource\"},{\"attributes\":{},\"id\":\"1990\",\"type\":\"UnionRenderers\"},{\"attributes\":{\"data_source\":{\"id\":\"2075\"},\"glyph\":{\"id\":\"2076\"},\"hover_glyph\":null,\"muted_glyph\":null,\"nonselection_glyph\":{\"id\":\"2077\"},\"selection_glyph\":null,\"view\":{\"id\":\"2079\"}},\"id\":\"2078\",\"type\":\"GlyphRenderer\"},{\"attributes\":{\"label\":{\"value\":\"circle_x\"},\"renderers\":[{\"id\":\"1934\"}]},\"id\":\"1949\",\"type\":\"LegendItem\"},{\"attributes\":{\"data\":{},\"selected\":{\"id\":\"2103\"},\"selection_policy\":{\"id\":\"2102\"}},\"id\":\"2075\",\"type\":\"ColumnDataSource\"},{\"attributes\":{\"fill_alpha\":{\"value\":0.5},\"fill_color\":{\"value\":\"#1f77b4\"},\"line_alpha\":{\"value\":0.5},\"line_color\":{\"value\":\"#1f77b4\"},\"size\":{\"units\":\"screen\",\"value\":30},\"x\":{\"value\":2},\"y\":{\"value\":6}},\"id\":\"2175\",\"type\":\"X\"},{\"attributes\":{\"label\":{\"value\":\"square_x\"},\"renderers\":[{\"id\":\"2109\"}]},\"id\":\"2138\",\"type\":\"LegendItem\"},{\"attributes\":{\"label\":{\"value\":\"square\"},\"renderers\":[{\"id\":\"2049\"}]},\"id\":\"2074\",\"type\":\"LegendItem\"},{\"attributes\":{\"fill_alpha\":{\"value\":0.5},\"fill_color\":{\"value\":\"#1f77b4\"},\"line_alpha\":{\"value\":0.5},\"line_color\":{\"value\":\"#1f77b4\"},\"size\":{\"units\":\"screen\",\"value\":30},\"x\":{\"value\":1},\"y\":{\"value\":4}},\"id\":\"1951\",\"type\":\"Cross\"},{\"attributes\":{\"data_source\":{\"id\":\"2046\"},\"glyph\":{\"id\":\"2047\"},\"hover_glyph\":null,\"muted_glyph\":null,\"nonselection_glyph\":{\"id\":\"2048\"},\"selection_glyph\":null,\"view\":{\"id\":\"2050\"}},\"id\":\"2049\",\"type\":\"GlyphRenderer\"},{\"attributes\":{\"source\":{\"id\":\"1914\"}},\"id\":\"1918\",\"type\":\"CDSView\"},{\"attributes\":{\"label\":{\"value\":\"asterisk\"},\"renderers\":[{\"id\":\"1917\"}]},\"id\":\"1930\",\"type\":\"LegendItem\"},{\"attributes\":{\"label\":{\"value\":\"inverted_triangle\"},\"renderers\":[{\"id\":\"2022\"}]},\"id\":\"2045\",\"type\":\"LegendItem\"},{\"attributes\":{\"source\":{\"id\":\"2019\"}},\"id\":\"2023\",\"type\":\"CDSView\"},{\"attributes\":{},\"id\":\"2072\",\"type\":\"Selection\"},{\"attributes\":{},\"id\":\"1927\",\"type\":\"UnionRenderers\"},{\"attributes\":{\"fill_alpha\":{\"value\":0.5},\"fill_color\":{\"value\":\"#1f77b4\"},\"line_alpha\":{\"value\":0.5},\"line_color\":{\"value\":\"#1f77b4\"},\"size\":{\"units\":\"screen\",\"value\":30},\"x\":{\"value\":2},\"y\":{\"value\":1}},\"id\":\"2020\",\"type\":\"InvertedTriangle\"},{\"attributes\":{\"source\":{\"id\":\"1994\"}},\"id\":\"1998\",\"type\":\"CDSView\"},{\"attributes\":{},\"id\":\"1928\",\"type\":\"Selection\"},{\"attributes\":{\"fill_alpha\":{\"value\":0.1},\"fill_color\":{\"value\":\"#1f77b4\"},\"line_alpha\":{\"value\":0.1},\"line_color\":{\"value\":\"#1f77b4\"},\"size\":{\"units\":\"screen\",\"value\":30},\"x\":{\"value\":1},\"y\":{\"value\":6}},\"id\":\"1996\",\"type\":\"DiamondCross\"},{\"attributes\":{},\"id\":\"2071\",\"type\":\"UnionRenderers\"},{\"attributes\":{\"source\":{\"id\":\"1971\"}},\"id\":\"1975\",\"type\":\"CDSView\"},{\"attributes\":{},\"id\":\"1887\",\"type\":\"SaveTool\"},{\"attributes\":{},\"id\":\"1874\",\"type\":\"LinearScale\"},{\"attributes\":{\"overlay\":{\"id\":\"1890\"}},\"id\":\"1886\",\"type\":\"BoxZoomTool\"},{\"attributes\":{\"fill_alpha\":{\"value\":0.1},\"fill_color\":{\"value\":\"#1f77b4\"},\"line_alpha\":{\"value\":0.1},\"line_color\":{\"value\":\"#1f77b4\"},\"size\":{\"units\":\"screen\",\"value\":30},\"x\":{\"value\":1},\"y\":{\"value\":1}},\"id\":\"1900\",\"type\":\"CircleCross\"},{\"attributes\":{},\"id\":\"1908\",\"type\":\"BasicTickFormatter\"},{\"attributes\":{\"formatter\":{\"id\":\"1906\"},\"ticker\":{\"id\":\"1881\"}},\"id\":\"1880\",\"type\":\"LinearAxis\"},{\"attributes\":{},\"id\":\"1888\",\"type\":\"ResetTool\"},{\"attributes\":{},\"id\":\"1885\",\"type\":\"WheelZoomTool\"},{\"attributes\":{\"axis\":{\"id\":\"1876\"},\"ticker\":null},\"id\":\"1879\",\"type\":\"Grid\"},{\"attributes\":{\"fill_alpha\":{\"value\":0.1},\"fill_color\":{\"value\":\"#1f77b4\"},\"line_alpha\":{\"value\":0.1},\"line_color\":{\"value\":\"#1f77b4\"},\"size\":{\"units\":\"screen\",\"value\":30},\"x\":{\"value\":2},\"y\":{\"value\":4}},\"id\":\"2108\",\"type\":\"SquareX\"},{\"attributes\":{},\"id\":\"1872\",\"type\":\"LinearScale\"},{\"attributes\":{},\"id\":\"1909\",\"type\":\"UnionRenderers\"},{\"attributes\":{\"end\":3},\"id\":\"1868\",\"type\":\"Range1d\"},{\"attributes\":{\"data_source\":{\"id\":\"1898\"},\"glyph\":{\"id\":\"1899\"},\"hover_glyph\":null,\"muted_glyph\":null,\"nonselection_glyph\":{\"id\":\"1900\"},\"selection_glyph\":null,\"view\":{\"id\":\"1902\"}},\"id\":\"1901\",\"type\":\"GlyphRenderer\"},{\"attributes\":{\"data\":{},\"selected\":{\"id\":\"1928\"},\"selection_policy\":{\"id\":\"1927\"}},\"id\":\"1914\",\"type\":\"ColumnDataSource\"},{\"attributes\":{\"formatter\":{\"id\":\"1908\"},\"ticker\":{\"id\":\"1877\"}},\"id\":\"1876\",\"type\":\"LinearAxis\"},{\"attributes\":{\"data\":{},\"selected\":{\"id\":\"2171\"},\"selection_policy\":{\"id\":\"2170\"}},\"id\":\"2139\",\"type\":\"ColumnDataSource\"},{\"attributes\":{\"source\":{\"id\":\"2106\"}},\"id\":\"2110\",\"type\":\"CDSView\"},{\"attributes\":{},\"id\":\"1877\",\"type\":\"BasicTicker\"},{\"attributes\":{\"fill_alpha\":{\"value\":0.5},\"fill_color\":{\"value\":\"#1f77b4\"},\"line_alpha\":{\"value\":0.5},\"line_color\":{\"value\":\"#1f77b4\"},\"size\":{\"units\":\"screen\",\"value\":30},\"x\":{\"value\":1},\"y\":{\"value\":2}},\"id\":\"1915\",\"type\":\"Asterisk\"},{\"attributes\":{\"fill_alpha\":{\"value\":0.1},\"fill_color\":{\"value\":\"#1f77b4\"},\"line_alpha\":{\"value\":0.1},\"line_color\":{\"value\":\"#1f77b4\"},\"size\":{\"units\":\"screen\",\"value\":30},\"x\":{\"value\":2},\"y\":{\"value\":5}},\"id\":\"2141\",\"type\":\"Triangle\"},{\"attributes\":{\"data_source\":{\"id\":\"2106\"},\"glyph\":{\"id\":\"2107\"},\"hover_glyph\":null,\"muted_glyph\":null,\"nonselection_glyph\":{\"id\":\"2108\"},\"selection_glyph\":null,\"view\":{\"id\":\"2110\"}},\"id\":\"2109\",\"type\":\"GlyphRenderer\"},{\"attributes\":{},\"id\":\"1884\",\"type\":\"PanTool\"},{\"attributes\":{\"text\":\"\"},\"id\":\"1904\",\"type\":\"Title\"},{\"attributes\":{\"axis\":{\"id\":\"1880\"},\"dimension\":1,\"ticker\":null},\"id\":\"1883\",\"type\":\"Grid\"},{\"attributes\":{\"data\":{},\"selected\":{\"id\":\"1910\"},\"selection_policy\":{\"id\":\"1909\"}},\"id\":\"1898\",\"type\":\"ColumnDataSource\"},{\"attributes\":{\"source\":{\"id\":\"1898\"}},\"id\":\"1902\",\"type\":\"CDSView\"},{\"attributes\":{},\"id\":\"2135\",\"type\":\"UnionRenderers\"},{\"attributes\":{},\"id\":\"2136\",\"type\":\"Selection\"},{\"attributes\":{\"data_source\":{\"id\":\"1914\"},\"glyph\":{\"id\":\"1915\"},\"hover_glyph\":null,\"muted_glyph\":null,\"nonselection_glyph\":{\"id\":\"1916\"},\"selection_glyph\":null,\"view\":{\"id\":\"1918\"}},\"id\":\"1917\",\"type\":\"GlyphRenderer\"},{\"attributes\":{\"fill_alpha\":{\"value\":0.5},\"fill_color\":{\"value\":\"#1f77b4\"},\"line_alpha\":{\"value\":0.5},\"line_color\":{\"value\":\"#1f77b4\"},\"size\":{\"units\":\"screen\",\"value\":30},\"x\":{\"value\":1},\"y\":{\"value\":1}},\"id\":\"1899\",\"type\":\"CircleCross\"},{\"attributes\":{\"fill_alpha\":{\"value\":0.1},\"fill_color\":{\"value\":\"#1f77b4\"},\"line_alpha\":{\"value\":0.1},\"line_color\":{\"value\":\"#1f77b4\"},\"size\":{\"units\":\"screen\",\"value\":30},\"x\":{\"value\":1},\"y\":{\"value\":2}},\"id\":\"1916\",\"type\":\"Asterisk\"},{\"attributes\":{\"items\":[{\"id\":\"1913\"},{\"id\":\"1930\"},{\"id\":\"1949\"},{\"id\":\"1970\"},{\"id\":\"1993\"},{\"id\":\"2018\"},{\"id\":\"2045\"},{\"id\":\"2074\"},{\"id\":\"2105\"},{\"id\":\"2138\"},{\"id\":\"2173\"},{\"id\":\"2210\"}],\"location\":\"bottom_right\"},\"id\":\"1912\",\"type\":\"Legend\"},{\"attributes\":{},\"id\":\"1906\",\"type\":\"BasicTickFormatter\"},{\"attributes\":{\"source\":{\"id\":\"2139\"}},\"id\":\"2143\",\"type\":\"CDSView\"},{\"attributes\":{},\"id\":\"1881\",\"type\":\"BasicTicker\"},{\"attributes\":{\"label\":{\"value\":\"triangle\"},\"renderers\":[{\"id\":\"2142\"}]},\"id\":\"2173\",\"type\":\"LegendItem\"},{\"attributes\":{\"data_source\":{\"id\":\"2139\"},\"glyph\":{\"id\":\"2140\"},\"hover_glyph\":null,\"muted_glyph\":null,\"nonselection_glyph\":{\"id\":\"2141\"},\"selection_glyph\":null,\"view\":{\"id\":\"2143\"}},\"id\":\"2142\",\"type\":\"GlyphRenderer\"},{\"attributes\":{},\"id\":\"2170\",\"type\":\"UnionRenderers\"},{\"attributes\":{},\"id\":\"2171\",\"type\":\"Selection\"},{\"attributes\":{},\"id\":\"1910\",\"type\":\"Selection\"},{\"attributes\":{\"active_drag\":\"auto\",\"active_inspect\":\"auto\",\"active_multi\":null,\"active_scroll\":\"auto\",\"active_tap\":\"auto\",\"tools\":[{\"id\":\"1884\"},{\"id\":\"1885\"},{\"id\":\"1886\"},{\"id\":\"1887\"},{\"id\":\"1888\"},{\"id\":\"1889\"}]},\"id\":\"1891\",\"type\":\"Toolbar\"},{\"attributes\":{\"data\":{},\"selected\":{\"id\":\"1947\"},\"selection_policy\":{\"id\":\"1946\"}},\"id\":\"1931\",\"type\":\"ColumnDataSource\"},{\"attributes\":{\"end\":7},\"id\":\"1870\",\"type\":\"Range1d\"},{\"attributes\":{\"label\":{\"value\":\"x\"},\"renderers\":[{\"id\":\"2177\"}]},\"id\":\"2210\",\"type\":\"LegendItem\"},{\"attributes\":{},\"id\":\"1889\",\"type\":\"HelpTool\"},{\"attributes\":{},\"id\":\"2207\",\"type\":\"UnionRenderers\"},{\"attributes\":{\"fill_alpha\":{\"value\":0.1},\"fill_color\":{\"value\":\"#1f77b4\"},\"line_alpha\":{\"value\":0.1},\"line_color\":{\"value\":\"#1f77b4\"},\"size\":{\"units\":\"screen\",\"value\":30},\"x\":{\"value\":1},\"y\":{\"value\":5}},\"id\":\"1973\",\"type\":\"Diamond\"},{\"attributes\":{},\"id\":\"2208\",\"type\":\"Selection\"},{\"attributes\":{\"data_source\":{\"id\":\"1971\"},\"glyph\":{\"id\":\"1972\"},\"hover_glyph\":null,\"muted_glyph\":null,\"nonselection_glyph\":{\"id\":\"1973\"},\"selection_glyph\":null,\"view\":{\"id\":\"1975\"}},\"id\":\"1974\",\"type\":\"GlyphRenderer\"},{\"attributes\":{\"label\":{\"value\":\"cross\"},\"renderers\":[{\"id\":\"1953\"}]},\"id\":\"1970\",\"type\":\"LegendItem\"}],\"root_ids\":[\"1867\"]},\"title\":\"Bokeh Application\",\"version\":\"2.2.3\"}};\n",
       "  var render_items = [{\"docid\":\"ce2485c3-086b-4193-a8f3-e302bc1ce168\",\"root_ids\":[\"1867\"],\"roots\":{\"1867\":\"9857018b-16c5-4559-9b20-4390ccd00b42\"}}];\n",
       "  root.Bokeh.embed.embed_items_notebook(docs_json, render_items);\n",
       "\n",
       "  }\n",
       "  if (root.Bokeh !== undefined) {\n",
       "    embed_document(root);\n",
       "  } else {\n",
       "    var attempts = 0;\n",
       "    var timer = setInterval(function(root) {\n",
       "      if (root.Bokeh !== undefined) {\n",
       "        clearInterval(timer);\n",
       "        embed_document(root);\n",
       "      } else {\n",
       "        attempts++;\n",
       "        if (attempts > 100) {\n",
       "          clearInterval(timer);\n",
       "          console.log(\"Bokeh: ERROR: Unable to run BokehJS code because BokehJS library is missing\");\n",
       "        }\n",
       "      }\n",
       "    }, 10, root)\n",
       "  }\n",
       "})(window);"
      ],
      "application/vnd.bokehjs_exec.v0+json": ""
     },
     "metadata": {
      "application/vnd.bokehjs_exec.v0+json": {
       "id": "1867"
      }
     },
     "output_type": "display_data"
    }
   ],
   "source": [
    "# 3、不同符号的散点图\n",
    "# asterisk(), circle(), circle_cross(), circle_x(), cross(), diamond(), diamond_cross(), inverted_triangle()\n",
    "# square(), square_cross(), square_x(), triangle(), x()\n",
    "\n",
    "p = figure(plot_width=600, plot_height=400,x_range = [0,3], y_range = [0,7])\n",
    "\n",
    "p.circle_cross(1, 1, size = 30, alpha = 0.5, legend = 'circle_cross')\n",
    "p.asterisk(1, 2, size = 30, alpha = 0.5, legend = 'asterisk')\n",
    "p.circle_x(1, 3, size = 30, alpha = 0.5, legend = 'circle_x')\n",
    "p.cross(1, 4, size = 30, alpha = 0.5, legend = 'cross')\n",
    "p.diamond(1, 5, size = 30, alpha = 0.5, legend = 'diamond')\n",
    "p.diamond_cross(1, 6, size = 30, alpha = 0.5, legend = 'diamond_cross')\n",
    "p.inverted_triangle(2, 1, size = 30, alpha = 0.5, legend = 'inverted_triangle')\n",
    "p.square(2, 2, size = 30, alpha = 0.5, legend = 'square')\n",
    "p.square_cross(2, 3, size = 30, alpha = 0.5, legend = 'square_cross')\n",
    "p.square_x(2, 4, size = 30, alpha = 0.5, legend = 'square_x')\n",
    "p.triangle(2, 5, size = 30, alpha = 0.5, legend = 'triangle')\n",
    "p.x(2, 6, size = 30, alpha = 0.5, legend = 'x')\n",
    "\n",
    "p.legend.location = \"bottom_right\"\n",
    "# 设置图例位置\n",
    "\n",
    "show(p)\n",
    "# 详细参数可参考文档：http://bokeh.pydata.org/en/latest/docs/reference/plotting.html#bokeh.plotting.figure.Figure.circle"
   ]
  }
 ],
 "metadata": {
  "anaconda-cloud": {},
  "kernelspec": {
   "display_name": "Python 3",
   "language": "python",
   "name": "python3"
  },
  "language_info": {
   "codemirror_mode": {
    "name": "ipython",
    "version": 3
   },
   "file_extension": ".py",
   "mimetype": "text/x-python",
   "name": "python",
   "nbconvert_exporter": "python",
   "pygments_lexer": "ipython3",
   "version": "3.8.5"
  }
 },
 "nbformat": 4,
 "nbformat_minor": 4
}
