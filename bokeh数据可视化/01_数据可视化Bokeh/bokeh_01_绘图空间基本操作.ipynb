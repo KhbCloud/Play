{
 "cells": [
  {
   "cell_type": "code",
   "execution_count": null,
   "metadata": {},
   "outputs": [],
   "source": [
    "'''\n",
    "【课程5.2】  绘图空间基本设置\n",
    "\n",
    "① 创建绘图空间\n",
    "② 输出方式\n",
    "③ 绘图figure基本设置\n",
    "\n",
    "输出：jupyter notebook / spyder等非notebook空间\n",
    "\n",
    "参考官方文档：http://bokeh.pydata.org/en/latest/docs/user_guide/styling.html#text-properties\n",
    "\n",
    "'''"
   ]
  },
  {
   "cell_type": "code",
   "execution_count": 31,
   "metadata": {},
   "outputs": [],
   "source": [
    "import numpy as np\n",
    "import pandas as pd\n",
    "import matplotlib.pyplot as plt\n",
    "%matplotlib inline\n",
    "\n",
    "import warnings\n",
    "warnings.filterwarnings('ignore') \n",
    "# 不发出警告"
   ]
  },
  {
   "cell_type": "code",
   "execution_count": 32,
   "metadata": {
    "collapsed": false,
    "jupyter": {
     "outputs_hidden": false
    }
   },
   "outputs": [
    {
     "data": {
      "text/html": [
       "\n",
       "    <div class=\"bk-root\">\n",
       "        <a href=\"https://bokeh.org\" target=\"_blank\" class=\"bk-logo bk-logo-small bk-logo-notebook\"></a>\n",
       "        <span id=\"10182\">Loading BokehJS ...</span>\n",
       "    </div>"
      ]
     },
     "metadata": {},
     "output_type": "display_data"
    },
    {
     "data": {
      "application/javascript": [
       "\n",
       "(function(root) {\n",
       "  function now() {\n",
       "    return new Date();\n",
       "  }\n",
       "\n",
       "  var force = true;\n",
       "\n",
       "  if (typeof root._bokeh_onload_callbacks === \"undefined\" || force === true) {\n",
       "    root._bokeh_onload_callbacks = [];\n",
       "    root._bokeh_is_loading = undefined;\n",
       "  }\n",
       "\n",
       "  var JS_MIME_TYPE = 'application/javascript';\n",
       "  var HTML_MIME_TYPE = 'text/html';\n",
       "  var EXEC_MIME_TYPE = 'application/vnd.bokehjs_exec.v0+json';\n",
       "  var CLASS_NAME = 'output_bokeh rendered_html';\n",
       "\n",
       "  /**\n",
       "   * Render data to the DOM node\n",
       "   */\n",
       "  function render(props, node) {\n",
       "    var script = document.createElement(\"script\");\n",
       "    node.appendChild(script);\n",
       "  }\n",
       "\n",
       "  /**\n",
       "   * Handle when an output is cleared or removed\n",
       "   */\n",
       "  function handleClearOutput(event, handle) {\n",
       "    var cell = handle.cell;\n",
       "\n",
       "    var id = cell.output_area._bokeh_element_id;\n",
       "    var server_id = cell.output_area._bokeh_server_id;\n",
       "    // Clean up Bokeh references\n",
       "    if (id != null && id in Bokeh.index) {\n",
       "      Bokeh.index[id].model.document.clear();\n",
       "      delete Bokeh.index[id];\n",
       "    }\n",
       "\n",
       "    if (server_id !== undefined) {\n",
       "      // Clean up Bokeh references\n",
       "      var cmd = \"from bokeh.io.state import curstate; print(curstate().uuid_to_server['\" + server_id + \"'].get_sessions()[0].document.roots[0]._id)\";\n",
       "      cell.notebook.kernel.execute(cmd, {\n",
       "        iopub: {\n",
       "          output: function(msg) {\n",
       "            var id = msg.content.text.trim();\n",
       "            if (id in Bokeh.index) {\n",
       "              Bokeh.index[id].model.document.clear();\n",
       "              delete Bokeh.index[id];\n",
       "            }\n",
       "          }\n",
       "        }\n",
       "      });\n",
       "      // Destroy server and session\n",
       "      var cmd = \"import bokeh.io.notebook as ion; ion.destroy_server('\" + server_id + \"')\";\n",
       "      cell.notebook.kernel.execute(cmd);\n",
       "    }\n",
       "  }\n",
       "\n",
       "  /**\n",
       "   * Handle when a new output is added\n",
       "   */\n",
       "  function handleAddOutput(event, handle) {\n",
       "    var output_area = handle.output_area;\n",
       "    var output = handle.output;\n",
       "\n",
       "    // limit handleAddOutput to display_data with EXEC_MIME_TYPE content only\n",
       "    if ((output.output_type != \"display_data\") || (!output.data.hasOwnProperty(EXEC_MIME_TYPE))) {\n",
       "      return\n",
       "    }\n",
       "\n",
       "    var toinsert = output_area.element.find(\".\" + CLASS_NAME.split(' ')[0]);\n",
       "\n",
       "    if (output.metadata[EXEC_MIME_TYPE][\"id\"] !== undefined) {\n",
       "      toinsert[toinsert.length - 1].firstChild.textContent = output.data[JS_MIME_TYPE];\n",
       "      // store reference to embed id on output_area\n",
       "      output_area._bokeh_element_id = output.metadata[EXEC_MIME_TYPE][\"id\"];\n",
       "    }\n",
       "    if (output.metadata[EXEC_MIME_TYPE][\"server_id\"] !== undefined) {\n",
       "      var bk_div = document.createElement(\"div\");\n",
       "      bk_div.innerHTML = output.data[HTML_MIME_TYPE];\n",
       "      var script_attrs = bk_div.children[0].attributes;\n",
       "      for (var i = 0; i < script_attrs.length; i++) {\n",
       "        toinsert[toinsert.length - 1].firstChild.setAttribute(script_attrs[i].name, script_attrs[i].value);\n",
       "        toinsert[toinsert.length - 1].firstChild.textContent = bk_div.children[0].textContent\n",
       "      }\n",
       "      // store reference to server id on output_area\n",
       "      output_area._bokeh_server_id = output.metadata[EXEC_MIME_TYPE][\"server_id\"];\n",
       "    }\n",
       "  }\n",
       "\n",
       "  function register_renderer(events, OutputArea) {\n",
       "\n",
       "    function append_mime(data, metadata, element) {\n",
       "      // create a DOM node to render to\n",
       "      var toinsert = this.create_output_subarea(\n",
       "        metadata,\n",
       "        CLASS_NAME,\n",
       "        EXEC_MIME_TYPE\n",
       "      );\n",
       "      this.keyboard_manager.register_events(toinsert);\n",
       "      // Render to node\n",
       "      var props = {data: data, metadata: metadata[EXEC_MIME_TYPE]};\n",
       "      render(props, toinsert[toinsert.length - 1]);\n",
       "      element.append(toinsert);\n",
       "      return toinsert\n",
       "    }\n",
       "\n",
       "    /* Handle when an output is cleared or removed */\n",
       "    events.on('clear_output.CodeCell', handleClearOutput);\n",
       "    events.on('delete.Cell', handleClearOutput);\n",
       "\n",
       "    /* Handle when a new output is added */\n",
       "    events.on('output_added.OutputArea', handleAddOutput);\n",
       "\n",
       "    /**\n",
       "     * Register the mime type and append_mime function with output_area\n",
       "     */\n",
       "    OutputArea.prototype.register_mime_type(EXEC_MIME_TYPE, append_mime, {\n",
       "      /* Is output safe? */\n",
       "      safe: true,\n",
       "      /* Index of renderer in `output_area.display_order` */\n",
       "      index: 0\n",
       "    });\n",
       "  }\n",
       "\n",
       "  // register the mime type if in Jupyter Notebook environment and previously unregistered\n",
       "  if (root.Jupyter !== undefined) {\n",
       "    var events = require('base/js/events');\n",
       "    var OutputArea = require('notebook/js/outputarea').OutputArea;\n",
       "\n",
       "    if (OutputArea.prototype.mime_types().indexOf(EXEC_MIME_TYPE) == -1) {\n",
       "      register_renderer(events, OutputArea);\n",
       "    }\n",
       "  }\n",
       "\n",
       "  \n",
       "  if (typeof (root._bokeh_timeout) === \"undefined\" || force === true) {\n",
       "    root._bokeh_timeout = Date.now() + 5000;\n",
       "    root._bokeh_failed_load = false;\n",
       "  }\n",
       "\n",
       "  var NB_LOAD_WARNING = {'data': {'text/html':\n",
       "     \"<div style='background-color: #fdd'>\\n\"+\n",
       "     \"<p>\\n\"+\n",
       "     \"BokehJS does not appear to have successfully loaded. If loading BokehJS from CDN, this \\n\"+\n",
       "     \"may be due to a slow or bad network connection. Possible fixes:\\n\"+\n",
       "     \"</p>\\n\"+\n",
       "     \"<ul>\\n\"+\n",
       "     \"<li>re-rerun `output_notebook()` to attempt to load from CDN again, or</li>\\n\"+\n",
       "     \"<li>use INLINE resources instead, as so:</li>\\n\"+\n",
       "     \"</ul>\\n\"+\n",
       "     \"<code>\\n\"+\n",
       "     \"from bokeh.resources import INLINE\\n\"+\n",
       "     \"output_notebook(resources=INLINE)\\n\"+\n",
       "     \"</code>\\n\"+\n",
       "     \"</div>\"}};\n",
       "\n",
       "  function display_loaded() {\n",
       "    var el = document.getElementById(\"10182\");\n",
       "    if (el != null) {\n",
       "      el.textContent = \"BokehJS is loading...\";\n",
       "    }\n",
       "    if (root.Bokeh !== undefined) {\n",
       "      if (el != null) {\n",
       "        el.textContent = \"BokehJS \" + root.Bokeh.version + \" successfully loaded.\";\n",
       "      }\n",
       "    } else if (Date.now() < root._bokeh_timeout) {\n",
       "      setTimeout(display_loaded, 100)\n",
       "    }\n",
       "  }\n",
       "\n",
       "\n",
       "  function run_callbacks() {\n",
       "    try {\n",
       "      root._bokeh_onload_callbacks.forEach(function(callback) {\n",
       "        if (callback != null)\n",
       "          callback();\n",
       "      });\n",
       "    } finally {\n",
       "      delete root._bokeh_onload_callbacks\n",
       "    }\n",
       "    console.debug(\"Bokeh: all callbacks have finished\");\n",
       "  }\n",
       "\n",
       "  function load_libs(css_urls, js_urls, callback) {\n",
       "    if (css_urls == null) css_urls = [];\n",
       "    if (js_urls == null) js_urls = [];\n",
       "\n",
       "    root._bokeh_onload_callbacks.push(callback);\n",
       "    if (root._bokeh_is_loading > 0) {\n",
       "      console.debug(\"Bokeh: BokehJS is being loaded, scheduling callback at\", now());\n",
       "      return null;\n",
       "    }\n",
       "    if (js_urls == null || js_urls.length === 0) {\n",
       "      run_callbacks();\n",
       "      return null;\n",
       "    }\n",
       "    console.debug(\"Bokeh: BokehJS not loaded, scheduling load and callback at\", now());\n",
       "    root._bokeh_is_loading = css_urls.length + js_urls.length;\n",
       "\n",
       "    function on_load() {\n",
       "      root._bokeh_is_loading--;\n",
       "      if (root._bokeh_is_loading === 0) {\n",
       "        console.debug(\"Bokeh: all BokehJS libraries/stylesheets loaded\");\n",
       "        run_callbacks()\n",
       "      }\n",
       "    }\n",
       "\n",
       "    function on_error() {\n",
       "      console.error(\"failed to load \" + url);\n",
       "    }\n",
       "\n",
       "    for (var i = 0; i < css_urls.length; i++) {\n",
       "      var url = css_urls[i];\n",
       "      const element = document.createElement(\"link\");\n",
       "      element.onload = on_load;\n",
       "      element.onerror = on_error;\n",
       "      element.rel = \"stylesheet\";\n",
       "      element.type = \"text/css\";\n",
       "      element.href = url;\n",
       "      console.debug(\"Bokeh: injecting link tag for BokehJS stylesheet: \", url);\n",
       "      document.body.appendChild(element);\n",
       "    }\n",
       "\n",
       "    const hashes = {\"https://cdn.bokeh.org/bokeh/release/bokeh-2.2.3.min.js\": \"T2yuo9Oe71Cz/I4X9Ac5+gpEa5a8PpJCDlqKYO0CfAuEszu1JrXLl8YugMqYe3sM\", \"https://cdn.bokeh.org/bokeh/release/bokeh-widgets-2.2.3.min.js\": \"98GDGJ0kOMCUMUePhksaQ/GYgB3+NH9h996V88sh3aOiUNX3N+fLXAtry6xctSZ6\", \"https://cdn.bokeh.org/bokeh/release/bokeh-tables-2.2.3.min.js\": \"89bArO+nlbP3sgakeHjCo1JYxYR5wufVgA3IbUvDY+K7w4zyxJqssu7wVnfeKCq8\"};\n",
       "\n",
       "    for (var i = 0; i < js_urls.length; i++) {\n",
       "      var url = js_urls[i];\n",
       "      var element = document.createElement('script');\n",
       "      element.onload = on_load;\n",
       "      element.onerror = on_error;\n",
       "      element.async = false;\n",
       "      element.src = url;\n",
       "      if (url in hashes) {\n",
       "        element.crossOrigin = \"anonymous\";\n",
       "        element.integrity = \"sha384-\" + hashes[url];\n",
       "      }\n",
       "      console.debug(\"Bokeh: injecting script tag for BokehJS library: \", url);\n",
       "      document.head.appendChild(element);\n",
       "    }\n",
       "  };\n",
       "\n",
       "  function inject_raw_css(css) {\n",
       "    const element = document.createElement(\"style\");\n",
       "    element.appendChild(document.createTextNode(css));\n",
       "    document.body.appendChild(element);\n",
       "  }\n",
       "\n",
       "  \n",
       "  var js_urls = [\"https://cdn.bokeh.org/bokeh/release/bokeh-2.2.3.min.js\", \"https://cdn.bokeh.org/bokeh/release/bokeh-widgets-2.2.3.min.js\", \"https://cdn.bokeh.org/bokeh/release/bokeh-tables-2.2.3.min.js\"];\n",
       "  var css_urls = [];\n",
       "  \n",
       "\n",
       "  var inline_js = [\n",
       "    function(Bokeh) {\n",
       "      Bokeh.set_log_level(\"info\");\n",
       "    },\n",
       "    function(Bokeh) {\n",
       "    \n",
       "    \n",
       "    }\n",
       "  ];\n",
       "\n",
       "  function run_inline_js() {\n",
       "    \n",
       "    if (root.Bokeh !== undefined || force === true) {\n",
       "      \n",
       "    for (var i = 0; i < inline_js.length; i++) {\n",
       "      inline_js[i].call(root, root.Bokeh);\n",
       "    }\n",
       "    if (force === true) {\n",
       "        display_loaded();\n",
       "      }} else if (Date.now() < root._bokeh_timeout) {\n",
       "      setTimeout(run_inline_js, 100);\n",
       "    } else if (!root._bokeh_failed_load) {\n",
       "      console.log(\"Bokeh: BokehJS failed to load within specified timeout.\");\n",
       "      root._bokeh_failed_load = true;\n",
       "    } else if (force !== true) {\n",
       "      var cell = $(document.getElementById(\"10182\")).parents('.cell').data().cell;\n",
       "      cell.output_area.append_execute_result(NB_LOAD_WARNING)\n",
       "    }\n",
       "\n",
       "  }\n",
       "\n",
       "  if (root._bokeh_is_loading === 0) {\n",
       "    console.debug(\"Bokeh: BokehJS loaded, going straight to plotting\");\n",
       "    run_inline_js();\n",
       "  } else {\n",
       "    load_libs(css_urls, js_urls, function() {\n",
       "      console.debug(\"Bokeh: BokehJS plotting callback run at\", now());\n",
       "      run_inline_js();\n",
       "    });\n",
       "  }\n",
       "}(window));"
      ],
      "application/vnd.bokehjs_load.v0+json": "\n(function(root) {\n  function now() {\n    return new Date();\n  }\n\n  var force = true;\n\n  if (typeof root._bokeh_onload_callbacks === \"undefined\" || force === true) {\n    root._bokeh_onload_callbacks = [];\n    root._bokeh_is_loading = undefined;\n  }\n\n  \n\n  \n  if (typeof (root._bokeh_timeout) === \"undefined\" || force === true) {\n    root._bokeh_timeout = Date.now() + 5000;\n    root._bokeh_failed_load = false;\n  }\n\n  var NB_LOAD_WARNING = {'data': {'text/html':\n     \"<div style='background-color: #fdd'>\\n\"+\n     \"<p>\\n\"+\n     \"BokehJS does not appear to have successfully loaded. If loading BokehJS from CDN, this \\n\"+\n     \"may be due to a slow or bad network connection. Possible fixes:\\n\"+\n     \"</p>\\n\"+\n     \"<ul>\\n\"+\n     \"<li>re-rerun `output_notebook()` to attempt to load from CDN again, or</li>\\n\"+\n     \"<li>use INLINE resources instead, as so:</li>\\n\"+\n     \"</ul>\\n\"+\n     \"<code>\\n\"+\n     \"from bokeh.resources import INLINE\\n\"+\n     \"output_notebook(resources=INLINE)\\n\"+\n     \"</code>\\n\"+\n     \"</div>\"}};\n\n  function display_loaded() {\n    var el = document.getElementById(\"10182\");\n    if (el != null) {\n      el.textContent = \"BokehJS is loading...\";\n    }\n    if (root.Bokeh !== undefined) {\n      if (el != null) {\n        el.textContent = \"BokehJS \" + root.Bokeh.version + \" successfully loaded.\";\n      }\n    } else if (Date.now() < root._bokeh_timeout) {\n      setTimeout(display_loaded, 100)\n    }\n  }\n\n\n  function run_callbacks() {\n    try {\n      root._bokeh_onload_callbacks.forEach(function(callback) {\n        if (callback != null)\n          callback();\n      });\n    } finally {\n      delete root._bokeh_onload_callbacks\n    }\n    console.debug(\"Bokeh: all callbacks have finished\");\n  }\n\n  function load_libs(css_urls, js_urls, callback) {\n    if (css_urls == null) css_urls = [];\n    if (js_urls == null) js_urls = [];\n\n    root._bokeh_onload_callbacks.push(callback);\n    if (root._bokeh_is_loading > 0) {\n      console.debug(\"Bokeh: BokehJS is being loaded, scheduling callback at\", now());\n      return null;\n    }\n    if (js_urls == null || js_urls.length === 0) {\n      run_callbacks();\n      return null;\n    }\n    console.debug(\"Bokeh: BokehJS not loaded, scheduling load and callback at\", now());\n    root._bokeh_is_loading = css_urls.length + js_urls.length;\n\n    function on_load() {\n      root._bokeh_is_loading--;\n      if (root._bokeh_is_loading === 0) {\n        console.debug(\"Bokeh: all BokehJS libraries/stylesheets loaded\");\n        run_callbacks()\n      }\n    }\n\n    function on_error() {\n      console.error(\"failed to load \" + url);\n    }\n\n    for (var i = 0; i < css_urls.length; i++) {\n      var url = css_urls[i];\n      const element = document.createElement(\"link\");\n      element.onload = on_load;\n      element.onerror = on_error;\n      element.rel = \"stylesheet\";\n      element.type = \"text/css\";\n      element.href = url;\n      console.debug(\"Bokeh: injecting link tag for BokehJS stylesheet: \", url);\n      document.body.appendChild(element);\n    }\n\n    const hashes = {\"https://cdn.bokeh.org/bokeh/release/bokeh-2.2.3.min.js\": \"T2yuo9Oe71Cz/I4X9Ac5+gpEa5a8PpJCDlqKYO0CfAuEszu1JrXLl8YugMqYe3sM\", \"https://cdn.bokeh.org/bokeh/release/bokeh-widgets-2.2.3.min.js\": \"98GDGJ0kOMCUMUePhksaQ/GYgB3+NH9h996V88sh3aOiUNX3N+fLXAtry6xctSZ6\", \"https://cdn.bokeh.org/bokeh/release/bokeh-tables-2.2.3.min.js\": \"89bArO+nlbP3sgakeHjCo1JYxYR5wufVgA3IbUvDY+K7w4zyxJqssu7wVnfeKCq8\"};\n\n    for (var i = 0; i < js_urls.length; i++) {\n      var url = js_urls[i];\n      var element = document.createElement('script');\n      element.onload = on_load;\n      element.onerror = on_error;\n      element.async = false;\n      element.src = url;\n      if (url in hashes) {\n        element.crossOrigin = \"anonymous\";\n        element.integrity = \"sha384-\" + hashes[url];\n      }\n      console.debug(\"Bokeh: injecting script tag for BokehJS library: \", url);\n      document.head.appendChild(element);\n    }\n  };\n\n  function inject_raw_css(css) {\n    const element = document.createElement(\"style\");\n    element.appendChild(document.createTextNode(css));\n    document.body.appendChild(element);\n  }\n\n  \n  var js_urls = [\"https://cdn.bokeh.org/bokeh/release/bokeh-2.2.3.min.js\", \"https://cdn.bokeh.org/bokeh/release/bokeh-widgets-2.2.3.min.js\", \"https://cdn.bokeh.org/bokeh/release/bokeh-tables-2.2.3.min.js\"];\n  var css_urls = [];\n  \n\n  var inline_js = [\n    function(Bokeh) {\n      Bokeh.set_log_level(\"info\");\n    },\n    function(Bokeh) {\n    \n    \n    }\n  ];\n\n  function run_inline_js() {\n    \n    if (root.Bokeh !== undefined || force === true) {\n      \n    for (var i = 0; i < inline_js.length; i++) {\n      inline_js[i].call(root, root.Bokeh);\n    }\n    if (force === true) {\n        display_loaded();\n      }} else if (Date.now() < root._bokeh_timeout) {\n      setTimeout(run_inline_js, 100);\n    } else if (!root._bokeh_failed_load) {\n      console.log(\"Bokeh: BokehJS failed to load within specified timeout.\");\n      root._bokeh_failed_load = true;\n    } else if (force !== true) {\n      var cell = $(document.getElementById(\"10182\")).parents('.cell').data().cell;\n      cell.output_area.append_execute_result(NB_LOAD_WARNING)\n    }\n\n  }\n\n  if (root._bokeh_is_loading === 0) {\n    console.debug(\"Bokeh: BokehJS loaded, going straight to plotting\");\n    run_inline_js();\n  } else {\n    load_libs(css_urls, js_urls, function() {\n      console.debug(\"Bokeh: BokehJS plotting callback run at\", now());\n      run_inline_js();\n    });\n  }\n}(window));"
     },
     "metadata": {},
     "output_type": "display_data"
    }
   ],
   "source": [
    "# 在notebook中创建绘图空间\n",
    "\n",
    "from bokeh.plotting import figure,show\n",
    "# 导入图表绘制、图标展示模块\n",
    "\n",
    "from bokeh.io import output_notebook\n",
    "# 导入notebook绘图模块\n",
    "\n",
    "output_notebook()\n",
    "# notebook绘图命令\n",
    "\n"
   ]
  },
  {
   "cell_type": "code",
   "execution_count": 3,
   "metadata": {},
   "outputs": [],
   "source": [
    "p = figure(plot_width=400, plot_height=400)   # 创建图表，设置宽度、高度"
   ]
  },
  {
   "cell_type": "code",
   "execution_count": 33,
   "metadata": {},
   "outputs": [
    {
     "data": {
      "text/html": [
       "\n",
       "\n",
       "\n",
       "\n",
       "\n",
       "\n",
       "  <div class=\"bk-root\" id=\"77f2cf3a-b9e2-4dd0-9ef0-fe1071fb41f7\" data-root-id=\"9503\"></div>\n"
      ]
     },
     "metadata": {},
     "output_type": "display_data"
    },
    {
     "data": {
      "application/javascript": [
       "(function(root) {\n",
       "  function embed_document(root) {\n",
       "    \n",
       "  var docs_json = {\"bc8bbecc-62a8-4652-b876-f53d0633f436\":{\"roots\":{\"references\":[{\"attributes\":{\"below\":[{\"id\":\"9512\"}],\"center\":[{\"id\":\"9515\"},{\"id\":\"9519\"},{\"id\":\"9548\"}],\"left\":[{\"id\":\"9516\"}],\"plot_height\":400,\"renderers\":[{\"id\":\"9537\"},{\"id\":\"9553\"},{\"id\":\"9569\"},{\"id\":\"9588\"},{\"id\":\"9609\"},{\"id\":\"10186\"}],\"title\":{\"id\":\"9539\"},\"toolbar\":{\"id\":\"9527\"},\"x_range\":{\"id\":\"9504\"},\"x_scale\":{\"id\":\"9508\"},\"y_range\":{\"id\":\"9506\"},\"y_scale\":{\"id\":\"9510\"}},\"id\":\"9503\",\"subtype\":\"Figure\",\"type\":\"Plot\"},{\"attributes\":{},\"id\":\"9565\",\"type\":\"Selection\"},{\"attributes\":{\"axis\":{\"id\":\"9512\"},\"ticker\":null},\"id\":\"9515\",\"type\":\"Grid\"},{\"attributes\":{\"fill_alpha\":{\"value\":0.1},\"fill_color\":{\"value\":null},\"line_alpha\":{\"value\":0.1},\"line_color\":{\"value\":\"green\"},\"x\":{\"field\":\"x\"},\"y\":{\"field\":\"y\"}},\"id\":\"9587\",\"type\":\"Square\"},{\"attributes\":{},\"id\":\"9604\",\"type\":\"Selection\"},{\"attributes\":{},\"id\":\"9521\",\"type\":\"WheelZoomTool\"},{\"attributes\":{\"data_source\":{\"id\":\"10183\"},\"glyph\":{\"id\":\"10184\"},\"hover_glyph\":null,\"muted_glyph\":null,\"nonselection_glyph\":{\"id\":\"10185\"},\"selection_glyph\":null,\"view\":{\"id\":\"10187\"}},\"id\":\"10186\",\"type\":\"GlyphRenderer\"},{\"attributes\":{\"data_source\":{\"id\":\"9566\"},\"glyph\":{\"id\":\"9567\"},\"hover_glyph\":null,\"muted_glyph\":null,\"nonselection_glyph\":{\"id\":\"9568\"},\"selection_glyph\":null,\"view\":{\"id\":\"9570\"}},\"id\":\"9569\",\"type\":\"GlyphRenderer\"},{\"attributes\":{\"formatter\":{\"id\":\"9541\"},\"ticker\":{\"id\":\"9513\"}},\"id\":\"9512\",\"type\":\"LinearAxis\"},{\"attributes\":{\"fill_alpha\":{\"value\":0.1},\"fill_color\":{\"value\":\"#1f77b4\"},\"line_alpha\":{\"value\":0.1},\"line_color\":{\"value\":\"#1f77b4\"},\"x\":{\"field\":\"x\"},\"y\":{\"field\":\"y\"}},\"id\":\"9536\",\"type\":\"Circle\"},{\"attributes\":{},\"id\":\"9582\",\"type\":\"UnionRenderers\"},{\"attributes\":{},\"id\":\"9525\",\"type\":\"HelpTool\"},{\"attributes\":{\"fill_color\":{\"value\":\"#1f77b4\"},\"line_color\":{\"value\":\"#1f77b4\"},\"x\":{\"field\":\"x\"},\"y\":{\"field\":\"y\"}},\"id\":\"9535\",\"type\":\"Circle\"},{\"attributes\":{},\"id\":\"9520\",\"type\":\"PanTool\"},{\"attributes\":{\"source\":{\"id\":\"9606\"}},\"id\":\"9610\",\"type\":\"CDSView\"},{\"attributes\":{\"data\":{\"x\":[1,2,3,4,5],\"y\":[6,7,2,4,5]},\"selected\":{\"id\":\"10470\"},\"selection_policy\":{\"id\":\"10469\"}},\"id\":\"10183\",\"type\":\"ColumnDataSource\"},{\"attributes\":{\"line_color\":\"green\",\"x\":{\"field\":\"x\"},\"y\":{\"field\":\"y\"}},\"id\":\"9607\",\"type\":\"Line\"},{\"attributes\":{\"source\":{\"id\":\"9534\"}},\"id\":\"9538\",\"type\":\"CDSView\"},{\"attributes\":{},\"id\":\"9517\",\"type\":\"BasicTicker\"},{\"attributes\":{},\"id\":\"10470\",\"type\":\"Selection\"},{\"attributes\":{},\"id\":\"9543\",\"type\":\"BasicTickFormatter\"},{\"attributes\":{},\"id\":\"9541\",\"type\":\"BasicTickFormatter\"},{\"attributes\":{\"label\":{\"value\":\"sin(x)\"},\"renderers\":[{\"id\":\"9537\"},{\"id\":\"9553\"}]},\"id\":\"9549\",\"type\":\"LegendItem\"},{\"attributes\":{},\"id\":\"9508\",\"type\":\"LinearScale\"},{\"attributes\":{\"data\":{\"x\":{\"__ndarray__\":\"AAAAAAAAAACRGkt8Vz/AP5EaS3xXP9A/2qdwOgNf2D+RGkt8Vz/gPzXhXVstT+Q/2qdwOgNf6D9+boMZ2W7sP5EaS3xXP/A/433Ua0JH8j814V1bLU/0P4dE50oYV/Y/2qdwOgNf+D8sC/op7mb6P35ugxnZbvw/0NEMCcR2/j+RGkt8Vz8AQDrMD/RMQwFA433Ua0JHAkCML5njN0sDQDXhXVstTwRA3pIi0yJTBUCHROdKGFcGQDD2q8INWwdA2qdwOgNfCECDWTWy+GIJQCwL+inuZgpA1by+oeNqC0B+boMZ2W4MQCcgSJHOcg1A0NEMCcR2DkB5g9GAuXoPQJEaS3xXPxBAZnMtOFLBEEA6zA/0TEMRQA8l8q9HxRFA433Ua0JHEkC41rYnPckSQIwvmeM3SxNAYYh7nzLNE0A14V1bLU8UQAo6QBco0RRA3pIi0yJTFUCz6wSPHdUVQIdE50oYVxZAXJ3JBhPZFkAw9qvCDVsXQAVPjn4I3RdA2qdwOgNfGECuAFP2/eAYQINZNbL4YhlAV7IXbvPkGUAsC/op7mYaQABk3OXo6BpA1by+oeNqG0CpFaFd3uwbQH5ugxnZbhxAUsdl1dPwHEAnIEiRznIdQPt4Kk3J9B1A0NEMCcR2HkCkKu/EvvgeQHmD0YC5eh9ATdyzPLT8H0CRGkt8Vz8gQPtGPNpUgCBAZnMtOFLBIEDQnx6WTwIhQDrMD/RMQyFApPgAUkqEIUAPJfKvR8UhQHlR4w1FBiJA433Ua0JHIkBNqsXJP4giQLjWtic9ySJAIgOohToKI0CML5njN0sjQPZbikE1jCNAYYh7nzLNI0DLtGz9Lw4kQDXhXVstTyRAoA1PuSqQJEAKOkAXKNEkQHRmMXUlEiVA3pIi0yJTJUBJvxMxIJQlQLPrBI8d1SVAHRj27BoWJkCHROdKGFcmQPJw2KgVmCZAXJ3JBhPZJkDGybpkEBonQDD2q8INWydAmyKdIAucJ0AFT45+CN0nQG97f9wFHihA2qdwOgNfKEBE1GGYAKAoQK4AU/b94ChAGC1EVPshKUA=\",\"dtype\":\"float64\",\"order\":\"little\",\"shape\":[100]},\"y\":{\"__ndarray__\":\"AAAAAAAAAADoxQO0RU7YP+dMxoI2HOg//C5K/vzW8T/Tua6vYlb3P+nH5xKndfw/AFIvb9iPAEBm8BjVpKACQNka5Ym2ZARADqEya8fUBUD+Gu1b6+oGQBHVYKmoogdAYgGEegr5B0DMzIX9rOwHQM+xeSHDfQdA1L6JxBWuBkB9BRBa/IAFQO0A3yZP+wNAeZ5rTFMjAkDe5Qz1oAAAQDnpZxcIOPs/tv7u/6/+9T/6iGdXvmrwP2wf+wVaJuU/5X710zFA0j+uSTsu9124v2QnUqkVVt6/o9Qx/NsL679m4Ulpoj7zvxQdiFoRqPi/bDUKCPCr/b/J7VIByxoBwPGhyyYpGQPAgTlCLtzIBMCuGkzd8SIGwAOBBKLYIQfAMzIqg3bBB8BzaxsFOv8HwKfUGL4k2gfAJ8c7bs9SB8BSNUOKZ2sGwCX1VkOmJwXAMfGzMMGMA8AjU27aVKEBwC4hWvuS2v6/DwQZ9WTz+b9lsKPjUaH0v8Yvs7GI9O2/YIF44Akr4r8GSRAz01rIvzJJEDPTWsg/aoF44Akr4j/QL7OxiPTtP2Cwo+NRofQ/FAQZ9WTz+T8qIVr7ktr+PyVTbtpUoQFAMPGzMMGMA0Am9VZDpicFQFE1Q4pnawZAKMc7bs9SB0Cn1Bi+JNoHQHNrGwU6/wdANDIqg3bBB0ACgQSi2CEHQLAaTN3xIgZAfTlCLtzIBEDwocsmKRkDQMntUgHLGgFAcTUKCPCr/T8MHYhaEaj4P2HhSWmiPvM/pNQx/NsL6z99J1KpFVbeP/ZIOy73Xbg/+n710zFA0r9fH/sFWiblv+6IZ1e+avC/uv7u/6/+9b846WcXCDj7v9vlDPWgAADAfJ5rTFMjAsDuAN8mT/sDwH0FEFr8gAXA076JxBWuBsDQsXkhw30HwMzMhf2s7AfAYgGEegr5B8AS1WCpqKIHwPwa7Vvr6gbADqEya8fUBcDaGuWJtmQEwGnwGNWkoALA/VEvb9iPAMDpx+cSp3X8v9a5rq9iVve/8C5K/vzW8b/bTMaCNhzov+rFA7RFTti/CoqeTDl52rw=\",\"dtype\":\"float64\",\"order\":\"little\",\"shape\":[100]}},\"selected\":{\"id\":\"9604\"},\"selection_policy\":{\"id\":\"9603\"}},\"id\":\"9585\",\"type\":\"ColumnDataSource\"},{\"attributes\":{\"fill_alpha\":{\"value\":0.5},\"fill_color\":{\"value\":\"navy\"},\"line_alpha\":{\"value\":0.5},\"line_color\":{\"value\":\"navy\"},\"size\":{\"units\":\"screen\",\"value\":20},\"x\":{\"field\":\"x\"},\"y\":{\"field\":\"y\"}},\"id\":\"10184\",\"type\":\"Circle\"},{\"attributes\":{},\"id\":\"9583\",\"type\":\"Selection\"},{\"attributes\":{\"label\":{\"value\":\"2*sin(x)\"},\"renderers\":[{\"id\":\"9569\"}]},\"id\":\"9584\",\"type\":\"LegendItem\"},{\"attributes\":{\"source\":{\"id\":\"10183\"}},\"id\":\"10187\",\"type\":\"CDSView\"},{\"attributes\":{\"source\":{\"id\":\"9566\"}},\"id\":\"9570\",\"type\":\"CDSView\"},{\"attributes\":{},\"id\":\"9523\",\"type\":\"SaveTool\"},{\"attributes\":{\"fill_color\":{\"value\":null},\"line_color\":{\"value\":\"green\"},\"x\":{\"field\":\"x\"},\"y\":{\"field\":\"y\"}},\"id\":\"9586\",\"type\":\"Square\"},{\"attributes\":{},\"id\":\"9513\",\"type\":\"BasicTicker\"},{\"attributes\":{\"active_drag\":\"auto\",\"active_inspect\":\"auto\",\"active_multi\":null,\"active_scroll\":\"auto\",\"active_tap\":\"auto\",\"tools\":[{\"id\":\"9520\"},{\"id\":\"9521\"},{\"id\":\"9522\"},{\"id\":\"9523\"},{\"id\":\"9524\"},{\"id\":\"9525\"}]},\"id\":\"9527\",\"type\":\"Toolbar\"},{\"attributes\":{\"background_fill_alpha\":0.2,\"background_fill_color\":\"gray\",\"border_line_color\":\"navy\",\"border_line_width\":3,\"items\":[{\"id\":\"9549\"},{\"id\":\"9584\"},{\"id\":\"9605\"}],\"label_text_color\":\"navy\",\"label_text_font\":\"times\",\"label_text_font_size\":\"12pt\",\"label_text_font_style\":\"italic\",\"location\":\"bottom_left\"},\"id\":\"9548\",\"type\":\"Legend\"},{\"attributes\":{\"line_alpha\":0.1,\"line_color\":\"orange\",\"line_dash\":[4,4],\"line_width\":2,\"x\":{\"field\":\"x\"},\"y\":{\"field\":\"y\"}},\"id\":\"9568\",\"type\":\"Line\"},{\"attributes\":{\"data\":{\"x\":{\"__ndarray__\":\"AAAAAAAAAACRGkt8Vz/AP5EaS3xXP9A/2qdwOgNf2D+RGkt8Vz/gPzXhXVstT+Q/2qdwOgNf6D9+boMZ2W7sP5EaS3xXP/A/433Ua0JH8j814V1bLU/0P4dE50oYV/Y/2qdwOgNf+D8sC/op7mb6P35ugxnZbvw/0NEMCcR2/j+RGkt8Vz8AQDrMD/RMQwFA433Ua0JHAkCML5njN0sDQDXhXVstTwRA3pIi0yJTBUCHROdKGFcGQDD2q8INWwdA2qdwOgNfCECDWTWy+GIJQCwL+inuZgpA1by+oeNqC0B+boMZ2W4MQCcgSJHOcg1A0NEMCcR2DkB5g9GAuXoPQJEaS3xXPxBAZnMtOFLBEEA6zA/0TEMRQA8l8q9HxRFA433Ua0JHEkC41rYnPckSQIwvmeM3SxNAYYh7nzLNE0A14V1bLU8UQAo6QBco0RRA3pIi0yJTFUCz6wSPHdUVQIdE50oYVxZAXJ3JBhPZFkAw9qvCDVsXQAVPjn4I3RdA2qdwOgNfGECuAFP2/eAYQINZNbL4YhlAV7IXbvPkGUAsC/op7mYaQABk3OXo6BpA1by+oeNqG0CpFaFd3uwbQH5ugxnZbhxAUsdl1dPwHEAnIEiRznIdQPt4Kk3J9B1A0NEMCcR2HkCkKu/EvvgeQHmD0YC5eh9ATdyzPLT8H0CRGkt8Vz8gQPtGPNpUgCBAZnMtOFLBIEDQnx6WTwIhQDrMD/RMQyFApPgAUkqEIUAPJfKvR8UhQHlR4w1FBiJA433Ua0JHIkBNqsXJP4giQLjWtic9ySJAIgOohToKI0CML5njN0sjQPZbikE1jCNAYYh7nzLNI0DLtGz9Lw4kQDXhXVstTyRAoA1PuSqQJEAKOkAXKNEkQHRmMXUlEiVA3pIi0yJTJUBJvxMxIJQlQLPrBI8d1SVAHRj27BoWJkCHROdKGFcmQPJw2KgVmCZAXJ3JBhPZJkDGybpkEBonQDD2q8INWydAmyKdIAucJ0AFT45+CN0nQG97f9wFHihA2qdwOgNfKEBE1GGYAKAoQK4AU/b94ChAGC1EVPshKUA=\",\"dtype\":\"float64\",\"order\":\"little\",\"shape\":[100]},\"y\":{\"__ndarray__\":\"AAAAAAAAAADoxQO0RU7YP+dMxoI2HOg//C5K/vzW8T/Tua6vYlb3P+nH5xKndfw/AFIvb9iPAEBm8BjVpKACQNka5Ym2ZARADqEya8fUBUD+Gu1b6+oGQBHVYKmoogdAYgGEegr5B0DMzIX9rOwHQM+xeSHDfQdA1L6JxBWuBkB9BRBa/IAFQO0A3yZP+wNAeZ5rTFMjAkDe5Qz1oAAAQDnpZxcIOPs/tv7u/6/+9T/6iGdXvmrwP2wf+wVaJuU/5X710zFA0j+uSTsu9124v2QnUqkVVt6/o9Qx/NsL679m4Ulpoj7zvxQdiFoRqPi/bDUKCPCr/b/J7VIByxoBwPGhyyYpGQPAgTlCLtzIBMCuGkzd8SIGwAOBBKLYIQfAMzIqg3bBB8BzaxsFOv8HwKfUGL4k2gfAJ8c7bs9SB8BSNUOKZ2sGwCX1VkOmJwXAMfGzMMGMA8AjU27aVKEBwC4hWvuS2v6/DwQZ9WTz+b9lsKPjUaH0v8Yvs7GI9O2/YIF44Akr4r8GSRAz01rIvzJJEDPTWsg/aoF44Akr4j/QL7OxiPTtP2Cwo+NRofQ/FAQZ9WTz+T8qIVr7ktr+PyVTbtpUoQFAMPGzMMGMA0Am9VZDpicFQFE1Q4pnawZAKMc7bs9SB0Cn1Bi+JNoHQHNrGwU6/wdANDIqg3bBB0ACgQSi2CEHQLAaTN3xIgZAfTlCLtzIBEDwocsmKRkDQMntUgHLGgFAcTUKCPCr/T8MHYhaEaj4P2HhSWmiPvM/pNQx/NsL6z99J1KpFVbeP/ZIOy73Xbg/+n710zFA0r9fH/sFWiblv+6IZ1e+avC/uv7u/6/+9b846WcXCDj7v9vlDPWgAADAfJ5rTFMjAsDuAN8mT/sDwH0FEFr8gAXA076JxBWuBsDQsXkhw30HwMzMhf2s7AfAYgGEegr5B8AS1WCpqKIHwPwa7Vvr6gbADqEya8fUBcDaGuWJtmQEwGnwGNWkoALA/VEvb9iPAMDpx+cSp3X8v9a5rq9iVve/8C5K/vzW8b/bTMaCNhzov+rFA7RFTti/CoqeTDl52rw=\",\"dtype\":\"float64\",\"order\":\"little\",\"shape\":[100]}},\"selected\":{\"id\":\"9627\"},\"selection_policy\":{\"id\":\"9626\"}},\"id\":\"9606\",\"type\":\"ColumnDataSource\"},{\"attributes\":{},\"id\":\"9506\",\"type\":\"DataRange1d\"},{\"attributes\":{\"data_source\":{\"id\":\"9606\"},\"glyph\":{\"id\":\"9607\"},\"hover_glyph\":null,\"muted_glyph\":null,\"nonselection_glyph\":{\"id\":\"9608\"},\"selection_glyph\":null,\"view\":{\"id\":\"9610\"}},\"id\":\"9609\",\"type\":\"GlyphRenderer\"},{\"attributes\":{\"line_color\":\"orange\",\"line_dash\":[4,4],\"line_width\":2,\"x\":{\"field\":\"x\"},\"y\":{\"field\":\"y\"}},\"id\":\"9567\",\"type\":\"Line\"},{\"attributes\":{},\"id\":\"9546\",\"type\":\"UnionRenderers\"},{\"attributes\":{},\"id\":\"9627\",\"type\":\"Selection\"},{\"attributes\":{\"source\":{\"id\":\"9550\"}},\"id\":\"9554\",\"type\":\"CDSView\"},{\"attributes\":{},\"id\":\"9603\",\"type\":\"UnionRenderers\"},{\"attributes\":{\"axis\":{\"id\":\"9516\"},\"dimension\":1,\"ticker\":null},\"id\":\"9519\",\"type\":\"Grid\"},{\"attributes\":{},\"id\":\"9547\",\"type\":\"Selection\"},{\"attributes\":{\"formatter\":{\"id\":\"9543\"},\"ticker\":{\"id\":\"9517\"}},\"id\":\"9516\",\"type\":\"LinearAxis\"},{\"attributes\":{\"line_alpha\":0.1,\"line_color\":\"green\",\"x\":{\"field\":\"x\"},\"y\":{\"field\":\"y\"}},\"id\":\"9608\",\"type\":\"Line\"},{\"attributes\":{\"line_alpha\":0.1,\"line_color\":\"#1f77b4\",\"x\":{\"field\":\"x\"},\"y\":{\"field\":\"y\"}},\"id\":\"9552\",\"type\":\"Line\"},{\"attributes\":{\"bottom_units\":\"screen\",\"fill_alpha\":0.5,\"fill_color\":\"lightgrey\",\"left_units\":\"screen\",\"level\":\"overlay\",\"line_alpha\":1.0,\"line_color\":\"black\",\"line_dash\":[4,4],\"line_width\":2,\"right_units\":\"screen\",\"top_units\":\"screen\"},\"id\":\"9526\",\"type\":\"BoxAnnotation\"},{\"attributes\":{},\"id\":\"9524\",\"type\":\"ResetTool\"},{\"attributes\":{\"data\":{\"x\":{\"__ndarray__\":\"AAAAAAAAAACRGkt8Vz/AP5EaS3xXP9A/2qdwOgNf2D+RGkt8Vz/gPzXhXVstT+Q/2qdwOgNf6D9+boMZ2W7sP5EaS3xXP/A/433Ua0JH8j814V1bLU/0P4dE50oYV/Y/2qdwOgNf+D8sC/op7mb6P35ugxnZbvw/0NEMCcR2/j+RGkt8Vz8AQDrMD/RMQwFA433Ua0JHAkCML5njN0sDQDXhXVstTwRA3pIi0yJTBUCHROdKGFcGQDD2q8INWwdA2qdwOgNfCECDWTWy+GIJQCwL+inuZgpA1by+oeNqC0B+boMZ2W4MQCcgSJHOcg1A0NEMCcR2DkB5g9GAuXoPQJEaS3xXPxBAZnMtOFLBEEA6zA/0TEMRQA8l8q9HxRFA433Ua0JHEkC41rYnPckSQIwvmeM3SxNAYYh7nzLNE0A14V1bLU8UQAo6QBco0RRA3pIi0yJTFUCz6wSPHdUVQIdE50oYVxZAXJ3JBhPZFkAw9qvCDVsXQAVPjn4I3RdA2qdwOgNfGECuAFP2/eAYQINZNbL4YhlAV7IXbvPkGUAsC/op7mYaQABk3OXo6BpA1by+oeNqG0CpFaFd3uwbQH5ugxnZbhxAUsdl1dPwHEAnIEiRznIdQPt4Kk3J9B1A0NEMCcR2HkCkKu/EvvgeQHmD0YC5eh9ATdyzPLT8H0CRGkt8Vz8gQPtGPNpUgCBAZnMtOFLBIEDQnx6WTwIhQDrMD/RMQyFApPgAUkqEIUAPJfKvR8UhQHlR4w1FBiJA433Ua0JHIkBNqsXJP4giQLjWtic9ySJAIgOohToKI0CML5njN0sjQPZbikE1jCNAYYh7nzLNI0DLtGz9Lw4kQDXhXVstTyRAoA1PuSqQJEAKOkAXKNEkQHRmMXUlEiVA3pIi0yJTJUBJvxMxIJQlQLPrBI8d1SVAHRj27BoWJkCHROdKGFcmQPJw2KgVmCZAXJ3JBhPZJkDGybpkEBonQDD2q8INWydAmyKdIAucJ0AFT45+CN0nQG97f9wFHihA2qdwOgNfKEBE1GGYAKAoQK4AU/b94ChAGC1EVPshKUA=\",\"dtype\":\"float64\",\"order\":\"little\",\"shape\":[100]},\"y\":{\"__ndarray__\":\"AAAAAAAAAADwgwJ4LjTQP5qI2QHPEuA/+5MNU1HJ5z8ZTT7q2B3vP0aFmgwa+fI/ABg/lCAV9j+IQCEcMdb4P3fOhmLzMPs/EyzujrQb/T/9Izwlj47+PxccgYyLg/8/g6xao7j2/z9mZrL8O+b/P7+X94FZUv8/xVNiW3I9/j9RB8Ai+6v8P5FWKYlppPo/oSg6uxkv+D/Sh2bxK1b1PyZGRbpaJfI/8qg+VZVT7T/4C4p0qOPlP+UppLIiM9w/3FNHxZdVyD/J23zJpD6wv+3ENsZjOdS/wo12/ecH4r/dgWKM2Kjpv2MTsJELcPC/83ixWvXH87+358MBZM72v5eCD4nhdvm/rExY6Hq2+7+TIxAn7YP9vwSssILL1/6/70I4BJ6s/7/vOc8G+P7/vzTGy1KGzf+/3176khQZ/7/C8a4NiuT9vzGcHq/dNPy/l0FFlgER+r+EGZN4xoH3vx8WPFK3kfS/Cli7+O1M8b+HQNqEwoHrv9kfIiFb+OO/gKyggGI52L8EhrXMjDzAvyGGtcyMPMA/jqyggGI52D/gHyIhW/jjP4BA2oTCges/DVi7+O1M8T8cFjxSt5H0P4cZk3jGgfc/lUFFlgER+j8ynB6v3TT8P8Hxrg2K5P0/4F76khQZ/z80xstShs3/P+85zwb4/v8/8EI4BJ6s/z8DrLCCy9f+P5UjECftg/0/p0xY6Hq2+z+Vgg+J4Xb5P7fnwwFkzvY/9nixWvXH8z9dE7CRC3DwP9eBYozYqOk/w412/ecH4j/+xDbGYznUP0/bfMmkPrA/+FNHxZdVyL/UKaSyIjPcv+gLinSo4+W/+Kg+VZVT7b8lRkW6WiXyv8+HZvErVvW/pig6uxkv+L+TVimJaaT6v1EHwCL7q/y/xFNiW3I9/r/Al/eBWVL/v2Zmsvw75v+/g6xao7j2/78YHIGMi4P/v/sjPCWPjv6/EyzujrQb/b94zoZi8zD7v4xAIRwx1vi//Bc/lCAV9r9GhZoMGvnyvx5NPurYHe+/65MNU1HJ57+SiNkBzxLgv/GDAnguNNC/B1wUMyam0bw=\",\"dtype\":\"float64\",\"order\":\"little\",\"shape\":[100]}},\"selected\":{\"id\":\"9583\"},\"selection_policy\":{\"id\":\"9582\"}},\"id\":\"9566\",\"type\":\"ColumnDataSource\"},{\"attributes\":{\"overlay\":{\"id\":\"9526\"}},\"id\":\"9522\",\"type\":\"BoxZoomTool\"},{\"attributes\":{},\"id\":\"10469\",\"type\":\"UnionRenderers\"},{\"attributes\":{},\"id\":\"9510\",\"type\":\"LinearScale\"},{\"attributes\":{},\"id\":\"9504\",\"type\":\"DataRange1d\"},{\"attributes\":{\"text\":\"\"},\"id\":\"9539\",\"type\":\"Title\"},{\"attributes\":{\"data_source\":{\"id\":\"9534\"},\"glyph\":{\"id\":\"9535\"},\"hover_glyph\":null,\"muted_glyph\":null,\"nonselection_glyph\":{\"id\":\"9536\"},\"selection_glyph\":null,\"view\":{\"id\":\"9538\"}},\"id\":\"9537\",\"type\":\"GlyphRenderer\"},{\"attributes\":{\"label\":{\"value\":\"3*sin(x)\"},\"renderers\":[{\"id\":\"9588\"},{\"id\":\"9609\"}]},\"id\":\"9605\",\"type\":\"LegendItem\"},{\"attributes\":{\"data\":{\"x\":{\"__ndarray__\":\"AAAAAAAAAACRGkt8Vz/AP5EaS3xXP9A/2qdwOgNf2D+RGkt8Vz/gPzXhXVstT+Q/2qdwOgNf6D9+boMZ2W7sP5EaS3xXP/A/433Ua0JH8j814V1bLU/0P4dE50oYV/Y/2qdwOgNf+D8sC/op7mb6P35ugxnZbvw/0NEMCcR2/j+RGkt8Vz8AQDrMD/RMQwFA433Ua0JHAkCML5njN0sDQDXhXVstTwRA3pIi0yJTBUCHROdKGFcGQDD2q8INWwdA2qdwOgNfCECDWTWy+GIJQCwL+inuZgpA1by+oeNqC0B+boMZ2W4MQCcgSJHOcg1A0NEMCcR2DkB5g9GAuXoPQJEaS3xXPxBAZnMtOFLBEEA6zA/0TEMRQA8l8q9HxRFA433Ua0JHEkC41rYnPckSQIwvmeM3SxNAYYh7nzLNE0A14V1bLU8UQAo6QBco0RRA3pIi0yJTFUCz6wSPHdUVQIdE50oYVxZAXJ3JBhPZFkAw9qvCDVsXQAVPjn4I3RdA2qdwOgNfGECuAFP2/eAYQINZNbL4YhlAV7IXbvPkGUAsC/op7mYaQABk3OXo6BpA1by+oeNqG0CpFaFd3uwbQH5ugxnZbhxAUsdl1dPwHEAnIEiRznIdQPt4Kk3J9B1A0NEMCcR2HkCkKu/EvvgeQHmD0YC5eh9ATdyzPLT8H0CRGkt8Vz8gQPtGPNpUgCBAZnMtOFLBIEDQnx6WTwIhQDrMD/RMQyFApPgAUkqEIUAPJfKvR8UhQHlR4w1FBiJA433Ua0JHIkBNqsXJP4giQLjWtic9ySJAIgOohToKI0CML5njN0sjQPZbikE1jCNAYYh7nzLNI0DLtGz9Lw4kQDXhXVstTyRAoA1PuSqQJEAKOkAXKNEkQHRmMXUlEiVA3pIi0yJTJUBJvxMxIJQlQLPrBI8d1SVAHRj27BoWJkCHROdKGFcmQPJw2KgVmCZAXJ3JBhPZJkDGybpkEBonQDD2q8INWydAmyKdIAucJ0AFT45+CN0nQG97f9wFHihA2qdwOgNfKEBE1GGYAKAoQK4AU/b94ChAGC1EVPshKUA=\",\"dtype\":\"float64\",\"order\":\"little\",\"shape\":[100]},\"y\":{\"__ndarray__\":\"AAAAAAAAAADwgwJ4LjTAP5qI2QHPEtA/+5MNU1HJ1z8ZTT7q2B3fP0aFmgwa+eI/ABg/lCAV5j+IQCEcMdboP3fOhmLzMOs/EyzujrQb7T/9Izwlj47uPxccgYyLg+8/g6xao7j27z9mZrL8O+bvP7+X94FZUu8/xVNiW3I97j9RB8Ai+6vsP5FWKYlppOo/oSg6uxkv6D/Sh2bxK1blPyZGRbpaJeI/8qg+VZVT3T/4C4p0qOPVP+UppLIiM8w/3FNHxZdVuD/J23zJpD6gv+3ENsZjOcS/wo12/ecH0r/dgWKM2KjZv2MTsJELcOC/83ixWvXH47+358MBZM7mv5eCD4nhdum/rExY6Hq267+TIxAn7YPtvwSssILL1+6/70I4BJ6s77/vOc8G+P7vvzTGy1KGze+/3176khQZ77/C8a4NiuTtvzGcHq/dNOy/l0FFlgER6r+EGZN4xoHnvx8WPFK3keS/Cli7+O1M4b+HQNqEwoHbv9kfIiFb+NO/gKyggGI5yL8EhrXMjDywvyGGtcyMPLA/jqyggGI5yD/gHyIhW/jTP4BA2oTCgds/DVi7+O1M4T8cFjxSt5HkP4cZk3jGgec/lUFFlgER6j8ynB6v3TTsP8Hxrg2K5O0/4F76khQZ7z80xstShs3vP+85zwb4/u8/8EI4BJ6s7z8DrLCCy9fuP5UjECftg+0/p0xY6Hq26z+Vgg+J4XbpP7fnwwFkzuY/9nixWvXH4z9dE7CRC3DgP9eBYozYqNk/w412/ecH0j/+xDbGYznEP0/bfMmkPqA/+FNHxZdVuL/UKaSyIjPMv+gLinSo49W/+Kg+VZVT3b8lRkW6WiXiv8+HZvErVuW/pig6uxkv6L+TVimJaaTqv1EHwCL7q+y/xFNiW3I97r/Al/eBWVLvv2Zmsvw75u+/g6xao7j2778YHIGMi4Pvv/sjPCWPju6/EyzujrQb7b94zoZi8zDrv4xAIRwx1ui//Bc/lCAV5r9GhZoMGvnivx5NPurYHd+/65MNU1HJ17+SiNkBzxLQv/GDAnguNMC/B1wUMyamwbw=\",\"dtype\":\"float64\",\"order\":\"little\",\"shape\":[100]}},\"selected\":{\"id\":\"9565\"},\"selection_policy\":{\"id\":\"9564\"}},\"id\":\"9550\",\"type\":\"ColumnDataSource\"},{\"attributes\":{\"fill_alpha\":{\"value\":0.1},\"fill_color\":{\"value\":\"navy\"},\"line_alpha\":{\"value\":0.1},\"line_color\":{\"value\":\"navy\"},\"size\":{\"units\":\"screen\",\"value\":20},\"x\":{\"field\":\"x\"},\"y\":{\"field\":\"y\"}},\"id\":\"10185\",\"type\":\"Circle\"},{\"attributes\":{},\"id\":\"9564\",\"type\":\"UnionRenderers\"},{\"attributes\":{},\"id\":\"9626\",\"type\":\"UnionRenderers\"},{\"attributes\":{\"source\":{\"id\":\"9585\"}},\"id\":\"9589\",\"type\":\"CDSView\"},{\"attributes\":{\"data_source\":{\"id\":\"9550\"},\"glyph\":{\"id\":\"9551\"},\"hover_glyph\":null,\"muted_glyph\":null,\"nonselection_glyph\":{\"id\":\"9552\"},\"selection_glyph\":null,\"view\":{\"id\":\"9554\"}},\"id\":\"9553\",\"type\":\"GlyphRenderer\"},{\"attributes\":{\"data_source\":{\"id\":\"9585\"},\"glyph\":{\"id\":\"9586\"},\"hover_glyph\":null,\"muted_glyph\":null,\"nonselection_glyph\":{\"id\":\"9587\"},\"selection_glyph\":null,\"view\":{\"id\":\"9589\"}},\"id\":\"9588\",\"type\":\"GlyphRenderer\"},{\"attributes\":{\"data\":{\"x\":{\"__ndarray__\":\"AAAAAAAAAACRGkt8Vz/AP5EaS3xXP9A/2qdwOgNf2D+RGkt8Vz/gPzXhXVstT+Q/2qdwOgNf6D9+boMZ2W7sP5EaS3xXP/A/433Ua0JH8j814V1bLU/0P4dE50oYV/Y/2qdwOgNf+D8sC/op7mb6P35ugxnZbvw/0NEMCcR2/j+RGkt8Vz8AQDrMD/RMQwFA433Ua0JHAkCML5njN0sDQDXhXVstTwRA3pIi0yJTBUCHROdKGFcGQDD2q8INWwdA2qdwOgNfCECDWTWy+GIJQCwL+inuZgpA1by+oeNqC0B+boMZ2W4MQCcgSJHOcg1A0NEMCcR2DkB5g9GAuXoPQJEaS3xXPxBAZnMtOFLBEEA6zA/0TEMRQA8l8q9HxRFA433Ua0JHEkC41rYnPckSQIwvmeM3SxNAYYh7nzLNE0A14V1bLU8UQAo6QBco0RRA3pIi0yJTFUCz6wSPHdUVQIdE50oYVxZAXJ3JBhPZFkAw9qvCDVsXQAVPjn4I3RdA2qdwOgNfGECuAFP2/eAYQINZNbL4YhlAV7IXbvPkGUAsC/op7mYaQABk3OXo6BpA1by+oeNqG0CpFaFd3uwbQH5ugxnZbhxAUsdl1dPwHEAnIEiRznIdQPt4Kk3J9B1A0NEMCcR2HkCkKu/EvvgeQHmD0YC5eh9ATdyzPLT8H0CRGkt8Vz8gQPtGPNpUgCBAZnMtOFLBIEDQnx6WTwIhQDrMD/RMQyFApPgAUkqEIUAPJfKvR8UhQHlR4w1FBiJA433Ua0JHIkBNqsXJP4giQLjWtic9ySJAIgOohToKI0CML5njN0sjQPZbikE1jCNAYYh7nzLNI0DLtGz9Lw4kQDXhXVstTyRAoA1PuSqQJEAKOkAXKNEkQHRmMXUlEiVA3pIi0yJTJUBJvxMxIJQlQLPrBI8d1SVAHRj27BoWJkCHROdKGFcmQPJw2KgVmCZAXJ3JBhPZJkDGybpkEBonQDD2q8INWydAmyKdIAucJ0AFT45+CN0nQG97f9wFHihA2qdwOgNfKEBE1GGYAKAoQK4AU/b94ChAGC1EVPshKUA=\",\"dtype\":\"float64\",\"order\":\"little\",\"shape\":[100]},\"y\":{\"__ndarray__\":\"AAAAAAAAAADwgwJ4LjTAP5qI2QHPEtA/+5MNU1HJ1z8ZTT7q2B3fP0aFmgwa+eI/ABg/lCAV5j+IQCEcMdboP3fOhmLzMOs/EyzujrQb7T/9Izwlj47uPxccgYyLg+8/g6xao7j27z9mZrL8O+bvP7+X94FZUu8/xVNiW3I97j9RB8Ai+6vsP5FWKYlppOo/oSg6uxkv6D/Sh2bxK1blPyZGRbpaJeI/8qg+VZVT3T/4C4p0qOPVP+UppLIiM8w/3FNHxZdVuD/J23zJpD6gv+3ENsZjOcS/wo12/ecH0r/dgWKM2KjZv2MTsJELcOC/83ixWvXH47+358MBZM7mv5eCD4nhdum/rExY6Hq267+TIxAn7YPtvwSssILL1+6/70I4BJ6s77/vOc8G+P7vvzTGy1KGze+/3176khQZ77/C8a4NiuTtvzGcHq/dNOy/l0FFlgER6r+EGZN4xoHnvx8WPFK3keS/Cli7+O1M4b+HQNqEwoHbv9kfIiFb+NO/gKyggGI5yL8EhrXMjDywvyGGtcyMPLA/jqyggGI5yD/gHyIhW/jTP4BA2oTCgds/DVi7+O1M4T8cFjxSt5HkP4cZk3jGgec/lUFFlgER6j8ynB6v3TTsP8Hxrg2K5O0/4F76khQZ7z80xstShs3vP+85zwb4/u8/8EI4BJ6s7z8DrLCCy9fuP5UjECftg+0/p0xY6Hq26z+Vgg+J4XbpP7fnwwFkzuY/9nixWvXH4z9dE7CRC3DgP9eBYozYqNk/w412/ecH0j/+xDbGYznEP0/bfMmkPqA/+FNHxZdVuL/UKaSyIjPMv+gLinSo49W/+Kg+VZVT3b8lRkW6WiXiv8+HZvErVuW/pig6uxkv6L+TVimJaaTqv1EHwCL7q+y/xFNiW3I97r/Al/eBWVLvv2Zmsvw75u+/g6xao7j2778YHIGMi4Pvv/sjPCWPju6/EyzujrQb7b94zoZi8zDrv4xAIRwx1ui//Bc/lCAV5r9GhZoMGvnivx5NPurYHd+/65MNU1HJ17+SiNkBzxLQv/GDAnguNMC/B1wUMyamwbw=\",\"dtype\":\"float64\",\"order\":\"little\",\"shape\":[100]}},\"selected\":{\"id\":\"9547\"},\"selection_policy\":{\"id\":\"9546\"}},\"id\":\"9534\",\"type\":\"ColumnDataSource\"},{\"attributes\":{\"line_color\":\"#1f77b4\",\"x\":{\"field\":\"x\"},\"y\":{\"field\":\"y\"}},\"id\":\"9551\",\"type\":\"Line\"}],\"root_ids\":[\"9503\"]},\"title\":\"Bokeh Application\",\"version\":\"2.2.3\"}};\n",
       "  var render_items = [{\"docid\":\"bc8bbecc-62a8-4652-b876-f53d0633f436\",\"root_ids\":[\"9503\"],\"roots\":{\"9503\":\"77f2cf3a-b9e2-4dd0-9ef0-fe1071fb41f7\"}}];\n",
       "  root.Bokeh.embed.embed_items_notebook(docs_json, render_items);\n",
       "\n",
       "  }\n",
       "  if (root.Bokeh !== undefined) {\n",
       "    embed_document(root);\n",
       "  } else {\n",
       "    var attempts = 0;\n",
       "    var timer = setInterval(function(root) {\n",
       "      if (root.Bokeh !== undefined) {\n",
       "        clearInterval(timer);\n",
       "        embed_document(root);\n",
       "      } else {\n",
       "        attempts++;\n",
       "        if (attempts > 100) {\n",
       "          clearInterval(timer);\n",
       "          console.log(\"Bokeh: ERROR: Unable to run BokehJS code because BokehJS library is missing\");\n",
       "        }\n",
       "      }\n",
       "    }, 10, root)\n",
       "  }\n",
       "})(window);"
      ],
      "application/vnd.bokehjs_exec.v0+json": ""
     },
     "metadata": {
      "application/vnd.bokehjs_exec.v0+json": {
       "id": "9503"
      }
     },
     "output_type": "display_data"
    }
   ],
   "source": [
    "# 添加曲线\n",
    "p.circle([1, 2, 3, 4, 5], [6, 7, 2, 4, 5], size=20, color=\"navy\", alpha=0.5)\n",
    "# 创建一个圆形散点图\n",
    "\n",
    "# 显示结果\n",
    "show(p)\n",
    "# 绘图"
   ]
  },
  {
   "cell_type": "code",
   "execution_count": 6,
   "metadata": {
    "collapsed": false,
    "jupyter": {
     "outputs_hidden": false
    }
   },
   "outputs": [
    {
     "data": {
      "text/html": [
       "\n",
       "\n",
       "\n",
       "\n",
       "\n",
       "\n",
       "  <div class=\"bk-root\" id=\"e1b61613-aae3-4bbb-885b-017dd8cd9d6e\" data-root-id=\"1092\"></div>\n"
      ]
     },
     "metadata": {},
     "output_type": "display_data"
    },
    {
     "data": {
      "application/javascript": [
       "(function(root) {\n",
       "  function embed_document(root) {\n",
       "    \n",
       "  var docs_json = {\"512e1b5a-150d-4a9f-b362-162f7688c85d\":{\"roots\":{\"references\":[{\"attributes\":{\"below\":[{\"id\":\"1101\"}],\"center\":[{\"id\":\"1104\"},{\"id\":\"1108\"}],\"left\":[{\"id\":\"1105\"}],\"plot_height\":400,\"plot_width\":400,\"renderers\":[{\"id\":\"1126\"}],\"title\":{\"id\":\"1137\"},\"toolbar\":{\"id\":\"1116\"},\"x_range\":{\"id\":\"1093\"},\"x_scale\":{\"id\":\"1097\"},\"y_range\":{\"id\":\"1095\"},\"y_scale\":{\"id\":\"1099\"}},\"id\":\"1092\",\"subtype\":\"Figure\",\"type\":\"Plot\"},{\"attributes\":{},\"id\":\"1097\",\"type\":\"LinearScale\"},{\"attributes\":{},\"id\":\"1093\",\"type\":\"DataRange1d\"},{\"attributes\":{},\"id\":\"1139\",\"type\":\"BasicTickFormatter\"},{\"attributes\":{\"bottom_units\":\"screen\",\"fill_alpha\":0.5,\"fill_color\":\"lightgrey\",\"left_units\":\"screen\",\"level\":\"overlay\",\"line_alpha\":1.0,\"line_color\":\"black\",\"line_dash\":[4,4],\"line_width\":2,\"right_units\":\"screen\",\"top_units\":\"screen\"},\"id\":\"1115\",\"type\":\"BoxAnnotation\"},{\"attributes\":{},\"id\":\"1099\",\"type\":\"LinearScale\"},{\"attributes\":{},\"id\":\"1114\",\"type\":\"HelpTool\"},{\"attributes\":{\"active_drag\":\"auto\",\"active_inspect\":\"auto\",\"active_multi\":null,\"active_scroll\":\"auto\",\"active_tap\":\"auto\",\"tools\":[{\"id\":\"1109\"},{\"id\":\"1110\"},{\"id\":\"1111\"},{\"id\":\"1112\"},{\"id\":\"1113\"},{\"id\":\"1114\"}]},\"id\":\"1116\",\"type\":\"Toolbar\"},{\"attributes\":{\"formatter\":{\"id\":\"1139\"},\"ticker\":{\"id\":\"1102\"}},\"id\":\"1101\",\"type\":\"LinearAxis\"},{\"attributes\":{},\"id\":\"1113\",\"type\":\"ResetTool\"},{\"attributes\":{},\"id\":\"1095\",\"type\":\"DataRange1d\"},{\"attributes\":{},\"id\":\"1102\",\"type\":\"BasicTicker\"},{\"attributes\":{\"formatter\":{\"id\":\"1141\"},\"ticker\":{\"id\":\"1106\"}},\"id\":\"1105\",\"type\":\"LinearAxis\"},{\"attributes\":{\"axis\":{\"id\":\"1101\"},\"ticker\":null},\"id\":\"1104\",\"type\":\"Grid\"},{\"attributes\":{},\"id\":\"1145\",\"type\":\"Selection\"},{\"attributes\":{\"axis\":{\"id\":\"1105\"},\"dimension\":1,\"ticker\":null},\"id\":\"1108\",\"type\":\"Grid\"},{\"attributes\":{},\"id\":\"1144\",\"type\":\"UnionRenderers\"},{\"attributes\":{},\"id\":\"1106\",\"type\":\"BasicTicker\"},{\"attributes\":{\"fill_alpha\":{\"value\":0.5},\"fill_color\":{\"value\":\"blue\"},\"line_alpha\":{\"value\":0.5},\"line_color\":{\"value\":\"blue\"},\"size\":{\"units\":\"screen\",\"value\":20},\"x\":{\"field\":\"x\"},\"y\":{\"field\":\"y\"}},\"id\":\"1124\",\"type\":\"Circle\"},{\"attributes\":{},\"id\":\"1110\",\"type\":\"WheelZoomTool\"},{\"attributes\":{},\"id\":\"1109\",\"type\":\"PanTool\"},{\"attributes\":{\"data_source\":{\"id\":\"1123\"},\"glyph\":{\"id\":\"1124\"},\"hover_glyph\":null,\"muted_glyph\":null,\"nonselection_glyph\":{\"id\":\"1125\"},\"selection_glyph\":null,\"view\":{\"id\":\"1127\"}},\"id\":\"1126\",\"type\":\"GlyphRenderer\"},{\"attributes\":{\"overlay\":{\"id\":\"1115\"}},\"id\":\"1111\",\"type\":\"BoxZoomTool\"},{\"attributes\":{},\"id\":\"1112\",\"type\":\"SaveTool\"},{\"attributes\":{\"data\":{\"x\":[1,2,3,4,5],\"y\":[6,7,2,4,5]},\"selected\":{\"id\":\"1145\"},\"selection_policy\":{\"id\":\"1144\"}},\"id\":\"1123\",\"type\":\"ColumnDataSource\"},{\"attributes\":{\"fill_alpha\":{\"value\":0.1},\"fill_color\":{\"value\":\"blue\"},\"line_alpha\":{\"value\":0.1},\"line_color\":{\"value\":\"blue\"},\"size\":{\"units\":\"screen\",\"value\":20},\"x\":{\"field\":\"x\"},\"y\":{\"field\":\"y\"}},\"id\":\"1125\",\"type\":\"Circle\"},{\"attributes\":{\"source\":{\"id\":\"1123\"}},\"id\":\"1127\",\"type\":\"CDSView\"},{\"attributes\":{},\"id\":\"1141\",\"type\":\"BasicTickFormatter\"},{\"attributes\":{\"text\":\"\"},\"id\":\"1137\",\"type\":\"Title\"}],\"root_ids\":[\"1092\"]},\"title\":\"Bokeh Application\",\"version\":\"2.2.3\"}};\n",
       "  var render_items = [{\"docid\":\"512e1b5a-150d-4a9f-b362-162f7688c85d\",\"root_ids\":[\"1092\"],\"roots\":{\"1092\":\"e1b61613-aae3-4bbb-885b-017dd8cd9d6e\"}}];\n",
       "  root.Bokeh.embed.embed_items_notebook(docs_json, render_items);\n",
       "\n",
       "  }\n",
       "  if (root.Bokeh !== undefined) {\n",
       "    embed_document(root);\n",
       "  } else {\n",
       "    var attempts = 0;\n",
       "    var timer = setInterval(function(root) {\n",
       "      if (root.Bokeh !== undefined) {\n",
       "        clearInterval(timer);\n",
       "        embed_document(root);\n",
       "      } else {\n",
       "        attempts++;\n",
       "        if (attempts > 100) {\n",
       "          clearInterval(timer);\n",
       "          console.log(\"Bokeh: ERROR: Unable to run BokehJS code because BokehJS library is missing\");\n",
       "        }\n",
       "      }\n",
       "    }, 10, root)\n",
       "  }\n",
       "})(window);"
      ],
      "application/vnd.bokehjs_exec.v0+json": ""
     },
     "metadata": {
      "application/vnd.bokehjs_exec.v0+json": {
       "id": "1092"
      }
     },
     "output_type": "display_data"
    }
   ],
   "source": [
    "# 在spyder等非notebook中创建绘图空间\n",
    "\n",
    "from bokeh.plotting import figure,show,output_file\n",
    "# 导入图表绘制、图标展示模块\n",
    "# output_file → 非notebook中创建绘图空间\n",
    "\n",
    "import os\n",
    "os.chdir('E:/个人/Python/Jupyter/学习/01_数据可视化Bokeh')\n",
    "# 创建工作目录\n",
    "\n",
    "output_file(\"line.html\")\n",
    "# notebook绘图命令，创建html文件\n",
    "# 运行后会弹出html窗口\n",
    "\n",
    "p = figure(plot_width=400, plot_height=400)   # 创建图表，设置宽度、高度\n",
    "p.circle([1, 2, 3, 4, 5], [6, 7, 2, 4, 5], size=20, color=\"blue\", alpha=0.5)\n",
    "# 创建一个圆形散点图\n",
    "\n",
    "show(p)\n",
    "# 绘图"
   ]
  },
  {
   "cell_type": "code",
   "execution_count": 7,
   "metadata": {
    "collapsed": false,
    "jupyter": {
     "outputs_hidden": false
    }
   },
   "outputs": [
    {
     "data": {
      "text/html": [
       "\n",
       "\n",
       "\n",
       "\n",
       "\n",
       "\n",
       "  <div class=\"bk-root\" id=\"7181e798-0bc8-4a1e-8331-f83e271abffa\" data-root-id=\"1291\"></div>\n"
      ]
     },
     "metadata": {},
     "output_type": "display_data"
    },
    {
     "data": {
      "application/javascript": [
       "(function(root) {\n",
       "  function embed_document(root) {\n",
       "    \n",
       "  var docs_json = {\"ab0664cb-1a21-4e1b-819f-d65c5de9fdab\":{\"roots\":{\"references\":[{\"attributes\":{\"below\":[{\"id\":\"1302\"}],\"center\":[{\"id\":\"1305\"},{\"id\":\"1309\"}],\"left\":[{\"id\":\"1306\"}],\"plot_height\":400,\"renderers\":[{\"id\":\"1327\"}],\"title\":{\"id\":\"1292\"},\"toolbar\":{\"id\":\"1317\"},\"toolbar_location\":\"above\",\"x_range\":{\"id\":\"1294\"},\"x_scale\":{\"id\":\"1298\"},\"y_range\":{\"id\":\"1296\"},\"y_scale\":{\"id\":\"1300\"}},\"id\":\"1291\",\"subtype\":\"Figure\",\"type\":\"Plot\"},{\"attributes\":{},\"id\":\"1313\",\"type\":\"SaveTool\"},{\"attributes\":{\"axis_label\":\"A\",\"formatter\":{\"id\":\"1348\"},\"ticker\":{\"id\":\"1303\"}},\"id\":\"1302\",\"type\":\"LinearAxis\"},{\"attributes\":{},\"id\":\"1298\",\"type\":\"LinearScale\"},{\"attributes\":{},\"id\":\"1314\",\"type\":\"ResetTool\"},{\"attributes\":{},\"id\":\"1348\",\"type\":\"BasicTickFormatter\"},{\"attributes\":{\"bottom_units\":\"screen\",\"fill_alpha\":0.5,\"fill_color\":\"lightgrey\",\"left_units\":\"screen\",\"level\":\"overlay\",\"line_alpha\":1.0,\"line_color\":\"black\",\"line_dash\":[4,4],\"line_width\":2,\"right_units\":\"screen\",\"top_units\":\"screen\"},\"id\":\"1316\",\"type\":\"BoxAnnotation\"},{\"attributes\":{},\"id\":\"1303\",\"type\":\"BasicTicker\"},{\"attributes\":{\"end\":3,\"start\":-3},\"id\":\"1296\",\"type\":\"Range1d\"},{\"attributes\":{},\"id\":\"1310\",\"type\":\"PanTool\"},{\"attributes\":{\"active_drag\":\"auto\",\"active_inspect\":\"auto\",\"active_multi\":null,\"active_scroll\":\"auto\",\"active_tap\":\"auto\",\"tools\":[{\"id\":\"1310\"},{\"id\":\"1311\"},{\"id\":\"1312\"},{\"id\":\"1313\"},{\"id\":\"1314\"},{\"id\":\"1315\"}]},\"id\":\"1317\",\"type\":\"Toolbar\"},{\"attributes\":{\"axis\":{\"id\":\"1302\"},\"ticker\":null},\"id\":\"1305\",\"type\":\"Grid\"},{\"attributes\":{},\"id\":\"1311\",\"type\":\"WheelZoomTool\"},{\"attributes\":{\"data_source\":{\"id\":\"1324\"},\"glyph\":{\"id\":\"1325\"},\"hover_glyph\":null,\"muted_glyph\":null,\"nonselection_glyph\":{\"id\":\"1326\"},\"selection_glyph\":null,\"view\":{\"id\":\"1328\"}},\"id\":\"1327\",\"type\":\"GlyphRenderer\"},{\"attributes\":{},\"id\":\"1350\",\"type\":\"BasicTickFormatter\"},{\"attributes\":{\"data\":{\"x\":{\"__ndarray__\":\"YTRMg73oxD/Zb+Jo19DlPwK/2/1oMgRARLiwo2/u8T/KHP5OjdvvP2H5U4kYNNK/0r7ciJGquD+LiU+w/HvTPz0XUYeXeO4/4Aee/IKz3j+3lX3ARInrv9Vd4l70fP8/pdFrIrGp5r9cTgE8l0fPvwxh4kQ3PwlAyOsyWuTayz+XIddyMU3/v68SCDymau4/wDrhNDNlsT+oZf9tNtr3v6wzcpYpfQLAcCeHMeUW/j9fdKzAtIbcvxfIDBNkX/e/B9LjMq09AUBIAWlkBOP6v3fegqANmuC/H+dAujgy+D/98giFnMwFQG3o5+WOB9Q/AQQa2UOx5z9A2o2GyNvov2qAwYoWLNe/5r58IJfh+T8mEM72Gi1tv8bpWKaFHMW/DoLHcHt1tT8NjiCxIPPpv5pPq7PZGeQ/VCVVw1l0tj+syVSKFbTdv91AnxTIJ8o/yKt7GCS507+Bkg0imf7sv0Aagr1fb/W/2IVLEq5H/D/Yx8NfG2XvPwUBGcoUkMq/4FKCUBPA9z9LASEglETuv1mHcVopS+E/8IazvtMWxj+Pn4MaIOTQv3SQdvyiAto/JW4DfWwpsT91aYXc2vXfPzqbG8jhkvC/q4teUg7G8b8OKM+ag7jlP4S0w1XPM/o/Z+QRL/zzwD8njGMJBbvIP8FsQmAbXsQ/hrZzIPcD0D89Zmi8rw3Iv1ddCC5svuq/JrbisaIj7T+kqii3UATyPyfJggaBzPI/HmJDfJgTvz9FTUS+dn3sP2ulzthBuOs/+SDlJrhu9D8GCvQEN2HDv+3EuhN9r+k/So9qtOe+xr/SyOD2Eg2xP0f+42MPYdo/dLdbTRWJ+z8X6gZ0WYr3v03TklrmCOM/c1BNoV0Z2z+53nJIx4zmv+LmTjVNkLq/sPT+PF3y8D+vp/gA2i/av8+z78COVqo/rQza2pMMzz+u+pgTTYPxvwlUOSdMM/I/YYBiBrGS1D8sia7qSVPrP3/CNVdjPtA/lmhlSz2mt7/WaEZlguDxv4LlnUt2Kti/02vvAp6N5b8D7Xi+q07xv4YrBeHuhuc/5l2dKBll4T8=\",\"dtype\":\"float64\",\"order\":\"little\",\"shape\":[100]},\"y\":{\"__ndarray__\":\"RiiuoHf7BMCpipk68NrTv2TH0YDZd+C/Ln7QFt8OxT/OHJvkwODSv/zcK72ipvG/eV79vsN91L+KbdmsZTjPv1eaCKNGc/u/kGJnE8zB0D8Vaxz76h3gv0y1MM97JvK/ysdDqql9y783pm17jAO1P0v+LjCPZem/LQM1v/9u9D9QcAW3h9Pyv4+EWeDJVNy/8P5pwFfGxL+vE83Huovmv1EXB2d42uC/I4u8po5YBMCgCmqH1hrQv5TKoa8rr9o/1I8lM8rX5L/JsN6YFtviP7Wxpj4TRQFA5k84APqt7b97xKra+nbsPxEWS+TyLeY/DLzgZW5x07+3hp2OlkzRv26XBPDpW/s/nCg2gjvg8D/QBwL4hrbqv9E9q+3Ssuu/QhmjxofVnz/RDDSCiI7ov96O8KiKpuq/XiTwsfvF+D8h8zWHW4a0P5dXvC9vPMk/+ECMl/2Py79OuYZiAXbhPwWiARfBRfC/eoYto4+60r+31q4szBb1v1NJI51OE94/9DD0OUYhpj80t/PJl370Py4DqKExaMs/4k339h5DAMApwquxFkHqv6stPxLcb84/ERv7mJsS/T91pvhQRRHvPybB2PJ7yu0/7DWIDkqv/L9Wt8I0jWXyP/s4BrBn1uA/z2kfSc2a8T+3fqvs5GvxPyUnz7NpNP2/iv0m/Sy74z/GIkHUfd8DQHo9SKpv0OC/UXijBDyOqL8ITrMyhAerPyt18jA35d8/pGxVWtQ45r+L+C964bzvv1U8EcJcY+a/wIvQxqBs8z/VdpuUzC3MP/obBXeES9U/PqplVyIs87/7rsU0AYruP5bF1kwjXtI/EISF/AZO9z/RF66P7fTWP6hUQTwvdNG/x5Z/+0GB9T9uh5cQ40PgP5nYtyfryOE/emCT4U2g6T9Ab0Dk0PraP7Oquks61fE/dT7MwLOx0z96CRXeKJnwP+t5/90Jg8k/Yo0fR6Dh3z9nZfZ+8JPmv1WRcPXfg6u/i1rqErr9479xlSfvaqruP8rRkX0ytu+/ItF85qrl4L+Ct8uabfLuv9E3Xr95q+C/xdzWxf/q9j8=\",\"dtype\":\"float64\",\"order\":\"little\",\"shape\":[100]}},\"selected\":{\"id\":\"1354\"},\"selection_policy\":{\"id\":\"1353\"}},\"id\":\"1324\",\"type\":\"ColumnDataSource\"},{\"attributes\":{\"fill_alpha\":{\"value\":0.1},\"fill_color\":{\"value\":\"#1f77b4\"},\"line_alpha\":{\"value\":0.1},\"line_color\":{\"value\":\"#1f77b4\"},\"size\":{\"units\":\"screen\",\"value\":20},\"x\":{\"field\":\"x\"},\"y\":{\"field\":\"y\"}},\"id\":\"1326\",\"type\":\"Circle\"},{\"attributes\":{},\"id\":\"1300\",\"type\":\"LinearScale\"},{\"attributes\":{\"fill_alpha\":{\"value\":0.5},\"fill_color\":{\"value\":\"#1f77b4\"},\"line_alpha\":{\"value\":0.5},\"line_color\":{\"value\":\"#1f77b4\"},\"size\":{\"units\":\"screen\",\"value\":20},\"x\":{\"field\":\"x\"},\"y\":{\"field\":\"y\"}},\"id\":\"1325\",\"type\":\"Circle\"},{\"attributes\":{\"overlay\":{\"id\":\"1316\"}},\"id\":\"1312\",\"type\":\"BoxZoomTool\"},{\"attributes\":{\"end\":3,\"start\":-3},\"id\":\"1294\",\"type\":\"Range1d\"},{\"attributes\":{},\"id\":\"1353\",\"type\":\"UnionRenderers\"},{\"attributes\":{},\"id\":\"1315\",\"type\":\"HelpTool\"},{\"attributes\":{\"background_fill_color\":\"black\",\"text\":\"\\u6d4b\\u8bd5\\u56fe\\u8868\",\"text_color\":{\"value\":\"white\"},\"text_font\":\"times\",\"text_font_style\":\"italic\"},\"id\":\"1292\",\"type\":\"Title\"},{\"attributes\":{},\"id\":\"1307\",\"type\":\"BasicTicker\"},{\"attributes\":{},\"id\":\"1354\",\"type\":\"Selection\"},{\"attributes\":{\"axis\":{\"id\":\"1306\"},\"dimension\":1,\"ticker\":null},\"id\":\"1309\",\"type\":\"Grid\"},{\"attributes\":{\"source\":{\"id\":\"1324\"}},\"id\":\"1328\",\"type\":\"CDSView\"},{\"attributes\":{\"axis_label\":\"B\",\"formatter\":{\"id\":\"1350\"},\"ticker\":{\"id\":\"1307\"}},\"id\":\"1306\",\"type\":\"LinearAxis\"}],\"root_ids\":[\"1291\"]},\"title\":\"Bokeh Application\",\"version\":\"2.2.3\"}};\n",
       "  var render_items = [{\"docid\":\"ab0664cb-1a21-4e1b-819f-d65c5de9fdab\",\"root_ids\":[\"1291\"],\"roots\":{\"1291\":\"7181e798-0bc8-4a1e-8331-f83e271abffa\"}}];\n",
       "  root.Bokeh.embed.embed_items_notebook(docs_json, render_items);\n",
       "\n",
       "  }\n",
       "  if (root.Bokeh !== undefined) {\n",
       "    embed_document(root);\n",
       "  } else {\n",
       "    var attempts = 0;\n",
       "    var timer = setInterval(function(root) {\n",
       "      if (root.Bokeh !== undefined) {\n",
       "        clearInterval(timer);\n",
       "        embed_document(root);\n",
       "      } else {\n",
       "        attempts++;\n",
       "        if (attempts > 100) {\n",
       "          clearInterval(timer);\n",
       "          console.log(\"Bokeh: ERROR: Unable to run BokehJS code because BokehJS library is missing\");\n",
       "        }\n",
       "      }\n",
       "    }, 10, root)\n",
       "  }\n",
       "})(window);"
      ],
      "application/vnd.bokehjs_exec.v0+json": ""
     },
     "metadata": {
      "application/vnd.bokehjs_exec.v0+json": {
       "id": "1291"
      }
     },
     "output_type": "display_data"
    }
   ],
   "source": [
    "# 创建图表工具 \n",
    "# figure()\n",
    "\n",
    "df = pd.DataFrame(np.random.randn(100,2),columns = ['A','B'])\n",
    "# 创建数据\n",
    "\n",
    "p = figure(plot_width=600, plot_height=400,    # 图表宽度、高度\n",
    "           tools = 'pan,wheel_zoom,box_zoom,save,reset,help',  # 设置工具栏，默认全部显示,以字符串形式展示\n",
    "           toolbar_location='above',     # 工具栏位置：\"above\"，\"below\"，\"left\"，\"right\"\n",
    "           x_axis_label = 'A', y_axis_label = 'B',    # X,Y轴label\n",
    "           x_range = [-3,3], y_range = [-3,3],        # X,Y轴范围\n",
    "           title=\"测试图表\"                       # 设置图表title\n",
    "          )\n",
    "# figure创建图表，设置基本参数\n",
    "# tool参考文档：https://bokeh.pydata.org/en/latest/docs/user_guide/tools.html\n",
    "\n",
    "p.title.text_color = \"white\"\n",
    "p.title.text_font = \"times\"\n",
    "p.title.text_font_style = \"italic\"\n",
    "p.title.background_fill_color = \"black\"\n",
    "# 设置标题：颜色、字体、风格、背景颜色\n",
    "\n",
    "p.circle(df['A'], df['B'], size=20,  alpha=0.5)\n",
    "show(p)\n",
    "# 创建散点图\n",
    "# 这里.circle()是figure的一个绘图方法"
   ]
  },
  {
   "cell_type": "code",
   "execution_count": 8,
   "metadata": {
    "collapsed": false,
    "jupyter": {
     "outputs_hidden": false
    }
   },
   "outputs": [
    {
     "data": {
      "text/html": [
       "\n",
       "\n",
       "\n",
       "\n",
       "\n",
       "\n",
       "  <div class=\"bk-root\" id=\"d5aece26-85fc-449d-9939-d3f1a086db20\" data-root-id=\"1484\"></div>\n"
      ]
     },
     "metadata": {},
     "output_type": "display_data"
    },
    {
     "data": {
      "application/javascript": [
       "(function(root) {\n",
       "  function embed_document(root) {\n",
       "    \n",
       "  var docs_json = {\"4b90d949-eb93-4477-89d7-2d9c183bf04e\":{\"roots\":{\"references\":[{\"attributes\":{\"below\":[{\"id\":\"1493\"}],\"center\":[{\"id\":\"1496\"},{\"id\":\"1500\"}],\"left\":[{\"id\":\"1497\"}],\"plot_height\":400,\"renderers\":[{\"id\":\"1518\"},{\"id\":\"1523\"}],\"title\":{\"id\":\"1551\"},\"toolbar\":{\"id\":\"1508\"},\"x_range\":{\"id\":\"1485\"},\"x_scale\":{\"id\":\"1489\"},\"y_range\":{\"id\":\"1487\"},\"y_scale\":{\"id\":\"1491\"}},\"id\":\"1484\",\"subtype\":\"Figure\",\"type\":\"Plot\"},{\"attributes\":{},\"id\":\"1498\",\"type\":\"BasicTicker\"},{\"attributes\":{\"text\":\"\"},\"id\":\"1551\",\"type\":\"Title\"},{\"attributes\":{},\"id\":\"1502\",\"type\":\"WheelZoomTool\"},{\"attributes\":{\"fill_alpha\":{\"value\":0.5},\"fill_color\":{\"value\":\"#FF0000\"},\"line_alpha\":{\"value\":0.5},\"line_color\":{\"value\":\"#FF0000\"},\"size\":{\"units\":\"screen\",\"value\":10},\"x\":{\"field\":\"x\"},\"y\":{\"field\":\"y\"}},\"id\":\"1521\",\"type\":\"Circle\"},{\"attributes\":{},\"id\":\"1485\",\"type\":\"DataRange1d\"},{\"attributes\":{\"overlay\":{\"id\":\"1507\"}},\"id\":\"1503\",\"type\":\"BoxZoomTool\"},{\"attributes\":{},\"id\":\"1553\",\"type\":\"BasicTickFormatter\"},{\"attributes\":{\"active_drag\":\"auto\",\"active_inspect\":\"auto\",\"active_multi\":null,\"active_scroll\":\"auto\",\"active_tap\":\"auto\",\"tools\":[{\"id\":\"1501\"},{\"id\":\"1502\"},{\"id\":\"1503\"},{\"id\":\"1504\"},{\"id\":\"1505\"},{\"id\":\"1506\"}]},\"id\":\"1508\",\"type\":\"Toolbar\"},{\"attributes\":{\"data\":{\"x\":[0,1,2,3,4,5,6,7,8,9,10,11,12,13,14,15,16,17,18,19,20,21,22,23,24,25,26,27,28,29,30,31,32,33,34,35,36,37,38,39,40,41,42,43,44,45,46,47,48,49,50,51,52,53,54,55,56,57,58,59,60,61,62,63,64,65,66,67,68,69,70,71,72,73,74,75,76,77,78,79,80,81,82,83,84,85,86,87,88,89,90,91,92,93,94,95,96,97,98,99],\"y\":{\"__ndarray__\":\"YTRMg73oxD/Zb+Jo19DlPwK/2/1oMgRARLiwo2/u8T/KHP5OjdvvP2H5U4kYNNK/0r7ciJGquD+LiU+w/HvTPz0XUYeXeO4/4Aee/IKz3j+3lX3ARInrv9Vd4l70fP8/pdFrIrGp5r9cTgE8l0fPvwxh4kQ3PwlAyOsyWuTayz+XIddyMU3/v68SCDymau4/wDrhNDNlsT+oZf9tNtr3v6wzcpYpfQLAcCeHMeUW/j9fdKzAtIbcvxfIDBNkX/e/B9LjMq09AUBIAWlkBOP6v3fegqANmuC/H+dAujgy+D/98giFnMwFQG3o5+WOB9Q/AQQa2UOx5z9A2o2GyNvov2qAwYoWLNe/5r58IJfh+T8mEM72Gi1tv8bpWKaFHMW/DoLHcHt1tT8NjiCxIPPpv5pPq7PZGeQ/VCVVw1l0tj+syVSKFbTdv91AnxTIJ8o/yKt7GCS507+Bkg0imf7sv0Aagr1fb/W/2IVLEq5H/D/Yx8NfG2XvPwUBGcoUkMq/4FKCUBPA9z9LASEglETuv1mHcVopS+E/8IazvtMWxj+Pn4MaIOTQv3SQdvyiAto/JW4DfWwpsT91aYXc2vXfPzqbG8jhkvC/q4teUg7G8b8OKM+ag7jlP4S0w1XPM/o/Z+QRL/zzwD8njGMJBbvIP8FsQmAbXsQ/hrZzIPcD0D89Zmi8rw3Iv1ddCC5svuq/JrbisaIj7T+kqii3UATyPyfJggaBzPI/HmJDfJgTvz9FTUS+dn3sP2ulzthBuOs/+SDlJrhu9D8GCvQEN2HDv+3EuhN9r+k/So9qtOe+xr/SyOD2Eg2xP0f+42MPYdo/dLdbTRWJ+z8X6gZ0WYr3v03TklrmCOM/c1BNoV0Z2z+53nJIx4zmv+LmTjVNkLq/sPT+PF3y8D+vp/gA2i/av8+z78COVqo/rQza2pMMzz+u+pgTTYPxvwlUOSdMM/I/YYBiBrGS1D8sia7qSVPrP3/CNVdjPtA/lmhlSz2mt7/WaEZlguDxv4LlnUt2Kti/02vvAp6N5b8D7Xi+q07xv4YrBeHuhuc/5l2dKBll4T8=\",\"dtype\":\"float64\",\"order\":\"little\",\"shape\":[100]}},\"selected\":{\"id\":\"1559\"},\"selection_policy\":{\"id\":\"1558\"}},\"id\":\"1515\",\"type\":\"ColumnDataSource\"},{\"attributes\":{\"fill_alpha\":{\"value\":0.5},\"fill_color\":{\"value\":\"green\"},\"line_alpha\":{\"value\":0.5},\"line_color\":{\"value\":\"green\"},\"size\":{\"units\":\"screen\",\"value\":10},\"x\":{\"field\":\"x\"},\"y\":{\"field\":\"y\"}},\"id\":\"1516\",\"type\":\"Circle\"},{\"attributes\":{},\"id\":\"1558\",\"type\":\"UnionRenderers\"},{\"attributes\":{\"data\":{\"x\":[0,1,2,3,4,5,6,7,8,9,10,11,12,13,14,15,16,17,18,19,20,21,22,23,24,25,26,27,28,29,30,31,32,33,34,35,36,37,38,39,40,41,42,43,44,45,46,47,48,49,50,51,52,53,54,55,56,57,58,59,60,61,62,63,64,65,66,67,68,69,70,71,72,73,74,75,76,77,78,79,80,81,82,83,84,85,86,87,88,89,90,91,92,93,94,95,96,97,98,99],\"y\":{\"__ndarray__\":\"RiiuoHf7BMCpipk68NrTv2TH0YDZd+C/Ln7QFt8OxT/OHJvkwODSv/zcK72ipvG/eV79vsN91L+KbdmsZTjPv1eaCKNGc/u/kGJnE8zB0D8Vaxz76h3gv0y1MM97JvK/ysdDqql9y783pm17jAO1P0v+LjCPZem/LQM1v/9u9D9QcAW3h9Pyv4+EWeDJVNy/8P5pwFfGxL+vE83Huovmv1EXB2d42uC/I4u8po5YBMCgCmqH1hrQv5TKoa8rr9o/1I8lM8rX5L/JsN6YFtviP7Wxpj4TRQFA5k84APqt7b97xKra+nbsPxEWS+TyLeY/DLzgZW5x07+3hp2OlkzRv26XBPDpW/s/nCg2gjvg8D/QBwL4hrbqv9E9q+3Ssuu/QhmjxofVnz/RDDSCiI7ov96O8KiKpuq/XiTwsfvF+D8h8zWHW4a0P5dXvC9vPMk/+ECMl/2Py79OuYZiAXbhPwWiARfBRfC/eoYto4+60r+31q4szBb1v1NJI51OE94/9DD0OUYhpj80t/PJl370Py4DqKExaMs/4k339h5DAMApwquxFkHqv6stPxLcb84/ERv7mJsS/T91pvhQRRHvPybB2PJ7yu0/7DWIDkqv/L9Wt8I0jWXyP/s4BrBn1uA/z2kfSc2a8T+3fqvs5GvxPyUnz7NpNP2/iv0m/Sy74z/GIkHUfd8DQHo9SKpv0OC/UXijBDyOqL8ITrMyhAerPyt18jA35d8/pGxVWtQ45r+L+C964bzvv1U8EcJcY+a/wIvQxqBs8z/VdpuUzC3MP/obBXeES9U/PqplVyIs87/7rsU0AYruP5bF1kwjXtI/EISF/AZO9z/RF66P7fTWP6hUQTwvdNG/x5Z/+0GB9T9uh5cQ40PgP5nYtyfryOE/emCT4U2g6T9Ab0Dk0PraP7Oquks61fE/dT7MwLOx0z96CRXeKJnwP+t5/90Jg8k/Yo0fR6Dh3z9nZfZ+8JPmv1WRcPXfg6u/i1rqErr9479xlSfvaqruP8rRkX0ytu+/ItF85qrl4L+Ct8uabfLuv9E3Xr95q+C/xdzWxf/q9j8=\",\"dtype\":\"float64\",\"order\":\"little\",\"shape\":[100]}},\"selected\":{\"id\":\"1561\"},\"selection_policy\":{\"id\":\"1560\"}},\"id\":\"1520\",\"type\":\"ColumnDataSource\"},{\"attributes\":{},\"id\":\"1491\",\"type\":\"LinearScale\"},{\"attributes\":{},\"id\":\"1555\",\"type\":\"BasicTickFormatter\"},{\"attributes\":{},\"id\":\"1559\",\"type\":\"Selection\"},{\"attributes\":{},\"id\":\"1489\",\"type\":\"LinearScale\"},{\"attributes\":{\"formatter\":{\"id\":\"1553\"},\"ticker\":{\"id\":\"1494\"}},\"id\":\"1493\",\"type\":\"LinearAxis\"},{\"attributes\":{},\"id\":\"1487\",\"type\":\"DataRange1d\"},{\"attributes\":{},\"id\":\"1504\",\"type\":\"SaveTool\"},{\"attributes\":{},\"id\":\"1494\",\"type\":\"BasicTicker\"},{\"attributes\":{},\"id\":\"1561\",\"type\":\"Selection\"},{\"attributes\":{\"fill_alpha\":{\"value\":0.1},\"fill_color\":{\"value\":\"green\"},\"line_alpha\":{\"value\":0.1},\"line_color\":{\"value\":\"green\"},\"size\":{\"units\":\"screen\",\"value\":10},\"x\":{\"field\":\"x\"},\"y\":{\"field\":\"y\"}},\"id\":\"1517\",\"type\":\"Circle\"},{\"attributes\":{\"bottom_units\":\"screen\",\"fill_alpha\":0.5,\"fill_color\":\"lightgrey\",\"left_units\":\"screen\",\"level\":\"overlay\",\"line_alpha\":1.0,\"line_color\":\"black\",\"line_dash\":[4,4],\"line_width\":2,\"right_units\":\"screen\",\"top_units\":\"screen\"},\"id\":\"1507\",\"type\":\"BoxAnnotation\"},{\"attributes\":{\"data_source\":{\"id\":\"1515\"},\"glyph\":{\"id\":\"1516\"},\"hover_glyph\":null,\"muted_glyph\":null,\"nonselection_glyph\":{\"id\":\"1517\"},\"selection_glyph\":null,\"view\":{\"id\":\"1519\"}},\"id\":\"1518\",\"type\":\"GlyphRenderer\"},{\"attributes\":{},\"id\":\"1501\",\"type\":\"PanTool\"},{\"attributes\":{},\"id\":\"1506\",\"type\":\"HelpTool\"},{\"attributes\":{\"formatter\":{\"id\":\"1555\"},\"ticker\":{\"id\":\"1498\"}},\"id\":\"1497\",\"type\":\"LinearAxis\"},{\"attributes\":{},\"id\":\"1505\",\"type\":\"ResetTool\"},{\"attributes\":{\"source\":{\"id\":\"1515\"}},\"id\":\"1519\",\"type\":\"CDSView\"},{\"attributes\":{\"axis\":{\"id\":\"1493\"},\"ticker\":null},\"id\":\"1496\",\"type\":\"Grid\"},{\"attributes\":{\"data_source\":{\"id\":\"1520\"},\"glyph\":{\"id\":\"1521\"},\"hover_glyph\":null,\"muted_glyph\":null,\"nonselection_glyph\":{\"id\":\"1522\"},\"selection_glyph\":null,\"view\":{\"id\":\"1524\"}},\"id\":\"1523\",\"type\":\"GlyphRenderer\"},{\"attributes\":{\"axis\":{\"id\":\"1497\"},\"dimension\":1,\"ticker\":null},\"id\":\"1500\",\"type\":\"Grid\"},{\"attributes\":{\"fill_alpha\":{\"value\":0.1},\"fill_color\":{\"value\":\"#FF0000\"},\"line_alpha\":{\"value\":0.1},\"line_color\":{\"value\":\"#FF0000\"},\"size\":{\"units\":\"screen\",\"value\":10},\"x\":{\"field\":\"x\"},\"y\":{\"field\":\"y\"}},\"id\":\"1522\",\"type\":\"Circle\"},{\"attributes\":{},\"id\":\"1560\",\"type\":\"UnionRenderers\"},{\"attributes\":{\"source\":{\"id\":\"1520\"}},\"id\":\"1524\",\"type\":\"CDSView\"}],\"root_ids\":[\"1484\"]},\"title\":\"Bokeh Application\",\"version\":\"2.2.3\"}};\n",
       "  var render_items = [{\"docid\":\"4b90d949-eb93-4477-89d7-2d9c183bf04e\",\"root_ids\":[\"1484\"],\"roots\":{\"1484\":\"d5aece26-85fc-449d-9939-d3f1a086db20\"}}];\n",
       "  root.Bokeh.embed.embed_items_notebook(docs_json, render_items);\n",
       "\n",
       "  }\n",
       "  if (root.Bokeh !== undefined) {\n",
       "    embed_document(root);\n",
       "  } else {\n",
       "    var attempts = 0;\n",
       "    var timer = setInterval(function(root) {\n",
       "      if (root.Bokeh !== undefined) {\n",
       "        clearInterval(timer);\n",
       "        embed_document(root);\n",
       "      } else {\n",
       "        attempts++;\n",
       "        if (attempts > 100) {\n",
       "          clearInterval(timer);\n",
       "          console.log(\"Bokeh: ERROR: Unable to run BokehJS code because BokehJS library is missing\");\n",
       "        }\n",
       "      }\n",
       "    }, 10, root)\n",
       "  }\n",
       "})(window);"
      ],
      "application/vnd.bokehjs_exec.v0+json": ""
     },
     "metadata": {
      "application/vnd.bokehjs_exec.v0+json": {
       "id": "1484"
      }
     },
     "output_type": "display_data"
    }
   ],
   "source": [
    "# 颜色设置\n",
    "\n",
    "p = figure(plot_width=600, plot_height=400)\n",
    "# 创建绘图空间\n",
    "\n",
    "p.circle(df.index, df['A'], color = 'green', size=10,  alpha=0.5)\n",
    "p.circle(df.index, df['B'], color = '#FF0000', size=10,  alpha=0.5)\n",
    "show(p)\n",
    "# 颜色设置\n",
    "# ① 147个CSS颜色，参考网址：http://www.colors.commutercreative.com/grid/\n",
    "# ② RGB颜色值，参考网址：https://coolors.co/87f1ff-c0f5fa-bd8b9c-af125a-582b11"
   ]
  },
  {
   "cell_type": "code",
   "execution_count": 9,
   "metadata": {
    "collapsed": false,
    "jupyter": {
     "outputs_hidden": false
    }
   },
   "outputs": [
    {
     "data": {
      "text/html": [
       "\n",
       "\n",
       "\n",
       "\n",
       "\n",
       "\n",
       "  <div class=\"bk-root\" id=\"d81dbf1a-b6e8-4552-9199-8c8c13e2d5e4\" data-root-id=\"1739\"></div>\n"
      ]
     },
     "metadata": {},
     "output_type": "display_data"
    },
    {
     "data": {
      "application/javascript": [
       "(function(root) {\n",
       "  function embed_document(root) {\n",
       "    \n",
       "  var docs_json = {\"854e929f-d41e-46cf-bd72-f896cc68f668\":{\"roots\":{\"references\":[{\"attributes\":{\"below\":[{\"id\":\"1748\"}],\"center\":[{\"id\":\"1751\"},{\"id\":\"1755\"}],\"left\":[{\"id\":\"1752\"}],\"outline_line_alpha\":0.3,\"outline_line_color\":\"navy\",\"outline_line_width\":7,\"plot_height\":400,\"renderers\":[{\"id\":\"1773\"},{\"id\":\"1778\"}],\"title\":{\"id\":\"1817\"},\"toolbar\":{\"id\":\"1763\"},\"x_range\":{\"id\":\"1740\"},\"x_scale\":{\"id\":\"1744\"},\"y_range\":{\"id\":\"1742\"},\"y_scale\":{\"id\":\"1746\"}},\"id\":\"1739\",\"subtype\":\"Figure\",\"type\":\"Plot\"},{\"attributes\":{},\"id\":\"1757\",\"type\":\"WheelZoomTool\"},{\"attributes\":{\"fill_alpha\":{\"value\":0.5},\"fill_color\":{\"value\":\"#FF0000\"},\"line_alpha\":{\"value\":0.5},\"line_color\":{\"value\":\"#FF0000\"},\"size\":{\"units\":\"screen\",\"value\":10},\"x\":{\"field\":\"x\"},\"y\":{\"field\":\"y\"}},\"id\":\"1776\",\"type\":\"Circle\"},{\"attributes\":{\"overlay\":{\"id\":\"1762\"}},\"id\":\"1758\",\"type\":\"BoxZoomTool\"},{\"attributes\":{\"formatter\":{\"id\":\"1821\"},\"ticker\":{\"id\":\"1753\"}},\"id\":\"1752\",\"type\":\"LinearAxis\"},{\"attributes\":{},\"id\":\"1744\",\"type\":\"LinearScale\"},{\"attributes\":{},\"id\":\"1749\",\"type\":\"BasicTicker\"},{\"attributes\":{\"formatter\":{\"id\":\"1819\"},\"ticker\":{\"id\":\"1749\"}},\"id\":\"1748\",\"type\":\"LinearAxis\"},{\"attributes\":{},\"id\":\"1825\",\"type\":\"Selection\"},{\"attributes\":{\"data_source\":{\"id\":\"1770\"},\"glyph\":{\"id\":\"1771\"},\"hover_glyph\":null,\"muted_glyph\":null,\"nonselection_glyph\":{\"id\":\"1772\"},\"selection_glyph\":null,\"view\":{\"id\":\"1774\"}},\"id\":\"1773\",\"type\":\"GlyphRenderer\"},{\"attributes\":{},\"id\":\"1761\",\"type\":\"HelpTool\"},{\"attributes\":{},\"id\":\"1824\",\"type\":\"UnionRenderers\"},{\"attributes\":{\"active_drag\":\"auto\",\"active_inspect\":\"auto\",\"active_multi\":null,\"active_scroll\":\"auto\",\"active_tap\":\"auto\",\"tools\":[{\"id\":\"1756\"},{\"id\":\"1757\"},{\"id\":\"1758\"},{\"id\":\"1759\"},{\"id\":\"1760\"},{\"id\":\"1761\"}]},\"id\":\"1763\",\"type\":\"Toolbar\"},{\"attributes\":{},\"id\":\"1746\",\"type\":\"LinearScale\"},{\"attributes\":{\"fill_alpha\":{\"value\":0.1},\"fill_color\":{\"value\":\"green\"},\"line_alpha\":{\"value\":0.1},\"line_color\":{\"value\":\"green\"},\"size\":{\"units\":\"screen\",\"value\":10},\"x\":{\"field\":\"x\"},\"y\":{\"field\":\"y\"}},\"id\":\"1772\",\"type\":\"Circle\"},{\"attributes\":{},\"id\":\"1759\",\"type\":\"SaveTool\"},{\"attributes\":{\"source\":{\"id\":\"1770\"}},\"id\":\"1774\",\"type\":\"CDSView\"},{\"attributes\":{},\"id\":\"1760\",\"type\":\"ResetTool\"},{\"attributes\":{\"axis\":{\"id\":\"1752\"},\"dimension\":1,\"ticker\":null},\"id\":\"1755\",\"type\":\"Grid\"},{\"attributes\":{\"axis\":{\"id\":\"1748\"},\"ticker\":null},\"id\":\"1751\",\"type\":\"Grid\"},{\"attributes\":{},\"id\":\"1756\",\"type\":\"PanTool\"},{\"attributes\":{\"data_source\":{\"id\":\"1775\"},\"glyph\":{\"id\":\"1776\"},\"hover_glyph\":null,\"muted_glyph\":null,\"nonselection_glyph\":{\"id\":\"1777\"},\"selection_glyph\":null,\"view\":{\"id\":\"1779\"}},\"id\":\"1778\",\"type\":\"GlyphRenderer\"},{\"attributes\":{\"fill_alpha\":{\"value\":0.1},\"fill_color\":{\"value\":\"#FF0000\"},\"line_alpha\":{\"value\":0.1},\"line_color\":{\"value\":\"#FF0000\"},\"size\":{\"units\":\"screen\",\"value\":10},\"x\":{\"field\":\"x\"},\"y\":{\"field\":\"y\"}},\"id\":\"1777\",\"type\":\"Circle\"},{\"attributes\":{\"fill_alpha\":{\"value\":0.5},\"fill_color\":{\"value\":\"green\"},\"line_alpha\":{\"value\":0.5},\"line_color\":{\"value\":\"green\"},\"size\":{\"units\":\"screen\",\"value\":10},\"x\":{\"field\":\"x\"},\"y\":{\"field\":\"y\"}},\"id\":\"1771\",\"type\":\"Circle\"},{\"attributes\":{\"data\":{\"x\":[0,1,2,3,4,5,6,7,8,9,10,11,12,13,14,15,16,17,18,19,20,21,22,23,24,25,26,27,28,29,30,31,32,33,34,35,36,37,38,39,40,41,42,43,44,45,46,47,48,49,50,51,52,53,54,55,56,57,58,59,60,61,62,63,64,65,66,67,68,69,70,71,72,73,74,75,76,77,78,79,80,81,82,83,84,85,86,87,88,89,90,91,92,93,94,95,96,97,98,99],\"y\":{\"__ndarray__\":\"YTRMg73oxD/Zb+Jo19DlPwK/2/1oMgRARLiwo2/u8T/KHP5OjdvvP2H5U4kYNNK/0r7ciJGquD+LiU+w/HvTPz0XUYeXeO4/4Aee/IKz3j+3lX3ARInrv9Vd4l70fP8/pdFrIrGp5r9cTgE8l0fPvwxh4kQ3PwlAyOsyWuTayz+XIddyMU3/v68SCDymau4/wDrhNDNlsT+oZf9tNtr3v6wzcpYpfQLAcCeHMeUW/j9fdKzAtIbcvxfIDBNkX/e/B9LjMq09AUBIAWlkBOP6v3fegqANmuC/H+dAujgy+D/98giFnMwFQG3o5+WOB9Q/AQQa2UOx5z9A2o2GyNvov2qAwYoWLNe/5r58IJfh+T8mEM72Gi1tv8bpWKaFHMW/DoLHcHt1tT8NjiCxIPPpv5pPq7PZGeQ/VCVVw1l0tj+syVSKFbTdv91AnxTIJ8o/yKt7GCS507+Bkg0imf7sv0Aagr1fb/W/2IVLEq5H/D/Yx8NfG2XvPwUBGcoUkMq/4FKCUBPA9z9LASEglETuv1mHcVopS+E/8IazvtMWxj+Pn4MaIOTQv3SQdvyiAto/JW4DfWwpsT91aYXc2vXfPzqbG8jhkvC/q4teUg7G8b8OKM+ag7jlP4S0w1XPM/o/Z+QRL/zzwD8njGMJBbvIP8FsQmAbXsQ/hrZzIPcD0D89Zmi8rw3Iv1ddCC5svuq/JrbisaIj7T+kqii3UATyPyfJggaBzPI/HmJDfJgTvz9FTUS+dn3sP2ulzthBuOs/+SDlJrhu9D8GCvQEN2HDv+3EuhN9r+k/So9qtOe+xr/SyOD2Eg2xP0f+42MPYdo/dLdbTRWJ+z8X6gZ0WYr3v03TklrmCOM/c1BNoV0Z2z+53nJIx4zmv+LmTjVNkLq/sPT+PF3y8D+vp/gA2i/av8+z78COVqo/rQza2pMMzz+u+pgTTYPxvwlUOSdMM/I/YYBiBrGS1D8sia7qSVPrP3/CNVdjPtA/lmhlSz2mt7/WaEZlguDxv4LlnUt2Kti/02vvAp6N5b8D7Xi+q07xv4YrBeHuhuc/5l2dKBll4T8=\",\"dtype\":\"float64\",\"order\":\"little\",\"shape\":[100]}},\"selected\":{\"id\":\"1825\"},\"selection_policy\":{\"id\":\"1824\"}},\"id\":\"1770\",\"type\":\"ColumnDataSource\"},{\"attributes\":{},\"id\":\"1826\",\"type\":\"UnionRenderers\"},{\"attributes\":{},\"id\":\"1753\",\"type\":\"BasicTicker\"},{\"attributes\":{},\"id\":\"1827\",\"type\":\"Selection\"},{\"attributes\":{\"source\":{\"id\":\"1775\"}},\"id\":\"1779\",\"type\":\"CDSView\"},{\"attributes\":{},\"id\":\"1740\",\"type\":\"DataRange1d\"},{\"attributes\":{},\"id\":\"1742\",\"type\":\"DataRange1d\"},{\"attributes\":{\"bottom_units\":\"screen\",\"fill_alpha\":0.5,\"fill_color\":\"lightgrey\",\"left_units\":\"screen\",\"level\":\"overlay\",\"line_alpha\":1.0,\"line_color\":\"black\",\"line_dash\":[4,4],\"line_width\":2,\"right_units\":\"screen\",\"top_units\":\"screen\"},\"id\":\"1762\",\"type\":\"BoxAnnotation\"},{\"attributes\":{\"text\":\"\"},\"id\":\"1817\",\"type\":\"Title\"},{\"attributes\":{\"data\":{\"x\":[0,1,2,3,4,5,6,7,8,9,10,11,12,13,14,15,16,17,18,19,20,21,22,23,24,25,26,27,28,29,30,31,32,33,34,35,36,37,38,39,40,41,42,43,44,45,46,47,48,49,50,51,52,53,54,55,56,57,58,59,60,61,62,63,64,65,66,67,68,69,70,71,72,73,74,75,76,77,78,79,80,81,82,83,84,85,86,87,88,89,90,91,92,93,94,95,96,97,98,99],\"y\":{\"__ndarray__\":\"RiiuoHf7BMCpipk68NrTv2TH0YDZd+C/Ln7QFt8OxT/OHJvkwODSv/zcK72ipvG/eV79vsN91L+KbdmsZTjPv1eaCKNGc/u/kGJnE8zB0D8Vaxz76h3gv0y1MM97JvK/ysdDqql9y783pm17jAO1P0v+LjCPZem/LQM1v/9u9D9QcAW3h9Pyv4+EWeDJVNy/8P5pwFfGxL+vE83Huovmv1EXB2d42uC/I4u8po5YBMCgCmqH1hrQv5TKoa8rr9o/1I8lM8rX5L/JsN6YFtviP7Wxpj4TRQFA5k84APqt7b97xKra+nbsPxEWS+TyLeY/DLzgZW5x07+3hp2OlkzRv26XBPDpW/s/nCg2gjvg8D/QBwL4hrbqv9E9q+3Ssuu/QhmjxofVnz/RDDSCiI7ov96O8KiKpuq/XiTwsfvF+D8h8zWHW4a0P5dXvC9vPMk/+ECMl/2Py79OuYZiAXbhPwWiARfBRfC/eoYto4+60r+31q4szBb1v1NJI51OE94/9DD0OUYhpj80t/PJl370Py4DqKExaMs/4k339h5DAMApwquxFkHqv6stPxLcb84/ERv7mJsS/T91pvhQRRHvPybB2PJ7yu0/7DWIDkqv/L9Wt8I0jWXyP/s4BrBn1uA/z2kfSc2a8T+3fqvs5GvxPyUnz7NpNP2/iv0m/Sy74z/GIkHUfd8DQHo9SKpv0OC/UXijBDyOqL8ITrMyhAerPyt18jA35d8/pGxVWtQ45r+L+C964bzvv1U8EcJcY+a/wIvQxqBs8z/VdpuUzC3MP/obBXeES9U/PqplVyIs87/7rsU0AYruP5bF1kwjXtI/EISF/AZO9z/RF66P7fTWP6hUQTwvdNG/x5Z/+0GB9T9uh5cQ40PgP5nYtyfryOE/emCT4U2g6T9Ab0Dk0PraP7Oquks61fE/dT7MwLOx0z96CRXeKJnwP+t5/90Jg8k/Yo0fR6Dh3z9nZfZ+8JPmv1WRcPXfg6u/i1rqErr9479xlSfvaqruP8rRkX0ytu+/ItF85qrl4L+Ct8uabfLuv9E3Xr95q+C/xdzWxf/q9j8=\",\"dtype\":\"float64\",\"order\":\"little\",\"shape\":[100]}},\"selected\":{\"id\":\"1827\"},\"selection_policy\":{\"id\":\"1826\"}},\"id\":\"1775\",\"type\":\"ColumnDataSource\"},{\"attributes\":{},\"id\":\"1821\",\"type\":\"BasicTickFormatter\"},{\"attributes\":{},\"id\":\"1819\",\"type\":\"BasicTickFormatter\"}],\"root_ids\":[\"1739\"]},\"title\":\"Bokeh Application\",\"version\":\"2.2.3\"}};\n",
       "  var render_items = [{\"docid\":\"854e929f-d41e-46cf-bd72-f896cc68f668\",\"root_ids\":[\"1739\"],\"roots\":{\"1739\":\"d81dbf1a-b6e8-4552-9199-8c8c13e2d5e4\"}}];\n",
       "  root.Bokeh.embed.embed_items_notebook(docs_json, render_items);\n",
       "\n",
       "  }\n",
       "  if (root.Bokeh !== undefined) {\n",
       "    embed_document(root);\n",
       "  } else {\n",
       "    var attempts = 0;\n",
       "    var timer = setInterval(function(root) {\n",
       "      if (root.Bokeh !== undefined) {\n",
       "        clearInterval(timer);\n",
       "        embed_document(root);\n",
       "      } else {\n",
       "        attempts++;\n",
       "        if (attempts > 100) {\n",
       "          clearInterval(timer);\n",
       "          console.log(\"Bokeh: ERROR: Unable to run BokehJS code because BokehJS library is missing\");\n",
       "        }\n",
       "      }\n",
       "    }, 10, root)\n",
       "  }\n",
       "})(window);"
      ],
      "application/vnd.bokehjs_exec.v0+json": ""
     },
     "metadata": {
      "application/vnd.bokehjs_exec.v0+json": {
       "id": "1739"
      }
     },
     "output_type": "display_data"
    }
   ],
   "source": [
    "# 图表边框线参数设置\n",
    "\n",
    "p = figure(plot_width=600, plot_height=400)\n",
    "p.circle(df.index, df['A'], color = 'green', size=10,  alpha=0.5)\n",
    "p.circle(df.index, df['B'], color = '#FF0000', size=10,  alpha=0.5)\n",
    "# 绘制散点图\n",
    " \n",
    "p.outline_line_width = 7         # 边框线宽\n",
    "p.outline_line_alpha = 0.3       # 边框线透明度\n",
    "p.outline_line_color = \"navy\"    # 边框线颜色\n",
    "# 设置图表边框\n",
    "\n",
    "show(p)"
   ]
  },
  {
   "cell_type": "code",
   "execution_count": 10,
   "metadata": {
    "collapsed": false,
    "jupyter": {
     "outputs_hidden": false
    }
   },
   "outputs": [
    {
     "data": {
      "text/html": [
       "\n",
       "\n",
       "\n",
       "\n",
       "\n",
       "\n",
       "  <div class=\"bk-root\" id=\"96d198b0-ee92-4ff0-81df-562301876574\" data-root-id=\"2005\"></div>\n"
      ]
     },
     "metadata": {},
     "output_type": "display_data"
    },
    {
     "data": {
      "application/javascript": [
       "(function(root) {\n",
       "  function embed_document(root) {\n",
       "    \n",
       "  var docs_json = {\"dfa29af9-2d8f-4a45-bb26-061a463172b0\":{\"roots\":{\"references\":[{\"attributes\":{\"background_fill_alpha\":0.5,\"background_fill_color\":\"beige\",\"below\":[{\"id\":\"2014\"}],\"center\":[{\"id\":\"2017\"},{\"id\":\"2021\"}],\"left\":[{\"id\":\"2018\"}],\"plot_height\":400,\"renderers\":[{\"id\":\"2039\"},{\"id\":\"2044\"}],\"title\":{\"id\":\"2094\"},\"toolbar\":{\"id\":\"2029\"},\"x_range\":{\"id\":\"2006\"},\"x_scale\":{\"id\":\"2010\"},\"y_range\":{\"id\":\"2008\"},\"y_scale\":{\"id\":\"2012\"}},\"id\":\"2005\",\"subtype\":\"Figure\",\"type\":\"Plot\"},{\"attributes\":{\"active_drag\":\"auto\",\"active_inspect\":\"auto\",\"active_multi\":null,\"active_scroll\":\"auto\",\"active_tap\":\"auto\",\"tools\":[{\"id\":\"2022\"},{\"id\":\"2023\"},{\"id\":\"2024\"},{\"id\":\"2025\"},{\"id\":\"2026\"},{\"id\":\"2027\"}]},\"id\":\"2029\",\"type\":\"Toolbar\"},{\"attributes\":{\"fill_alpha\":{\"value\":0.1},\"fill_color\":{\"value\":\"#FF0000\"},\"line_alpha\":{\"value\":0.1},\"line_color\":{\"value\":\"#FF0000\"},\"size\":{\"units\":\"screen\",\"value\":10},\"x\":{\"field\":\"x\"},\"y\":{\"field\":\"y\"}},\"id\":\"2043\",\"type\":\"Circle\"},{\"attributes\":{\"text\":\"\"},\"id\":\"2094\",\"type\":\"Title\"},{\"attributes\":{\"bottom_units\":\"screen\",\"fill_alpha\":0.5,\"fill_color\":\"lightgrey\",\"left_units\":\"screen\",\"level\":\"overlay\",\"line_alpha\":1.0,\"line_color\":\"black\",\"line_dash\":[4,4],\"line_width\":2,\"right_units\":\"screen\",\"top_units\":\"screen\"},\"id\":\"2028\",\"type\":\"BoxAnnotation\"},{\"attributes\":{},\"id\":\"2096\",\"type\":\"BasicTickFormatter\"},{\"attributes\":{},\"id\":\"2098\",\"type\":\"BasicTickFormatter\"},{\"attributes\":{\"fill_alpha\":{\"value\":0.5},\"fill_color\":{\"value\":\"green\"},\"line_alpha\":{\"value\":0.5},\"line_color\":{\"value\":\"green\"},\"size\":{\"units\":\"screen\",\"value\":10},\"x\":{\"field\":\"x\"},\"y\":{\"field\":\"y\"}},\"id\":\"2037\",\"type\":\"Circle\"},{\"attributes\":{\"data\":{\"x\":[0,1,2,3,4,5,6,7,8,9,10,11,12,13,14,15,16,17,18,19,20,21,22,23,24,25,26,27,28,29,30,31,32,33,34,35,36,37,38,39,40,41,42,43,44,45,46,47,48,49,50,51,52,53,54,55,56,57,58,59,60,61,62,63,64,65,66,67,68,69,70,71,72,73,74,75,76,77,78,79,80,81,82,83,84,85,86,87,88,89,90,91,92,93,94,95,96,97,98,99],\"y\":{\"__ndarray__\":\"YTRMg73oxD/Zb+Jo19DlPwK/2/1oMgRARLiwo2/u8T/KHP5OjdvvP2H5U4kYNNK/0r7ciJGquD+LiU+w/HvTPz0XUYeXeO4/4Aee/IKz3j+3lX3ARInrv9Vd4l70fP8/pdFrIrGp5r9cTgE8l0fPvwxh4kQ3PwlAyOsyWuTayz+XIddyMU3/v68SCDymau4/wDrhNDNlsT+oZf9tNtr3v6wzcpYpfQLAcCeHMeUW/j9fdKzAtIbcvxfIDBNkX/e/B9LjMq09AUBIAWlkBOP6v3fegqANmuC/H+dAujgy+D/98giFnMwFQG3o5+WOB9Q/AQQa2UOx5z9A2o2GyNvov2qAwYoWLNe/5r58IJfh+T8mEM72Gi1tv8bpWKaFHMW/DoLHcHt1tT8NjiCxIPPpv5pPq7PZGeQ/VCVVw1l0tj+syVSKFbTdv91AnxTIJ8o/yKt7GCS507+Bkg0imf7sv0Aagr1fb/W/2IVLEq5H/D/Yx8NfG2XvPwUBGcoUkMq/4FKCUBPA9z9LASEglETuv1mHcVopS+E/8IazvtMWxj+Pn4MaIOTQv3SQdvyiAto/JW4DfWwpsT91aYXc2vXfPzqbG8jhkvC/q4teUg7G8b8OKM+ag7jlP4S0w1XPM/o/Z+QRL/zzwD8njGMJBbvIP8FsQmAbXsQ/hrZzIPcD0D89Zmi8rw3Iv1ddCC5svuq/JrbisaIj7T+kqii3UATyPyfJggaBzPI/HmJDfJgTvz9FTUS+dn3sP2ulzthBuOs/+SDlJrhu9D8GCvQEN2HDv+3EuhN9r+k/So9qtOe+xr/SyOD2Eg2xP0f+42MPYdo/dLdbTRWJ+z8X6gZ0WYr3v03TklrmCOM/c1BNoV0Z2z+53nJIx4zmv+LmTjVNkLq/sPT+PF3y8D+vp/gA2i/av8+z78COVqo/rQza2pMMzz+u+pgTTYPxvwlUOSdMM/I/YYBiBrGS1D8sia7qSVPrP3/CNVdjPtA/lmhlSz2mt7/WaEZlguDxv4LlnUt2Kti/02vvAp6N5b8D7Xi+q07xv4YrBeHuhuc/5l2dKBll4T8=\",\"dtype\":\"float64\",\"order\":\"little\",\"shape\":[100]}},\"selected\":{\"id\":\"2102\"},\"selection_policy\":{\"id\":\"2101\"}},\"id\":\"2036\",\"type\":\"ColumnDataSource\"},{\"attributes\":{\"fill_alpha\":{\"value\":0.5},\"fill_color\":{\"value\":\"#FF0000\"},\"line_alpha\":{\"value\":0.5},\"line_color\":{\"value\":\"#FF0000\"},\"size\":{\"units\":\"screen\",\"value\":10},\"x\":{\"field\":\"x\"},\"y\":{\"field\":\"y\"}},\"id\":\"2042\",\"type\":\"Circle\"},{\"attributes\":{},\"id\":\"2006\",\"type\":\"DataRange1d\"},{\"attributes\":{\"data\":{\"x\":[0,1,2,3,4,5,6,7,8,9,10,11,12,13,14,15,16,17,18,19,20,21,22,23,24,25,26,27,28,29,30,31,32,33,34,35,36,37,38,39,40,41,42,43,44,45,46,47,48,49,50,51,52,53,54,55,56,57,58,59,60,61,62,63,64,65,66,67,68,69,70,71,72,73,74,75,76,77,78,79,80,81,82,83,84,85,86,87,88,89,90,91,92,93,94,95,96,97,98,99],\"y\":{\"__ndarray__\":\"RiiuoHf7BMCpipk68NrTv2TH0YDZd+C/Ln7QFt8OxT/OHJvkwODSv/zcK72ipvG/eV79vsN91L+KbdmsZTjPv1eaCKNGc/u/kGJnE8zB0D8Vaxz76h3gv0y1MM97JvK/ysdDqql9y783pm17jAO1P0v+LjCPZem/LQM1v/9u9D9QcAW3h9Pyv4+EWeDJVNy/8P5pwFfGxL+vE83Huovmv1EXB2d42uC/I4u8po5YBMCgCmqH1hrQv5TKoa8rr9o/1I8lM8rX5L/JsN6YFtviP7Wxpj4TRQFA5k84APqt7b97xKra+nbsPxEWS+TyLeY/DLzgZW5x07+3hp2OlkzRv26XBPDpW/s/nCg2gjvg8D/QBwL4hrbqv9E9q+3Ssuu/QhmjxofVnz/RDDSCiI7ov96O8KiKpuq/XiTwsfvF+D8h8zWHW4a0P5dXvC9vPMk/+ECMl/2Py79OuYZiAXbhPwWiARfBRfC/eoYto4+60r+31q4szBb1v1NJI51OE94/9DD0OUYhpj80t/PJl370Py4DqKExaMs/4k339h5DAMApwquxFkHqv6stPxLcb84/ERv7mJsS/T91pvhQRRHvPybB2PJ7yu0/7DWIDkqv/L9Wt8I0jWXyP/s4BrBn1uA/z2kfSc2a8T+3fqvs5GvxPyUnz7NpNP2/iv0m/Sy74z/GIkHUfd8DQHo9SKpv0OC/UXijBDyOqL8ITrMyhAerPyt18jA35d8/pGxVWtQ45r+L+C964bzvv1U8EcJcY+a/wIvQxqBs8z/VdpuUzC3MP/obBXeES9U/PqplVyIs87/7rsU0AYruP5bF1kwjXtI/EISF/AZO9z/RF66P7fTWP6hUQTwvdNG/x5Z/+0GB9T9uh5cQ40PgP5nYtyfryOE/emCT4U2g6T9Ab0Dk0PraP7Oquks61fE/dT7MwLOx0z96CRXeKJnwP+t5/90Jg8k/Yo0fR6Dh3z9nZfZ+8JPmv1WRcPXfg6u/i1rqErr9479xlSfvaqruP8rRkX0ytu+/ItF85qrl4L+Ct8uabfLuv9E3Xr95q+C/xdzWxf/q9j8=\",\"dtype\":\"float64\",\"order\":\"little\",\"shape\":[100]}},\"selected\":{\"id\":\"2104\"},\"selection_policy\":{\"id\":\"2103\"}},\"id\":\"2041\",\"type\":\"ColumnDataSource\"},{\"attributes\":{},\"id\":\"2102\",\"type\":\"Selection\"},{\"attributes\":{},\"id\":\"2008\",\"type\":\"DataRange1d\"},{\"attributes\":{\"formatter\":{\"id\":\"2098\"},\"ticker\":{\"id\":\"2019\"}},\"id\":\"2018\",\"type\":\"LinearAxis\"},{\"attributes\":{},\"id\":\"2012\",\"type\":\"LinearScale\"},{\"attributes\":{\"formatter\":{\"id\":\"2096\"},\"ticker\":{\"id\":\"2015\"}},\"id\":\"2014\",\"type\":\"LinearAxis\"},{\"attributes\":{},\"id\":\"2101\",\"type\":\"UnionRenderers\"},{\"attributes\":{},\"id\":\"2010\",\"type\":\"LinearScale\"},{\"attributes\":{},\"id\":\"2025\",\"type\":\"SaveTool\"},{\"attributes\":{},\"id\":\"2015\",\"type\":\"BasicTicker\"},{\"attributes\":{\"axis\":{\"id\":\"2014\"},\"ticker\":null},\"id\":\"2017\",\"type\":\"Grid\"},{\"attributes\":{\"axis\":{\"id\":\"2018\"},\"dimension\":1,\"ticker\":null},\"id\":\"2021\",\"type\":\"Grid\"},{\"attributes\":{},\"id\":\"2019\",\"type\":\"BasicTicker\"},{\"attributes\":{},\"id\":\"2027\",\"type\":\"HelpTool\"},{\"attributes\":{\"fill_alpha\":{\"value\":0.1},\"fill_color\":{\"value\":\"green\"},\"line_alpha\":{\"value\":0.1},\"line_color\":{\"value\":\"green\"},\"size\":{\"units\":\"screen\",\"value\":10},\"x\":{\"field\":\"x\"},\"y\":{\"field\":\"y\"}},\"id\":\"2038\",\"type\":\"Circle\"},{\"attributes\":{},\"id\":\"2103\",\"type\":\"UnionRenderers\"},{\"attributes\":{},\"id\":\"2104\",\"type\":\"Selection\"},{\"attributes\":{\"data_source\":{\"id\":\"2036\"},\"glyph\":{\"id\":\"2037\"},\"hover_glyph\":null,\"muted_glyph\":null,\"nonselection_glyph\":{\"id\":\"2038\"},\"selection_glyph\":null,\"view\":{\"id\":\"2040\"}},\"id\":\"2039\",\"type\":\"GlyphRenderer\"},{\"attributes\":{},\"id\":\"2023\",\"type\":\"WheelZoomTool\"},{\"attributes\":{\"data_source\":{\"id\":\"2041\"},\"glyph\":{\"id\":\"2042\"},\"hover_glyph\":null,\"muted_glyph\":null,\"nonselection_glyph\":{\"id\":\"2043\"},\"selection_glyph\":null,\"view\":{\"id\":\"2045\"}},\"id\":\"2044\",\"type\":\"GlyphRenderer\"},{\"attributes\":{\"source\":{\"id\":\"2041\"}},\"id\":\"2045\",\"type\":\"CDSView\"},{\"attributes\":{},\"id\":\"2022\",\"type\":\"PanTool\"},{\"attributes\":{},\"id\":\"2026\",\"type\":\"ResetTool\"},{\"attributes\":{\"source\":{\"id\":\"2036\"}},\"id\":\"2040\",\"type\":\"CDSView\"},{\"attributes\":{\"overlay\":{\"id\":\"2028\"}},\"id\":\"2024\",\"type\":\"BoxZoomTool\"}],\"root_ids\":[\"2005\"]},\"title\":\"Bokeh Application\",\"version\":\"2.2.3\"}};\n",
       "  var render_items = [{\"docid\":\"dfa29af9-2d8f-4a45-bb26-061a463172b0\",\"root_ids\":[\"2005\"],\"roots\":{\"2005\":\"96d198b0-ee92-4ff0-81df-562301876574\"}}];\n",
       "  root.Bokeh.embed.embed_items_notebook(docs_json, render_items);\n",
       "\n",
       "  }\n",
       "  if (root.Bokeh !== undefined) {\n",
       "    embed_document(root);\n",
       "  } else {\n",
       "    var attempts = 0;\n",
       "    var timer = setInterval(function(root) {\n",
       "      if (root.Bokeh !== undefined) {\n",
       "        clearInterval(timer);\n",
       "        embed_document(root);\n",
       "      } else {\n",
       "        attempts++;\n",
       "        if (attempts > 100) {\n",
       "          clearInterval(timer);\n",
       "          console.log(\"Bokeh: ERROR: Unable to run BokehJS code because BokehJS library is missing\");\n",
       "        }\n",
       "      }\n",
       "    }, 10, root)\n",
       "  }\n",
       "})(window);"
      ],
      "application/vnd.bokehjs_exec.v0+json": ""
     },
     "metadata": {
      "application/vnd.bokehjs_exec.v0+json": {
       "id": "2005"
      }
     },
     "output_type": "display_data"
    }
   ],
   "source": [
    "# 设置绘图空间背景\n",
    "\n",
    "p = figure(plot_width=600, plot_height=400)\n",
    "p.circle(df.index, df['A'], color = 'green', size=10,  alpha=0.5)\n",
    "p.circle(df.index, df['B'], color = '#FF0000', size=10,  alpha=0.5)\n",
    "# 绘制散点图\n",
    "\n",
    "p.background_fill_color = \"beige\"    # 绘图空间背景颜色\n",
    "p.background_fill_alpha = 0.5        # 绘图空间背景透明度\n",
    "# 背景设置参数\n",
    "\n",
    "show(p)"
   ]
  },
  {
   "cell_type": "code",
   "execution_count": 14,
   "metadata": {
    "collapsed": false,
    "jupyter": {
     "outputs_hidden": false
    }
   },
   "outputs": [
    {
     "data": {
      "text/html": [
       "\n",
       "\n",
       "\n",
       "\n",
       "\n",
       "\n",
       "  <div class=\"bk-root\" id=\"1c27346f-4dd9-4f28-a3ed-79ad0610b9fb\" data-root-id=\"3179\"></div>\n"
      ]
     },
     "metadata": {},
     "output_type": "display_data"
    },
    {
     "data": {
      "application/javascript": [
       "(function(root) {\n",
       "  function embed_document(root) {\n",
       "    \n",
       "  var docs_json = {\"783f234d-6c06-4d43-8fb6-7515e099b1f8\":{\"roots\":{\"references\":[{\"attributes\":{\"below\":[{\"id\":\"3188\"}],\"border_fill_alpha\":0.8,\"border_fill_color\":\"whitesmoke\",\"center\":[{\"id\":\"3191\"},{\"id\":\"3195\"}],\"left\":[{\"id\":\"3192\"}],\"min_border_bottom\":10,\"min_border_left\":80,\"min_border_right\":80,\"min_border_top\":10,\"plot_height\":400,\"renderers\":[{\"id\":\"3213\"},{\"id\":\"3218\"}],\"title\":{\"id\":\"3312\"},\"toolbar\":{\"id\":\"3203\"},\"x_range\":{\"id\":\"3180\"},\"x_scale\":{\"id\":\"3184\"},\"y_range\":{\"id\":\"3182\"},\"y_scale\":{\"id\":\"3186\"}},\"id\":\"3179\",\"subtype\":\"Figure\",\"type\":\"Plot\"},{\"attributes\":{},\"id\":\"3197\",\"type\":\"WheelZoomTool\"},{\"attributes\":{},\"id\":\"3201\",\"type\":\"HelpTool\"},{\"attributes\":{},\"id\":\"3322\",\"type\":\"Selection\"},{\"attributes\":{\"active_drag\":\"auto\",\"active_inspect\":\"auto\",\"active_multi\":null,\"active_scroll\":\"auto\",\"active_tap\":\"auto\",\"tools\":[{\"id\":\"3196\"},{\"id\":\"3197\"},{\"id\":\"3198\"},{\"id\":\"3199\"},{\"id\":\"3200\"},{\"id\":\"3201\"}]},\"id\":\"3203\",\"type\":\"Toolbar\"},{\"attributes\":{\"formatter\":{\"id\":\"3314\"},\"ticker\":{\"id\":\"3189\"}},\"id\":\"3188\",\"type\":\"LinearAxis\"},{\"attributes\":{},\"id\":\"3196\",\"type\":\"PanTool\"},{\"attributes\":{\"fill_alpha\":{\"value\":0.5},\"fill_color\":{\"value\":\"green\"},\"line_alpha\":{\"value\":0.5},\"line_color\":{\"value\":\"green\"},\"size\":{\"units\":\"screen\",\"value\":10},\"x\":{\"field\":\"x\"},\"y\":{\"field\":\"y\"}},\"id\":\"3211\",\"type\":\"Circle\"},{\"attributes\":{\"overlay\":{\"id\":\"3202\"}},\"id\":\"3198\",\"type\":\"BoxZoomTool\"},{\"attributes\":{},\"id\":\"3199\",\"type\":\"SaveTool\"},{\"attributes\":{},\"id\":\"3200\",\"type\":\"ResetTool\"},{\"attributes\":{},\"id\":\"3319\",\"type\":\"UnionRenderers\"},{\"attributes\":{\"data_source\":{\"id\":\"3210\"},\"glyph\":{\"id\":\"3211\"},\"hover_glyph\":null,\"muted_glyph\":null,\"nonselection_glyph\":{\"id\":\"3212\"},\"selection_glyph\":null,\"view\":{\"id\":\"3214\"}},\"id\":\"3213\",\"type\":\"GlyphRenderer\"},{\"attributes\":{},\"id\":\"3186\",\"type\":\"LinearScale\"},{\"attributes\":{\"data\":{\"x\":[0,1,2,3,4,5,6,7,8,9,10,11,12,13,14,15,16,17,18,19,20,21,22,23,24,25,26,27,28,29,30,31,32,33,34,35,36,37,38,39,40,41,42,43,44,45,46,47,48,49,50,51,52,53,54,55,56,57,58,59,60,61,62,63,64,65,66,67,68,69,70,71,72,73,74,75,76,77,78,79,80,81,82,83,84,85,86,87,88,89,90,91,92,93,94,95,96,97,98,99],\"y\":{\"__ndarray__\":\"YTRMg73oxD/Zb+Jo19DlPwK/2/1oMgRARLiwo2/u8T/KHP5OjdvvP2H5U4kYNNK/0r7ciJGquD+LiU+w/HvTPz0XUYeXeO4/4Aee/IKz3j+3lX3ARInrv9Vd4l70fP8/pdFrIrGp5r9cTgE8l0fPvwxh4kQ3PwlAyOsyWuTayz+XIddyMU3/v68SCDymau4/wDrhNDNlsT+oZf9tNtr3v6wzcpYpfQLAcCeHMeUW/j9fdKzAtIbcvxfIDBNkX/e/B9LjMq09AUBIAWlkBOP6v3fegqANmuC/H+dAujgy+D/98giFnMwFQG3o5+WOB9Q/AQQa2UOx5z9A2o2GyNvov2qAwYoWLNe/5r58IJfh+T8mEM72Gi1tv8bpWKaFHMW/DoLHcHt1tT8NjiCxIPPpv5pPq7PZGeQ/VCVVw1l0tj+syVSKFbTdv91AnxTIJ8o/yKt7GCS507+Bkg0imf7sv0Aagr1fb/W/2IVLEq5H/D/Yx8NfG2XvPwUBGcoUkMq/4FKCUBPA9z9LASEglETuv1mHcVopS+E/8IazvtMWxj+Pn4MaIOTQv3SQdvyiAto/JW4DfWwpsT91aYXc2vXfPzqbG8jhkvC/q4teUg7G8b8OKM+ag7jlP4S0w1XPM/o/Z+QRL/zzwD8njGMJBbvIP8FsQmAbXsQ/hrZzIPcD0D89Zmi8rw3Iv1ddCC5svuq/JrbisaIj7T+kqii3UATyPyfJggaBzPI/HmJDfJgTvz9FTUS+dn3sP2ulzthBuOs/+SDlJrhu9D8GCvQEN2HDv+3EuhN9r+k/So9qtOe+xr/SyOD2Eg2xP0f+42MPYdo/dLdbTRWJ+z8X6gZ0WYr3v03TklrmCOM/c1BNoV0Z2z+53nJIx4zmv+LmTjVNkLq/sPT+PF3y8D+vp/gA2i/av8+z78COVqo/rQza2pMMzz+u+pgTTYPxvwlUOSdMM/I/YYBiBrGS1D8sia7qSVPrP3/CNVdjPtA/lmhlSz2mt7/WaEZlguDxv4LlnUt2Kti/02vvAp6N5b8D7Xi+q07xv4YrBeHuhuc/5l2dKBll4T8=\",\"dtype\":\"float64\",\"order\":\"little\",\"shape\":[100]}},\"selected\":{\"id\":\"3320\"},\"selection_policy\":{\"id\":\"3319\"}},\"id\":\"3210\",\"type\":\"ColumnDataSource\"},{\"attributes\":{\"fill_alpha\":{\"value\":0.1},\"fill_color\":{\"value\":\"green\"},\"line_alpha\":{\"value\":0.1},\"line_color\":{\"value\":\"green\"},\"size\":{\"units\":\"screen\",\"value\":10},\"x\":{\"field\":\"x\"},\"y\":{\"field\":\"y\"}},\"id\":\"3212\",\"type\":\"Circle\"},{\"attributes\":{\"formatter\":{\"id\":\"3316\"},\"ticker\":{\"id\":\"3193\"}},\"id\":\"3192\",\"type\":\"LinearAxis\"},{\"attributes\":{},\"id\":\"3320\",\"type\":\"Selection\"},{\"attributes\":{\"source\":{\"id\":\"3210\"}},\"id\":\"3214\",\"type\":\"CDSView\"},{\"attributes\":{},\"id\":\"3316\",\"type\":\"BasicTickFormatter\"},{\"attributes\":{\"data_source\":{\"id\":\"3215\"},\"glyph\":{\"id\":\"3216\"},\"hover_glyph\":null,\"muted_glyph\":null,\"nonselection_glyph\":{\"id\":\"3217\"},\"selection_glyph\":null,\"view\":{\"id\":\"3219\"}},\"id\":\"3218\",\"type\":\"GlyphRenderer\"},{\"attributes\":{\"fill_alpha\":{\"value\":0.1},\"fill_color\":{\"value\":\"#FF0000\"},\"line_alpha\":{\"value\":0.1},\"line_color\":{\"value\":\"#FF0000\"},\"size\":{\"units\":\"screen\",\"value\":10},\"x\":{\"field\":\"x\"},\"y\":{\"field\":\"y\"}},\"id\":\"3217\",\"type\":\"Circle\"},{\"attributes\":{\"source\":{\"id\":\"3215\"}},\"id\":\"3219\",\"type\":\"CDSView\"},{\"attributes\":{\"text\":\"\"},\"id\":\"3312\",\"type\":\"Title\"},{\"attributes\":{\"bottom_units\":\"screen\",\"fill_alpha\":0.5,\"fill_color\":\"lightgrey\",\"left_units\":\"screen\",\"level\":\"overlay\",\"line_alpha\":1.0,\"line_color\":\"black\",\"line_dash\":[4,4],\"line_width\":2,\"right_units\":\"screen\",\"top_units\":\"screen\"},\"id\":\"3202\",\"type\":\"BoxAnnotation\"},{\"attributes\":{\"fill_alpha\":{\"value\":0.5},\"fill_color\":{\"value\":\"#FF0000\"},\"line_alpha\":{\"value\":0.5},\"line_color\":{\"value\":\"#FF0000\"},\"size\":{\"units\":\"screen\",\"value\":10},\"x\":{\"field\":\"x\"},\"y\":{\"field\":\"y\"}},\"id\":\"3216\",\"type\":\"Circle\"},{\"attributes\":{},\"id\":\"3314\",\"type\":\"BasicTickFormatter\"},{\"attributes\":{\"axis\":{\"id\":\"3188\"},\"ticker\":null},\"id\":\"3191\",\"type\":\"Grid\"},{\"attributes\":{},\"id\":\"3182\",\"type\":\"DataRange1d\"},{\"attributes\":{\"data\":{\"x\":[0,1,2,3,4,5,6,7,8,9,10,11,12,13,14,15,16,17,18,19,20,21,22,23,24,25,26,27,28,29,30,31,32,33,34,35,36,37,38,39,40,41,42,43,44,45,46,47,48,49,50,51,52,53,54,55,56,57,58,59,60,61,62,63,64,65,66,67,68,69,70,71,72,73,74,75,76,77,78,79,80,81,82,83,84,85,86,87,88,89,90,91,92,93,94,95,96,97,98,99],\"y\":{\"__ndarray__\":\"RiiuoHf7BMCpipk68NrTv2TH0YDZd+C/Ln7QFt8OxT/OHJvkwODSv/zcK72ipvG/eV79vsN91L+KbdmsZTjPv1eaCKNGc/u/kGJnE8zB0D8Vaxz76h3gv0y1MM97JvK/ysdDqql9y783pm17jAO1P0v+LjCPZem/LQM1v/9u9D9QcAW3h9Pyv4+EWeDJVNy/8P5pwFfGxL+vE83Huovmv1EXB2d42uC/I4u8po5YBMCgCmqH1hrQv5TKoa8rr9o/1I8lM8rX5L/JsN6YFtviP7Wxpj4TRQFA5k84APqt7b97xKra+nbsPxEWS+TyLeY/DLzgZW5x07+3hp2OlkzRv26XBPDpW/s/nCg2gjvg8D/QBwL4hrbqv9E9q+3Ssuu/QhmjxofVnz/RDDSCiI7ov96O8KiKpuq/XiTwsfvF+D8h8zWHW4a0P5dXvC9vPMk/+ECMl/2Py79OuYZiAXbhPwWiARfBRfC/eoYto4+60r+31q4szBb1v1NJI51OE94/9DD0OUYhpj80t/PJl370Py4DqKExaMs/4k339h5DAMApwquxFkHqv6stPxLcb84/ERv7mJsS/T91pvhQRRHvPybB2PJ7yu0/7DWIDkqv/L9Wt8I0jWXyP/s4BrBn1uA/z2kfSc2a8T+3fqvs5GvxPyUnz7NpNP2/iv0m/Sy74z/GIkHUfd8DQHo9SKpv0OC/UXijBDyOqL8ITrMyhAerPyt18jA35d8/pGxVWtQ45r+L+C964bzvv1U8EcJcY+a/wIvQxqBs8z/VdpuUzC3MP/obBXeES9U/PqplVyIs87/7rsU0AYruP5bF1kwjXtI/EISF/AZO9z/RF66P7fTWP6hUQTwvdNG/x5Z/+0GB9T9uh5cQ40PgP5nYtyfryOE/emCT4U2g6T9Ab0Dk0PraP7Oquks61fE/dT7MwLOx0z96CRXeKJnwP+t5/90Jg8k/Yo0fR6Dh3z9nZfZ+8JPmv1WRcPXfg6u/i1rqErr9479xlSfvaqruP8rRkX0ytu+/ItF85qrl4L+Ct8uabfLuv9E3Xr95q+C/xdzWxf/q9j8=\",\"dtype\":\"float64\",\"order\":\"little\",\"shape\":[100]}},\"selected\":{\"id\":\"3322\"},\"selection_policy\":{\"id\":\"3321\"}},\"id\":\"3215\",\"type\":\"ColumnDataSource\"},{\"attributes\":{},\"id\":\"3193\",\"type\":\"BasicTicker\"},{\"attributes\":{},\"id\":\"3321\",\"type\":\"UnionRenderers\"},{\"attributes\":{},\"id\":\"3180\",\"type\":\"DataRange1d\"},{\"attributes\":{\"axis\":{\"id\":\"3192\"},\"dimension\":1,\"ticker\":null},\"id\":\"3195\",\"type\":\"Grid\"},{\"attributes\":{},\"id\":\"3184\",\"type\":\"LinearScale\"},{\"attributes\":{},\"id\":\"3189\",\"type\":\"BasicTicker\"}],\"root_ids\":[\"3179\"]},\"title\":\"Bokeh Application\",\"version\":\"2.2.3\"}};\n",
       "  var render_items = [{\"docid\":\"783f234d-6c06-4d43-8fb6-7515e099b1f8\",\"root_ids\":[\"3179\"],\"roots\":{\"3179\":\"1c27346f-4dd9-4f28-a3ed-79ad0610b9fb\"}}];\n",
       "  root.Bokeh.embed.embed_items_notebook(docs_json, render_items);\n",
       "\n",
       "  }\n",
       "  if (root.Bokeh !== undefined) {\n",
       "    embed_document(root);\n",
       "  } else {\n",
       "    var attempts = 0;\n",
       "    var timer = setInterval(function(root) {\n",
       "      if (root.Bokeh !== undefined) {\n",
       "        clearInterval(timer);\n",
       "        embed_document(root);\n",
       "      } else {\n",
       "        attempts++;\n",
       "        if (attempts > 100) {\n",
       "          clearInterval(timer);\n",
       "          console.log(\"Bokeh: ERROR: Unable to run BokehJS code because BokehJS library is missing\");\n",
       "        }\n",
       "      }\n",
       "    }, 10, root)\n",
       "  }\n",
       "})(window);"
      ],
      "application/vnd.bokehjs_exec.v0+json": ""
     },
     "metadata": {
      "application/vnd.bokehjs_exec.v0+json": {
       "id": "3179"
      }
     },
     "output_type": "display_data"
    }
   ],
   "source": [
    "# 设置外边界背景\n",
    "\n",
    "p = figure(plot_width=600, plot_height=400)\n",
    "p.circle(df.index, df['A'], color = 'green', size=10,  alpha=0.5)\n",
    "p.circle(df.index, df['B'], color = '#FF0000', size=10,  alpha=0.5)\n",
    "# 绘制散点图\n",
    "\n",
    "p.border_fill_color = \"whitesmoke\"    # 外边界背景颜色\n",
    "p.border_fill_alpha = 0.8\n",
    "p.min_border_left = 80                # 外边界背景 - 左边宽度\n",
    "p.min_border_right = 80               # 外边界背景 - 右边宽度\n",
    "p.min_border_top = 10                 # 外边界背景 - 上宽度\n",
    "p.min_border_bottom = 10              # 外边界背景 - 下宽度\n",
    "\n",
    "show(p)"
   ]
  },
  {
   "cell_type": "code",
   "execution_count": 15,
   "metadata": {
    "collapsed": false,
    "jupyter": {
     "outputs_hidden": false
    }
   },
   "outputs": [
    {
     "data": {
      "text/html": [
       "\n",
       "\n",
       "\n",
       "\n",
       "\n",
       "\n",
       "  <div class=\"bk-root\" id=\"0596c170-699f-49ab-aadb-6f418512e33f\" data-root-id=\"3500\"></div>\n"
      ]
     },
     "metadata": {},
     "output_type": "display_data"
    },
    {
     "data": {
      "application/javascript": [
       "(function(root) {\n",
       "  function embed_document(root) {\n",
       "    \n",
       "  var docs_json = {\"81bf2db9-855a-4519-8867-20fcd74ada79\":{\"roots\":{\"references\":[{\"attributes\":{\"below\":[{\"id\":\"3509\"}],\"center\":[{\"id\":\"3512\"},{\"id\":\"3516\"}],\"left\":[{\"id\":\"3513\"}],\"plot_height\":400,\"plot_width\":400,\"renderers\":[{\"id\":\"3534\"}],\"title\":{\"id\":\"3639\"},\"toolbar\":{\"id\":\"3524\"},\"x_range\":{\"id\":\"3501\"},\"x_scale\":{\"id\":\"3505\"},\"y_range\":{\"id\":\"3503\"},\"y_scale\":{\"id\":\"3507\"}},\"id\":\"3500\",\"subtype\":\"Figure\",\"type\":\"Plot\"},{\"attributes\":{\"bottom_units\":\"screen\",\"fill_alpha\":0.5,\"fill_color\":\"lightgrey\",\"left_units\":\"screen\",\"level\":\"overlay\",\"line_alpha\":1.0,\"line_color\":\"black\",\"line_dash\":[4,4],\"line_width\":2,\"right_units\":\"screen\",\"top_units\":\"screen\"},\"id\":\"3523\",\"type\":\"BoxAnnotation\"},{\"attributes\":{\"axis_label\":\"Pressure\",\"formatter\":{\"id\":\"3643\"},\"major_label_orientation\":\"vertical\",\"major_label_text_color\":\"orange\",\"minor_tick_in\":5,\"minor_tick_out\":3,\"ticker\":{\"id\":\"3514\"}},\"id\":\"3513\",\"type\":\"LinearAxis\"},{\"attributes\":{},\"id\":\"3501\",\"type\":\"DataRange1d\"},{\"attributes\":{},\"id\":\"3647\",\"type\":\"Selection\"},{\"attributes\":{\"axis_label\":\"Temp\",\"axis_line_color\":\"red\",\"axis_line_width\":3,\"bounds\":[2,4],\"formatter\":{\"id\":\"3641\"},\"minor_tick_in\":5,\"minor_tick_out\":3,\"ticker\":{\"id\":\"3510\"}},\"id\":\"3509\",\"type\":\"LinearAxis\"},{\"attributes\":{},\"id\":\"3505\",\"type\":\"LinearScale\"},{\"attributes\":{},\"id\":\"3503\",\"type\":\"DataRange1d\"},{\"attributes\":{},\"id\":\"3510\",\"type\":\"BasicTicker\"},{\"attributes\":{},\"id\":\"3507\",\"type\":\"LinearScale\"},{\"attributes\":{},\"id\":\"3522\",\"type\":\"HelpTool\"},{\"attributes\":{\"axis\":{\"id\":\"3509\"},\"ticker\":null},\"id\":\"3512\",\"type\":\"Grid\"},{\"attributes\":{\"fill_alpha\":{\"value\":0.1},\"fill_color\":{\"value\":\"#1f77b4\"},\"line_alpha\":{\"value\":0.1},\"line_color\":{\"value\":\"#1f77b4\"},\"size\":{\"units\":\"screen\",\"value\":10},\"x\":{\"field\":\"x\"},\"y\":{\"field\":\"y\"}},\"id\":\"3533\",\"type\":\"Circle\"},{\"attributes\":{\"data\":{\"x\":[1,2,3,4,5],\"y\":[2,5,8,2,7]},\"selected\":{\"id\":\"3647\"},\"selection_policy\":{\"id\":\"3646\"}},\"id\":\"3531\",\"type\":\"ColumnDataSource\"},{\"attributes\":{\"fill_color\":{\"value\":\"#1f77b4\"},\"line_color\":{\"value\":\"#1f77b4\"},\"size\":{\"units\":\"screen\",\"value\":10},\"x\":{\"field\":\"x\"},\"y\":{\"field\":\"y\"}},\"id\":\"3532\",\"type\":\"Circle\"},{\"attributes\":{},\"id\":\"3643\",\"type\":\"BasicTickFormatter\"},{\"attributes\":{\"active_drag\":\"auto\",\"active_inspect\":\"auto\",\"active_multi\":null,\"active_scroll\":\"auto\",\"active_tap\":\"auto\",\"tools\":[{\"id\":\"3517\"},{\"id\":\"3518\"},{\"id\":\"3519\"},{\"id\":\"3520\"},{\"id\":\"3521\"},{\"id\":\"3522\"}]},\"id\":\"3524\",\"type\":\"Toolbar\"},{\"attributes\":{},\"id\":\"3518\",\"type\":\"WheelZoomTool\"},{\"attributes\":{\"axis\":{\"id\":\"3513\"},\"dimension\":1,\"ticker\":null},\"id\":\"3516\",\"type\":\"Grid\"},{\"attributes\":{\"data_source\":{\"id\":\"3531\"},\"glyph\":{\"id\":\"3532\"},\"hover_glyph\":null,\"muted_glyph\":null,\"nonselection_glyph\":{\"id\":\"3533\"},\"selection_glyph\":null,\"view\":{\"id\":\"3535\"}},\"id\":\"3534\",\"type\":\"GlyphRenderer\"},{\"attributes\":{\"source\":{\"id\":\"3531\"}},\"id\":\"3535\",\"type\":\"CDSView\"},{\"attributes\":{},\"id\":\"3514\",\"type\":\"BasicTicker\"},{\"attributes\":{\"text\":\"\"},\"id\":\"3639\",\"type\":\"Title\"},{\"attributes\":{},\"id\":\"3521\",\"type\":\"ResetTool\"},{\"attributes\":{\"overlay\":{\"id\":\"3523\"}},\"id\":\"3519\",\"type\":\"BoxZoomTool\"},{\"attributes\":{},\"id\":\"3646\",\"type\":\"UnionRenderers\"},{\"attributes\":{},\"id\":\"3520\",\"type\":\"SaveTool\"},{\"attributes\":{},\"id\":\"3517\",\"type\":\"PanTool\"},{\"attributes\":{},\"id\":\"3641\",\"type\":\"BasicTickFormatter\"}],\"root_ids\":[\"3500\"]},\"title\":\"Bokeh Application\",\"version\":\"2.2.3\"}};\n",
       "  var render_items = [{\"docid\":\"81bf2db9-855a-4519-8867-20fcd74ada79\",\"root_ids\":[\"3500\"],\"roots\":{\"3500\":\"0596c170-699f-49ab-aadb-6f418512e33f\"}}];\n",
       "  root.Bokeh.embed.embed_items_notebook(docs_json, render_items);\n",
       "\n",
       "  }\n",
       "  if (root.Bokeh !== undefined) {\n",
       "    embed_document(root);\n",
       "  } else {\n",
       "    var attempts = 0;\n",
       "    var timer = setInterval(function(root) {\n",
       "      if (root.Bokeh !== undefined) {\n",
       "        clearInterval(timer);\n",
       "        embed_document(root);\n",
       "      } else {\n",
       "        attempts++;\n",
       "        if (attempts > 100) {\n",
       "          clearInterval(timer);\n",
       "          console.log(\"Bokeh: ERROR: Unable to run BokehJS code because BokehJS library is missing\");\n",
       "        }\n",
       "      }\n",
       "    }, 10, root)\n",
       "  }\n",
       "})(window);"
      ],
      "application/vnd.bokehjs_exec.v0+json": ""
     },
     "metadata": {
      "application/vnd.bokehjs_exec.v0+json": {
       "id": "3500"
      }
     },
     "output_type": "display_data"
    }
   ],
   "source": [
    "# Axes - 轴线设置\n",
    "# 轴线标签、轴线线宽、轴线颜色\n",
    "# 字体颜色、字体角度\n",
    "\n",
    "p = figure(plot_width=400, plot_height=400)\n",
    "p.circle([1,2,3,4,5], [2,5,8,2,7], size=10)\n",
    "# 绘制图表\n",
    "\n",
    "p.xaxis.axis_label = \"Temp\"\n",
    "p.xaxis.axis_line_width = 3\n",
    "p.xaxis.axis_line_color = \"red\"\n",
    "# 设置x轴线：标签、线宽、轴线颜色\n",
    "\n",
    "p.yaxis.axis_label = \"Pressure\"\n",
    "p.yaxis.major_label_text_color = \"orange\"\n",
    "p.yaxis.major_label_orientation = \"vertical\"\n",
    "# 设置y轴线：标签、字体颜色、字体角度\n",
    "\n",
    "p.axis.minor_tick_in = 5      # 刻度往绘图区域内延伸长度\n",
    "p.axis.minor_tick_out = 3   # 刻度往绘图区域外延伸长度\n",
    "# 设置刻度\n",
    "\n",
    "p.xaxis.bounds = (2, 4)\n",
    "# 设置轴线范围\n",
    "\n",
    "show(p)"
   ]
  },
  {
   "cell_type": "code",
   "execution_count": 16,
   "metadata": {
    "collapsed": false,
    "jupyter": {
     "outputs_hidden": false
    }
   },
   "outputs": [
    {
     "data": {
      "text/html": [
       "\n",
       "\n",
       "\n",
       "\n",
       "\n",
       "\n",
       "  <div class=\"bk-root\" id=\"c53ac4dd-63c8-4c2c-9c60-ad2899d68d9d\" data-root-id=\"3793\"></div>\n"
      ]
     },
     "metadata": {},
     "output_type": "display_data"
    },
    {
     "data": {
      "application/javascript": [
       "(function(root) {\n",
       "  function embed_document(root) {\n",
       "    \n",
       "  var docs_json = {\"ccc9d584-d78e-4002-a59b-a034eea8c46b\":{\"roots\":{\"references\":[{\"attributes\":{\"below\":[{\"id\":\"3802\"}],\"center\":[{\"id\":\"3805\"},{\"id\":\"3809\"}],\"left\":[{\"id\":\"3806\"}],\"plot_height\":400,\"plot_width\":400,\"renderers\":[{\"id\":\"3827\"}],\"title\":{\"id\":\"3941\"},\"toolbar\":{\"id\":\"3817\"},\"x_range\":{\"id\":\"3794\"},\"x_scale\":{\"id\":\"3798\"},\"y_range\":{\"id\":\"3796\"},\"y_scale\":{\"id\":\"3800\"}},\"id\":\"3793\",\"subtype\":\"Figure\",\"type\":\"Plot\"},{\"attributes\":{\"fill_color\":{\"value\":\"#1f77b4\"},\"line_color\":{\"value\":\"#1f77b4\"},\"size\":{\"units\":\"screen\",\"value\":10},\"x\":{\"field\":\"x\"},\"y\":{\"field\":\"y\"}},\"id\":\"3825\",\"type\":\"Circle\"},{\"attributes\":{},\"id\":\"3794\",\"type\":\"DataRange1d\"},{\"attributes\":{},\"id\":\"3807\",\"type\":\"BasicTicker\"},{\"attributes\":{\"axis_label\":\"Lot Number\",\"axis_label_standoff\":30,\"axis_label_text_color\":\"#aa6666\",\"formatter\":{\"id\":\"3943\"},\"ticker\":{\"id\":\"3803\"}},\"id\":\"3802\",\"type\":\"LinearAxis\"},{\"attributes\":{\"data_source\":{\"id\":\"3824\"},\"glyph\":{\"id\":\"3825\"},\"hover_glyph\":null,\"muted_glyph\":null,\"nonselection_glyph\":{\"id\":\"3826\"},\"selection_glyph\":null,\"view\":{\"id\":\"3828\"}},\"id\":\"3827\",\"type\":\"GlyphRenderer\"},{\"attributes\":{\"source\":{\"id\":\"3824\"}},\"id\":\"3828\",\"type\":\"CDSView\"},{\"attributes\":{},\"id\":\"3949\",\"type\":\"Selection\"},{\"attributes\":{},\"id\":\"3943\",\"type\":\"BasicTickFormatter\"},{\"attributes\":{},\"id\":\"3948\",\"type\":\"UnionRenderers\"},{\"attributes\":{},\"id\":\"3796\",\"type\":\"DataRange1d\"},{\"attributes\":{},\"id\":\"3803\",\"type\":\"BasicTicker\"},{\"attributes\":{\"text\":\"\"},\"id\":\"3941\",\"type\":\"Title\"},{\"attributes\":{\"active_drag\":\"auto\",\"active_inspect\":\"auto\",\"active_multi\":null,\"active_scroll\":\"auto\",\"active_tap\":\"auto\",\"tools\":[{\"id\":\"3810\"},{\"id\":\"3811\"},{\"id\":\"3812\"},{\"id\":\"3813\"},{\"id\":\"3814\"},{\"id\":\"3815\"}]},\"id\":\"3817\",\"type\":\"Toolbar\"},{\"attributes\":{},\"id\":\"3945\",\"type\":\"BasicTickFormatter\"},{\"attributes\":{\"axis\":{\"id\":\"3806\"},\"dimension\":1,\"ticker\":null},\"id\":\"3809\",\"type\":\"Grid\"},{\"attributes\":{\"bottom_units\":\"screen\",\"fill_alpha\":0.5,\"fill_color\":\"lightgrey\",\"left_units\":\"screen\",\"level\":\"overlay\",\"line_alpha\":1.0,\"line_color\":\"black\",\"line_dash\":[4,4],\"line_width\":2,\"right_units\":\"screen\",\"top_units\":\"screen\"},\"id\":\"3816\",\"type\":\"BoxAnnotation\"},{\"attributes\":{},\"id\":\"3815\",\"type\":\"HelpTool\"},{\"attributes\":{},\"id\":\"3810\",\"type\":\"PanTool\"},{\"attributes\":{\"overlay\":{\"id\":\"3816\"}},\"id\":\"3812\",\"type\":\"BoxZoomTool\"},{\"attributes\":{\"fill_alpha\":{\"value\":0.1},\"fill_color\":{\"value\":\"#1f77b4\"},\"line_alpha\":{\"value\":0.1},\"line_color\":{\"value\":\"#1f77b4\"},\"size\":{\"units\":\"screen\",\"value\":10},\"x\":{\"field\":\"x\"},\"y\":{\"field\":\"y\"}},\"id\":\"3826\",\"type\":\"Circle\"},{\"attributes\":{\"axis\":{\"id\":\"3802\"},\"ticker\":null},\"id\":\"3805\",\"type\":\"Grid\"},{\"attributes\":{\"axis_label\":\"Bin Count\",\"formatter\":{\"id\":\"3945\"},\"ticker\":{\"id\":\"3807\"}},\"id\":\"3806\",\"type\":\"LinearAxis\"},{\"attributes\":{},\"id\":\"3800\",\"type\":\"LinearScale\"},{\"attributes\":{},\"id\":\"3798\",\"type\":\"LinearScale\"},{\"attributes\":{},\"id\":\"3813\",\"type\":\"SaveTool\"},{\"attributes\":{},\"id\":\"3811\",\"type\":\"WheelZoomTool\"},{\"attributes\":{},\"id\":\"3814\",\"type\":\"ResetTool\"},{\"attributes\":{\"data\":{\"x\":[1,2,3,4,5],\"y\":[2,5,8,2,7]},\"selected\":{\"id\":\"3949\"},\"selection_policy\":{\"id\":\"3948\"}},\"id\":\"3824\",\"type\":\"ColumnDataSource\"}],\"root_ids\":[\"3793\"]},\"title\":\"Bokeh Application\",\"version\":\"2.2.3\"}};\n",
       "  var render_items = [{\"docid\":\"ccc9d584-d78e-4002-a59b-a034eea8c46b\",\"root_ids\":[\"3793\"],\"roots\":{\"3793\":\"c53ac4dd-63c8-4c2c-9c60-ad2899d68d9d\"}}];\n",
       "  root.Bokeh.embed.embed_items_notebook(docs_json, render_items);\n",
       "\n",
       "  }\n",
       "  if (root.Bokeh !== undefined) {\n",
       "    embed_document(root);\n",
       "  } else {\n",
       "    var attempts = 0;\n",
       "    var timer = setInterval(function(root) {\n",
       "      if (root.Bokeh !== undefined) {\n",
       "        clearInterval(timer);\n",
       "        embed_document(root);\n",
       "      } else {\n",
       "        attempts++;\n",
       "        if (attempts > 100) {\n",
       "          clearInterval(timer);\n",
       "          console.log(\"Bokeh: ERROR: Unable to run BokehJS code because BokehJS library is missing\");\n",
       "        }\n",
       "      }\n",
       "    }, 10, root)\n",
       "  }\n",
       "})(window);"
      ],
      "application/vnd.bokehjs_exec.v0+json": ""
     },
     "metadata": {
      "application/vnd.bokehjs_exec.v0+json": {
       "id": "3793"
      }
     },
     "output_type": "display_data"
    }
   ],
   "source": [
    "# Axes - 轴线设置\n",
    "# 标签设置\n",
    "\n",
    "p = figure(plot_width=400, plot_height=400)\n",
    "p.circle([1,2,3,4,5], [2,5,8,2,7], size=10)\n",
    "\n",
    "p.xaxis.axis_label = \"Lot Number\"\n",
    "p.xaxis.axis_label_text_color = \"#aa6666\"\n",
    "p.xaxis.axis_label_standoff = 30\n",
    "# 设置标签名称、字体颜色、偏移距离\n",
    "\n",
    "p.yaxis.axis_label = \"Bin Count\"\n",
    "p.yaxis.axis_label_text_font_style = \"italic\"\n",
    "# 设置标签名称、字体\n",
    "\n",
    "show(p)"
   ]
  },
  {
   "cell_type": "code",
   "execution_count": 22,
   "metadata": {
    "collapsed": false,
    "jupyter": {
     "outputs_hidden": false
    }
   },
   "outputs": [
    {
     "data": {
      "text/html": [
       "\n",
       "\n",
       "\n",
       "\n",
       "\n",
       "\n",
       "  <div class=\"bk-root\" id=\"69857bef-2fea-4261-83e2-1f045b67ba03\" data-root-id=\"5955\"></div>\n"
      ]
     },
     "metadata": {},
     "output_type": "display_data"
    },
    {
     "data": {
      "application/javascript": [
       "(function(root) {\n",
       "  function embed_document(root) {\n",
       "    \n",
       "  var docs_json = {\"67363dbd-c9cb-4e32-88ea-a1559e3df91f\":{\"roots\":{\"references\":[{\"attributes\":{\"below\":[{\"id\":\"5964\"}],\"center\":[{\"id\":\"5967\"},{\"id\":\"5971\"}],\"left\":[{\"id\":\"5968\"}],\"plot_height\":400,\"renderers\":[{\"id\":\"5989\"},{\"id\":\"5994\"}],\"title\":{\"id\":\"6172\"},\"toolbar\":{\"id\":\"5979\"},\"x_range\":{\"id\":\"5956\"},\"x_scale\":{\"id\":\"5960\"},\"y_range\":{\"id\":\"5958\"},\"y_scale\":{\"id\":\"5962\"}},\"id\":\"5955\",\"subtype\":\"Figure\",\"type\":\"Plot\"},{\"attributes\":{},\"id\":\"6174\",\"type\":\"BasicTickFormatter\"},{\"attributes\":{},\"id\":\"5958\",\"type\":\"DataRange1d\"},{\"attributes\":{\"text\":\"\"},\"id\":\"6172\",\"type\":\"Title\"},{\"attributes\":{\"overlay\":{\"id\":\"5978\"}},\"id\":\"5974\",\"type\":\"BoxZoomTool\"},{\"attributes\":{\"fill_alpha\":{\"value\":0.1},\"fill_color\":{\"value\":\"green\"},\"line_alpha\":{\"value\":0.1},\"line_color\":{\"value\":\"green\"},\"size\":{\"units\":\"screen\",\"value\":10},\"x\":{\"field\":\"x\"},\"y\":{\"field\":\"y\"}},\"id\":\"5988\",\"type\":\"Circle\"},{\"attributes\":{\"source\":{\"id\":\"5986\"}},\"id\":\"5990\",\"type\":\"CDSView\"},{\"attributes\":{},\"id\":\"5976\",\"type\":\"ResetTool\"},{\"attributes\":{},\"id\":\"5962\",\"type\":\"LinearScale\"},{\"attributes\":{},\"id\":\"5965\",\"type\":\"BasicTicker\"},{\"attributes\":{\"fill_alpha\":{\"value\":0.1},\"fill_color\":{\"value\":\"#FF0000\"},\"line_alpha\":{\"value\":0.1},\"line_color\":{\"value\":\"#FF0000\"},\"size\":{\"units\":\"screen\",\"value\":10},\"x\":{\"field\":\"x\"},\"y\":{\"field\":\"y\"}},\"id\":\"5993\",\"type\":\"Circle\"},{\"attributes\":{},\"id\":\"6176\",\"type\":\"BasicTickFormatter\"},{\"attributes\":{},\"id\":\"6179\",\"type\":\"UnionRenderers\"},{\"attributes\":{},\"id\":\"5956\",\"type\":\"DataRange1d\"},{\"attributes\":{\"source\":{\"id\":\"5991\"}},\"id\":\"5995\",\"type\":\"CDSView\"},{\"attributes\":{},\"id\":\"5960\",\"type\":\"LinearScale\"},{\"attributes\":{\"data_source\":{\"id\":\"5991\"},\"glyph\":{\"id\":\"5992\"},\"hover_glyph\":null,\"muted_glyph\":null,\"nonselection_glyph\":{\"id\":\"5993\"},\"selection_glyph\":null,\"view\":{\"id\":\"5995\"}},\"id\":\"5994\",\"type\":\"GlyphRenderer\"},{\"attributes\":{\"axis\":{\"id\":\"5964\"},\"grid_line_color\":\"green\",\"minor_grid_line_alpha\":0.1,\"minor_grid_line_color\":\"navy\",\"ticker\":null},\"id\":\"5967\",\"type\":\"Grid\"},{\"attributes\":{},\"id\":\"6180\",\"type\":\"Selection\"},{\"attributes\":{},\"id\":\"5975\",\"type\":\"SaveTool\"},{\"attributes\":{\"formatter\":{\"id\":\"6174\"},\"ticker\":{\"id\":\"5965\"}},\"id\":\"5964\",\"type\":\"LinearAxis\"},{\"attributes\":{\"data\":{\"x\":[0,1,2,3,4,5,6,7,8,9,10,11,12,13,14,15,16,17,18,19,20,21,22,23,24,25,26,27,28,29,30,31,32,33,34,35,36,37,38,39,40,41,42,43,44,45,46,47,48,49,50,51,52,53,54,55,56,57,58,59,60,61,62,63,64,65,66,67,68,69,70,71,72,73,74,75,76,77,78,79,80,81,82,83,84,85,86,87,88,89,90,91,92,93,94,95,96,97,98,99],\"y\":{\"__ndarray__\":\"RiiuoHf7BMCpipk68NrTv2TH0YDZd+C/Ln7QFt8OxT/OHJvkwODSv/zcK72ipvG/eV79vsN91L+KbdmsZTjPv1eaCKNGc/u/kGJnE8zB0D8Vaxz76h3gv0y1MM97JvK/ysdDqql9y783pm17jAO1P0v+LjCPZem/LQM1v/9u9D9QcAW3h9Pyv4+EWeDJVNy/8P5pwFfGxL+vE83Huovmv1EXB2d42uC/I4u8po5YBMCgCmqH1hrQv5TKoa8rr9o/1I8lM8rX5L/JsN6YFtviP7Wxpj4TRQFA5k84APqt7b97xKra+nbsPxEWS+TyLeY/DLzgZW5x07+3hp2OlkzRv26XBPDpW/s/nCg2gjvg8D/QBwL4hrbqv9E9q+3Ssuu/QhmjxofVnz/RDDSCiI7ov96O8KiKpuq/XiTwsfvF+D8h8zWHW4a0P5dXvC9vPMk/+ECMl/2Py79OuYZiAXbhPwWiARfBRfC/eoYto4+60r+31q4szBb1v1NJI51OE94/9DD0OUYhpj80t/PJl370Py4DqKExaMs/4k339h5DAMApwquxFkHqv6stPxLcb84/ERv7mJsS/T91pvhQRRHvPybB2PJ7yu0/7DWIDkqv/L9Wt8I0jWXyP/s4BrBn1uA/z2kfSc2a8T+3fqvs5GvxPyUnz7NpNP2/iv0m/Sy74z/GIkHUfd8DQHo9SKpv0OC/UXijBDyOqL8ITrMyhAerPyt18jA35d8/pGxVWtQ45r+L+C964bzvv1U8EcJcY+a/wIvQxqBs8z/VdpuUzC3MP/obBXeES9U/PqplVyIs87/7rsU0AYruP5bF1kwjXtI/EISF/AZO9z/RF66P7fTWP6hUQTwvdNG/x5Z/+0GB9T9uh5cQ40PgP5nYtyfryOE/emCT4U2g6T9Ab0Dk0PraP7Oquks61fE/dT7MwLOx0z96CRXeKJnwP+t5/90Jg8k/Yo0fR6Dh3z9nZfZ+8JPmv1WRcPXfg6u/i1rqErr9479xlSfvaqruP8rRkX0ytu+/ItF85qrl4L+Ct8uabfLuv9E3Xr95q+C/xdzWxf/q9j8=\",\"dtype\":\"float64\",\"order\":\"little\",\"shape\":[100]}},\"selected\":{\"id\":\"6182\"},\"selection_policy\":{\"id\":\"6181\"}},\"id\":\"5991\",\"type\":\"ColumnDataSource\"},{\"attributes\":{\"data\":{\"x\":[0,1,2,3,4,5,6,7,8,9,10,11,12,13,14,15,16,17,18,19,20,21,22,23,24,25,26,27,28,29,30,31,32,33,34,35,36,37,38,39,40,41,42,43,44,45,46,47,48,49,50,51,52,53,54,55,56,57,58,59,60,61,62,63,64,65,66,67,68,69,70,71,72,73,74,75,76,77,78,79,80,81,82,83,84,85,86,87,88,89,90,91,92,93,94,95,96,97,98,99],\"y\":{\"__ndarray__\":\"YTRMg73oxD/Zb+Jo19DlPwK/2/1oMgRARLiwo2/u8T/KHP5OjdvvP2H5U4kYNNK/0r7ciJGquD+LiU+w/HvTPz0XUYeXeO4/4Aee/IKz3j+3lX3ARInrv9Vd4l70fP8/pdFrIrGp5r9cTgE8l0fPvwxh4kQ3PwlAyOsyWuTayz+XIddyMU3/v68SCDymau4/wDrhNDNlsT+oZf9tNtr3v6wzcpYpfQLAcCeHMeUW/j9fdKzAtIbcvxfIDBNkX/e/B9LjMq09AUBIAWlkBOP6v3fegqANmuC/H+dAujgy+D/98giFnMwFQG3o5+WOB9Q/AQQa2UOx5z9A2o2GyNvov2qAwYoWLNe/5r58IJfh+T8mEM72Gi1tv8bpWKaFHMW/DoLHcHt1tT8NjiCxIPPpv5pPq7PZGeQ/VCVVw1l0tj+syVSKFbTdv91AnxTIJ8o/yKt7GCS507+Bkg0imf7sv0Aagr1fb/W/2IVLEq5H/D/Yx8NfG2XvPwUBGcoUkMq/4FKCUBPA9z9LASEglETuv1mHcVopS+E/8IazvtMWxj+Pn4MaIOTQv3SQdvyiAto/JW4DfWwpsT91aYXc2vXfPzqbG8jhkvC/q4teUg7G8b8OKM+ag7jlP4S0w1XPM/o/Z+QRL/zzwD8njGMJBbvIP8FsQmAbXsQ/hrZzIPcD0D89Zmi8rw3Iv1ddCC5svuq/JrbisaIj7T+kqii3UATyPyfJggaBzPI/HmJDfJgTvz9FTUS+dn3sP2ulzthBuOs/+SDlJrhu9D8GCvQEN2HDv+3EuhN9r+k/So9qtOe+xr/SyOD2Eg2xP0f+42MPYdo/dLdbTRWJ+z8X6gZ0WYr3v03TklrmCOM/c1BNoV0Z2z+53nJIx4zmv+LmTjVNkLq/sPT+PF3y8D+vp/gA2i/av8+z78COVqo/rQza2pMMzz+u+pgTTYPxvwlUOSdMM/I/YYBiBrGS1D8sia7qSVPrP3/CNVdjPtA/lmhlSz2mt7/WaEZlguDxv4LlnUt2Kti/02vvAp6N5b8D7Xi+q07xv4YrBeHuhuc/5l2dKBll4T8=\",\"dtype\":\"float64\",\"order\":\"little\",\"shape\":[100]}},\"selected\":{\"id\":\"6180\"},\"selection_policy\":{\"id\":\"6179\"}},\"id\":\"5986\",\"type\":\"ColumnDataSource\"},{\"attributes\":{\"fill_alpha\":{\"value\":0.5},\"fill_color\":{\"value\":\"#FF0000\"},\"line_alpha\":{\"value\":0.5},\"line_color\":{\"value\":\"#FF0000\"},\"size\":{\"units\":\"screen\",\"value\":10},\"x\":{\"field\":\"x\"},\"y\":{\"field\":\"y\"}},\"id\":\"5992\",\"type\":\"Circle\"},{\"attributes\":{\"formatter\":{\"id\":\"6176\"},\"ticker\":{\"id\":\"5969\"}},\"id\":\"5968\",\"type\":\"LinearAxis\"},{\"attributes\":{},\"id\":\"5973\",\"type\":\"WheelZoomTool\"},{\"attributes\":{\"bottom_units\":\"screen\",\"fill_alpha\":0.5,\"fill_color\":\"lightgrey\",\"left_units\":\"screen\",\"level\":\"overlay\",\"line_alpha\":1.0,\"line_color\":\"black\",\"line_dash\":[4,4],\"line_width\":2,\"right_units\":\"screen\",\"top_units\":\"screen\"},\"id\":\"5978\",\"type\":\"BoxAnnotation\"},{\"attributes\":{},\"id\":\"5977\",\"type\":\"HelpTool\"},{\"attributes\":{\"fill_alpha\":{\"value\":0.5},\"fill_color\":{\"value\":\"green\"},\"line_alpha\":{\"value\":0.5},\"line_color\":{\"value\":\"green\"},\"size\":{\"units\":\"screen\",\"value\":10},\"x\":{\"field\":\"x\"},\"y\":{\"field\":\"y\"}},\"id\":\"5987\",\"type\":\"Circle\"},{\"attributes\":{},\"id\":\"5969\",\"type\":\"BasicTicker\"},{\"attributes\":{},\"id\":\"6182\",\"type\":\"Selection\"},{\"attributes\":{\"data_source\":{\"id\":\"5986\"},\"glyph\":{\"id\":\"5987\"},\"hover_glyph\":null,\"muted_glyph\":null,\"nonselection_glyph\":{\"id\":\"5988\"},\"selection_glyph\":null,\"view\":{\"id\":\"5990\"}},\"id\":\"5989\",\"type\":\"GlyphRenderer\"},{\"attributes\":{},\"id\":\"5972\",\"type\":\"PanTool\"},{\"attributes\":{},\"id\":\"6181\",\"type\":\"UnionRenderers\"},{\"attributes\":{\"axis\":{\"id\":\"5968\"},\"dimension\":1,\"grid_line_alpha\":0.8,\"grid_line_color\":\"red\",\"grid_line_dash\":[6,4],\"ticker\":null},\"id\":\"5971\",\"type\":\"Grid\"},{\"attributes\":{\"active_drag\":\"auto\",\"active_inspect\":\"auto\",\"active_multi\":null,\"active_scroll\":\"auto\",\"active_tap\":\"auto\",\"tools\":[{\"id\":\"5972\"},{\"id\":\"5973\"},{\"id\":\"5974\"},{\"id\":\"5975\"},{\"id\":\"5976\"},{\"id\":\"5977\"}]},\"id\":\"5979\",\"type\":\"Toolbar\"}],\"root_ids\":[\"5955\"]},\"title\":\"Bokeh Application\",\"version\":\"2.2.3\"}};\n",
       "  var render_items = [{\"docid\":\"67363dbd-c9cb-4e32-88ea-a1559e3df91f\",\"root_ids\":[\"5955\"],\"roots\":{\"5955\":\"69857bef-2fea-4261-83e2-1f045b67ba03\"}}];\n",
       "  root.Bokeh.embed.embed_items_notebook(docs_json, render_items);\n",
       "\n",
       "  }\n",
       "  if (root.Bokeh !== undefined) {\n",
       "    embed_document(root);\n",
       "  } else {\n",
       "    var attempts = 0;\n",
       "    var timer = setInterval(function(root) {\n",
       "      if (root.Bokeh !== undefined) {\n",
       "        clearInterval(timer);\n",
       "        embed_document(root);\n",
       "      } else {\n",
       "        attempts++;\n",
       "        if (attempts > 100) {\n",
       "          clearInterval(timer);\n",
       "          console.log(\"Bokeh: ERROR: Unable to run BokehJS code because BokehJS library is missing\");\n",
       "        }\n",
       "      }\n",
       "    }, 10, root)\n",
       "  }\n",
       "})(window);"
      ],
      "application/vnd.bokehjs_exec.v0+json": ""
     },
     "metadata": {
      "application/vnd.bokehjs_exec.v0+json": {
       "id": "5955"
      }
     },
     "output_type": "display_data"
    }
   ],
   "source": [
    "# Grid - 格网设置\n",
    "# 线型设置\n",
    "\n",
    "p = figure(plot_width=600, plot_height=400)\n",
    "p.circle(df.index, df['A'], color = 'green', size=10,  alpha=0.5)\n",
    "p.circle(df.index, df['B'], color = '#FF0000', size=10,  alpha=0.5)\n",
    "# 绘制散点图\n",
    "\n",
    "p.xgrid.grid_line_color = 'green'\n",
    "# 颜色设置，None时则不显示\n",
    "\n",
    "p.ygrid.grid_line_alpha = 0.8\n",
    "p.ygrid.grid_line_color = 'red'\n",
    "p.ygrid.grid_line_dash = [6, 4]\n",
    "# 设置透明度，虚线设置\n",
    "# dash → 通过设置间隔来做虚线\n",
    "\n",
    "p.xgrid.minor_grid_line_color = 'navy'\n",
    "p.xgrid.minor_grid_line_alpha = 0.1\n",
    "# minor_line → 设置次轴线\n",
    "\n",
    "show(p)"
   ]
  },
  {
   "cell_type": "code",
   "execution_count": 29,
   "metadata": {
    "collapsed": false,
    "jupyter": {
     "outputs_hidden": false
    }
   },
   "outputs": [
    {
     "data": {
      "text/html": [
       "\n",
       "\n",
       "\n",
       "\n",
       "\n",
       "\n",
       "  <div class=\"bk-root\" id=\"a12d2ed7-1443-4578-9d6a-f3b479a5b043\" data-root-id=\"9021\"></div>\n"
      ]
     },
     "metadata": {},
     "output_type": "display_data"
    },
    {
     "data": {
      "application/javascript": [
       "(function(root) {\n",
       "  function embed_document(root) {\n",
       "    \n",
       "  var docs_json = {\"c77219b2-6c7d-4b4e-b696-2bca7eb343aa\":{\"roots\":{\"references\":[{\"attributes\":{\"below\":[{\"id\":\"9030\"}],\"center\":[{\"id\":\"9033\"},{\"id\":\"9037\"}],\"left\":[{\"id\":\"9034\"}],\"plot_height\":400,\"renderers\":[{\"id\":\"9055\"},{\"id\":\"9060\"}],\"title\":{\"id\":\"9315\"},\"toolbar\":{\"id\":\"9045\"},\"x_range\":{\"id\":\"9022\"},\"x_scale\":{\"id\":\"9026\"},\"y_range\":{\"id\":\"9024\"},\"y_scale\":{\"id\":\"9028\"}},\"id\":\"9021\",\"subtype\":\"Figure\",\"type\":\"Plot\"},{\"attributes\":{\"data\":{\"x\":[0,1,2,3,4,5,6,7,8,9,10,11,12,13,14,15,16,17,18,19,20,21,22,23,24,25,26,27,28,29,30,31,32,33,34,35,36,37,38,39,40,41,42,43,44,45,46,47,48,49,50,51,52,53,54,55,56,57,58,59,60,61,62,63,64,65,66,67,68,69,70,71,72,73,74,75,76,77,78,79,80,81,82,83,84,85,86,87,88,89,90,91,92,93,94,95,96,97,98,99],\"y\":{\"__ndarray__\":\"RiiuoHf7BMCpipk68NrTv2TH0YDZd+C/Ln7QFt8OxT/OHJvkwODSv/zcK72ipvG/eV79vsN91L+KbdmsZTjPv1eaCKNGc/u/kGJnE8zB0D8Vaxz76h3gv0y1MM97JvK/ysdDqql9y783pm17jAO1P0v+LjCPZem/LQM1v/9u9D9QcAW3h9Pyv4+EWeDJVNy/8P5pwFfGxL+vE83Huovmv1EXB2d42uC/I4u8po5YBMCgCmqH1hrQv5TKoa8rr9o/1I8lM8rX5L/JsN6YFtviP7Wxpj4TRQFA5k84APqt7b97xKra+nbsPxEWS+TyLeY/DLzgZW5x07+3hp2OlkzRv26XBPDpW/s/nCg2gjvg8D/QBwL4hrbqv9E9q+3Ssuu/QhmjxofVnz/RDDSCiI7ov96O8KiKpuq/XiTwsfvF+D8h8zWHW4a0P5dXvC9vPMk/+ECMl/2Py79OuYZiAXbhPwWiARfBRfC/eoYto4+60r+31q4szBb1v1NJI51OE94/9DD0OUYhpj80t/PJl370Py4DqKExaMs/4k339h5DAMApwquxFkHqv6stPxLcb84/ERv7mJsS/T91pvhQRRHvPybB2PJ7yu0/7DWIDkqv/L9Wt8I0jWXyP/s4BrBn1uA/z2kfSc2a8T+3fqvs5GvxPyUnz7NpNP2/iv0m/Sy74z/GIkHUfd8DQHo9SKpv0OC/UXijBDyOqL8ITrMyhAerPyt18jA35d8/pGxVWtQ45r+L+C964bzvv1U8EcJcY+a/wIvQxqBs8z/VdpuUzC3MP/obBXeES9U/PqplVyIs87/7rsU0AYruP5bF1kwjXtI/EISF/AZO9z/RF66P7fTWP6hUQTwvdNG/x5Z/+0GB9T9uh5cQ40PgP5nYtyfryOE/emCT4U2g6T9Ab0Dk0PraP7Oquks61fE/dT7MwLOx0z96CRXeKJnwP+t5/90Jg8k/Yo0fR6Dh3z9nZfZ+8JPmv1WRcPXfg6u/i1rqErr9479xlSfvaqruP8rRkX0ytu+/ItF85qrl4L+Ct8uabfLuv9E3Xr95q+C/xdzWxf/q9j8=\",\"dtype\":\"float64\",\"order\":\"little\",\"shape\":[100]}},\"selected\":{\"id\":\"9325\"},\"selection_policy\":{\"id\":\"9324\"}},\"id\":\"9057\",\"type\":\"ColumnDataSource\"},{\"attributes\":{\"fill_alpha\":{\"value\":0.1},\"fill_color\":{\"value\":\"#FF0000\"},\"line_alpha\":{\"value\":0.1},\"line_color\":{\"value\":\"#FF0000\"},\"size\":{\"units\":\"screen\",\"value\":10},\"x\":{\"field\":\"x\"},\"y\":{\"field\":\"y\"}},\"id\":\"9059\",\"type\":\"Circle\"},{\"attributes\":{},\"id\":\"9043\",\"type\":\"HelpTool\"},{\"attributes\":{},\"id\":\"9038\",\"type\":\"PanTool\"},{\"attributes\":{},\"id\":\"9039\",\"type\":\"WheelZoomTool\"},{\"attributes\":{},\"id\":\"9041\",\"type\":\"SaveTool\"},{\"attributes\":{\"data_source\":{\"id\":\"9057\"},\"glyph\":{\"id\":\"9058\"},\"hover_glyph\":null,\"muted_glyph\":null,\"nonselection_glyph\":{\"id\":\"9059\"},\"selection_glyph\":null,\"view\":{\"id\":\"9061\"}},\"id\":\"9060\",\"type\":\"GlyphRenderer\"},{\"attributes\":{},\"id\":\"9026\",\"type\":\"LinearScale\"},{\"attributes\":{},\"id\":\"9035\",\"type\":\"BasicTicker\"},{\"attributes\":{},\"id\":\"9324\",\"type\":\"UnionRenderers\"},{\"attributes\":{\"formatter\":{\"id\":\"9317\"},\"ticker\":{\"id\":\"9031\"}},\"id\":\"9030\",\"type\":\"LinearAxis\"},{\"attributes\":{},\"id\":\"9031\",\"type\":\"BasicTicker\"},{\"attributes\":{\"data\":{\"x\":[0,1,2,3,4,5,6,7,8,9,10,11,12,13,14,15,16,17,18,19,20,21,22,23,24,25,26,27,28,29,30,31,32,33,34,35,36,37,38,39,40,41,42,43,44,45,46,47,48,49,50,51,52,53,54,55,56,57,58,59,60,61,62,63,64,65,66,67,68,69,70,71,72,73,74,75,76,77,78,79,80,81,82,83,84,85,86,87,88,89,90,91,92,93,94,95,96,97,98,99],\"y\":{\"__ndarray__\":\"YTRMg73oxD/Zb+Jo19DlPwK/2/1oMgRARLiwo2/u8T/KHP5OjdvvP2H5U4kYNNK/0r7ciJGquD+LiU+w/HvTPz0XUYeXeO4/4Aee/IKz3j+3lX3ARInrv9Vd4l70fP8/pdFrIrGp5r9cTgE8l0fPvwxh4kQ3PwlAyOsyWuTayz+XIddyMU3/v68SCDymau4/wDrhNDNlsT+oZf9tNtr3v6wzcpYpfQLAcCeHMeUW/j9fdKzAtIbcvxfIDBNkX/e/B9LjMq09AUBIAWlkBOP6v3fegqANmuC/H+dAujgy+D/98giFnMwFQG3o5+WOB9Q/AQQa2UOx5z9A2o2GyNvov2qAwYoWLNe/5r58IJfh+T8mEM72Gi1tv8bpWKaFHMW/DoLHcHt1tT8NjiCxIPPpv5pPq7PZGeQ/VCVVw1l0tj+syVSKFbTdv91AnxTIJ8o/yKt7GCS507+Bkg0imf7sv0Aagr1fb/W/2IVLEq5H/D/Yx8NfG2XvPwUBGcoUkMq/4FKCUBPA9z9LASEglETuv1mHcVopS+E/8IazvtMWxj+Pn4MaIOTQv3SQdvyiAto/JW4DfWwpsT91aYXc2vXfPzqbG8jhkvC/q4teUg7G8b8OKM+ag7jlP4S0w1XPM/o/Z+QRL/zzwD8njGMJBbvIP8FsQmAbXsQ/hrZzIPcD0D89Zmi8rw3Iv1ddCC5svuq/JrbisaIj7T+kqii3UATyPyfJggaBzPI/HmJDfJgTvz9FTUS+dn3sP2ulzthBuOs/+SDlJrhu9D8GCvQEN2HDv+3EuhN9r+k/So9qtOe+xr/SyOD2Eg2xP0f+42MPYdo/dLdbTRWJ+z8X6gZ0WYr3v03TklrmCOM/c1BNoV0Z2z+53nJIx4zmv+LmTjVNkLq/sPT+PF3y8D+vp/gA2i/av8+z78COVqo/rQza2pMMzz+u+pgTTYPxvwlUOSdMM/I/YYBiBrGS1D8sia7qSVPrP3/CNVdjPtA/lmhlSz2mt7/WaEZlguDxv4LlnUt2Kti/02vvAp6N5b8D7Xi+q07xv4YrBeHuhuc/5l2dKBll4T8=\",\"dtype\":\"float64\",\"order\":\"little\",\"shape\":[100]}},\"selected\":{\"id\":\"9323\"},\"selection_policy\":{\"id\":\"9322\"}},\"id\":\"9052\",\"type\":\"ColumnDataSource\"},{\"attributes\":{},\"id\":\"9325\",\"type\":\"Selection\"},{\"attributes\":{\"source\":{\"id\":\"9052\"}},\"id\":\"9056\",\"type\":\"CDSView\"},{\"attributes\":{\"data_source\":{\"id\":\"9052\"},\"glyph\":{\"id\":\"9053\"},\"hover_glyph\":null,\"muted_glyph\":null,\"nonselection_glyph\":{\"id\":\"9054\"},\"selection_glyph\":null,\"view\":{\"id\":\"9056\"}},\"id\":\"9055\",\"type\":\"GlyphRenderer\"},{\"attributes\":{},\"id\":\"9024\",\"type\":\"DataRange1d\"},{\"attributes\":{\"source\":{\"id\":\"9057\"}},\"id\":\"9061\",\"type\":\"CDSView\"},{\"attributes\":{},\"id\":\"9317\",\"type\":\"BasicTickFormatter\"},{\"attributes\":{\"axis\":{\"id\":\"9030\"},\"grid_line_color\":\"blue\",\"ticker\":null},\"id\":\"9033\",\"type\":\"Grid\"},{\"attributes\":{},\"id\":\"9028\",\"type\":\"LinearScale\"},{\"attributes\":{\"active_drag\":\"auto\",\"active_inspect\":\"auto\",\"active_multi\":null,\"active_scroll\":\"auto\",\"active_tap\":\"auto\",\"tools\":[{\"id\":\"9038\"},{\"id\":\"9039\"},{\"id\":\"9040\"},{\"id\":\"9041\"},{\"id\":\"9042\"},{\"id\":\"9043\"}]},\"id\":\"9045\",\"type\":\"Toolbar\"},{\"attributes\":{},\"id\":\"9022\",\"type\":\"DataRange1d\"},{\"attributes\":{\"axis\":{\"id\":\"9034\"},\"band_fill_alpha\":0.1,\"band_fill_color\":\"navy\",\"dimension\":1,\"ticker\":null},\"id\":\"9037\",\"type\":\"Grid\"},{\"attributes\":{\"text\":\"\"},\"id\":\"9315\",\"type\":\"Title\"},{\"attributes\":{},\"id\":\"9322\",\"type\":\"UnionRenderers\"},{\"attributes\":{\"bottom_units\":\"screen\",\"fill_alpha\":0.5,\"fill_color\":\"lightgrey\",\"left_units\":\"screen\",\"level\":\"overlay\",\"line_alpha\":1.0,\"line_color\":\"black\",\"line_dash\":[4,4],\"line_width\":2,\"right_units\":\"screen\",\"top_units\":\"screen\"},\"id\":\"9044\",\"type\":\"BoxAnnotation\"},{\"attributes\":{\"fill_alpha\":{\"value\":0.1},\"fill_color\":{\"value\":\"green\"},\"line_alpha\":{\"value\":0.1},\"line_color\":{\"value\":\"green\"},\"size\":{\"units\":\"screen\",\"value\":10},\"x\":{\"field\":\"x\"},\"y\":{\"field\":\"y\"}},\"id\":\"9054\",\"type\":\"Circle\"},{\"attributes\":{},\"id\":\"9042\",\"type\":\"ResetTool\"},{\"attributes\":{},\"id\":\"9319\",\"type\":\"BasicTickFormatter\"},{\"attributes\":{},\"id\":\"9323\",\"type\":\"Selection\"},{\"attributes\":{\"formatter\":{\"id\":\"9319\"},\"ticker\":{\"id\":\"9035\"}},\"id\":\"9034\",\"type\":\"LinearAxis\"},{\"attributes\":{\"fill_alpha\":{\"value\":0.5},\"fill_color\":{\"value\":\"green\"},\"line_alpha\":{\"value\":0.5},\"line_color\":{\"value\":\"green\"},\"size\":{\"units\":\"screen\",\"value\":10},\"x\":{\"field\":\"x\"},\"y\":{\"field\":\"y\"}},\"id\":\"9053\",\"type\":\"Circle\"},{\"attributes\":{\"overlay\":{\"id\":\"9044\"}},\"id\":\"9040\",\"type\":\"BoxZoomTool\"},{\"attributes\":{\"fill_alpha\":{\"value\":0.5},\"fill_color\":{\"value\":\"#FF0000\"},\"line_alpha\":{\"value\":0.5},\"line_color\":{\"value\":\"#FF0000\"},\"size\":{\"units\":\"screen\",\"value\":10},\"x\":{\"field\":\"x\"},\"y\":{\"field\":\"y\"}},\"id\":\"9058\",\"type\":\"Circle\"}],\"root_ids\":[\"9021\"]},\"title\":\"Bokeh Application\",\"version\":\"2.2.3\"}};\n",
       "  var render_items = [{\"docid\":\"c77219b2-6c7d-4b4e-b696-2bca7eb343aa\",\"root_ids\":[\"9021\"],\"roots\":{\"9021\":\"a12d2ed7-1443-4578-9d6a-f3b479a5b043\"}}];\n",
       "  root.Bokeh.embed.embed_items_notebook(docs_json, render_items);\n",
       "\n",
       "  }\n",
       "  if (root.Bokeh !== undefined) {\n",
       "    embed_document(root);\n",
       "  } else {\n",
       "    var attempts = 0;\n",
       "    var timer = setInterval(function(root) {\n",
       "      if (root.Bokeh !== undefined) {\n",
       "        clearInterval(timer);\n",
       "        embed_document(root);\n",
       "      } else {\n",
       "        attempts++;\n",
       "        if (attempts > 100) {\n",
       "          clearInterval(timer);\n",
       "          console.log(\"Bokeh: ERROR: Unable to run BokehJS code because BokehJS library is missing\");\n",
       "        }\n",
       "      }\n",
       "    }, 10, root)\n",
       "  }\n",
       "})(window);"
      ],
      "application/vnd.bokehjs_exec.v0+json": ""
     },
     "metadata": {
      "application/vnd.bokehjs_exec.v0+json": {
       "id": "9021"
      }
     },
     "output_type": "display_data"
    }
   ],
   "source": [
    "# Grid - 格网设置\n",
    "# 颜色填充\n",
    "\n",
    "p = figure(plot_width=600, plot_height=400)\n",
    "p.circle(df.index, df['A'], color = 'green', size=10,  alpha=0.5)\n",
    "p.circle(df.index, df['B'], color = '#FF0000', size=10,  alpha=0.5)\n",
    "# 绘制散点图\n",
    "\n",
    "p.xgrid.grid_line_color = 'blue'\n",
    "# 设置颜色为空\n",
    "# 颜色设置，None时则不显示\n",
    "\n",
    "p.ygrid.band_fill_alpha = 0.1\n",
    "p.ygrid.band_fill_color = \"navy\"\n",
    "# 设置颜色填充，及透明度\n",
    "\n",
    "# p.grid.bounds = (-1, 1)\n",
    "# # 设置填充边界\n",
    "\n",
    "show(p)"
   ]
  },
  {
   "cell_type": "code",
   "execution_count": 30,
   "metadata": {
    "collapsed": false,
    "jupyter": {
     "outputs_hidden": false
    }
   },
   "outputs": [
    {
     "name": "stderr",
     "output_type": "stream",
     "text": [
      "BokehDeprecationWarning: 'legend' keyword is deprecated, use explicit 'legend_label', 'legend_field', or 'legend_group' keywords instead\n",
      "BokehDeprecationWarning: 'legend' keyword is deprecated, use explicit 'legend_label', 'legend_field', or 'legend_group' keywords instead\n",
      "BokehDeprecationWarning: 'legend' keyword is deprecated, use explicit 'legend_label', 'legend_field', or 'legend_group' keywords instead\n",
      "BokehDeprecationWarning: 'legend' keyword is deprecated, use explicit 'legend_label', 'legend_field', or 'legend_group' keywords instead\n",
      "BokehDeprecationWarning: 'legend' keyword is deprecated, use explicit 'legend_label', 'legend_field', or 'legend_group' keywords instead\n"
     ]
    },
    {
     "data": {
      "text/html": [
       "\n",
       "\n",
       "\n",
       "\n",
       "\n",
       "\n",
       "  <div class=\"bk-root\" id=\"9954b805-ac7a-49f8-86af-d795fd25ec6c\" data-root-id=\"9503\"></div>\n"
      ]
     },
     "metadata": {},
     "output_type": "display_data"
    },
    {
     "data": {
      "application/javascript": [
       "(function(root) {\n",
       "  function embed_document(root) {\n",
       "    \n",
       "  var docs_json = {\"ffb26922-278c-41a4-91d9-ad2de9cec13b\":{\"roots\":{\"references\":[{\"attributes\":{\"below\":[{\"id\":\"9512\"}],\"center\":[{\"id\":\"9515\"},{\"id\":\"9519\"},{\"id\":\"9548\"}],\"left\":[{\"id\":\"9516\"}],\"plot_height\":400,\"renderers\":[{\"id\":\"9537\"},{\"id\":\"9553\"},{\"id\":\"9569\"},{\"id\":\"9588\"},{\"id\":\"9609\"}],\"title\":{\"id\":\"9539\"},\"toolbar\":{\"id\":\"9527\"},\"x_range\":{\"id\":\"9504\"},\"x_scale\":{\"id\":\"9508\"},\"y_range\":{\"id\":\"9506\"},\"y_scale\":{\"id\":\"9510\"}},\"id\":\"9503\",\"subtype\":\"Figure\",\"type\":\"Plot\"},{\"attributes\":{},\"id\":\"9565\",\"type\":\"Selection\"},{\"attributes\":{\"axis\":{\"id\":\"9512\"},\"ticker\":null},\"id\":\"9515\",\"type\":\"Grid\"},{\"attributes\":{\"fill_alpha\":{\"value\":0.1},\"fill_color\":{\"value\":null},\"line_alpha\":{\"value\":0.1},\"line_color\":{\"value\":\"green\"},\"x\":{\"field\":\"x\"},\"y\":{\"field\":\"y\"}},\"id\":\"9587\",\"type\":\"Square\"},{\"attributes\":{},\"id\":\"9604\",\"type\":\"Selection\"},{\"attributes\":{},\"id\":\"9521\",\"type\":\"WheelZoomTool\"},{\"attributes\":{\"data_source\":{\"id\":\"9566\"},\"glyph\":{\"id\":\"9567\"},\"hover_glyph\":null,\"muted_glyph\":null,\"nonselection_glyph\":{\"id\":\"9568\"},\"selection_glyph\":null,\"view\":{\"id\":\"9570\"}},\"id\":\"9569\",\"type\":\"GlyphRenderer\"},{\"attributes\":{\"formatter\":{\"id\":\"9541\"},\"ticker\":{\"id\":\"9513\"}},\"id\":\"9512\",\"type\":\"LinearAxis\"},{\"attributes\":{\"fill_alpha\":{\"value\":0.1},\"fill_color\":{\"value\":\"#1f77b4\"},\"line_alpha\":{\"value\":0.1},\"line_color\":{\"value\":\"#1f77b4\"},\"x\":{\"field\":\"x\"},\"y\":{\"field\":\"y\"}},\"id\":\"9536\",\"type\":\"Circle\"},{\"attributes\":{},\"id\":\"9582\",\"type\":\"UnionRenderers\"},{\"attributes\":{},\"id\":\"9525\",\"type\":\"HelpTool\"},{\"attributes\":{\"fill_color\":{\"value\":\"#1f77b4\"},\"line_color\":{\"value\":\"#1f77b4\"},\"x\":{\"field\":\"x\"},\"y\":{\"field\":\"y\"}},\"id\":\"9535\",\"type\":\"Circle\"},{\"attributes\":{},\"id\":\"9520\",\"type\":\"PanTool\"},{\"attributes\":{\"source\":{\"id\":\"9606\"}},\"id\":\"9610\",\"type\":\"CDSView\"},{\"attributes\":{\"line_color\":\"green\",\"x\":{\"field\":\"x\"},\"y\":{\"field\":\"y\"}},\"id\":\"9607\",\"type\":\"Line\"},{\"attributes\":{\"source\":{\"id\":\"9534\"}},\"id\":\"9538\",\"type\":\"CDSView\"},{\"attributes\":{},\"id\":\"9517\",\"type\":\"BasicTicker\"},{\"attributes\":{},\"id\":\"9543\",\"type\":\"BasicTickFormatter\"},{\"attributes\":{},\"id\":\"9541\",\"type\":\"BasicTickFormatter\"},{\"attributes\":{\"label\":{\"value\":\"sin(x)\"},\"renderers\":[{\"id\":\"9537\"},{\"id\":\"9553\"}]},\"id\":\"9549\",\"type\":\"LegendItem\"},{\"attributes\":{},\"id\":\"9508\",\"type\":\"LinearScale\"},{\"attributes\":{\"data\":{\"x\":{\"__ndarray__\":\"AAAAAAAAAACRGkt8Vz/AP5EaS3xXP9A/2qdwOgNf2D+RGkt8Vz/gPzXhXVstT+Q/2qdwOgNf6D9+boMZ2W7sP5EaS3xXP/A/433Ua0JH8j814V1bLU/0P4dE50oYV/Y/2qdwOgNf+D8sC/op7mb6P35ugxnZbvw/0NEMCcR2/j+RGkt8Vz8AQDrMD/RMQwFA433Ua0JHAkCML5njN0sDQDXhXVstTwRA3pIi0yJTBUCHROdKGFcGQDD2q8INWwdA2qdwOgNfCECDWTWy+GIJQCwL+inuZgpA1by+oeNqC0B+boMZ2W4MQCcgSJHOcg1A0NEMCcR2DkB5g9GAuXoPQJEaS3xXPxBAZnMtOFLBEEA6zA/0TEMRQA8l8q9HxRFA433Ua0JHEkC41rYnPckSQIwvmeM3SxNAYYh7nzLNE0A14V1bLU8UQAo6QBco0RRA3pIi0yJTFUCz6wSPHdUVQIdE50oYVxZAXJ3JBhPZFkAw9qvCDVsXQAVPjn4I3RdA2qdwOgNfGECuAFP2/eAYQINZNbL4YhlAV7IXbvPkGUAsC/op7mYaQABk3OXo6BpA1by+oeNqG0CpFaFd3uwbQH5ugxnZbhxAUsdl1dPwHEAnIEiRznIdQPt4Kk3J9B1A0NEMCcR2HkCkKu/EvvgeQHmD0YC5eh9ATdyzPLT8H0CRGkt8Vz8gQPtGPNpUgCBAZnMtOFLBIEDQnx6WTwIhQDrMD/RMQyFApPgAUkqEIUAPJfKvR8UhQHlR4w1FBiJA433Ua0JHIkBNqsXJP4giQLjWtic9ySJAIgOohToKI0CML5njN0sjQPZbikE1jCNAYYh7nzLNI0DLtGz9Lw4kQDXhXVstTyRAoA1PuSqQJEAKOkAXKNEkQHRmMXUlEiVA3pIi0yJTJUBJvxMxIJQlQLPrBI8d1SVAHRj27BoWJkCHROdKGFcmQPJw2KgVmCZAXJ3JBhPZJkDGybpkEBonQDD2q8INWydAmyKdIAucJ0AFT45+CN0nQG97f9wFHihA2qdwOgNfKEBE1GGYAKAoQK4AU/b94ChAGC1EVPshKUA=\",\"dtype\":\"float64\",\"order\":\"little\",\"shape\":[100]},\"y\":{\"__ndarray__\":\"AAAAAAAAAADoxQO0RU7YP+dMxoI2HOg//C5K/vzW8T/Tua6vYlb3P+nH5xKndfw/AFIvb9iPAEBm8BjVpKACQNka5Ym2ZARADqEya8fUBUD+Gu1b6+oGQBHVYKmoogdAYgGEegr5B0DMzIX9rOwHQM+xeSHDfQdA1L6JxBWuBkB9BRBa/IAFQO0A3yZP+wNAeZ5rTFMjAkDe5Qz1oAAAQDnpZxcIOPs/tv7u/6/+9T/6iGdXvmrwP2wf+wVaJuU/5X710zFA0j+uSTsu9124v2QnUqkVVt6/o9Qx/NsL679m4Ulpoj7zvxQdiFoRqPi/bDUKCPCr/b/J7VIByxoBwPGhyyYpGQPAgTlCLtzIBMCuGkzd8SIGwAOBBKLYIQfAMzIqg3bBB8BzaxsFOv8HwKfUGL4k2gfAJ8c7bs9SB8BSNUOKZ2sGwCX1VkOmJwXAMfGzMMGMA8AjU27aVKEBwC4hWvuS2v6/DwQZ9WTz+b9lsKPjUaH0v8Yvs7GI9O2/YIF44Akr4r8GSRAz01rIvzJJEDPTWsg/aoF44Akr4j/QL7OxiPTtP2Cwo+NRofQ/FAQZ9WTz+T8qIVr7ktr+PyVTbtpUoQFAMPGzMMGMA0Am9VZDpicFQFE1Q4pnawZAKMc7bs9SB0Cn1Bi+JNoHQHNrGwU6/wdANDIqg3bBB0ACgQSi2CEHQLAaTN3xIgZAfTlCLtzIBEDwocsmKRkDQMntUgHLGgFAcTUKCPCr/T8MHYhaEaj4P2HhSWmiPvM/pNQx/NsL6z99J1KpFVbeP/ZIOy73Xbg/+n710zFA0r9fH/sFWiblv+6IZ1e+avC/uv7u/6/+9b846WcXCDj7v9vlDPWgAADAfJ5rTFMjAsDuAN8mT/sDwH0FEFr8gAXA076JxBWuBsDQsXkhw30HwMzMhf2s7AfAYgGEegr5B8AS1WCpqKIHwPwa7Vvr6gbADqEya8fUBcDaGuWJtmQEwGnwGNWkoALA/VEvb9iPAMDpx+cSp3X8v9a5rq9iVve/8C5K/vzW8b/bTMaCNhzov+rFA7RFTti/CoqeTDl52rw=\",\"dtype\":\"float64\",\"order\":\"little\",\"shape\":[100]}},\"selected\":{\"id\":\"9604\"},\"selection_policy\":{\"id\":\"9603\"}},\"id\":\"9585\",\"type\":\"ColumnDataSource\"},{\"attributes\":{},\"id\":\"9583\",\"type\":\"Selection\"},{\"attributes\":{\"label\":{\"value\":\"2*sin(x)\"},\"renderers\":[{\"id\":\"9569\"}]},\"id\":\"9584\",\"type\":\"LegendItem\"},{\"attributes\":{\"source\":{\"id\":\"9566\"}},\"id\":\"9570\",\"type\":\"CDSView\"},{\"attributes\":{},\"id\":\"9523\",\"type\":\"SaveTool\"},{\"attributes\":{\"fill_color\":{\"value\":null},\"line_color\":{\"value\":\"green\"},\"x\":{\"field\":\"x\"},\"y\":{\"field\":\"y\"}},\"id\":\"9586\",\"type\":\"Square\"},{\"attributes\":{},\"id\":\"9513\",\"type\":\"BasicTicker\"},{\"attributes\":{\"active_drag\":\"auto\",\"active_inspect\":\"auto\",\"active_multi\":null,\"active_scroll\":\"auto\",\"active_tap\":\"auto\",\"tools\":[{\"id\":\"9520\"},{\"id\":\"9521\"},{\"id\":\"9522\"},{\"id\":\"9523\"},{\"id\":\"9524\"},{\"id\":\"9525\"}]},\"id\":\"9527\",\"type\":\"Toolbar\"},{\"attributes\":{\"background_fill_alpha\":0.2,\"background_fill_color\":\"gray\",\"border_line_color\":\"navy\",\"border_line_width\":3,\"items\":[{\"id\":\"9549\"},{\"id\":\"9584\"},{\"id\":\"9605\"}],\"label_text_color\":\"navy\",\"label_text_font\":\"times\",\"label_text_font_size\":\"12pt\",\"label_text_font_style\":\"italic\",\"location\":\"bottom_left\"},\"id\":\"9548\",\"type\":\"Legend\"},{\"attributes\":{\"line_alpha\":0.1,\"line_color\":\"orange\",\"line_dash\":[4,4],\"line_width\":2,\"x\":{\"field\":\"x\"},\"y\":{\"field\":\"y\"}},\"id\":\"9568\",\"type\":\"Line\"},{\"attributes\":{\"data\":{\"x\":{\"__ndarray__\":\"AAAAAAAAAACRGkt8Vz/AP5EaS3xXP9A/2qdwOgNf2D+RGkt8Vz/gPzXhXVstT+Q/2qdwOgNf6D9+boMZ2W7sP5EaS3xXP/A/433Ua0JH8j814V1bLU/0P4dE50oYV/Y/2qdwOgNf+D8sC/op7mb6P35ugxnZbvw/0NEMCcR2/j+RGkt8Vz8AQDrMD/RMQwFA433Ua0JHAkCML5njN0sDQDXhXVstTwRA3pIi0yJTBUCHROdKGFcGQDD2q8INWwdA2qdwOgNfCECDWTWy+GIJQCwL+inuZgpA1by+oeNqC0B+boMZ2W4MQCcgSJHOcg1A0NEMCcR2DkB5g9GAuXoPQJEaS3xXPxBAZnMtOFLBEEA6zA/0TEMRQA8l8q9HxRFA433Ua0JHEkC41rYnPckSQIwvmeM3SxNAYYh7nzLNE0A14V1bLU8UQAo6QBco0RRA3pIi0yJTFUCz6wSPHdUVQIdE50oYVxZAXJ3JBhPZFkAw9qvCDVsXQAVPjn4I3RdA2qdwOgNfGECuAFP2/eAYQINZNbL4YhlAV7IXbvPkGUAsC/op7mYaQABk3OXo6BpA1by+oeNqG0CpFaFd3uwbQH5ugxnZbhxAUsdl1dPwHEAnIEiRznIdQPt4Kk3J9B1A0NEMCcR2HkCkKu/EvvgeQHmD0YC5eh9ATdyzPLT8H0CRGkt8Vz8gQPtGPNpUgCBAZnMtOFLBIEDQnx6WTwIhQDrMD/RMQyFApPgAUkqEIUAPJfKvR8UhQHlR4w1FBiJA433Ua0JHIkBNqsXJP4giQLjWtic9ySJAIgOohToKI0CML5njN0sjQPZbikE1jCNAYYh7nzLNI0DLtGz9Lw4kQDXhXVstTyRAoA1PuSqQJEAKOkAXKNEkQHRmMXUlEiVA3pIi0yJTJUBJvxMxIJQlQLPrBI8d1SVAHRj27BoWJkCHROdKGFcmQPJw2KgVmCZAXJ3JBhPZJkDGybpkEBonQDD2q8INWydAmyKdIAucJ0AFT45+CN0nQG97f9wFHihA2qdwOgNfKEBE1GGYAKAoQK4AU/b94ChAGC1EVPshKUA=\",\"dtype\":\"float64\",\"order\":\"little\",\"shape\":[100]},\"y\":{\"__ndarray__\":\"AAAAAAAAAADoxQO0RU7YP+dMxoI2HOg//C5K/vzW8T/Tua6vYlb3P+nH5xKndfw/AFIvb9iPAEBm8BjVpKACQNka5Ym2ZARADqEya8fUBUD+Gu1b6+oGQBHVYKmoogdAYgGEegr5B0DMzIX9rOwHQM+xeSHDfQdA1L6JxBWuBkB9BRBa/IAFQO0A3yZP+wNAeZ5rTFMjAkDe5Qz1oAAAQDnpZxcIOPs/tv7u/6/+9T/6iGdXvmrwP2wf+wVaJuU/5X710zFA0j+uSTsu9124v2QnUqkVVt6/o9Qx/NsL679m4Ulpoj7zvxQdiFoRqPi/bDUKCPCr/b/J7VIByxoBwPGhyyYpGQPAgTlCLtzIBMCuGkzd8SIGwAOBBKLYIQfAMzIqg3bBB8BzaxsFOv8HwKfUGL4k2gfAJ8c7bs9SB8BSNUOKZ2sGwCX1VkOmJwXAMfGzMMGMA8AjU27aVKEBwC4hWvuS2v6/DwQZ9WTz+b9lsKPjUaH0v8Yvs7GI9O2/YIF44Akr4r8GSRAz01rIvzJJEDPTWsg/aoF44Akr4j/QL7OxiPTtP2Cwo+NRofQ/FAQZ9WTz+T8qIVr7ktr+PyVTbtpUoQFAMPGzMMGMA0Am9VZDpicFQFE1Q4pnawZAKMc7bs9SB0Cn1Bi+JNoHQHNrGwU6/wdANDIqg3bBB0ACgQSi2CEHQLAaTN3xIgZAfTlCLtzIBEDwocsmKRkDQMntUgHLGgFAcTUKCPCr/T8MHYhaEaj4P2HhSWmiPvM/pNQx/NsL6z99J1KpFVbeP/ZIOy73Xbg/+n710zFA0r9fH/sFWiblv+6IZ1e+avC/uv7u/6/+9b846WcXCDj7v9vlDPWgAADAfJ5rTFMjAsDuAN8mT/sDwH0FEFr8gAXA076JxBWuBsDQsXkhw30HwMzMhf2s7AfAYgGEegr5B8AS1WCpqKIHwPwa7Vvr6gbADqEya8fUBcDaGuWJtmQEwGnwGNWkoALA/VEvb9iPAMDpx+cSp3X8v9a5rq9iVve/8C5K/vzW8b/bTMaCNhzov+rFA7RFTti/CoqeTDl52rw=\",\"dtype\":\"float64\",\"order\":\"little\",\"shape\":[100]}},\"selected\":{\"id\":\"9627\"},\"selection_policy\":{\"id\":\"9626\"}},\"id\":\"9606\",\"type\":\"ColumnDataSource\"},{\"attributes\":{},\"id\":\"9506\",\"type\":\"DataRange1d\"},{\"attributes\":{\"data_source\":{\"id\":\"9606\"},\"glyph\":{\"id\":\"9607\"},\"hover_glyph\":null,\"muted_glyph\":null,\"nonselection_glyph\":{\"id\":\"9608\"},\"selection_glyph\":null,\"view\":{\"id\":\"9610\"}},\"id\":\"9609\",\"type\":\"GlyphRenderer\"},{\"attributes\":{\"line_color\":\"orange\",\"line_dash\":[4,4],\"line_width\":2,\"x\":{\"field\":\"x\"},\"y\":{\"field\":\"y\"}},\"id\":\"9567\",\"type\":\"Line\"},{\"attributes\":{},\"id\":\"9546\",\"type\":\"UnionRenderers\"},{\"attributes\":{},\"id\":\"9627\",\"type\":\"Selection\"},{\"attributes\":{\"source\":{\"id\":\"9550\"}},\"id\":\"9554\",\"type\":\"CDSView\"},{\"attributes\":{},\"id\":\"9603\",\"type\":\"UnionRenderers\"},{\"attributes\":{\"axis\":{\"id\":\"9516\"},\"dimension\":1,\"ticker\":null},\"id\":\"9519\",\"type\":\"Grid\"},{\"attributes\":{},\"id\":\"9547\",\"type\":\"Selection\"},{\"attributes\":{\"formatter\":{\"id\":\"9543\"},\"ticker\":{\"id\":\"9517\"}},\"id\":\"9516\",\"type\":\"LinearAxis\"},{\"attributes\":{\"line_alpha\":0.1,\"line_color\":\"green\",\"x\":{\"field\":\"x\"},\"y\":{\"field\":\"y\"}},\"id\":\"9608\",\"type\":\"Line\"},{\"attributes\":{\"line_alpha\":0.1,\"line_color\":\"#1f77b4\",\"x\":{\"field\":\"x\"},\"y\":{\"field\":\"y\"}},\"id\":\"9552\",\"type\":\"Line\"},{\"attributes\":{\"bottom_units\":\"screen\",\"fill_alpha\":0.5,\"fill_color\":\"lightgrey\",\"left_units\":\"screen\",\"level\":\"overlay\",\"line_alpha\":1.0,\"line_color\":\"black\",\"line_dash\":[4,4],\"line_width\":2,\"right_units\":\"screen\",\"top_units\":\"screen\"},\"id\":\"9526\",\"type\":\"BoxAnnotation\"},{\"attributes\":{},\"id\":\"9524\",\"type\":\"ResetTool\"},{\"attributes\":{\"data\":{\"x\":{\"__ndarray__\":\"AAAAAAAAAACRGkt8Vz/AP5EaS3xXP9A/2qdwOgNf2D+RGkt8Vz/gPzXhXVstT+Q/2qdwOgNf6D9+boMZ2W7sP5EaS3xXP/A/433Ua0JH8j814V1bLU/0P4dE50oYV/Y/2qdwOgNf+D8sC/op7mb6P35ugxnZbvw/0NEMCcR2/j+RGkt8Vz8AQDrMD/RMQwFA433Ua0JHAkCML5njN0sDQDXhXVstTwRA3pIi0yJTBUCHROdKGFcGQDD2q8INWwdA2qdwOgNfCECDWTWy+GIJQCwL+inuZgpA1by+oeNqC0B+boMZ2W4MQCcgSJHOcg1A0NEMCcR2DkB5g9GAuXoPQJEaS3xXPxBAZnMtOFLBEEA6zA/0TEMRQA8l8q9HxRFA433Ua0JHEkC41rYnPckSQIwvmeM3SxNAYYh7nzLNE0A14V1bLU8UQAo6QBco0RRA3pIi0yJTFUCz6wSPHdUVQIdE50oYVxZAXJ3JBhPZFkAw9qvCDVsXQAVPjn4I3RdA2qdwOgNfGECuAFP2/eAYQINZNbL4YhlAV7IXbvPkGUAsC/op7mYaQABk3OXo6BpA1by+oeNqG0CpFaFd3uwbQH5ugxnZbhxAUsdl1dPwHEAnIEiRznIdQPt4Kk3J9B1A0NEMCcR2HkCkKu/EvvgeQHmD0YC5eh9ATdyzPLT8H0CRGkt8Vz8gQPtGPNpUgCBAZnMtOFLBIEDQnx6WTwIhQDrMD/RMQyFApPgAUkqEIUAPJfKvR8UhQHlR4w1FBiJA433Ua0JHIkBNqsXJP4giQLjWtic9ySJAIgOohToKI0CML5njN0sjQPZbikE1jCNAYYh7nzLNI0DLtGz9Lw4kQDXhXVstTyRAoA1PuSqQJEAKOkAXKNEkQHRmMXUlEiVA3pIi0yJTJUBJvxMxIJQlQLPrBI8d1SVAHRj27BoWJkCHROdKGFcmQPJw2KgVmCZAXJ3JBhPZJkDGybpkEBonQDD2q8INWydAmyKdIAucJ0AFT45+CN0nQG97f9wFHihA2qdwOgNfKEBE1GGYAKAoQK4AU/b94ChAGC1EVPshKUA=\",\"dtype\":\"float64\",\"order\":\"little\",\"shape\":[100]},\"y\":{\"__ndarray__\":\"AAAAAAAAAADwgwJ4LjTQP5qI2QHPEuA/+5MNU1HJ5z8ZTT7q2B3vP0aFmgwa+fI/ABg/lCAV9j+IQCEcMdb4P3fOhmLzMPs/EyzujrQb/T/9Izwlj47+PxccgYyLg/8/g6xao7j2/z9mZrL8O+b/P7+X94FZUv8/xVNiW3I9/j9RB8Ai+6v8P5FWKYlppPo/oSg6uxkv+D/Sh2bxK1b1PyZGRbpaJfI/8qg+VZVT7T/4C4p0qOPlP+UppLIiM9w/3FNHxZdVyD/J23zJpD6wv+3ENsZjOdS/wo12/ecH4r/dgWKM2Kjpv2MTsJELcPC/83ixWvXH87+358MBZM72v5eCD4nhdvm/rExY6Hq2+7+TIxAn7YP9vwSssILL1/6/70I4BJ6s/7/vOc8G+P7/vzTGy1KGzf+/3176khQZ/7/C8a4NiuT9vzGcHq/dNPy/l0FFlgER+r+EGZN4xoH3vx8WPFK3kfS/Cli7+O1M8b+HQNqEwoHrv9kfIiFb+OO/gKyggGI52L8EhrXMjDzAvyGGtcyMPMA/jqyggGI52D/gHyIhW/jjP4BA2oTCges/DVi7+O1M8T8cFjxSt5H0P4cZk3jGgfc/lUFFlgER+j8ynB6v3TT8P8Hxrg2K5P0/4F76khQZ/z80xstShs3/P+85zwb4/v8/8EI4BJ6s/z8DrLCCy9f+P5UjECftg/0/p0xY6Hq2+z+Vgg+J4Xb5P7fnwwFkzvY/9nixWvXH8z9dE7CRC3DwP9eBYozYqOk/w412/ecH4j/+xDbGYznUP0/bfMmkPrA/+FNHxZdVyL/UKaSyIjPcv+gLinSo4+W/+Kg+VZVT7b8lRkW6WiXyv8+HZvErVvW/pig6uxkv+L+TVimJaaT6v1EHwCL7q/y/xFNiW3I9/r/Al/eBWVL/v2Zmsvw75v+/g6xao7j2/78YHIGMi4P/v/sjPCWPjv6/EyzujrQb/b94zoZi8zD7v4xAIRwx1vi//Bc/lCAV9r9GhZoMGvnyvx5NPurYHe+/65MNU1HJ57+SiNkBzxLgv/GDAnguNNC/B1wUMyam0bw=\",\"dtype\":\"float64\",\"order\":\"little\",\"shape\":[100]}},\"selected\":{\"id\":\"9583\"},\"selection_policy\":{\"id\":\"9582\"}},\"id\":\"9566\",\"type\":\"ColumnDataSource\"},{\"attributes\":{\"overlay\":{\"id\":\"9526\"}},\"id\":\"9522\",\"type\":\"BoxZoomTool\"},{\"attributes\":{},\"id\":\"9510\",\"type\":\"LinearScale\"},{\"attributes\":{},\"id\":\"9504\",\"type\":\"DataRange1d\"},{\"attributes\":{\"text\":\"\"},\"id\":\"9539\",\"type\":\"Title\"},{\"attributes\":{\"data_source\":{\"id\":\"9534\"},\"glyph\":{\"id\":\"9535\"},\"hover_glyph\":null,\"muted_glyph\":null,\"nonselection_glyph\":{\"id\":\"9536\"},\"selection_glyph\":null,\"view\":{\"id\":\"9538\"}},\"id\":\"9537\",\"type\":\"GlyphRenderer\"},{\"attributes\":{\"label\":{\"value\":\"3*sin(x)\"},\"renderers\":[{\"id\":\"9588\"},{\"id\":\"9609\"}]},\"id\":\"9605\",\"type\":\"LegendItem\"},{\"attributes\":{\"data\":{\"x\":{\"__ndarray__\":\"AAAAAAAAAACRGkt8Vz/AP5EaS3xXP9A/2qdwOgNf2D+RGkt8Vz/gPzXhXVstT+Q/2qdwOgNf6D9+boMZ2W7sP5EaS3xXP/A/433Ua0JH8j814V1bLU/0P4dE50oYV/Y/2qdwOgNf+D8sC/op7mb6P35ugxnZbvw/0NEMCcR2/j+RGkt8Vz8AQDrMD/RMQwFA433Ua0JHAkCML5njN0sDQDXhXVstTwRA3pIi0yJTBUCHROdKGFcGQDD2q8INWwdA2qdwOgNfCECDWTWy+GIJQCwL+inuZgpA1by+oeNqC0B+boMZ2W4MQCcgSJHOcg1A0NEMCcR2DkB5g9GAuXoPQJEaS3xXPxBAZnMtOFLBEEA6zA/0TEMRQA8l8q9HxRFA433Ua0JHEkC41rYnPckSQIwvmeM3SxNAYYh7nzLNE0A14V1bLU8UQAo6QBco0RRA3pIi0yJTFUCz6wSPHdUVQIdE50oYVxZAXJ3JBhPZFkAw9qvCDVsXQAVPjn4I3RdA2qdwOgNfGECuAFP2/eAYQINZNbL4YhlAV7IXbvPkGUAsC/op7mYaQABk3OXo6BpA1by+oeNqG0CpFaFd3uwbQH5ugxnZbhxAUsdl1dPwHEAnIEiRznIdQPt4Kk3J9B1A0NEMCcR2HkCkKu/EvvgeQHmD0YC5eh9ATdyzPLT8H0CRGkt8Vz8gQPtGPNpUgCBAZnMtOFLBIEDQnx6WTwIhQDrMD/RMQyFApPgAUkqEIUAPJfKvR8UhQHlR4w1FBiJA433Ua0JHIkBNqsXJP4giQLjWtic9ySJAIgOohToKI0CML5njN0sjQPZbikE1jCNAYYh7nzLNI0DLtGz9Lw4kQDXhXVstTyRAoA1PuSqQJEAKOkAXKNEkQHRmMXUlEiVA3pIi0yJTJUBJvxMxIJQlQLPrBI8d1SVAHRj27BoWJkCHROdKGFcmQPJw2KgVmCZAXJ3JBhPZJkDGybpkEBonQDD2q8INWydAmyKdIAucJ0AFT45+CN0nQG97f9wFHihA2qdwOgNfKEBE1GGYAKAoQK4AU/b94ChAGC1EVPshKUA=\",\"dtype\":\"float64\",\"order\":\"little\",\"shape\":[100]},\"y\":{\"__ndarray__\":\"AAAAAAAAAADwgwJ4LjTAP5qI2QHPEtA/+5MNU1HJ1z8ZTT7q2B3fP0aFmgwa+eI/ABg/lCAV5j+IQCEcMdboP3fOhmLzMOs/EyzujrQb7T/9Izwlj47uPxccgYyLg+8/g6xao7j27z9mZrL8O+bvP7+X94FZUu8/xVNiW3I97j9RB8Ai+6vsP5FWKYlppOo/oSg6uxkv6D/Sh2bxK1blPyZGRbpaJeI/8qg+VZVT3T/4C4p0qOPVP+UppLIiM8w/3FNHxZdVuD/J23zJpD6gv+3ENsZjOcS/wo12/ecH0r/dgWKM2KjZv2MTsJELcOC/83ixWvXH47+358MBZM7mv5eCD4nhdum/rExY6Hq267+TIxAn7YPtvwSssILL1+6/70I4BJ6s77/vOc8G+P7vvzTGy1KGze+/3176khQZ77/C8a4NiuTtvzGcHq/dNOy/l0FFlgER6r+EGZN4xoHnvx8WPFK3keS/Cli7+O1M4b+HQNqEwoHbv9kfIiFb+NO/gKyggGI5yL8EhrXMjDywvyGGtcyMPLA/jqyggGI5yD/gHyIhW/jTP4BA2oTCgds/DVi7+O1M4T8cFjxSt5HkP4cZk3jGgec/lUFFlgER6j8ynB6v3TTsP8Hxrg2K5O0/4F76khQZ7z80xstShs3vP+85zwb4/u8/8EI4BJ6s7z8DrLCCy9fuP5UjECftg+0/p0xY6Hq26z+Vgg+J4XbpP7fnwwFkzuY/9nixWvXH4z9dE7CRC3DgP9eBYozYqNk/w412/ecH0j/+xDbGYznEP0/bfMmkPqA/+FNHxZdVuL/UKaSyIjPMv+gLinSo49W/+Kg+VZVT3b8lRkW6WiXiv8+HZvErVuW/pig6uxkv6L+TVimJaaTqv1EHwCL7q+y/xFNiW3I97r/Al/eBWVLvv2Zmsvw75u+/g6xao7j2778YHIGMi4Pvv/sjPCWPju6/EyzujrQb7b94zoZi8zDrv4xAIRwx1ui//Bc/lCAV5r9GhZoMGvnivx5NPurYHd+/65MNU1HJ17+SiNkBzxLQv/GDAnguNMC/B1wUMyamwbw=\",\"dtype\":\"float64\",\"order\":\"little\",\"shape\":[100]}},\"selected\":{\"id\":\"9565\"},\"selection_policy\":{\"id\":\"9564\"}},\"id\":\"9550\",\"type\":\"ColumnDataSource\"},{\"attributes\":{},\"id\":\"9564\",\"type\":\"UnionRenderers\"},{\"attributes\":{},\"id\":\"9626\",\"type\":\"UnionRenderers\"},{\"attributes\":{\"source\":{\"id\":\"9585\"}},\"id\":\"9589\",\"type\":\"CDSView\"},{\"attributes\":{\"data_source\":{\"id\":\"9550\"},\"glyph\":{\"id\":\"9551\"},\"hover_glyph\":null,\"muted_glyph\":null,\"nonselection_glyph\":{\"id\":\"9552\"},\"selection_glyph\":null,\"view\":{\"id\":\"9554\"}},\"id\":\"9553\",\"type\":\"GlyphRenderer\"},{\"attributes\":{\"data_source\":{\"id\":\"9585\"},\"glyph\":{\"id\":\"9586\"},\"hover_glyph\":null,\"muted_glyph\":null,\"nonselection_glyph\":{\"id\":\"9587\"},\"selection_glyph\":null,\"view\":{\"id\":\"9589\"}},\"id\":\"9588\",\"type\":\"GlyphRenderer\"},{\"attributes\":{\"data\":{\"x\":{\"__ndarray__\":\"AAAAAAAAAACRGkt8Vz/AP5EaS3xXP9A/2qdwOgNf2D+RGkt8Vz/gPzXhXVstT+Q/2qdwOgNf6D9+boMZ2W7sP5EaS3xXP/A/433Ua0JH8j814V1bLU/0P4dE50oYV/Y/2qdwOgNf+D8sC/op7mb6P35ugxnZbvw/0NEMCcR2/j+RGkt8Vz8AQDrMD/RMQwFA433Ua0JHAkCML5njN0sDQDXhXVstTwRA3pIi0yJTBUCHROdKGFcGQDD2q8INWwdA2qdwOgNfCECDWTWy+GIJQCwL+inuZgpA1by+oeNqC0B+boMZ2W4MQCcgSJHOcg1A0NEMCcR2DkB5g9GAuXoPQJEaS3xXPxBAZnMtOFLBEEA6zA/0TEMRQA8l8q9HxRFA433Ua0JHEkC41rYnPckSQIwvmeM3SxNAYYh7nzLNE0A14V1bLU8UQAo6QBco0RRA3pIi0yJTFUCz6wSPHdUVQIdE50oYVxZAXJ3JBhPZFkAw9qvCDVsXQAVPjn4I3RdA2qdwOgNfGECuAFP2/eAYQINZNbL4YhlAV7IXbvPkGUAsC/op7mYaQABk3OXo6BpA1by+oeNqG0CpFaFd3uwbQH5ugxnZbhxAUsdl1dPwHEAnIEiRznIdQPt4Kk3J9B1A0NEMCcR2HkCkKu/EvvgeQHmD0YC5eh9ATdyzPLT8H0CRGkt8Vz8gQPtGPNpUgCBAZnMtOFLBIEDQnx6WTwIhQDrMD/RMQyFApPgAUkqEIUAPJfKvR8UhQHlR4w1FBiJA433Ua0JHIkBNqsXJP4giQLjWtic9ySJAIgOohToKI0CML5njN0sjQPZbikE1jCNAYYh7nzLNI0DLtGz9Lw4kQDXhXVstTyRAoA1PuSqQJEAKOkAXKNEkQHRmMXUlEiVA3pIi0yJTJUBJvxMxIJQlQLPrBI8d1SVAHRj27BoWJkCHROdKGFcmQPJw2KgVmCZAXJ3JBhPZJkDGybpkEBonQDD2q8INWydAmyKdIAucJ0AFT45+CN0nQG97f9wFHihA2qdwOgNfKEBE1GGYAKAoQK4AU/b94ChAGC1EVPshKUA=\",\"dtype\":\"float64\",\"order\":\"little\",\"shape\":[100]},\"y\":{\"__ndarray__\":\"AAAAAAAAAADwgwJ4LjTAP5qI2QHPEtA/+5MNU1HJ1z8ZTT7q2B3fP0aFmgwa+eI/ABg/lCAV5j+IQCEcMdboP3fOhmLzMOs/EyzujrQb7T/9Izwlj47uPxccgYyLg+8/g6xao7j27z9mZrL8O+bvP7+X94FZUu8/xVNiW3I97j9RB8Ai+6vsP5FWKYlppOo/oSg6uxkv6D/Sh2bxK1blPyZGRbpaJeI/8qg+VZVT3T/4C4p0qOPVP+UppLIiM8w/3FNHxZdVuD/J23zJpD6gv+3ENsZjOcS/wo12/ecH0r/dgWKM2KjZv2MTsJELcOC/83ixWvXH47+358MBZM7mv5eCD4nhdum/rExY6Hq267+TIxAn7YPtvwSssILL1+6/70I4BJ6s77/vOc8G+P7vvzTGy1KGze+/3176khQZ77/C8a4NiuTtvzGcHq/dNOy/l0FFlgER6r+EGZN4xoHnvx8WPFK3keS/Cli7+O1M4b+HQNqEwoHbv9kfIiFb+NO/gKyggGI5yL8EhrXMjDywvyGGtcyMPLA/jqyggGI5yD/gHyIhW/jTP4BA2oTCgds/DVi7+O1M4T8cFjxSt5HkP4cZk3jGgec/lUFFlgER6j8ynB6v3TTsP8Hxrg2K5O0/4F76khQZ7z80xstShs3vP+85zwb4/u8/8EI4BJ6s7z8DrLCCy9fuP5UjECftg+0/p0xY6Hq26z+Vgg+J4XbpP7fnwwFkzuY/9nixWvXH4z9dE7CRC3DgP9eBYozYqNk/w412/ecH0j/+xDbGYznEP0/bfMmkPqA/+FNHxZdVuL/UKaSyIjPMv+gLinSo49W/+Kg+VZVT3b8lRkW6WiXiv8+HZvErVuW/pig6uxkv6L+TVimJaaTqv1EHwCL7q+y/xFNiW3I97r/Al/eBWVLvv2Zmsvw75u+/g6xao7j2778YHIGMi4Pvv/sjPCWPju6/EyzujrQb7b94zoZi8zDrv4xAIRwx1ui//Bc/lCAV5r9GhZoMGvnivx5NPurYHd+/65MNU1HJ17+SiNkBzxLQv/GDAnguNMC/B1wUMyamwbw=\",\"dtype\":\"float64\",\"order\":\"little\",\"shape\":[100]}},\"selected\":{\"id\":\"9547\"},\"selection_policy\":{\"id\":\"9546\"}},\"id\":\"9534\",\"type\":\"ColumnDataSource\"},{\"attributes\":{\"line_color\":\"#1f77b4\",\"x\":{\"field\":\"x\"},\"y\":{\"field\":\"y\"}},\"id\":\"9551\",\"type\":\"Line\"}],\"root_ids\":[\"9503\"]},\"title\":\"Bokeh Application\",\"version\":\"2.2.3\"}};\n",
       "  var render_items = [{\"docid\":\"ffb26922-278c-41a4-91d9-ad2de9cec13b\",\"root_ids\":[\"9503\"],\"roots\":{\"9503\":\"9954b805-ac7a-49f8-86af-d795fd25ec6c\"}}];\n",
       "  root.Bokeh.embed.embed_items_notebook(docs_json, render_items);\n",
       "\n",
       "  }\n",
       "  if (root.Bokeh !== undefined) {\n",
       "    embed_document(root);\n",
       "  } else {\n",
       "    var attempts = 0;\n",
       "    var timer = setInterval(function(root) {\n",
       "      if (root.Bokeh !== undefined) {\n",
       "        clearInterval(timer);\n",
       "        embed_document(root);\n",
       "      } else {\n",
       "        attempts++;\n",
       "        if (attempts > 100) {\n",
       "          clearInterval(timer);\n",
       "          console.log(\"Bokeh: ERROR: Unable to run BokehJS code because BokehJS library is missing\");\n",
       "        }\n",
       "      }\n",
       "    }, 10, root)\n",
       "  }\n",
       "})(window);"
      ],
      "application/vnd.bokehjs_exec.v0+json": ""
     },
     "metadata": {
      "application/vnd.bokehjs_exec.v0+json": {
       "id": "9503"
      }
     },
     "output_type": "display_data"
    }
   ],
   "source": [
    "# Legend - 图例设置\n",
    "# 设置方法 → 在绘图时设置图例名称 + 设置图例位置\n",
    "\n",
    "p = figure(plot_width=600, plot_height=400)\n",
    "# 创建图表\n",
    "\n",
    "x = np.linspace(0, 4*np.pi, 100)\n",
    "y = np.sin(x)\n",
    "# 设置x，y\n",
    "\n",
    "p.circle(x, y, legend=\"sin(x)\")\n",
    "p.line(x, y, legend=\"sin(x)\")\n",
    "# 绘制line1，设置图例名称\n",
    "\n",
    "p.line(x, 2*y, legend=\"2*sin(x)\",line_dash=[4, 4], line_color=\"orange\", line_width=2)\n",
    "# 绘制line2，设置图例名称\n",
    "\n",
    "p.square(x, 3*y, legend=\"3*sin(x)\", fill_color=None, line_color=\"green\")\n",
    "p.line(x, 3*y, legend=\"3*sin(x)\", line_color=\"green\")\n",
    "# 绘制line3，设置图例名称\n",
    "\n",
    "p.legend.location = \"bottom_left\"\n",
    "# 设置图例位置：\"top_left\"、\"top_center\"、\"top_right\" (the default)、\"center_right\"、\"bottom_right\"、\"bottom_center\"\n",
    "# \"bottom_left\"、\"center_left\"、\"center\"\n",
    "\n",
    "p.legend.orientation = \"vertical\"\n",
    "# 设置图例排列方向：\"vertical\" （默认）or \"horizontal\"\n",
    "\n",
    "p.legend.label_text_font = \"times\"\n",
    "p.legend.label_text_font_style = \"italic\"  # 斜体\n",
    "p.legend.label_text_color = \"navy\"\n",
    "p.legend.label_text_font_size = '12pt'\n",
    "# 设置图例：字体、风格、颜色、字体大小\n",
    "\n",
    "p.legend.border_line_width = 3\n",
    "p.legend.border_line_color = \"navy\"\n",
    "p.legend.border_line_alpha = 0.5\n",
    "# 设置图例外边线：宽度、颜色、透明度\n",
    "\n",
    "p.legend.background_fill_color = \"gray\"\n",
    "p.legend.background_fill_alpha = 0.2\n",
    "# 设置图例背景：颜色、透明度\n",
    "\n",
    "show(p)"
   ]
  },
  {
   "cell_type": "code",
   "execution_count": null,
   "metadata": {
    "collapsed": false,
    "jupyter": {
     "outputs_hidden": false
    }
   },
   "outputs": [],
   "source": [
    "总结一下：\n",
    "Line Properties → 线设置\n",
    "Fill Properties → 填充设置\n",
    "Text Properties → 字体设置\n",
    "\n",
    "1、Line Properties → 线设置\n",
    "（1）line_color，设置颜色\n",
    "（2）line_width，设置宽度\n",
    "（3）line_alpha，设置透明度\n",
    "（4）line_join，设置连接点样式：'miter' miter_join，'round' round_join，'bevel' bevel_join\n",
    "（5）line_cap，设置线端口样式，'butt' butt_cap，'round' round_cap，'square' square_cap\n",
    "（6）line_dash，设置线条样式，'solid'，'dashed'，'dotted'，'dotdash'，'dashdot'，或者整型数组方式（例如[6,4]）\n",
    "\n",
    "2、Fill Properties → 填充设置\n",
    "（1）fill_color，设置填充颜色\n",
    "（2）fill_alpha，设置填充透明度\n",
    "\n",
    "3、Text Properties → 字体设置\n",
    "（1）text_font，字体\n",
    "（2）text_font_size，字体大小，单位为pt或者em（ '12pt', '1.5em'）\n",
    "（3）text_font_style，字体风格，'normal' normal text，'italic' italic text，'bold' bold text\n",
    "（4）text_color，字体颜色\n",
    "（5）text_alpha，字体透明度\n",
    "（6）text_align，字体水平方向位置，'left', 'right', 'center'\n",
    "（7）text_baseline，字体垂直方向位置，'top'，'middle'，'bottom'，'alphabetic'，'hanging'\n",
    "\n",
    "4、可见性\n",
    "p.xaxis.visible = False\n",
    "p.xgrid.visible = False\n",
    "基本参数中都含有.visible参数，设置是否可见"
   ]
  }
 ],
 "metadata": {
  "anaconda-cloud": {},
  "kernelspec": {
   "display_name": "Python 3",
   "language": "python",
   "name": "python3"
  },
  "language_info": {
   "codemirror_mode": {
    "name": "ipython",
    "version": 3
   },
   "file_extension": ".py",
   "mimetype": "text/x-python",
   "name": "python",
   "nbconvert_exporter": "python",
   "pygments_lexer": "ipython3",
   "version": "3.8.5"
  }
 },
 "nbformat": 4,
 "nbformat_minor": 4
}
