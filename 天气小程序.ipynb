{
 "cells": [
  {
   "cell_type": "code",
   "execution_count": 1,
   "metadata": {},
   "outputs": [],
   "source": [
    "#导入工具库\n",
    "import urllib.request\n",
    "import gzip"
   ]
  },
  {
   "cell_type": "code",
   "execution_count": 2,
   "metadata": {},
   "outputs": [
    {
     "name": "stdin",
     "output_type": "stream",
     "text": [
      "请输入需要查询的城市名称： 北京\n"
     ]
    }
   ],
   "source": [
    "# 生成查询天气链接\n",
    "cityname = input('请输入需要查询的城市名称：')"
   ]
  },
  {
   "cell_type": "code",
   "execution_count": 3,
   "metadata": {},
   "outputs": [
    {
     "data": {
      "text/plain": [
       "'%E5%8C%97%E4%BA%AC'"
      ]
     },
     "execution_count": 3,
     "metadata": {},
     "output_type": "execute_result"
    }
   ],
   "source": [
    "# 将城市的中文名称转换为utf-8字符\n",
    "urllib.parse.quote(cityname)"
   ]
  },
  {
   "cell_type": "code",
   "execution_count": 4,
   "metadata": {},
   "outputs": [
    {
     "data": {
      "text/plain": [
       "'http://wthrcdn.etouch.cn/weather_mini?city=%E5%8C%97%E4%BA%AC'"
      ]
     },
     "execution_count": 4,
     "metadata": {},
     "output_type": "execute_result"
    }
   ],
   "source": [
    "# 生成完整的url链接\n",
    "url = 'http://wthrcdn.etouch.cn/weather_mini?city='+urllib.parse.quote(cityname)\n",
    "url"
   ]
  },
  {
   "cell_type": "code",
   "execution_count": 6,
   "metadata": {},
   "outputs": [
    {
     "data": {
      "text/plain": [
       "b'\\x1f\\x8b\\x08\\x00\\x00\\x00\\x00\\x00\\x00\\x00\\xb5\\x93OK\\x02A\\x14\\xc0\\xbfJ\\xcd\\xd9\\x83n\\x7f\\xb4%\\x02\\xa9[\\x87.\\xdd\\xc4\\xc3\\xa0\\xdb*\\x98\\x86\\xbb\\xa2\"\\x82\\xa8E\\x81\\xb9i\\x92\\x8bZ\\x1e\\xb2R2\\x122\\x94\\xa5\\xbeL\\xedL\\xee\\xa9\\xaf\\xd0[\\xd3\\xd6H\\xc9\\xa8\\x8e\\xef7o\\xe6\\xfd\\xe6\\xcd\\x9b\\x18rc\\x11#6\\x86\\xa2\\x9c rA7\\x8e\\xea\\x01@\\x0e\\xb1\\xc82G\\x8b\\x17T\\xae\\xd2JUU\\n\\xc8\\x84<^\\xde\\x03\\\\\\xbb\\x96i\\xb71\\xc3,=\\xa5S@\\xb7\"\\xc0\\xd4n\\x85\\x1c\\x16\\xb5\\xf3,\\x00_ \\xac\\x93\\xc7l?\\x8b\\x19d\\xf9\\x80-\\xcf:V\\xd7\\xec\\x9bv\\x07\\xf3\\xa2\\\\9\\x9d+\\xc0\\xc5\\xe8\\x8e^\\x8b\\xb4$\\xad\\\\Gq\\x13ry\\xc5\\xa8\\x0e2EUi\\xea\\x1b\\x03A\\xce\\x85\\x05\\x11\\xb1\\x0e\\xc3l\\xfe\\xc3\\x8c\\xec\\xde|5\\xb3\\rjr~\\xde\\xe7\\x1d_w\\xbc$l\\x88x\\xb1\\x9f\\xd7\\x05\\x86\\xd7\\x19\\x18jr\\x1b\\xf4\\x0c\\x85\\x05C\\xa1\\xd6\\xf8\\x1f\\x85\\xd1\\xa6\\x0e-\\xca\\x1dM\\xbe\\x7fo\\x95\\xe1\\xb2h<T7\\xf1\\x03\\x17\\xcb\\x04\\x17\\xcbT.\\xa4VR\\x95\\xdc\\'\\x11\\xeb\\xc8\\xc4d&O\\xcc/\\x9b\\xf2\\x9d\\x85m\\xa4\\x1d\\x07\\x7f\\xd0\\x8e)\\x9fF\\x1f\\x10\\xa7\\t\\xf1\\xd8\\xbf\\x8d\\x03\\x00h\\xbaJ\\xf6\\xf2p\\x08\\x91r\\xe0\\xf2\\xfa\\x90\\x81I\\xa1\\xadBo?\\xaf%\\x92\\x10\\xf6n;\\xf4\\xaeN\\xd3\\x12\\xdc\\x81\\x1c\\xa5z\\x85fO\\xaa\\xd0V\\x9b\\x9eU\\xfa\\xc9%rr\\n!9\\xbe|N$\\xa1P\\x98\\xf3\\xbbCp0c\\xd5?\\x8a b1$ \\xd6b6\\x9bM\\xc8\\xcd\\t.X\\xdaXG\\xf17\\x9c\\xdac\\xdb\\xd6\\x03\\x00\\x00'"
      ]
     },
     "execution_count": 6,
     "metadata": {},
     "output_type": "execute_result"
    }
   ],
   "source": [
    "#  访问url链接，返回服务器返回的json参数，变成Python的字典数据\n",
    "# 获取服务器返回的json字典数据\n",
    "weather_data = urllib.request.urlopen(url).read()\n",
    "weather_data"
   ]
  },
  {
   "cell_type": "code",
   "execution_count": 7,
   "metadata": {},
   "outputs": [
    {
     "data": {
      "text/plain": [
       "'{\"data\":{\"yesterday\":{\"date\":\"13日星期五\",\"high\":\"高温 29℃\",\"fx\":\"东南风\",\"low\":\"低温 22℃\",\"fl\":\"<![CDATA[2级]]>\",\"type\":\"小雨\"},\"city\":\"北京\",\"forecast\":[{\"date\":\"14日星期六\",\"high\":\"高温 28℃\",\"fengli\":\"<![CDATA[2级]]>\",\"low\":\"低温 22℃\",\"fengxiang\":\"南风\",\"type\":\"阴\"},{\"date\":\"15日星期天\",\"high\":\"高温 28℃\",\"fengli\":\"<![CDATA[2级]]>\",\"low\":\"低温 22℃\",\"fengxiang\":\"东南风\",\"type\":\"雷阵雨\"},{\"date\":\"16日星期一\",\"high\":\"高温 28℃\",\"fengli\":\"<![CDATA[1级]]>\",\"low\":\"低温 21℃\",\"fengxiang\":\"东南风\",\"type\":\"多云\"},{\"date\":\"17日星期二\",\"high\":\"高温 29℃\",\"fengli\":\"<![CDATA[2级]]>\",\"low\":\"低温 22℃\",\"fengxiang\":\"东风\",\"type\":\"多云\"},{\"date\":\"18日星期三\",\"high\":\"高温 28℃\",\"fengli\":\"<![CDATA[1级]]>\",\"low\":\"低温 22℃\",\"fengxiang\":\"东南风\",\"type\":\"阴\"}],\"ganmao\":\"感冒低发期，天气舒适，请注意多吃蔬菜水果，多喝水哦。\",\"wendu\":\"27\"},\"status\":1000,\"desc\":\"OK\"}'"
      ]
     },
     "execution_count": 7,
     "metadata": {},
     "output_type": "execute_result"
    }
   ],
   "source": [
    "# 将字符串数据转换为unicode中的utf-8字符\n",
    "weather_data = gzip.decompress(weather_data).decode('utf-8')\n",
    "weather_data"
   ]
  },
  {
   "cell_type": "code",
   "execution_count": 14,
   "metadata": {},
   "outputs": [
    {
     "data": {
      "text/plain": [
       "str"
      ]
     },
     "execution_count": 14,
     "metadata": {},
     "output_type": "execute_result"
    }
   ],
   "source": [
    "type(weather_data)"
   ]
  },
  {
   "cell_type": "code",
   "execution_count": 8,
   "metadata": {},
   "outputs": [
    {
     "data": {
      "text/plain": [
       "{'data': {'yesterday': {'date': '13日星期五',\n",
       "   'high': '高温 29℃',\n",
       "   'fx': '东南风',\n",
       "   'low': '低温 22℃',\n",
       "   'fl': '<![CDATA[2级]]>',\n",
       "   'type': '小雨'},\n",
       "  'city': '北京',\n",
       "  'forecast': [{'date': '14日星期六',\n",
       "    'high': '高温 28℃',\n",
       "    'fengli': '<![CDATA[2级]]>',\n",
       "    'low': '低温 22℃',\n",
       "    'fengxiang': '南风',\n",
       "    'type': '阴'},\n",
       "   {'date': '15日星期天',\n",
       "    'high': '高温 28℃',\n",
       "    'fengli': '<![CDATA[2级]]>',\n",
       "    'low': '低温 22℃',\n",
       "    'fengxiang': '东南风',\n",
       "    'type': '雷阵雨'},\n",
       "   {'date': '16日星期一',\n",
       "    'high': '高温 28℃',\n",
       "    'fengli': '<![CDATA[1级]]>',\n",
       "    'low': '低温 21℃',\n",
       "    'fengxiang': '东南风',\n",
       "    'type': '多云'},\n",
       "   {'date': '17日星期二',\n",
       "    'high': '高温 29℃',\n",
       "    'fengli': '<![CDATA[2级]]>',\n",
       "    'low': '低温 22℃',\n",
       "    'fengxiang': '东风',\n",
       "    'type': '多云'},\n",
       "   {'date': '18日星期三',\n",
       "    'high': '高温 28℃',\n",
       "    'fengli': '<![CDATA[1级]]>',\n",
       "    'low': '低温 22℃',\n",
       "    'fengxiang': '东南风',\n",
       "    'type': '阴'}],\n",
       "  'ganmao': '感冒低发期，天气舒适，请注意多吃蔬菜水果，多喝水哦。',\n",
       "  'wendu': '27'},\n",
       " 'status': 1000,\n",
       " 'desc': 'OK'}"
      ]
     },
     "execution_count": 8,
     "metadata": {},
     "output_type": "execute_result"
    }
   ],
   "source": [
    "# 将json数据转化为python的字典数据\n",
    "weather_dict = eval(weather_data)\n",
    "weather_dict"
   ]
  },
  {
   "cell_type": "code",
   "execution_count": 9,
   "metadata": {},
   "outputs": [],
   "source": [
    "if weather_dict.get('desc') == 'invilad_citykey':\n",
    "    print('你的城市未收录')    "
   ]
  },
  {
   "cell_type": "code",
   "execution_count": 10,
   "metadata": {},
   "outputs": [
    {
     "name": "stdout",
     "output_type": "stream",
     "text": [
      "您查询的城市： 北京\n"
     ]
    }
   ],
   "source": [
    "# 对字典进行索引，输出\n",
    "print('您查询的城市：',weather_dict['data']['city'])\n"
   ]
  },
  {
   "cell_type": "code",
   "execution_count": 17,
   "metadata": {},
   "outputs": [
    {
     "name": "stdout",
     "output_type": "stream",
     "text": [
      "今天的天气： 阴\n"
     ]
    }
   ],
   "source": [
    "print('今天的天气：',weather_dict['data']['forecast'][0]['type'])"
   ]
  },
  {
   "cell_type": "code",
   "execution_count": null,
   "metadata": {},
   "outputs": [],
   "source": [
    "# https://www.json.cn/ 将json数据格式转换为字典格式的链接工具"
   ]
  },
  {
   "cell_type": "code",
   "execution_count": 20,
   "metadata": {},
   "outputs": [
    {
     "data": {
      "text/plain": [
       "[{'date': '14日星期六',\n",
       "  'high': '高温 28℃',\n",
       "  'fengli': '<![CDATA[2级]]>',\n",
       "  'low': '低温 22℃',\n",
       "  'fengxiang': '南风',\n",
       "  'type': '阴'},\n",
       " {'date': '15日星期天',\n",
       "  'high': '高温 28℃',\n",
       "  'fengli': '<![CDATA[2级]]>',\n",
       "  'low': '低温 22℃',\n",
       "  'fengxiang': '东南风',\n",
       "  'type': '雷阵雨'},\n",
       " {'date': '16日星期一',\n",
       "  'high': '高温 28℃',\n",
       "  'fengli': '<![CDATA[1级]]>',\n",
       "  'low': '低温 21℃',\n",
       "  'fengxiang': '东南风',\n",
       "  'type': '多云'},\n",
       " {'date': '17日星期二',\n",
       "  'high': '高温 29℃',\n",
       "  'fengli': '<![CDATA[2级]]>',\n",
       "  'low': '低温 22℃',\n",
       "  'fengxiang': '东风',\n",
       "  'type': '多云'},\n",
       " {'date': '18日星期三',\n",
       "  'high': '高温 28℃',\n",
       "  'fengli': '<![CDATA[1级]]>',\n",
       "  'low': '低温 22℃',\n",
       "  'fengxiang': '东南风',\n",
       "  'type': '阴'}]"
      ]
     },
     "execution_count": 20,
     "metadata": {},
     "output_type": "execute_result"
    }
   ],
   "source": [
    "weather_dict['data']['forecast']"
   ]
  },
  {
   "cell_type": "code",
   "execution_count": 21,
   "metadata": {},
   "outputs": [
    {
     "data": {
      "text/plain": [
       "{'date': '14日星期六',\n",
       " 'high': '高温 28℃',\n",
       " 'fengli': '<![CDATA[2级]]>',\n",
       " 'low': '低温 22℃',\n",
       " 'fengxiang': '南风',\n",
       " 'type': '阴'}"
      ]
     },
     "execution_count": 21,
     "metadata": {},
     "output_type": "execute_result"
    }
   ],
   "source": [
    "weather_dict['data']['forecast'][0]"
   ]
  },
  {
   "cell_type": "code",
   "execution_count": 28,
   "metadata": {},
   "outputs": [
    {
     "name": "stdout",
     "output_type": "stream",
     "text": [
      "日期： 14日星期六\n",
      "高温 28℃\n",
      "风力： 2级\n",
      "低温 22℃\n",
      "风向： 南风\n",
      "天气： 阴\n",
      "------------------------------\n",
      "日期： 15日星期天\n",
      "高温 28℃\n",
      "风力： 2级\n",
      "低温 22℃\n",
      "风向： 东南风\n",
      "天气： 雷阵雨\n",
      "------------------------------\n",
      "日期： 16日星期一\n",
      "高温 28℃\n",
      "风力： 1级\n",
      "低温 21℃\n",
      "风向： 东南风\n",
      "天气： 多云\n",
      "------------------------------\n",
      "日期： 17日星期二\n",
      "高温 29℃\n",
      "风力： 2级\n",
      "低温 22℃\n",
      "风向： 东风\n",
      "天气： 多云\n",
      "------------------------------\n",
      "日期： 18日星期三\n",
      "高温 28℃\n",
      "风力： 1级\n",
      "低温 22℃\n",
      "风向： 东南风\n",
      "天气： 阴\n",
      "------------------------------\n"
     ]
    }
   ],
   "source": [
    "for each in weather_dict['data']['forecast']:\n",
    "    print('日期：',each['date'])\n",
    "    print(each['high'])\n",
    "    print('风力：',each['fengli'][-5:-3])\n",
    "    print(each['low'])\n",
    "    print('风向：',each['fengxiang'])\n",
    "    print('天气：',each['type'])\n",
    "    print('------------------------------')"
   ]
  },
  {
   "cell_type": "code",
   "execution_count": 32,
   "metadata": {},
   "outputs": [
    {
     "name": "stdin",
     "output_type": "stream",
     "text": [
      "请输入需要查询的城市名称： 邢台\n"
     ]
    },
    {
     "name": "stdout",
     "output_type": "stream",
     "text": [
      "日期： 14日星期六\n",
      "高温 29℃\n",
      "风力： 2级\n",
      "低温 21℃\n",
      "风向： 东南风\n",
      "天气： 多云\n",
      "------------------------------\n",
      "日期： 15日星期天\n",
      "高温 29℃\n",
      "风力： 2级\n",
      "低温 21℃\n",
      "风向： 南风\n",
      "天气： 多云\n",
      "------------------------------\n",
      "日期： 16日星期一\n",
      "高温 30℃\n",
      "风力： 1级\n",
      "低温 21℃\n",
      "风向： 南风\n",
      "天气： 多云\n",
      "------------------------------\n",
      "日期： 17日星期二\n",
      "高温 30℃\n",
      "风力： 2级\n",
      "低温 22℃\n",
      "风向： 东北风\n",
      "天气： 多云\n",
      "------------------------------\n",
      "日期： 18日星期三\n",
      "高温 31℃\n",
      "风力： 2级\n",
      "低温 22℃\n",
      "风向： 东北风\n",
      "天气： 多云\n",
      "------------------------------\n"
     ]
    }
   ],
   "source": [
    "### 完整代码实现\n",
    "#导入工具库\n",
    "import urllib.request\n",
    "import gzip\n",
    "\n",
    "# 生成查询天气链接\n",
    "cityname = input('请输入需要查询的城市名称：')\n",
    "\n",
    "\n",
    "# 将城市的中文名称转换为utf-8字符\n",
    "urllib.parse.quote(cityname)\n",
    "\n",
    "# 生成完整的url链接\n",
    "url = 'http://wthrcdn.etouch.cn/weather_mini?city='+urllib.parse.quote(cityname)\n",
    "\n",
    "\n",
    "#  访问url链接，返回服务器返回的json参数，变成Python的字典数据\n",
    "# 获取服务器返回的json字典数据\n",
    "weather_data = urllib.request.urlopen(url).read()\n",
    "\n",
    "# 将字符串数据转换为unicode中的utf-8字符\n",
    "weather_data = gzip.decompress(weather_data).decode('utf-8')\n",
    "\n",
    "# 将json数据转化为python的字典数据\n",
    "weather_dict = eval(weather_data)\n",
    "if weather_dict.get('desc') == 'invilad_citykey':\n",
    "    print('你的城市未收录') \n",
    "\n",
    "\n",
    "for each in weather_dict['data']['forecast']:\n",
    "    print('日期：',each['date'])\n",
    "    print(each['high'])\n",
    "    print('风力：',each['fengli'][-5:-3])\n",
    "    print(each['low'])\n",
    "    print('风向：',each['fengxiang'])\n",
    "    print('天气：',each['type'])\n",
    "    print('------------------------------')"
   ]
  },
  {
   "cell_type": "code",
   "execution_count": null,
   "metadata": {},
   "outputs": [],
   "source": [
    "## 聚合数据api可以查询到更多的api"
   ]
  }
 ],
 "metadata": {
  "kernelspec": {
   "display_name": "Python 3",
   "language": "python",
   "name": "python3"
  },
  "language_info": {
   "codemirror_mode": {
    "name": "ipython",
    "version": 3
   },
   "file_extension": ".py",
   "mimetype": "text/x-python",
   "name": "python",
   "nbconvert_exporter": "python",
   "pygments_lexer": "ipython3",
   "version": "3.8.5"
  }
 },
 "nbformat": 4,
 "nbformat_minor": 4
}
