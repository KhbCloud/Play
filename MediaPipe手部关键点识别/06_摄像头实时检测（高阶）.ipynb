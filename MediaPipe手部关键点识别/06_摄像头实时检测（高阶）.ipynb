{
 "cells": [
  {
   "cell_type": "markdown",
   "metadata": {},
   "source": [
    "# 导入工具包\n"
   ]
  },
  {
   "cell_type": "code",
   "execution_count": 1,
   "metadata": {},
   "outputs": [],
   "source": [
    "import cv2\n",
    "import mediapipe as mp\n",
    "\n",
    "#进度条库\n",
    "from tqdm import tqdm\n",
    "import time\n",
    "import matplotlib.pyplot as plt\n",
    "\n",
    "#使用ipython魔法方法，将绘制得到的图像直接嵌入在notebook单元格中\n",
    "%matplotlib inline"
   ]
  },
  {
   "cell_type": "markdown",
   "metadata": {},
   "source": [
    "# 导入手部关键点检测模型"
   ]
  },
  {
   "cell_type": "code",
   "execution_count": 2,
   "metadata": {},
   "outputs": [],
   "source": [
    "#导入solution\n",
    "mp_hands = mp.solutions.hands\n",
    "\n",
    "#导入模型\n",
    "hands = mp_hands.Hands(static_image_mode=False,       #是静态图片还是连续视频帧\n",
    "                      max_num_hands=4,                #最多检测几只手\n",
    "                      min_detection_confidence=0.5,   #置信度阈值\n",
    "                      min_tracking_confidence=0.5,    #追踪阈值\n",
    "                      )\n",
    "\n",
    "#导入绘图函数\n",
    "mpDraw = mp.solutions.drawing_utils"
   ]
  },
  {
   "cell_type": "markdown",
   "metadata": {},
   "source": [
    "# 处理单帧的函数"
   ]
  },
  {
   "cell_type": "code",
   "execution_count": 3,
   "metadata": {},
   "outputs": [],
   "source": [
    "# 处理帧函数\n",
    "def process_frame(img):\n",
    "    \n",
    "    #记录该帧开始处理的时间\n",
    "    start_time = time.time()\n",
    "    \n",
    "    #获取图像的宽高\n",
    "    h,w = img.shape[0],img.shape[1]\n",
    "    \n",
    "    \n",
    "    # 水平镜像翻转图像，使得图中的左右手与真实左右手相对应\n",
    "    #参数，1：水平翻转，0：竖直翻转，-1：水平和竖直都翻转\n",
    "    img = cv2.flip(img,1)\n",
    "    # BGR转RGB\n",
    "    img_RGB = cv2.cvtColor(img,cv2.COLOR_BGRA2RGB)\n",
    "\n",
    "    #将RGB图像输入模型。获取预测结果\n",
    "    results = hands.process(img_RGB)\n",
    "    \n",
    "    \n",
    "    if results.multi_hand_landmarks:   #如果检测到手\n",
    "    \n",
    "        handness_str = ''\n",
    "        index_finger_tip_str = ''\n",
    "        for hand_idx in range(len(results.multi_hand_landmarks)):\n",
    "\n",
    "            #获取该手的21个关键点坐标\n",
    "            hand_21 = results.multi_hand_landmarks[hand_idx] \n",
    "\n",
    "            #可视化关键点及骨架连线\n",
    "            mpDraw.draw_landmarks(img,hand_21,connections = mp_hands.HAND_CONNECTIONS)\n",
    "\n",
    "            #记录左右手信息\n",
    "            temp_handness = results.multi_handedness[hand_idx].classification[0].label\n",
    "    #        handness_str += str(hand_idx) + ':' + temp_handness + ' '       \n",
    "            handness_str += '{}:{} '.format(hand_idx,temp_handness)\n",
    "\n",
    "            #获取手腕根部深度坐标\n",
    "            cz0 = hand_21.landmark[0].z\n",
    "\n",
    "            for i in range(21):   #遍历该手的21个关键点\n",
    "\n",
    "                #获取3D坐标\n",
    "                cx = int(hand_21.landmark[i].x * w)\n",
    "                cy = int(hand_21.landmark[i].y * h)\n",
    "                cz = hand_21.landmark[i].z\n",
    "                depth_z = cz0 - cz\n",
    "\n",
    "                #用圆的半径反映深度大小\n",
    "                radius = int(6 * (1 + depth_z))\n",
    "\n",
    "                if i == 0:    #手腕\n",
    "                    img = cv2.circle(img,(cx,cy),radius * 2,(0,0,255),-1)\n",
    "                if i == 8:   #食指指尖\n",
    "                    img = cv2.circle(img,(cx,cy),radius * 2,(193,184,67),-1)\n",
    "                    index_finger_tip_str += '{}:{} '.format(hand_idx,depth_z)\n",
    "                if i in [1,5,9,13,17]:  #指根\n",
    "                    img = cv2.circle(img,(cx,cy),radius,(19,14,67),-1)\n",
    "                if i in [2,6,10,14,18]:  #第一指节\n",
    "                    img = cv2.circle(img,(cx,cy),radius,(122,164,67),-1)                \n",
    "                if i in [3,7,11,15,19]:  #第二指节\n",
    "                    img = cv2.circle(img,(cx,cy),radius,(12,150,89),-1)                \n",
    "                if i in [4,12,16,20]:  #指尖（除食指指尖）\n",
    "                    img = cv2.circle(img,(cx,cy),radius,(223,155,60),-1)            \n",
    "\n",
    "        scaler = 1\n",
    "        img = cv2.putText(img,handness_str,(25 * scaler,100 * scaler),cv2.FONT_HERSHEY_SIMPLEX,1.25 * scaler,(255,0,0),2 * scaler)\n",
    "        img = cv2.putText(img,index_finger_tip_str,(25 * scaler,150 * scaler),cv2.FONT_HERSHEY_SIMPLEX,1.25 * scaler,(255,0,255),2 * scaler)\n",
    "        \n",
    "        #记录该帧处理完毕的时间\n",
    "        end_time = time.time()\n",
    "        #计算每秒处理图像帧数FPS\n",
    "        FPS = 1/(end_time - start_time)   #FPS大于30，成为实时目标检测算法\n",
    "        \n",
    "        #在图像上写FPS数值，参数依次为：图片、添加的文字、左上角坐标、字体、字体大小、颜色、字体粗细\n",
    "        scaler = 1\n",
    "        img = cv2.putText(img,'FPS '+ str(int(FPS)), (25 * scaler,50 * scaler),cv2.FONT_HERSHEY_SIMPLEX,1.25 * scaler,(255,0,0),2 * scaler)\n",
    "    return img"
   ]
  },
  {
   "cell_type": "markdown",
   "metadata": {},
   "source": [
    "### 调用摄像头获取每帧（模板）"
   ]
  },
  {
   "cell_type": "code",
   "execution_count": 6,
   "metadata": {},
   "outputs": [],
   "source": [
    "cap = cv2.VideoCapture(0)\n",
    "cap.open(0)\n",
    "\n",
    "while cap.isOpened():\n",
    "    success,frame = cap.read()\n",
    "    if not success:\n",
    "        break\n",
    "        \n",
    "    frame = process_frame(frame)\n",
    "    \n",
    "    cv2.imshow('my_window',frame)\n",
    "    \n",
    "    if cv2.waitKey(1) in [ord('q'),27]:    #按键盘上的q或esc退出（在英文输入法下）\n",
    "        break\n",
    "        \n",
    "cap.release()\n",
    "\n",
    "cv2.destroyAllWindows()\n",
    "\n"
   ]
  },
  {
   "cell_type": "code",
   "execution_count": null,
   "metadata": {},
   "outputs": [],
   "source": []
  }
 ],
 "metadata": {
  "kernelspec": {
   "display_name": "tensorflow",
   "language": "python",
   "name": "tensorflow"
  },
  "language_info": {
   "codemirror_mode": {
    "name": "ipython",
    "version": 3
   },
   "file_extension": ".py",
   "mimetype": "text/x-python",
   "name": "python",
   "nbconvert_exporter": "python",
   "pygments_lexer": "ipython3",
   "version": "3.7.10"
  }
 },
 "nbformat": 4,
 "nbformat_minor": 4
}
