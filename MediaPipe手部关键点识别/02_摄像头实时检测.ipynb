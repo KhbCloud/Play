{
 "cells": [
  {
   "cell_type": "markdown",
   "metadata": {},
   "source": [
    "# 导入工具包"
   ]
  },
  {
   "cell_type": "code",
   "execution_count": 1,
   "metadata": {},
   "outputs": [],
   "source": [
    "import cv2\n",
    "import mediapipe as mp\n",
    "\n",
    "#进度条库\n",
    "from tqdm import tqdm\n",
    "import time\n",
    "import matplotlib.pyplot as plt\n",
    "\n",
    "#使用ipython魔法方法，将绘制得到的图像直接嵌入在notebook单元格中\n",
    "%matplotlib inline"
   ]
  },
  {
   "cell_type": "markdown",
   "metadata": {},
   "source": [
    "# 导入手部关键点检测模型"
   ]
  },
  {
   "cell_type": "code",
   "execution_count": 3,
   "metadata": {},
   "outputs": [],
   "source": [
    "#导入solution\n",
    "mp_hands = mp.solutions.hands\n",
    "\n",
    "#导入模型\n",
    "hands = mp_hands.Hands(static_image_mode=False,       #是静态图片还是连续视频帧\n",
    "                      max_num_hands=4,                #最多检测几只手\n",
    "                      min_detection_confidence=0.5,   #置信度阈值\n",
    "                      min_tracking_confidence=0.5,    #追踪阈值\n",
    "                      )\n",
    "\n",
    "#导入绘图函数\n",
    "mpDraw = mp.solutions.drawing_utils"
   ]
  },
  {
   "cell_type": "markdown",
   "metadata": {},
   "source": [
    "# 处理单帧的函数"
   ]
  },
  {
   "cell_type": "code",
   "execution_count": 5,
   "metadata": {},
   "outputs": [],
   "source": [
    "# 处理帧函数\n",
    "def process_frame(img):\n",
    "    # 水平镜像翻转图像，使得图中的左右手与真实左右手相对应\n",
    "    #参数，1：水平翻转，0：竖直翻转，-1：水平和竖直都翻转\n",
    "    img = cv2.flip(img,1)\n",
    "    # BGR转RGB\n",
    "    img_RGB = cv2.cvtColor(img,cv2.COLOR_BGRA2RGB)\n",
    "\n",
    "    #将RGB图像输入模型。获取预测结果\n",
    "    results = hands.process(img_RGB)\n",
    "    \n",
    "    \n",
    "    if results.multi_hand_landmarks:   #如果检测到手\n",
    "    #遍历每一只检测出的手\n",
    "        for hand_idx in range(len(results.multi_hand_landmarks)):\n",
    "            hand_21 = results.multi_hand_landmarks[hand_idx]    #获取手的所有关键点坐标\n",
    "            mpDraw.draw_landmarks(img,hand_21,connections = mp_hands.HAND_CONNECTIONS)\n",
    "        \n",
    "    return img"
   ]
  },
  {
   "cell_type": "markdown",
   "metadata": {},
   "source": [
    "# 调用摄像头获取每帧（模板）"
   ]
  },
  {
   "cell_type": "code",
   "execution_count": 6,
   "metadata": {},
   "outputs": [],
   "source": [
    "# 调用摄像头逐帧实时处理模板\n",
    "#不需修改任何代码，只需修改process_frame函数即可\n",
    "\n",
    "import cv2\n",
    "\n",
    "#获取摄像头，传入0表示获取系统默认摄像头\n",
    "cap = cv2.VideoCapture()\n",
    "\n",
    "#打开cap\n",
    "cap.open(0)\n",
    "\n",
    "#无限循环，直到break被触发\n",
    "while cap.isOpened():\n",
    "    #获取画面\n",
    "    success,frame = cap.read()\n",
    "    if not success:\n",
    "        print('Error')\n",
    "        break\n",
    "        \n",
    "    ## !!! 帧处理函数\n",
    "    frame = process_frame(frame)\n",
    "    \n",
    "    #展示处理后的三通道图像\n",
    "    cv2.imshow('my_window',frame)\n",
    "    \n",
    "    if cv2.waitKey(1) in [ord('q'),27]:    #按键盘上的q或esc退出（在英文输入法下）\n",
    "        break\n",
    "        \n",
    "#关闭摄像头\n",
    "cap.release()\n",
    "\n",
    "#关闭图像窗口\n",
    "cv2.destroyAllWindows()"
   ]
  },
  {
   "cell_type": "code",
   "execution_count": null,
   "metadata": {},
   "outputs": [],
   "source": []
  }
 ],
 "metadata": {
  "kernelspec": {
   "display_name": "tensorflow",
   "language": "python",
   "name": "tensorflow"
  },
  "language_info": {
   "codemirror_mode": {
    "name": "ipython",
    "version": 3
   },
   "file_extension": ".py",
   "mimetype": "text/x-python",
   "name": "python",
   "nbconvert_exporter": "python",
   "pygments_lexer": "ipython3",
   "version": "3.7.10"
  }
 },
 "nbformat": 4,
 "nbformat_minor": 4
}
