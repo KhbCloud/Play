{
 "cells": [
  {
   "cell_type": "code",
   "execution_count": 1,
   "metadata": {},
   "outputs": [],
   "source": [
    "import cv2\n",
    "import numpy as np\n",
    "import mediapipe as mp\n",
    "\n",
    "#进度条库\n",
    "from tqdm import tqdm\n",
    "import time\n",
    "import matplotlib.pyplot as plt\n",
    "\n",
    "#使用ipython魔法方法，将绘制得到的图像直接嵌入在notebook单元格中\n",
    "%matplotlib inline"
   ]
  },
  {
   "cell_type": "code",
   "execution_count": 2,
   "metadata": {},
   "outputs": [],
   "source": [
    "seg = mp.solutions.selfie_segmentation.SelfieSegmentation(model_selection = 0)"
   ]
  },
  {
   "cell_type": "markdown",
   "metadata": {},
   "source": [
    "## 处理单帧图像函数"
   ]
  },
  {
   "cell_type": "code",
   "execution_count": 3,
   "metadata": {},
   "outputs": [],
   "source": [
    "import time\n",
    "#定义逐帧处理函数，可不做任何处理，直接将摄像头捕捉到的画面写入视频帧\n",
    "def process_frame(img):\n",
    "    \n",
    "    #记录该帧开始处理的时间\n",
    "    start_time = time.time()\n",
    "    \n",
    "    \n",
    "    img_RGB = cv2.cvtColor(img,cv2.COLOR_BGR2RGB)\n",
    "    bkgd_img = cv2.imread('./images/Camera3.jpg')\n",
    "\n",
    "    # 将RGB图像输入模型，获取预测结果\n",
    "    results = seg.process(img_RGB)\n",
    "\n",
    "    mask = results.segmentation_mask.astype('uint8')\n",
    "\n",
    "    mask_3 = np.stack((mask,mask,mask),axis = -1)\n",
    "    mask_3 = mask_3 > 0.1\n",
    "\n",
    "    # 从新背景图中切出原图大小的图块\n",
    "    # 高度方向（Y方向）\n",
    "    bottom = bkgd_img.shape[0]\n",
    "    top = bottom - img.shape[0]\n",
    "\n",
    "    # 宽度方向（x方向）\n",
    "    left = bkgd_img.shape[1]//2-img.shape[1]//2  #从x方向中点向左偏移原始人像图片一半\n",
    "    right = left + img.shape[1]\n",
    "\n",
    "    new_bkgd = bkgd_img[top:bottom,left:right,:]\n",
    "    assert new_bkgd.shape == img.shape,'新背景图片的长宽应大于原始图像长宽'\n",
    "\n",
    "    ## 将mask_3定义的人像区加在新图块上\n",
    "    # np.where(condition,A,B)  符合condition返回A，不符合返回B\n",
    "    new_bkgd_mask_img = np.where(mask_3, img, new_bkgd)\n",
    "\n",
    "    # 将完整背景对应的图块区域更换为加了人像的图块\n",
    "    bkgd_img[top:bottom,left:right,:] = new_bkgd_mask_img\n",
    "    \n",
    "    # 记录该帧结束时间\n",
    "    end_time = time.time()\n",
    "    \n",
    "     #计算每秒处理图像帧数FPS\n",
    "    FPS = 1/(end_time - start_time)   #FPS大于30，成为实时目标检测算法\n",
    "        \n",
    "     #在图像上写FPS数值，参数依次为：图片、添加的文字、左上角坐标、字体、字体大小、颜色、字体粗细\n",
    "    scaler = 1\n",
    "    img = cv2.putText(bkgd_img,'FPS '+ str(int(FPS)), (25 * scaler,50 * scaler),cv2.FONT_HERSHEY_SIMPLEX,1.25 * scaler,(255,0,0),2 * scaler)\n",
    "    \n",
    "    return img"
   ]
  },
  {
   "cell_type": "markdown",
   "metadata": {},
   "source": [
    "### 调用摄像头获取每帧"
   ]
  },
  {
   "cell_type": "code",
   "execution_count": 4,
   "metadata": {},
   "outputs": [
    {
     "name": "stdout",
     "output_type": "stream",
     "text": [
      "视频已保存 record_video.mp4\n"
     ]
    }
   ],
   "source": [
    "#调用摄像头拍摄视频模板\n",
    "#生成的视频文件名默认为output_video.mp4，帧处理函数process_frame()默认不进行任何处理\n",
    "\n",
    "import cv2\n",
    "import time\n",
    "\n",
    "output_name = 'record_video.mp4'\n",
    "\n",
    "#获取摄像头\n",
    "cap = cv2.VideoCapture(0)\n",
    "\n",
    "#打开cap\n",
    "cap.open(0)\n",
    "\n",
    "frame_size = (cap.get(cv2.CAP_PROP_FRAME_WIDTH),cap.get(cv2.CAP_PROP_FRAME_HEIGHT))\n",
    "#fourcc = int(cap.get(cv2.CAP_PROP_FOURCC))\n",
    "#fourcc = cv2.VideoWriter_fourcc(*'XVID')\n",
    "fourcc = cv2.VideoWriter_fourcc(*'mp4v')\n",
    "fps = cap.get(cv2.CAP_PROP_FPS)\n",
    "\n",
    "out = cv2.VideoWriter(output_name, fourcc=fourcc, fps=fps,frameSize=(int(frame_size[0]),int(frame_size[1])))\n",
    "\n",
    "\n",
    "#无限循环，直到break被触发\n",
    "while cap.isOpened():\n",
    "    success,frame = cap.read()\n",
    "    if not success:\n",
    "        break\n",
    "        \n",
    "    #对捕捉到的帧进行图像处理\n",
    "    frame = process_frame(frame)\n",
    "    \n",
    "    #展示处理后的二通道图像\n",
    "    cv2.imshow('press q to break',frame)\n",
    "    \n",
    "    if cv2.waitKey(1) in [ord('q'),27]:    #按键盘上的q或esc退出（在英文输入法下）\n",
    "        break\n",
    "        \n",
    "#关闭摄像头\n",
    "cap.release()\n",
    "\n",
    "#关闭图像窗口\n",
    "cv2.destroyAllWindows()\n",
    "\n",
    "print('视频已保存',output_name)"
   ]
  },
  {
   "cell_type": "code",
   "execution_count": null,
   "metadata": {},
   "outputs": [],
   "source": []
  }
 ],
 "metadata": {
  "kernelspec": {
   "display_name": "tensorflow",
   "language": "python",
   "name": "tensorflow"
  },
  "language_info": {
   "codemirror_mode": {
    "name": "ipython",
    "version": 3
   },
   "file_extension": ".py",
   "mimetype": "text/x-python",
   "name": "python",
   "nbconvert_exporter": "python",
   "pygments_lexer": "ipython3",
   "version": "3.7.10"
  }
 },
 "nbformat": 4,
 "nbformat_minor": 4
}
